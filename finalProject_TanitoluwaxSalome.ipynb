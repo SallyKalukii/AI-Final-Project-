{
  "cells": [
    {
      "cell_type": "markdown",
      "metadata": {
        "id": "PRNN6p4MmTek"
      },
      "source": [
        "**Purpose**\n",
        "\n",
        "We want to be able to predict the number of points an fpl player will get.\n",
        "Then we would want to be able to get the best teams"
      ]
    },
    {
      "cell_type": "markdown",
      "metadata": {
        "id": "MStANHpRdD6R"
      },
      "source": [
        "All imports here"
      ]
    },
    {
      "cell_type": "code",
      "execution_count": null,
      "metadata": {
        "id": "QOXpggP-31k-"
      },
      "outputs": [],
      "source": [
        "from google.colab import drive\n",
        "import pandas as pd\n",
        "import numpy as np\n",
        "from sklearn.tree import DecisionTreeRegressor\n",
        "from sklearn.compose import ColumnTransformer\n",
        "from sklearn.pipeline import Pipeline\n",
        "from sklearn.preprocessing import StandardScaler, OneHotEncoder, MinMaxScaler, RobustScaler\n",
        "from sklearn.impute import SimpleImputer\n",
        "import matplotlib.pyplot as plt\n",
        "from sklearn.metrics import mean_absolute_error, mean_squared_error, mean_squared_log_error, r2_score\n",
        "from sklearn.ensemble import RandomForestRegressor, VotingRegressor\n",
        "from sklearn.neural_network import MLPRegressor\n",
        "import requests\n",
        "from sklearn.linear_model import LinearRegression\n",
        "import xgboost as xgb\n",
        "import pickle as pkl\n",
        "from xgboost import XGBRegressor\n",
        "from sklearn.model_selection import RandomizedSearchCV, GridSearchCV"
      ]
    },
    {
      "cell_type": "code",
      "execution_count": null,
      "metadata": {
        "id": "z3GTMxhwdDAJ",
        "colab": {
          "base_uri": "https://localhost:8080/"
        },
        "outputId": "346fd1a9-02ee-4a9b-8212-3a193aa86dac"
      },
      "outputs": [
        {
          "output_type": "stream",
          "name": "stdout",
          "text": [
            "Drive already mounted at /content/drive; to attempt to forcibly remount, call drive.mount(\"/content/drive\", force_remount=True).\n"
          ]
        }
      ],
      "source": [
        "drive.mount('/content/drive')"
      ]
    },
    {
      "cell_type": "markdown",
      "metadata": {
        "id": "S22FG7Thogca"
      },
      "source": [
        "**Experiment with merged gw files**"
      ]
    },
    {
      "cell_type": "code",
      "execution_count": null,
      "metadata": {
        "id": "PVJyPxJwogDz"
      },
      "outputs": [],
      "source": [
        "df = pd.read_csv('/content/drive/MyDrive/Datasets/merged_gw_2022-23.csv')#22-23 data"
      ]
    },
    {
      "cell_type": "code",
      "execution_count": null,
      "metadata": {
        "id": "orMb4-Ovtqsi"
      },
      "outputs": [],
      "source": [
        "test_df = pd.read_csv('/content/drive/MyDrive/Datasets/merged_gw_23-34.csv')#23-24"
      ]
    },
    {
      "cell_type": "code",
      "execution_count": null,
      "metadata": {
        "id": "UtOYJF-Po6al",
        "colab": {
          "base_uri": "https://localhost:8080/"
        },
        "outputId": "fe9eb9d9-07c0-4979-e38f-83b2cfc5ac50"
      },
      "outputs": [
        {
          "output_type": "execute_result",
          "data": {
            "text/plain": [
              "Index(['name', 'position', 'team', 'xP', 'assists', 'bonus', 'bps',\n",
              "       'clean_sheets', 'creativity', 'element', 'expected_assists',\n",
              "       'expected_goal_involvements', 'expected_goals',\n",
              "       'expected_goals_conceded', 'fixture', 'goals_conceded', 'goals_scored',\n",
              "       'ict_index', 'influence', 'kickoff_time', 'minutes', 'opponent_team',\n",
              "       'own_goals', 'penalties_missed', 'penalties_saved', 'red_cards',\n",
              "       'round', 'saves', 'selected', 'starts', 'team_a_score', 'team_h_score',\n",
              "       'threat', 'total_points', 'transfers_balance', 'transfers_in',\n",
              "       'transfers_out', 'value', 'was_home', 'yellow_cards', 'GW'],\n",
              "      dtype='object')"
            ]
          },
          "metadata": {},
          "execution_count": 5
        }
      ],
      "source": [
        "df.columns"
      ]
    },
    {
      "cell_type": "code",
      "execution_count": null,
      "metadata": {
        "id": "DdusTMjLpm6G",
        "colab": {
          "base_uri": "https://localhost:8080/"
        },
        "outputId": "a81a07f5-357d-4d9c-d806-ea931f8946b7"
      },
      "outputs": [
        {
          "output_type": "stream",
          "name": "stdout",
          "text": [
            "<class 'pandas.core.frame.DataFrame'>\n",
            "RangeIndex: 26505 entries, 0 to 26504\n",
            "Data columns (total 41 columns):\n",
            " #   Column                      Non-Null Count  Dtype  \n",
            "---  ------                      --------------  -----  \n",
            " 0   name                        26505 non-null  object \n",
            " 1   position                    26505 non-null  object \n",
            " 2   team                        26505 non-null  object \n",
            " 3   xP                          26505 non-null  float64\n",
            " 4   assists                     26505 non-null  int64  \n",
            " 5   bonus                       26505 non-null  int64  \n",
            " 6   bps                         26505 non-null  int64  \n",
            " 7   clean_sheets                26505 non-null  int64  \n",
            " 8   creativity                  26505 non-null  float64\n",
            " 9   element                     26505 non-null  int64  \n",
            " 10  expected_assists            26505 non-null  float64\n",
            " 11  expected_goal_involvements  26505 non-null  float64\n",
            " 12  expected_goals              26505 non-null  float64\n",
            " 13  expected_goals_conceded     26505 non-null  float64\n",
            " 14  fixture                     26505 non-null  int64  \n",
            " 15  goals_conceded              26505 non-null  int64  \n",
            " 16  goals_scored                26505 non-null  int64  \n",
            " 17  ict_index                   26505 non-null  float64\n",
            " 18  influence                   26505 non-null  float64\n",
            " 19  kickoff_time                26505 non-null  object \n",
            " 20  minutes                     26505 non-null  int64  \n",
            " 21  opponent_team               26505 non-null  int64  \n",
            " 22  own_goals                   26505 non-null  int64  \n",
            " 23  penalties_missed            26505 non-null  int64  \n",
            " 24  penalties_saved             26505 non-null  int64  \n",
            " 25  red_cards                   26505 non-null  int64  \n",
            " 26  round                       26505 non-null  int64  \n",
            " 27  saves                       26505 non-null  int64  \n",
            " 28  selected                    26505 non-null  int64  \n",
            " 29  starts                      26505 non-null  int64  \n",
            " 30  team_a_score                26505 non-null  int64  \n",
            " 31  team_h_score                26505 non-null  int64  \n",
            " 32  threat                      26505 non-null  float64\n",
            " 33  total_points                26505 non-null  int64  \n",
            " 34  transfers_balance           26505 non-null  int64  \n",
            " 35  transfers_in                26505 non-null  int64  \n",
            " 36  transfers_out               26505 non-null  int64  \n",
            " 37  value                       26505 non-null  int64  \n",
            " 38  was_home                    26505 non-null  bool   \n",
            " 39  yellow_cards                26505 non-null  int64  \n",
            " 40  GW                          26505 non-null  int64  \n",
            "dtypes: bool(1), float64(9), int64(27), object(4)\n",
            "memory usage: 8.1+ MB\n"
          ]
        }
      ],
      "source": [
        "df.info()"
      ]
    },
    {
      "cell_type": "code",
      "execution_count": null,
      "metadata": {
        "id": "8p-WPgvYpm1W",
        "colab": {
          "base_uri": "https://localhost:8080/",
          "height": 342
        },
        "outputId": "e9f90ea2-b3d0-4a19-a716-fe1d3197e7c0"
      },
      "outputs": [
        {
          "output_type": "execute_result",
          "data": {
            "text/plain": [
              "               name position         team   xP  assists  bonus  bps  \\\n",
              "0    Nathan Redmond      MID  Southampton  1.5        0      0    3   \n",
              "1  Junior Stanislas      MID  Bournemouth  1.1        0      0    3   \n",
              "2     Armando Broja      FWD      Chelsea  2.0        0      0    3   \n",
              "3      Fabian Schär      DEF    Newcastle  2.4        0      3   43   \n",
              "4       Jonny Evans      DEF    Leicester  1.9        0      0   15   \n",
              "\n",
              "   clean_sheets  creativity  element  ...  team_h_score  threat  total_points  \\\n",
              "0             0         0.0      403  ...             4     0.0             1   \n",
              "1             0         0.0       58  ...             2     0.0             1   \n",
              "2             0         0.3      150  ...             0    19.0             1   \n",
              "3             1        14.6      366  ...             2    25.0            15   \n",
              "4             0         1.3      249  ...             2     0.0             1   \n",
              "\n",
              "   transfers_balance  transfers_in  transfers_out  value  was_home  \\\n",
              "0                  0             0              0     55     False   \n",
              "1                  0             0              0     50      True   \n",
              "2                  0             0              0     55     False   \n",
              "3                  0             0              0     45      True   \n",
              "4                  0             0              0     45      True   \n",
              "\n",
              "   yellow_cards GW  \n",
              "0             0  1  \n",
              "1             0  1  \n",
              "2             0  1  \n",
              "3             0  1  \n",
              "4             0  1  \n",
              "\n",
              "[5 rows x 41 columns]"
            ],
            "text/html": [
              "\n",
              "  <div id=\"df-8a962a2e-ec44-4c46-a461-b97688839154\" class=\"colab-df-container\">\n",
              "    <div>\n",
              "<style scoped>\n",
              "    .dataframe tbody tr th:only-of-type {\n",
              "        vertical-align: middle;\n",
              "    }\n",
              "\n",
              "    .dataframe tbody tr th {\n",
              "        vertical-align: top;\n",
              "    }\n",
              "\n",
              "    .dataframe thead th {\n",
              "        text-align: right;\n",
              "    }\n",
              "</style>\n",
              "<table border=\"1\" class=\"dataframe\">\n",
              "  <thead>\n",
              "    <tr style=\"text-align: right;\">\n",
              "      <th></th>\n",
              "      <th>name</th>\n",
              "      <th>position</th>\n",
              "      <th>team</th>\n",
              "      <th>xP</th>\n",
              "      <th>assists</th>\n",
              "      <th>bonus</th>\n",
              "      <th>bps</th>\n",
              "      <th>clean_sheets</th>\n",
              "      <th>creativity</th>\n",
              "      <th>element</th>\n",
              "      <th>...</th>\n",
              "      <th>team_h_score</th>\n",
              "      <th>threat</th>\n",
              "      <th>total_points</th>\n",
              "      <th>transfers_balance</th>\n",
              "      <th>transfers_in</th>\n",
              "      <th>transfers_out</th>\n",
              "      <th>value</th>\n",
              "      <th>was_home</th>\n",
              "      <th>yellow_cards</th>\n",
              "      <th>GW</th>\n",
              "    </tr>\n",
              "  </thead>\n",
              "  <tbody>\n",
              "    <tr>\n",
              "      <th>0</th>\n",
              "      <td>Nathan Redmond</td>\n",
              "      <td>MID</td>\n",
              "      <td>Southampton</td>\n",
              "      <td>1.5</td>\n",
              "      <td>0</td>\n",
              "      <td>0</td>\n",
              "      <td>3</td>\n",
              "      <td>0</td>\n",
              "      <td>0.0</td>\n",
              "      <td>403</td>\n",
              "      <td>...</td>\n",
              "      <td>4</td>\n",
              "      <td>0.0</td>\n",
              "      <td>1</td>\n",
              "      <td>0</td>\n",
              "      <td>0</td>\n",
              "      <td>0</td>\n",
              "      <td>55</td>\n",
              "      <td>False</td>\n",
              "      <td>0</td>\n",
              "      <td>1</td>\n",
              "    </tr>\n",
              "    <tr>\n",
              "      <th>1</th>\n",
              "      <td>Junior Stanislas</td>\n",
              "      <td>MID</td>\n",
              "      <td>Bournemouth</td>\n",
              "      <td>1.1</td>\n",
              "      <td>0</td>\n",
              "      <td>0</td>\n",
              "      <td>3</td>\n",
              "      <td>0</td>\n",
              "      <td>0.0</td>\n",
              "      <td>58</td>\n",
              "      <td>...</td>\n",
              "      <td>2</td>\n",
              "      <td>0.0</td>\n",
              "      <td>1</td>\n",
              "      <td>0</td>\n",
              "      <td>0</td>\n",
              "      <td>0</td>\n",
              "      <td>50</td>\n",
              "      <td>True</td>\n",
              "      <td>0</td>\n",
              "      <td>1</td>\n",
              "    </tr>\n",
              "    <tr>\n",
              "      <th>2</th>\n",
              "      <td>Armando Broja</td>\n",
              "      <td>FWD</td>\n",
              "      <td>Chelsea</td>\n",
              "      <td>2.0</td>\n",
              "      <td>0</td>\n",
              "      <td>0</td>\n",
              "      <td>3</td>\n",
              "      <td>0</td>\n",
              "      <td>0.3</td>\n",
              "      <td>150</td>\n",
              "      <td>...</td>\n",
              "      <td>0</td>\n",
              "      <td>19.0</td>\n",
              "      <td>1</td>\n",
              "      <td>0</td>\n",
              "      <td>0</td>\n",
              "      <td>0</td>\n",
              "      <td>55</td>\n",
              "      <td>False</td>\n",
              "      <td>0</td>\n",
              "      <td>1</td>\n",
              "    </tr>\n",
              "    <tr>\n",
              "      <th>3</th>\n",
              "      <td>Fabian Schär</td>\n",
              "      <td>DEF</td>\n",
              "      <td>Newcastle</td>\n",
              "      <td>2.4</td>\n",
              "      <td>0</td>\n",
              "      <td>3</td>\n",
              "      <td>43</td>\n",
              "      <td>1</td>\n",
              "      <td>14.6</td>\n",
              "      <td>366</td>\n",
              "      <td>...</td>\n",
              "      <td>2</td>\n",
              "      <td>25.0</td>\n",
              "      <td>15</td>\n",
              "      <td>0</td>\n",
              "      <td>0</td>\n",
              "      <td>0</td>\n",
              "      <td>45</td>\n",
              "      <td>True</td>\n",
              "      <td>0</td>\n",
              "      <td>1</td>\n",
              "    </tr>\n",
              "    <tr>\n",
              "      <th>4</th>\n",
              "      <td>Jonny Evans</td>\n",
              "      <td>DEF</td>\n",
              "      <td>Leicester</td>\n",
              "      <td>1.9</td>\n",
              "      <td>0</td>\n",
              "      <td>0</td>\n",
              "      <td>15</td>\n",
              "      <td>0</td>\n",
              "      <td>1.3</td>\n",
              "      <td>249</td>\n",
              "      <td>...</td>\n",
              "      <td>2</td>\n",
              "      <td>0.0</td>\n",
              "      <td>1</td>\n",
              "      <td>0</td>\n",
              "      <td>0</td>\n",
              "      <td>0</td>\n",
              "      <td>45</td>\n",
              "      <td>True</td>\n",
              "      <td>0</td>\n",
              "      <td>1</td>\n",
              "    </tr>\n",
              "  </tbody>\n",
              "</table>\n",
              "<p>5 rows × 41 columns</p>\n",
              "</div>\n",
              "    <div class=\"colab-df-buttons\">\n",
              "\n",
              "  <div class=\"colab-df-container\">\n",
              "    <button class=\"colab-df-convert\" onclick=\"convertToInteractive('df-8a962a2e-ec44-4c46-a461-b97688839154')\"\n",
              "            title=\"Convert this dataframe to an interactive table.\"\n",
              "            style=\"display:none;\">\n",
              "\n",
              "  <svg xmlns=\"http://www.w3.org/2000/svg\" height=\"24px\" viewBox=\"0 -960 960 960\">\n",
              "    <path d=\"M120-120v-720h720v720H120Zm60-500h600v-160H180v160Zm220 220h160v-160H400v160Zm0 220h160v-160H400v160ZM180-400h160v-160H180v160Zm440 0h160v-160H620v160ZM180-180h160v-160H180v160Zm440 0h160v-160H620v160Z\"/>\n",
              "  </svg>\n",
              "    </button>\n",
              "\n",
              "  <style>\n",
              "    .colab-df-container {\n",
              "      display:flex;\n",
              "      gap: 12px;\n",
              "    }\n",
              "\n",
              "    .colab-df-convert {\n",
              "      background-color: #E8F0FE;\n",
              "      border: none;\n",
              "      border-radius: 50%;\n",
              "      cursor: pointer;\n",
              "      display: none;\n",
              "      fill: #1967D2;\n",
              "      height: 32px;\n",
              "      padding: 0 0 0 0;\n",
              "      width: 32px;\n",
              "    }\n",
              "\n",
              "    .colab-df-convert:hover {\n",
              "      background-color: #E2EBFA;\n",
              "      box-shadow: 0px 1px 2px rgba(60, 64, 67, 0.3), 0px 1px 3px 1px rgba(60, 64, 67, 0.15);\n",
              "      fill: #174EA6;\n",
              "    }\n",
              "\n",
              "    .colab-df-buttons div {\n",
              "      margin-bottom: 4px;\n",
              "    }\n",
              "\n",
              "    [theme=dark] .colab-df-convert {\n",
              "      background-color: #3B4455;\n",
              "      fill: #D2E3FC;\n",
              "    }\n",
              "\n",
              "    [theme=dark] .colab-df-convert:hover {\n",
              "      background-color: #434B5C;\n",
              "      box-shadow: 0px 1px 3px 1px rgba(0, 0, 0, 0.15);\n",
              "      filter: drop-shadow(0px 1px 2px rgba(0, 0, 0, 0.3));\n",
              "      fill: #FFFFFF;\n",
              "    }\n",
              "  </style>\n",
              "\n",
              "    <script>\n",
              "      const buttonEl =\n",
              "        document.querySelector('#df-8a962a2e-ec44-4c46-a461-b97688839154 button.colab-df-convert');\n",
              "      buttonEl.style.display =\n",
              "        google.colab.kernel.accessAllowed ? 'block' : 'none';\n",
              "\n",
              "      async function convertToInteractive(key) {\n",
              "        const element = document.querySelector('#df-8a962a2e-ec44-4c46-a461-b97688839154');\n",
              "        const dataTable =\n",
              "          await google.colab.kernel.invokeFunction('convertToInteractive',\n",
              "                                                    [key], {});\n",
              "        if (!dataTable) return;\n",
              "\n",
              "        const docLinkHtml = 'Like what you see? Visit the ' +\n",
              "          '<a target=\"_blank\" href=https://colab.research.google.com/notebooks/data_table.ipynb>data table notebook</a>'\n",
              "          + ' to learn more about interactive tables.';\n",
              "        element.innerHTML = '';\n",
              "        dataTable['output_type'] = 'display_data';\n",
              "        await google.colab.output.renderOutput(dataTable, element);\n",
              "        const docLink = document.createElement('div');\n",
              "        docLink.innerHTML = docLinkHtml;\n",
              "        element.appendChild(docLink);\n",
              "      }\n",
              "    </script>\n",
              "  </div>\n",
              "\n",
              "\n",
              "<div id=\"df-9098c2a4-2d5e-4f55-8aba-5bcca1d35308\">\n",
              "  <button class=\"colab-df-quickchart\" onclick=\"quickchart('df-9098c2a4-2d5e-4f55-8aba-5bcca1d35308')\"\n",
              "            title=\"Suggest charts\"\n",
              "            style=\"display:none;\">\n",
              "\n",
              "<svg xmlns=\"http://www.w3.org/2000/svg\" height=\"24px\"viewBox=\"0 0 24 24\"\n",
              "     width=\"24px\">\n",
              "    <g>\n",
              "        <path d=\"M19 3H5c-1.1 0-2 .9-2 2v14c0 1.1.9 2 2 2h14c1.1 0 2-.9 2-2V5c0-1.1-.9-2-2-2zM9 17H7v-7h2v7zm4 0h-2V7h2v10zm4 0h-2v-4h2v4z\"/>\n",
              "    </g>\n",
              "</svg>\n",
              "  </button>\n",
              "\n",
              "<style>\n",
              "  .colab-df-quickchart {\n",
              "      --bg-color: #E8F0FE;\n",
              "      --fill-color: #1967D2;\n",
              "      --hover-bg-color: #E2EBFA;\n",
              "      --hover-fill-color: #174EA6;\n",
              "      --disabled-fill-color: #AAA;\n",
              "      --disabled-bg-color: #DDD;\n",
              "  }\n",
              "\n",
              "  [theme=dark] .colab-df-quickchart {\n",
              "      --bg-color: #3B4455;\n",
              "      --fill-color: #D2E3FC;\n",
              "      --hover-bg-color: #434B5C;\n",
              "      --hover-fill-color: #FFFFFF;\n",
              "      --disabled-bg-color: #3B4455;\n",
              "      --disabled-fill-color: #666;\n",
              "  }\n",
              "\n",
              "  .colab-df-quickchart {\n",
              "    background-color: var(--bg-color);\n",
              "    border: none;\n",
              "    border-radius: 50%;\n",
              "    cursor: pointer;\n",
              "    display: none;\n",
              "    fill: var(--fill-color);\n",
              "    height: 32px;\n",
              "    padding: 0;\n",
              "    width: 32px;\n",
              "  }\n",
              "\n",
              "  .colab-df-quickchart:hover {\n",
              "    background-color: var(--hover-bg-color);\n",
              "    box-shadow: 0 1px 2px rgba(60, 64, 67, 0.3), 0 1px 3px 1px rgba(60, 64, 67, 0.15);\n",
              "    fill: var(--button-hover-fill-color);\n",
              "  }\n",
              "\n",
              "  .colab-df-quickchart-complete:disabled,\n",
              "  .colab-df-quickchart-complete:disabled:hover {\n",
              "    background-color: var(--disabled-bg-color);\n",
              "    fill: var(--disabled-fill-color);\n",
              "    box-shadow: none;\n",
              "  }\n",
              "\n",
              "  .colab-df-spinner {\n",
              "    border: 2px solid var(--fill-color);\n",
              "    border-color: transparent;\n",
              "    border-bottom-color: var(--fill-color);\n",
              "    animation:\n",
              "      spin 1s steps(1) infinite;\n",
              "  }\n",
              "\n",
              "  @keyframes spin {\n",
              "    0% {\n",
              "      border-color: transparent;\n",
              "      border-bottom-color: var(--fill-color);\n",
              "      border-left-color: var(--fill-color);\n",
              "    }\n",
              "    20% {\n",
              "      border-color: transparent;\n",
              "      border-left-color: var(--fill-color);\n",
              "      border-top-color: var(--fill-color);\n",
              "    }\n",
              "    30% {\n",
              "      border-color: transparent;\n",
              "      border-left-color: var(--fill-color);\n",
              "      border-top-color: var(--fill-color);\n",
              "      border-right-color: var(--fill-color);\n",
              "    }\n",
              "    40% {\n",
              "      border-color: transparent;\n",
              "      border-right-color: var(--fill-color);\n",
              "      border-top-color: var(--fill-color);\n",
              "    }\n",
              "    60% {\n",
              "      border-color: transparent;\n",
              "      border-right-color: var(--fill-color);\n",
              "    }\n",
              "    80% {\n",
              "      border-color: transparent;\n",
              "      border-right-color: var(--fill-color);\n",
              "      border-bottom-color: var(--fill-color);\n",
              "    }\n",
              "    90% {\n",
              "      border-color: transparent;\n",
              "      border-bottom-color: var(--fill-color);\n",
              "    }\n",
              "  }\n",
              "</style>\n",
              "\n",
              "  <script>\n",
              "    async function quickchart(key) {\n",
              "      const quickchartButtonEl =\n",
              "        document.querySelector('#' + key + ' button');\n",
              "      quickchartButtonEl.disabled = true;  // To prevent multiple clicks.\n",
              "      quickchartButtonEl.classList.add('colab-df-spinner');\n",
              "      try {\n",
              "        const charts = await google.colab.kernel.invokeFunction(\n",
              "            'suggestCharts', [key], {});\n",
              "      } catch (error) {\n",
              "        console.error('Error during call to suggestCharts:', error);\n",
              "      }\n",
              "      quickchartButtonEl.classList.remove('colab-df-spinner');\n",
              "      quickchartButtonEl.classList.add('colab-df-quickchart-complete');\n",
              "    }\n",
              "    (() => {\n",
              "      let quickchartButtonEl =\n",
              "        document.querySelector('#df-9098c2a4-2d5e-4f55-8aba-5bcca1d35308 button');\n",
              "      quickchartButtonEl.style.display =\n",
              "        google.colab.kernel.accessAllowed ? 'block' : 'none';\n",
              "    })();\n",
              "  </script>\n",
              "</div>\n",
              "\n",
              "    </div>\n",
              "  </div>\n"
            ],
            "application/vnd.google.colaboratory.intrinsic+json": {
              "type": "dataframe",
              "variable_name": "df"
            }
          },
          "metadata": {},
          "execution_count": 7
        }
      ],
      "source": [
        "df.head()"
      ]
    },
    {
      "cell_type": "code",
      "execution_count": null,
      "metadata": {
        "id": "My_y9glppmwY"
      },
      "outputs": [],
      "source": [
        "df = df.sort_values(by=['name', 'GW']).reset_index(drop=True)"
      ]
    },
    {
      "cell_type": "code",
      "execution_count": null,
      "metadata": {
        "id": "UAkT3rFxqgZr",
        "colab": {
          "base_uri": "https://localhost:8080/"
        },
        "outputId": "86e3bdb4-f5be-4700-b4df-4e8804b50103"
      },
      "outputs": [
        {
          "output_type": "execute_result",
          "data": {
            "text/plain": [
              "Index(['name', 'position', 'team', 'xP', 'assists', 'bonus', 'bps',\n",
              "       'clean_sheets', 'creativity', 'element', 'expected_assists',\n",
              "       'expected_goal_involvements', 'expected_goals',\n",
              "       'expected_goals_conceded', 'fixture', 'goals_conceded', 'goals_scored',\n",
              "       'ict_index', 'influence', 'kickoff_time', 'minutes', 'opponent_team',\n",
              "       'own_goals', 'penalties_missed', 'penalties_saved', 'red_cards',\n",
              "       'round', 'saves', 'selected', 'starts', 'team_a_score', 'team_h_score',\n",
              "       'threat', 'total_points', 'transfers_balance', 'transfers_in',\n",
              "       'transfers_out', 'value', 'was_home', 'yellow_cards', 'GW'],\n",
              "      dtype='object')"
            ]
          },
          "metadata": {},
          "execution_count": 9
        }
      ],
      "source": [
        "df.columns"
      ]
    },
    {
      "cell_type": "code",
      "source": [
        "df.describe()"
      ],
      "metadata": {
        "id": "RpFXd8clC3VT",
        "colab": {
          "base_uri": "https://localhost:8080/",
          "height": 350
        },
        "outputId": "1624dc62-041c-4be5-d574-a49ec8c89170"
      },
      "execution_count": null,
      "outputs": [
        {
          "output_type": "execute_result",
          "data": {
            "text/plain": [
              "                 xP       assists         bonus           bps  clean_sheets  \\\n",
              "count  26505.000000  26505.000000  26505.000000  26505.000000  26505.000000   \n",
              "mean       1.229708      0.034975      0.091945      5.174080      0.087191   \n",
              "std        2.085657      0.197954      0.455495      9.092054      0.282120   \n",
              "min       -3.000000      0.000000      0.000000    -21.000000      0.000000   \n",
              "25%        0.000000      0.000000      0.000000      0.000000      0.000000   \n",
              "50%        0.200000      0.000000      0.000000      0.000000      0.000000   \n",
              "75%        1.900000      0.000000      0.000000      8.000000      0.000000   \n",
              "max       23.600000      3.000000      3.000000    102.000000      1.000000   \n",
              "\n",
              "         creativity       element  expected_assists  \\\n",
              "count  26505.000000  26505.000000      26505.000000   \n",
              "mean       3.986636    352.155442          0.016567   \n",
              "std        9.797862    206.078173          0.067103   \n",
              "min        0.000000      1.000000          0.000000   \n",
              "25%        0.000000    175.000000          0.000000   \n",
              "50%        0.000000    349.000000          0.000000   \n",
              "75%        1.400000    524.000000          0.000000   \n",
              "max      124.000000    778.000000          1.285270   \n",
              "\n",
              "       expected_goal_involvements  expected_goals  ...  team_a_score  \\\n",
              "count                26505.000000    26505.000000  ...  26505.000000   \n",
              "mean                     0.041239        0.027600  ...      1.219694   \n",
              "std                      0.148375        0.120924  ...      1.188182   \n",
              "min                      0.000000        0.000000  ...      0.000000   \n",
              "25%                      0.000000        0.000000  ...      0.000000   \n",
              "50%                      0.000000        0.000000  ...      1.000000   \n",
              "75%                      0.000000        0.000000  ...      2.000000   \n",
              "max                      2.380000        2.370000  ...      6.000000   \n",
              "\n",
              "       team_h_score        threat  total_points  transfers_balance  \\\n",
              "count  26505.000000  26505.000000  26505.000000       2.650500e+04   \n",
              "mean       1.628825      4.106206      1.196906       2.104428e+03   \n",
              "std        1.402969     11.287927      2.355236       7.691967e+04   \n",
              "min        0.000000      0.000000     -4.000000      -2.180978e+06   \n",
              "25%        1.000000      0.000000      0.000000      -1.087000e+03   \n",
              "50%        1.000000      0.000000      0.000000      -5.400000e+01   \n",
              "75%        2.000000      2.000000      1.000000       3.300000e+01   \n",
              "max        9.000000    169.000000     23.000000       1.332069e+06   \n",
              "\n",
              "       transfers_in  transfers_out         value  yellow_cards            GW  \n",
              "count  2.650500e+04   2.650500e+04  26505.000000  26505.000000  26505.000000  \n",
              "mean   1.612256e+04   1.401812e+04     49.188304      0.051651     21.219279  \n",
              "std    6.821878e+04   5.738149e+04     11.288173      0.221325     10.734836  \n",
              "min    0.000000e+00   0.000000e+00     37.000000      0.000000      1.000000  \n",
              "25%    2.700000e+01   9.200000e+01     43.000000      0.000000     13.000000  \n",
              "50%    3.010000e+02   8.010000e+02     45.000000      0.000000     22.000000  \n",
              "75%    3.885000e+03   6.310000e+03     51.000000      0.000000     30.000000  \n",
              "max    1.384843e+06   2.233619e+06    131.000000      1.000000     38.000000  \n",
              "\n",
              "[8 rows x 36 columns]"
            ],
            "text/html": [
              "\n",
              "  <div id=\"df-dc739c5f-a0a4-420a-88f9-440506e4b218\" class=\"colab-df-container\">\n",
              "    <div>\n",
              "<style scoped>\n",
              "    .dataframe tbody tr th:only-of-type {\n",
              "        vertical-align: middle;\n",
              "    }\n",
              "\n",
              "    .dataframe tbody tr th {\n",
              "        vertical-align: top;\n",
              "    }\n",
              "\n",
              "    .dataframe thead th {\n",
              "        text-align: right;\n",
              "    }\n",
              "</style>\n",
              "<table border=\"1\" class=\"dataframe\">\n",
              "  <thead>\n",
              "    <tr style=\"text-align: right;\">\n",
              "      <th></th>\n",
              "      <th>xP</th>\n",
              "      <th>assists</th>\n",
              "      <th>bonus</th>\n",
              "      <th>bps</th>\n",
              "      <th>clean_sheets</th>\n",
              "      <th>creativity</th>\n",
              "      <th>element</th>\n",
              "      <th>expected_assists</th>\n",
              "      <th>expected_goal_involvements</th>\n",
              "      <th>expected_goals</th>\n",
              "      <th>...</th>\n",
              "      <th>team_a_score</th>\n",
              "      <th>team_h_score</th>\n",
              "      <th>threat</th>\n",
              "      <th>total_points</th>\n",
              "      <th>transfers_balance</th>\n",
              "      <th>transfers_in</th>\n",
              "      <th>transfers_out</th>\n",
              "      <th>value</th>\n",
              "      <th>yellow_cards</th>\n",
              "      <th>GW</th>\n",
              "    </tr>\n",
              "  </thead>\n",
              "  <tbody>\n",
              "    <tr>\n",
              "      <th>count</th>\n",
              "      <td>26505.000000</td>\n",
              "      <td>26505.000000</td>\n",
              "      <td>26505.000000</td>\n",
              "      <td>26505.000000</td>\n",
              "      <td>26505.000000</td>\n",
              "      <td>26505.000000</td>\n",
              "      <td>26505.000000</td>\n",
              "      <td>26505.000000</td>\n",
              "      <td>26505.000000</td>\n",
              "      <td>26505.000000</td>\n",
              "      <td>...</td>\n",
              "      <td>26505.000000</td>\n",
              "      <td>26505.000000</td>\n",
              "      <td>26505.000000</td>\n",
              "      <td>26505.000000</td>\n",
              "      <td>2.650500e+04</td>\n",
              "      <td>2.650500e+04</td>\n",
              "      <td>2.650500e+04</td>\n",
              "      <td>26505.000000</td>\n",
              "      <td>26505.000000</td>\n",
              "      <td>26505.000000</td>\n",
              "    </tr>\n",
              "    <tr>\n",
              "      <th>mean</th>\n",
              "      <td>1.229708</td>\n",
              "      <td>0.034975</td>\n",
              "      <td>0.091945</td>\n",
              "      <td>5.174080</td>\n",
              "      <td>0.087191</td>\n",
              "      <td>3.986636</td>\n",
              "      <td>352.155442</td>\n",
              "      <td>0.016567</td>\n",
              "      <td>0.041239</td>\n",
              "      <td>0.027600</td>\n",
              "      <td>...</td>\n",
              "      <td>1.219694</td>\n",
              "      <td>1.628825</td>\n",
              "      <td>4.106206</td>\n",
              "      <td>1.196906</td>\n",
              "      <td>2.104428e+03</td>\n",
              "      <td>1.612256e+04</td>\n",
              "      <td>1.401812e+04</td>\n",
              "      <td>49.188304</td>\n",
              "      <td>0.051651</td>\n",
              "      <td>21.219279</td>\n",
              "    </tr>\n",
              "    <tr>\n",
              "      <th>std</th>\n",
              "      <td>2.085657</td>\n",
              "      <td>0.197954</td>\n",
              "      <td>0.455495</td>\n",
              "      <td>9.092054</td>\n",
              "      <td>0.282120</td>\n",
              "      <td>9.797862</td>\n",
              "      <td>206.078173</td>\n",
              "      <td>0.067103</td>\n",
              "      <td>0.148375</td>\n",
              "      <td>0.120924</td>\n",
              "      <td>...</td>\n",
              "      <td>1.188182</td>\n",
              "      <td>1.402969</td>\n",
              "      <td>11.287927</td>\n",
              "      <td>2.355236</td>\n",
              "      <td>7.691967e+04</td>\n",
              "      <td>6.821878e+04</td>\n",
              "      <td>5.738149e+04</td>\n",
              "      <td>11.288173</td>\n",
              "      <td>0.221325</td>\n",
              "      <td>10.734836</td>\n",
              "    </tr>\n",
              "    <tr>\n",
              "      <th>min</th>\n",
              "      <td>-3.000000</td>\n",
              "      <td>0.000000</td>\n",
              "      <td>0.000000</td>\n",
              "      <td>-21.000000</td>\n",
              "      <td>0.000000</td>\n",
              "      <td>0.000000</td>\n",
              "      <td>1.000000</td>\n",
              "      <td>0.000000</td>\n",
              "      <td>0.000000</td>\n",
              "      <td>0.000000</td>\n",
              "      <td>...</td>\n",
              "      <td>0.000000</td>\n",
              "      <td>0.000000</td>\n",
              "      <td>0.000000</td>\n",
              "      <td>-4.000000</td>\n",
              "      <td>-2.180978e+06</td>\n",
              "      <td>0.000000e+00</td>\n",
              "      <td>0.000000e+00</td>\n",
              "      <td>37.000000</td>\n",
              "      <td>0.000000</td>\n",
              "      <td>1.000000</td>\n",
              "    </tr>\n",
              "    <tr>\n",
              "      <th>25%</th>\n",
              "      <td>0.000000</td>\n",
              "      <td>0.000000</td>\n",
              "      <td>0.000000</td>\n",
              "      <td>0.000000</td>\n",
              "      <td>0.000000</td>\n",
              "      <td>0.000000</td>\n",
              "      <td>175.000000</td>\n",
              "      <td>0.000000</td>\n",
              "      <td>0.000000</td>\n",
              "      <td>0.000000</td>\n",
              "      <td>...</td>\n",
              "      <td>0.000000</td>\n",
              "      <td>1.000000</td>\n",
              "      <td>0.000000</td>\n",
              "      <td>0.000000</td>\n",
              "      <td>-1.087000e+03</td>\n",
              "      <td>2.700000e+01</td>\n",
              "      <td>9.200000e+01</td>\n",
              "      <td>43.000000</td>\n",
              "      <td>0.000000</td>\n",
              "      <td>13.000000</td>\n",
              "    </tr>\n",
              "    <tr>\n",
              "      <th>50%</th>\n",
              "      <td>0.200000</td>\n",
              "      <td>0.000000</td>\n",
              "      <td>0.000000</td>\n",
              "      <td>0.000000</td>\n",
              "      <td>0.000000</td>\n",
              "      <td>0.000000</td>\n",
              "      <td>349.000000</td>\n",
              "      <td>0.000000</td>\n",
              "      <td>0.000000</td>\n",
              "      <td>0.000000</td>\n",
              "      <td>...</td>\n",
              "      <td>1.000000</td>\n",
              "      <td>1.000000</td>\n",
              "      <td>0.000000</td>\n",
              "      <td>0.000000</td>\n",
              "      <td>-5.400000e+01</td>\n",
              "      <td>3.010000e+02</td>\n",
              "      <td>8.010000e+02</td>\n",
              "      <td>45.000000</td>\n",
              "      <td>0.000000</td>\n",
              "      <td>22.000000</td>\n",
              "    </tr>\n",
              "    <tr>\n",
              "      <th>75%</th>\n",
              "      <td>1.900000</td>\n",
              "      <td>0.000000</td>\n",
              "      <td>0.000000</td>\n",
              "      <td>8.000000</td>\n",
              "      <td>0.000000</td>\n",
              "      <td>1.400000</td>\n",
              "      <td>524.000000</td>\n",
              "      <td>0.000000</td>\n",
              "      <td>0.000000</td>\n",
              "      <td>0.000000</td>\n",
              "      <td>...</td>\n",
              "      <td>2.000000</td>\n",
              "      <td>2.000000</td>\n",
              "      <td>2.000000</td>\n",
              "      <td>1.000000</td>\n",
              "      <td>3.300000e+01</td>\n",
              "      <td>3.885000e+03</td>\n",
              "      <td>6.310000e+03</td>\n",
              "      <td>51.000000</td>\n",
              "      <td>0.000000</td>\n",
              "      <td>30.000000</td>\n",
              "    </tr>\n",
              "    <tr>\n",
              "      <th>max</th>\n",
              "      <td>23.600000</td>\n",
              "      <td>3.000000</td>\n",
              "      <td>3.000000</td>\n",
              "      <td>102.000000</td>\n",
              "      <td>1.000000</td>\n",
              "      <td>124.000000</td>\n",
              "      <td>778.000000</td>\n",
              "      <td>1.285270</td>\n",
              "      <td>2.380000</td>\n",
              "      <td>2.370000</td>\n",
              "      <td>...</td>\n",
              "      <td>6.000000</td>\n",
              "      <td>9.000000</td>\n",
              "      <td>169.000000</td>\n",
              "      <td>23.000000</td>\n",
              "      <td>1.332069e+06</td>\n",
              "      <td>1.384843e+06</td>\n",
              "      <td>2.233619e+06</td>\n",
              "      <td>131.000000</td>\n",
              "      <td>1.000000</td>\n",
              "      <td>38.000000</td>\n",
              "    </tr>\n",
              "  </tbody>\n",
              "</table>\n",
              "<p>8 rows × 36 columns</p>\n",
              "</div>\n",
              "    <div class=\"colab-df-buttons\">\n",
              "\n",
              "  <div class=\"colab-df-container\">\n",
              "    <button class=\"colab-df-convert\" onclick=\"convertToInteractive('df-dc739c5f-a0a4-420a-88f9-440506e4b218')\"\n",
              "            title=\"Convert this dataframe to an interactive table.\"\n",
              "            style=\"display:none;\">\n",
              "\n",
              "  <svg xmlns=\"http://www.w3.org/2000/svg\" height=\"24px\" viewBox=\"0 -960 960 960\">\n",
              "    <path d=\"M120-120v-720h720v720H120Zm60-500h600v-160H180v160Zm220 220h160v-160H400v160Zm0 220h160v-160H400v160ZM180-400h160v-160H180v160Zm440 0h160v-160H620v160ZM180-180h160v-160H180v160Zm440 0h160v-160H620v160Z\"/>\n",
              "  </svg>\n",
              "    </button>\n",
              "\n",
              "  <style>\n",
              "    .colab-df-container {\n",
              "      display:flex;\n",
              "      gap: 12px;\n",
              "    }\n",
              "\n",
              "    .colab-df-convert {\n",
              "      background-color: #E8F0FE;\n",
              "      border: none;\n",
              "      border-radius: 50%;\n",
              "      cursor: pointer;\n",
              "      display: none;\n",
              "      fill: #1967D2;\n",
              "      height: 32px;\n",
              "      padding: 0 0 0 0;\n",
              "      width: 32px;\n",
              "    }\n",
              "\n",
              "    .colab-df-convert:hover {\n",
              "      background-color: #E2EBFA;\n",
              "      box-shadow: 0px 1px 2px rgba(60, 64, 67, 0.3), 0px 1px 3px 1px rgba(60, 64, 67, 0.15);\n",
              "      fill: #174EA6;\n",
              "    }\n",
              "\n",
              "    .colab-df-buttons div {\n",
              "      margin-bottom: 4px;\n",
              "    }\n",
              "\n",
              "    [theme=dark] .colab-df-convert {\n",
              "      background-color: #3B4455;\n",
              "      fill: #D2E3FC;\n",
              "    }\n",
              "\n",
              "    [theme=dark] .colab-df-convert:hover {\n",
              "      background-color: #434B5C;\n",
              "      box-shadow: 0px 1px 3px 1px rgba(0, 0, 0, 0.15);\n",
              "      filter: drop-shadow(0px 1px 2px rgba(0, 0, 0, 0.3));\n",
              "      fill: #FFFFFF;\n",
              "    }\n",
              "  </style>\n",
              "\n",
              "    <script>\n",
              "      const buttonEl =\n",
              "        document.querySelector('#df-dc739c5f-a0a4-420a-88f9-440506e4b218 button.colab-df-convert');\n",
              "      buttonEl.style.display =\n",
              "        google.colab.kernel.accessAllowed ? 'block' : 'none';\n",
              "\n",
              "      async function convertToInteractive(key) {\n",
              "        const element = document.querySelector('#df-dc739c5f-a0a4-420a-88f9-440506e4b218');\n",
              "        const dataTable =\n",
              "          await google.colab.kernel.invokeFunction('convertToInteractive',\n",
              "                                                    [key], {});\n",
              "        if (!dataTable) return;\n",
              "\n",
              "        const docLinkHtml = 'Like what you see? Visit the ' +\n",
              "          '<a target=\"_blank\" href=https://colab.research.google.com/notebooks/data_table.ipynb>data table notebook</a>'\n",
              "          + ' to learn more about interactive tables.';\n",
              "        element.innerHTML = '';\n",
              "        dataTable['output_type'] = 'display_data';\n",
              "        await google.colab.output.renderOutput(dataTable, element);\n",
              "        const docLink = document.createElement('div');\n",
              "        docLink.innerHTML = docLinkHtml;\n",
              "        element.appendChild(docLink);\n",
              "      }\n",
              "    </script>\n",
              "  </div>\n",
              "\n",
              "\n",
              "<div id=\"df-728c2e25-86de-432a-93c3-e9d2ed54aed3\">\n",
              "  <button class=\"colab-df-quickchart\" onclick=\"quickchart('df-728c2e25-86de-432a-93c3-e9d2ed54aed3')\"\n",
              "            title=\"Suggest charts\"\n",
              "            style=\"display:none;\">\n",
              "\n",
              "<svg xmlns=\"http://www.w3.org/2000/svg\" height=\"24px\"viewBox=\"0 0 24 24\"\n",
              "     width=\"24px\">\n",
              "    <g>\n",
              "        <path d=\"M19 3H5c-1.1 0-2 .9-2 2v14c0 1.1.9 2 2 2h14c1.1 0 2-.9 2-2V5c0-1.1-.9-2-2-2zM9 17H7v-7h2v7zm4 0h-2V7h2v10zm4 0h-2v-4h2v4z\"/>\n",
              "    </g>\n",
              "</svg>\n",
              "  </button>\n",
              "\n",
              "<style>\n",
              "  .colab-df-quickchart {\n",
              "      --bg-color: #E8F0FE;\n",
              "      --fill-color: #1967D2;\n",
              "      --hover-bg-color: #E2EBFA;\n",
              "      --hover-fill-color: #174EA6;\n",
              "      --disabled-fill-color: #AAA;\n",
              "      --disabled-bg-color: #DDD;\n",
              "  }\n",
              "\n",
              "  [theme=dark] .colab-df-quickchart {\n",
              "      --bg-color: #3B4455;\n",
              "      --fill-color: #D2E3FC;\n",
              "      --hover-bg-color: #434B5C;\n",
              "      --hover-fill-color: #FFFFFF;\n",
              "      --disabled-bg-color: #3B4455;\n",
              "      --disabled-fill-color: #666;\n",
              "  }\n",
              "\n",
              "  .colab-df-quickchart {\n",
              "    background-color: var(--bg-color);\n",
              "    border: none;\n",
              "    border-radius: 50%;\n",
              "    cursor: pointer;\n",
              "    display: none;\n",
              "    fill: var(--fill-color);\n",
              "    height: 32px;\n",
              "    padding: 0;\n",
              "    width: 32px;\n",
              "  }\n",
              "\n",
              "  .colab-df-quickchart:hover {\n",
              "    background-color: var(--hover-bg-color);\n",
              "    box-shadow: 0 1px 2px rgba(60, 64, 67, 0.3), 0 1px 3px 1px rgba(60, 64, 67, 0.15);\n",
              "    fill: var(--button-hover-fill-color);\n",
              "  }\n",
              "\n",
              "  .colab-df-quickchart-complete:disabled,\n",
              "  .colab-df-quickchart-complete:disabled:hover {\n",
              "    background-color: var(--disabled-bg-color);\n",
              "    fill: var(--disabled-fill-color);\n",
              "    box-shadow: none;\n",
              "  }\n",
              "\n",
              "  .colab-df-spinner {\n",
              "    border: 2px solid var(--fill-color);\n",
              "    border-color: transparent;\n",
              "    border-bottom-color: var(--fill-color);\n",
              "    animation:\n",
              "      spin 1s steps(1) infinite;\n",
              "  }\n",
              "\n",
              "  @keyframes spin {\n",
              "    0% {\n",
              "      border-color: transparent;\n",
              "      border-bottom-color: var(--fill-color);\n",
              "      border-left-color: var(--fill-color);\n",
              "    }\n",
              "    20% {\n",
              "      border-color: transparent;\n",
              "      border-left-color: var(--fill-color);\n",
              "      border-top-color: var(--fill-color);\n",
              "    }\n",
              "    30% {\n",
              "      border-color: transparent;\n",
              "      border-left-color: var(--fill-color);\n",
              "      border-top-color: var(--fill-color);\n",
              "      border-right-color: var(--fill-color);\n",
              "    }\n",
              "    40% {\n",
              "      border-color: transparent;\n",
              "      border-right-color: var(--fill-color);\n",
              "      border-top-color: var(--fill-color);\n",
              "    }\n",
              "    60% {\n",
              "      border-color: transparent;\n",
              "      border-right-color: var(--fill-color);\n",
              "    }\n",
              "    80% {\n",
              "      border-color: transparent;\n",
              "      border-right-color: var(--fill-color);\n",
              "      border-bottom-color: var(--fill-color);\n",
              "    }\n",
              "    90% {\n",
              "      border-color: transparent;\n",
              "      border-bottom-color: var(--fill-color);\n",
              "    }\n",
              "  }\n",
              "</style>\n",
              "\n",
              "  <script>\n",
              "    async function quickchart(key) {\n",
              "      const quickchartButtonEl =\n",
              "        document.querySelector('#' + key + ' button');\n",
              "      quickchartButtonEl.disabled = true;  // To prevent multiple clicks.\n",
              "      quickchartButtonEl.classList.add('colab-df-spinner');\n",
              "      try {\n",
              "        const charts = await google.colab.kernel.invokeFunction(\n",
              "            'suggestCharts', [key], {});\n",
              "      } catch (error) {\n",
              "        console.error('Error during call to suggestCharts:', error);\n",
              "      }\n",
              "      quickchartButtonEl.classList.remove('colab-df-spinner');\n",
              "      quickchartButtonEl.classList.add('colab-df-quickchart-complete');\n",
              "    }\n",
              "    (() => {\n",
              "      let quickchartButtonEl =\n",
              "        document.querySelector('#df-728c2e25-86de-432a-93c3-e9d2ed54aed3 button');\n",
              "      quickchartButtonEl.style.display =\n",
              "        google.colab.kernel.accessAllowed ? 'block' : 'none';\n",
              "    })();\n",
              "  </script>\n",
              "</div>\n",
              "\n",
              "    </div>\n",
              "  </div>\n"
            ],
            "application/vnd.google.colaboratory.intrinsic+json": {
              "type": "dataframe"
            }
          },
          "metadata": {},
          "execution_count": 10
        }
      ]
    },
    {
      "cell_type": "markdown",
      "source": [
        "**Feature Engineering**\n",
        "\n",
        "We are creating the features that we would use to predict. We would be using the averages from the last games (if the player has played less than 38 games) or the last 38 games if the player has played up to 38 or more.\n",
        "\n",
        "\n",
        "The averages we are using are:\n",
        "\n",
        "\n",
        "*   Average Points\n",
        "*   Average Minutes\n",
        "*   Average ICT Index\n",
        "*   Average Bonus\n",
        "*   Average bps\n",
        "*   Average expected points\n",
        "*   Average expected goal involvements\n",
        "*   Average expected goals conceded\n",
        "*   average goals conceded\n",
        "\n",
        "\n",
        "\n"
      ],
      "metadata": {
        "id": "eaFd13DzCo3u"
      }
    },
    {
      "cell_type": "code",
      "execution_count": null,
      "metadata": {
        "id": "e4TA3KcNpmq5"
      },
      "outputs": [],
      "source": [
        "window_size = 38\n",
        "df[f'avg_points_last_{window_size}'] = df.groupby(['name'])['total_points'].transform(lambda x: x.rolling(window=window_size, min_periods=1).mean().shift(1))\n",
        "df[f'avg_minutes_last_{window_size}'] = df.groupby(['name'])['minutes'].transform(lambda x: x.rolling(window=window_size, min_periods = 1).mean().shift(1))\n",
        "df[f'avg_ict_index_last_{window_size}'] = df.groupby(['name'])['ict_index'].transform(lambda x: x.rolling(window=window_size, min_periods = 1).mean().shift(1))\n",
        "df[f'avg_bonus_last_{window_size}'] = df.groupby(['name'])['bonus'].transform(lambda x: x.rolling(window=window_size, min_periods = 1).mean().shift(1))\n",
        "df[f'avg_bps_last_{window_size}'] = df.groupby(['name'])['bps'].transform(lambda x: x.rolling(window=window_size, min_periods = 1).mean().shift(1))\n",
        "df[f'avg_xP_last_{window_size}'] = df.groupby(['name'])['xP'].transform(lambda x: x.rolling(window = window_size, min_periods = 1).mean().shift(1))\n",
        "df[f'avg_expected_goal_involvements_last_{window_size}'] = df.groupby(['name'])['expected_goal_involvements'].transform(lambda x: x.rolling(window = window_size, min_periods = 1).mean().shift(1))\n",
        "df[f'avg_expected_goals_conceded_last_{window_size}'] = df.groupby(['name'])['expected_goals_conceded'].transform(lambda x: x.rolling(window = window_size, min_periods = 1).mean().shift(1))\n",
        "df[f'avg_goals_conceded_last_{window_size}'] = df.groupby(['name'])['goals_conceded'].transform(lambda x: x.rolling(window = window_size, min_periods = 1).mean().shift(1))\n",
        "\n",
        "\n",
        "df[f'avg_goals_scored_last_{window_size}'] = df.groupby(['name'])['goals_scored'].transform(lambda x: x.rolling(window = window_size, min_periods = 1).mean().shift(1))\n",
        "df[f'avg_influence_last_{window_size}'] = df.groupby(['name'])['influence'].transform(lambda x: x.rolling(window = window_size, min_periods = 1).mean().shift(1))\n",
        "df[f'avg_threat_last_{window_size}'] = df.groupby(['name'])['threat'].transform(lambda x: x.rolling(window = window_size, min_periods = 1).mean().shift(1))\n",
        "df[f'avg_creativity_last_{window_size}'] = df.groupby(['name'])['creativity'].transform(lambda x: x.rolling(window = window_size, min_periods = 1).mean().shift(1))"
      ]
    },
    {
      "cell_type": "markdown",
      "source": [
        "We are also dividing the opposition team into a three categories. Top 6 teams (teams placed between 1 and 6 in the table).\n",
        "\n",
        "Mid Table teams (teams between placed from 7 to 14 in the table)\n",
        "\n",
        "Relegation fodder (teams placed from 15 oo 20th in the table)"
      ],
      "metadata": {
        "id": "zlhZHal_DVya"
      }
    },
    {
      "cell_type": "code",
      "execution_count": null,
      "metadata": {
        "id": "j1mxaAK9uILG"
      },
      "outputs": [],
      "source": [
        "bins = [0, 6, 14, 20]\n",
        "labels = ['top 6', 'mid table', 'relegation fodder']\n",
        "\n",
        "df['team_category'] = pd.cut(df['opponent_team'], bins=bins, labels=labels, right=True)"
      ]
    },
    {
      "cell_type": "code",
      "execution_count": null,
      "metadata": {
        "id": "GZO0EZCapmj7",
        "colab": {
          "base_uri": "https://localhost:8080/"
        },
        "outputId": "61eb69bc-1ab4-4734-99f8-eac754fd5ee6"
      },
      "outputs": [
        {
          "output_type": "execute_result",
          "data": {
            "text/plain": [
              "Index(['name', 'position', 'team', 'xP', 'assists', 'bonus', 'bps',\n",
              "       'clean_sheets', 'creativity', 'element', 'expected_assists',\n",
              "       'expected_goal_involvements', 'expected_goals',\n",
              "       'expected_goals_conceded', 'fixture', 'goals_conceded', 'goals_scored',\n",
              "       'ict_index', 'influence', 'kickoff_time', 'minutes', 'opponent_team',\n",
              "       'own_goals', 'penalties_missed', 'penalties_saved', 'red_cards',\n",
              "       'round', 'saves', 'selected', 'starts', 'team_a_score', 'team_h_score',\n",
              "       'threat', 'total_points', 'transfers_balance', 'transfers_in',\n",
              "       'transfers_out', 'value', 'was_home', 'yellow_cards', 'GW',\n",
              "       'avg_points_last_38', 'avg_minutes_last_38', 'avg_ict_index_last_38',\n",
              "       'avg_bonus_last_38', 'avg_bps_last_38', 'avg_xP_last_38',\n",
              "       'avg_expected_goal_involvements_last_38',\n",
              "       'avg_expected_goals_conceded_last_38', 'avg_goals_conceded_last_38',\n",
              "       'avg_goals_scored_last_38', 'avg_influence_last_38',\n",
              "       'avg_threat_last_38', 'avg_creativity_last_38', 'team_category'],\n",
              "      dtype='object')"
            ]
          },
          "metadata": {},
          "execution_count": 13
        }
      ],
      "source": [
        "df.columns"
      ]
    },
    {
      "cell_type": "code",
      "execution_count": null,
      "metadata": {
        "id": "IHrhYA4yuPln"
      },
      "outputs": [],
      "source": [
        "useless_columns = [\n",
        "    'team', 'xP', 'assists', 'bonus', 'bps', 'clean_sheets', 'creativity', 'element', 'expected_assists',\n",
        "    'expected_goal_involvements', 'expected_goals', 'expected_goals_conceded', 'fixture',  'goals_conceded', 'goals_scored',\n",
        "       'ict_index', 'influence', 'kickoff_time', 'minutes', 'own_goals', 'penalties_missed', 'penalties_saved', 'red_cards',\n",
        "       'round', 'saves', 'selected', 'starts', 'team_a_score', 'team_h_score','threat', 'transfers_balance', 'transfers_in',\n",
        "       'transfers_out', 'yellow_cards', 'GW'\n",
        "]"
      ]
    },
    {
      "cell_type": "code",
      "execution_count": null,
      "metadata": {
        "id": "nKyePHS8pmVB"
      },
      "outputs": [],
      "source": [
        "df.drop(columns = useless_columns, inplace = True)"
      ]
    },
    {
      "cell_type": "code",
      "execution_count": null,
      "metadata": {
        "id": "lEJNZP6evs6I"
      },
      "outputs": [],
      "source": [
        "df[f'avg_points_last_{window_size}'] = df[f'avg_points_last_{window_size}'].fillna(0)\n",
        "df[f'avg_minutes_last_{window_size}'] = df[f'avg_minutes_last_{window_size}'].fillna(0)\n",
        "df[f'avg_ict_index_last_{window_size}'] = df[f'avg_ict_index_last_{window_size}'].fillna(0)\n",
        "df[f'avg_bonus_last_{window_size}'] = df[f'avg_bonus_last_{window_size}'].fillna(0)\n",
        "df[f'avg_bps_last_{window_size}'] = df[f'avg_bps_last_{window_size}'].fillna(0)\n",
        "df[f'avg_xP_last_{window_size}'] = df[f'avg_xP_last_{window_size}'].fillna(0)\n",
        "df[f'avg_expected_goal_involvements_last_{window_size}'] = df[f'avg_expected_goal_involvements_last_{window_size}'].fillna(0)\n",
        "df[f'avg_expected_goals_conceded_last_{window_size}'] = df[f'avg_expected_goals_conceded_last_{window_size}'].fillna(0)\n",
        "df[f'avg_goals_conceded_last_{window_size}'] = df[f'avg_goals_conceded_last_{window_size}'].fillna(0)\n",
        "\n",
        "df[f'avg_goals_scored_last_{window_size}'] = df[f'avg_goals_scored_last_{window_size}'].fillna(0)\n",
        "df[f'avg_influence_last_{window_size}'] = df[f'avg_influence_last_{window_size}'].fillna(0)\n",
        "df[f'avg_threat_last_{window_size}'] = df[f'avg_threat_last_{window_size}'].fillna(0)\n",
        "df[f'avg_creativity_last_{window_size}'] = df[f'avg_creativity_last_{window_size}'].fillna(0)"
      ]
    },
    {
      "cell_type": "code",
      "execution_count": null,
      "metadata": {
        "id": "2gIOmFi7vG4H",
        "colab": {
          "base_uri": "https://localhost:8080/",
          "height": 313
        },
        "outputId": "c586d850-447f-4784-ec85-ea943abd259b"
      },
      "outputs": [
        {
          "output_type": "execute_result",
          "data": {
            "text/plain": [
              "              name position  opponent_team  total_points  value  was_home  \\\n",
              "0  Aaron Cresswell      DEF             13             1     50      True   \n",
              "1  Aaron Cresswell      DEF             16             2     50     False   \n",
              "2  Aaron Cresswell      DEF              5             0     50      True   \n",
              "3  Aaron Cresswell      DEF              2             6     50     False   \n",
              "4  Aaron Cresswell      DEF             18             2     49      True   \n",
              "\n",
              "   avg_points_last_38  avg_minutes_last_38  avg_ict_index_last_38  \\\n",
              "0                0.00                  0.0                  0.000   \n",
              "1                1.00                 90.0                  4.100   \n",
              "2                1.50                 90.0                  6.100   \n",
              "3                1.00                 90.0                  6.300   \n",
              "4                2.25                 90.0                  5.425   \n",
              "\n",
              "   avg_bonus_last_38  avg_bps_last_38  avg_xP_last_38  \\\n",
              "0                0.0              0.0        0.000000   \n",
              "1                0.0             16.0        1.300000   \n",
              "2                0.0             15.0        1.650000   \n",
              "3                0.0             12.0        1.433333   \n",
              "4                0.0             15.5        1.625000   \n",
              "\n",
              "   avg_expected_goal_involvements_last_38  \\\n",
              "0                                     0.0   \n",
              "1                                     0.0   \n",
              "2                                     0.0   \n",
              "3                                     0.0   \n",
              "4                                     0.0   \n",
              "\n",
              "   avg_expected_goals_conceded_last_38  avg_goals_conceded_last_38  \\\n",
              "0                                  0.0                    0.000000   \n",
              "1                                  0.0                    2.000000   \n",
              "2                                  0.0                    1.500000   \n",
              "3                                  0.0                    1.666667   \n",
              "4                                  0.0                    1.250000   \n",
              "\n",
              "   avg_goals_scored_last_38  avg_influence_last_38  avg_threat_last_38  \\\n",
              "0                       0.0                   0.00            0.000000   \n",
              "1                       0.0                  22.00            0.000000   \n",
              "2                       0.0                  18.30            0.500000   \n",
              "3                       0.0                  15.60            6.333333   \n",
              "4                       0.0                  15.15            6.750000   \n",
              "\n",
              "   avg_creativity_last_38      team_category  \n",
              "0                   0.000          mid table  \n",
              "1                  18.700  relegation fodder  \n",
              "2                  42.250              top 6  \n",
              "3                  41.100              top 6  \n",
              "4                  32.275  relegation fodder  "
            ],
            "text/html": [
              "\n",
              "  <div id=\"df-7d94dade-a4fa-4103-b3ce-8f1700e6db4e\" class=\"colab-df-container\">\n",
              "    <div>\n",
              "<style scoped>\n",
              "    .dataframe tbody tr th:only-of-type {\n",
              "        vertical-align: middle;\n",
              "    }\n",
              "\n",
              "    .dataframe tbody tr th {\n",
              "        vertical-align: top;\n",
              "    }\n",
              "\n",
              "    .dataframe thead th {\n",
              "        text-align: right;\n",
              "    }\n",
              "</style>\n",
              "<table border=\"1\" class=\"dataframe\">\n",
              "  <thead>\n",
              "    <tr style=\"text-align: right;\">\n",
              "      <th></th>\n",
              "      <th>name</th>\n",
              "      <th>position</th>\n",
              "      <th>opponent_team</th>\n",
              "      <th>total_points</th>\n",
              "      <th>value</th>\n",
              "      <th>was_home</th>\n",
              "      <th>avg_points_last_38</th>\n",
              "      <th>avg_minutes_last_38</th>\n",
              "      <th>avg_ict_index_last_38</th>\n",
              "      <th>avg_bonus_last_38</th>\n",
              "      <th>avg_bps_last_38</th>\n",
              "      <th>avg_xP_last_38</th>\n",
              "      <th>avg_expected_goal_involvements_last_38</th>\n",
              "      <th>avg_expected_goals_conceded_last_38</th>\n",
              "      <th>avg_goals_conceded_last_38</th>\n",
              "      <th>avg_goals_scored_last_38</th>\n",
              "      <th>avg_influence_last_38</th>\n",
              "      <th>avg_threat_last_38</th>\n",
              "      <th>avg_creativity_last_38</th>\n",
              "      <th>team_category</th>\n",
              "    </tr>\n",
              "  </thead>\n",
              "  <tbody>\n",
              "    <tr>\n",
              "      <th>0</th>\n",
              "      <td>Aaron Cresswell</td>\n",
              "      <td>DEF</td>\n",
              "      <td>13</td>\n",
              "      <td>1</td>\n",
              "      <td>50</td>\n",
              "      <td>True</td>\n",
              "      <td>0.00</td>\n",
              "      <td>0.0</td>\n",
              "      <td>0.000</td>\n",
              "      <td>0.0</td>\n",
              "      <td>0.0</td>\n",
              "      <td>0.000000</td>\n",
              "      <td>0.0</td>\n",
              "      <td>0.0</td>\n",
              "      <td>0.000000</td>\n",
              "      <td>0.0</td>\n",
              "      <td>0.00</td>\n",
              "      <td>0.000000</td>\n",
              "      <td>0.000</td>\n",
              "      <td>mid table</td>\n",
              "    </tr>\n",
              "    <tr>\n",
              "      <th>1</th>\n",
              "      <td>Aaron Cresswell</td>\n",
              "      <td>DEF</td>\n",
              "      <td>16</td>\n",
              "      <td>2</td>\n",
              "      <td>50</td>\n",
              "      <td>False</td>\n",
              "      <td>1.00</td>\n",
              "      <td>90.0</td>\n",
              "      <td>4.100</td>\n",
              "      <td>0.0</td>\n",
              "      <td>16.0</td>\n",
              "      <td>1.300000</td>\n",
              "      <td>0.0</td>\n",
              "      <td>0.0</td>\n",
              "      <td>2.000000</td>\n",
              "      <td>0.0</td>\n",
              "      <td>22.00</td>\n",
              "      <td>0.000000</td>\n",
              "      <td>18.700</td>\n",
              "      <td>relegation fodder</td>\n",
              "    </tr>\n",
              "    <tr>\n",
              "      <th>2</th>\n",
              "      <td>Aaron Cresswell</td>\n",
              "      <td>DEF</td>\n",
              "      <td>5</td>\n",
              "      <td>0</td>\n",
              "      <td>50</td>\n",
              "      <td>True</td>\n",
              "      <td>1.50</td>\n",
              "      <td>90.0</td>\n",
              "      <td>6.100</td>\n",
              "      <td>0.0</td>\n",
              "      <td>15.0</td>\n",
              "      <td>1.650000</td>\n",
              "      <td>0.0</td>\n",
              "      <td>0.0</td>\n",
              "      <td>1.500000</td>\n",
              "      <td>0.0</td>\n",
              "      <td>18.30</td>\n",
              "      <td>0.500000</td>\n",
              "      <td>42.250</td>\n",
              "      <td>top 6</td>\n",
              "    </tr>\n",
              "    <tr>\n",
              "      <th>3</th>\n",
              "      <td>Aaron Cresswell</td>\n",
              "      <td>DEF</td>\n",
              "      <td>2</td>\n",
              "      <td>6</td>\n",
              "      <td>50</td>\n",
              "      <td>False</td>\n",
              "      <td>1.00</td>\n",
              "      <td>90.0</td>\n",
              "      <td>6.300</td>\n",
              "      <td>0.0</td>\n",
              "      <td>12.0</td>\n",
              "      <td>1.433333</td>\n",
              "      <td>0.0</td>\n",
              "      <td>0.0</td>\n",
              "      <td>1.666667</td>\n",
              "      <td>0.0</td>\n",
              "      <td>15.60</td>\n",
              "      <td>6.333333</td>\n",
              "      <td>41.100</td>\n",
              "      <td>top 6</td>\n",
              "    </tr>\n",
              "    <tr>\n",
              "      <th>4</th>\n",
              "      <td>Aaron Cresswell</td>\n",
              "      <td>DEF</td>\n",
              "      <td>18</td>\n",
              "      <td>2</td>\n",
              "      <td>49</td>\n",
              "      <td>True</td>\n",
              "      <td>2.25</td>\n",
              "      <td>90.0</td>\n",
              "      <td>5.425</td>\n",
              "      <td>0.0</td>\n",
              "      <td>15.5</td>\n",
              "      <td>1.625000</td>\n",
              "      <td>0.0</td>\n",
              "      <td>0.0</td>\n",
              "      <td>1.250000</td>\n",
              "      <td>0.0</td>\n",
              "      <td>15.15</td>\n",
              "      <td>6.750000</td>\n",
              "      <td>32.275</td>\n",
              "      <td>relegation fodder</td>\n",
              "    </tr>\n",
              "  </tbody>\n",
              "</table>\n",
              "</div>\n",
              "    <div class=\"colab-df-buttons\">\n",
              "\n",
              "  <div class=\"colab-df-container\">\n",
              "    <button class=\"colab-df-convert\" onclick=\"convertToInteractive('df-7d94dade-a4fa-4103-b3ce-8f1700e6db4e')\"\n",
              "            title=\"Convert this dataframe to an interactive table.\"\n",
              "            style=\"display:none;\">\n",
              "\n",
              "  <svg xmlns=\"http://www.w3.org/2000/svg\" height=\"24px\" viewBox=\"0 -960 960 960\">\n",
              "    <path d=\"M120-120v-720h720v720H120Zm60-500h600v-160H180v160Zm220 220h160v-160H400v160Zm0 220h160v-160H400v160ZM180-400h160v-160H180v160Zm440 0h160v-160H620v160ZM180-180h160v-160H180v160Zm440 0h160v-160H620v160Z\"/>\n",
              "  </svg>\n",
              "    </button>\n",
              "\n",
              "  <style>\n",
              "    .colab-df-container {\n",
              "      display:flex;\n",
              "      gap: 12px;\n",
              "    }\n",
              "\n",
              "    .colab-df-convert {\n",
              "      background-color: #E8F0FE;\n",
              "      border: none;\n",
              "      border-radius: 50%;\n",
              "      cursor: pointer;\n",
              "      display: none;\n",
              "      fill: #1967D2;\n",
              "      height: 32px;\n",
              "      padding: 0 0 0 0;\n",
              "      width: 32px;\n",
              "    }\n",
              "\n",
              "    .colab-df-convert:hover {\n",
              "      background-color: #E2EBFA;\n",
              "      box-shadow: 0px 1px 2px rgba(60, 64, 67, 0.3), 0px 1px 3px 1px rgba(60, 64, 67, 0.15);\n",
              "      fill: #174EA6;\n",
              "    }\n",
              "\n",
              "    .colab-df-buttons div {\n",
              "      margin-bottom: 4px;\n",
              "    }\n",
              "\n",
              "    [theme=dark] .colab-df-convert {\n",
              "      background-color: #3B4455;\n",
              "      fill: #D2E3FC;\n",
              "    }\n",
              "\n",
              "    [theme=dark] .colab-df-convert:hover {\n",
              "      background-color: #434B5C;\n",
              "      box-shadow: 0px 1px 3px 1px rgba(0, 0, 0, 0.15);\n",
              "      filter: drop-shadow(0px 1px 2px rgba(0, 0, 0, 0.3));\n",
              "      fill: #FFFFFF;\n",
              "    }\n",
              "  </style>\n",
              "\n",
              "    <script>\n",
              "      const buttonEl =\n",
              "        document.querySelector('#df-7d94dade-a4fa-4103-b3ce-8f1700e6db4e button.colab-df-convert');\n",
              "      buttonEl.style.display =\n",
              "        google.colab.kernel.accessAllowed ? 'block' : 'none';\n",
              "\n",
              "      async function convertToInteractive(key) {\n",
              "        const element = document.querySelector('#df-7d94dade-a4fa-4103-b3ce-8f1700e6db4e');\n",
              "        const dataTable =\n",
              "          await google.colab.kernel.invokeFunction('convertToInteractive',\n",
              "                                                    [key], {});\n",
              "        if (!dataTable) return;\n",
              "\n",
              "        const docLinkHtml = 'Like what you see? Visit the ' +\n",
              "          '<a target=\"_blank\" href=https://colab.research.google.com/notebooks/data_table.ipynb>data table notebook</a>'\n",
              "          + ' to learn more about interactive tables.';\n",
              "        element.innerHTML = '';\n",
              "        dataTable['output_type'] = 'display_data';\n",
              "        await google.colab.output.renderOutput(dataTable, element);\n",
              "        const docLink = document.createElement('div');\n",
              "        docLink.innerHTML = docLinkHtml;\n",
              "        element.appendChild(docLink);\n",
              "      }\n",
              "    </script>\n",
              "  </div>\n",
              "\n",
              "\n",
              "<div id=\"df-83b3ec6a-391b-4cb8-a0e2-67f7beccd215\">\n",
              "  <button class=\"colab-df-quickchart\" onclick=\"quickchart('df-83b3ec6a-391b-4cb8-a0e2-67f7beccd215')\"\n",
              "            title=\"Suggest charts\"\n",
              "            style=\"display:none;\">\n",
              "\n",
              "<svg xmlns=\"http://www.w3.org/2000/svg\" height=\"24px\"viewBox=\"0 0 24 24\"\n",
              "     width=\"24px\">\n",
              "    <g>\n",
              "        <path d=\"M19 3H5c-1.1 0-2 .9-2 2v14c0 1.1.9 2 2 2h14c1.1 0 2-.9 2-2V5c0-1.1-.9-2-2-2zM9 17H7v-7h2v7zm4 0h-2V7h2v10zm4 0h-2v-4h2v4z\"/>\n",
              "    </g>\n",
              "</svg>\n",
              "  </button>\n",
              "\n",
              "<style>\n",
              "  .colab-df-quickchart {\n",
              "      --bg-color: #E8F0FE;\n",
              "      --fill-color: #1967D2;\n",
              "      --hover-bg-color: #E2EBFA;\n",
              "      --hover-fill-color: #174EA6;\n",
              "      --disabled-fill-color: #AAA;\n",
              "      --disabled-bg-color: #DDD;\n",
              "  }\n",
              "\n",
              "  [theme=dark] .colab-df-quickchart {\n",
              "      --bg-color: #3B4455;\n",
              "      --fill-color: #D2E3FC;\n",
              "      --hover-bg-color: #434B5C;\n",
              "      --hover-fill-color: #FFFFFF;\n",
              "      --disabled-bg-color: #3B4455;\n",
              "      --disabled-fill-color: #666;\n",
              "  }\n",
              "\n",
              "  .colab-df-quickchart {\n",
              "    background-color: var(--bg-color);\n",
              "    border: none;\n",
              "    border-radius: 50%;\n",
              "    cursor: pointer;\n",
              "    display: none;\n",
              "    fill: var(--fill-color);\n",
              "    height: 32px;\n",
              "    padding: 0;\n",
              "    width: 32px;\n",
              "  }\n",
              "\n",
              "  .colab-df-quickchart:hover {\n",
              "    background-color: var(--hover-bg-color);\n",
              "    box-shadow: 0 1px 2px rgba(60, 64, 67, 0.3), 0 1px 3px 1px rgba(60, 64, 67, 0.15);\n",
              "    fill: var(--button-hover-fill-color);\n",
              "  }\n",
              "\n",
              "  .colab-df-quickchart-complete:disabled,\n",
              "  .colab-df-quickchart-complete:disabled:hover {\n",
              "    background-color: var(--disabled-bg-color);\n",
              "    fill: var(--disabled-fill-color);\n",
              "    box-shadow: none;\n",
              "  }\n",
              "\n",
              "  .colab-df-spinner {\n",
              "    border: 2px solid var(--fill-color);\n",
              "    border-color: transparent;\n",
              "    border-bottom-color: var(--fill-color);\n",
              "    animation:\n",
              "      spin 1s steps(1) infinite;\n",
              "  }\n",
              "\n",
              "  @keyframes spin {\n",
              "    0% {\n",
              "      border-color: transparent;\n",
              "      border-bottom-color: var(--fill-color);\n",
              "      border-left-color: var(--fill-color);\n",
              "    }\n",
              "    20% {\n",
              "      border-color: transparent;\n",
              "      border-left-color: var(--fill-color);\n",
              "      border-top-color: var(--fill-color);\n",
              "    }\n",
              "    30% {\n",
              "      border-color: transparent;\n",
              "      border-left-color: var(--fill-color);\n",
              "      border-top-color: var(--fill-color);\n",
              "      border-right-color: var(--fill-color);\n",
              "    }\n",
              "    40% {\n",
              "      border-color: transparent;\n",
              "      border-right-color: var(--fill-color);\n",
              "      border-top-color: var(--fill-color);\n",
              "    }\n",
              "    60% {\n",
              "      border-color: transparent;\n",
              "      border-right-color: var(--fill-color);\n",
              "    }\n",
              "    80% {\n",
              "      border-color: transparent;\n",
              "      border-right-color: var(--fill-color);\n",
              "      border-bottom-color: var(--fill-color);\n",
              "    }\n",
              "    90% {\n",
              "      border-color: transparent;\n",
              "      border-bottom-color: var(--fill-color);\n",
              "    }\n",
              "  }\n",
              "</style>\n",
              "\n",
              "  <script>\n",
              "    async function quickchart(key) {\n",
              "      const quickchartButtonEl =\n",
              "        document.querySelector('#' + key + ' button');\n",
              "      quickchartButtonEl.disabled = true;  // To prevent multiple clicks.\n",
              "      quickchartButtonEl.classList.add('colab-df-spinner');\n",
              "      try {\n",
              "        const charts = await google.colab.kernel.invokeFunction(\n",
              "            'suggestCharts', [key], {});\n",
              "      } catch (error) {\n",
              "        console.error('Error during call to suggestCharts:', error);\n",
              "      }\n",
              "      quickchartButtonEl.classList.remove('colab-df-spinner');\n",
              "      quickchartButtonEl.classList.add('colab-df-quickchart-complete');\n",
              "    }\n",
              "    (() => {\n",
              "      let quickchartButtonEl =\n",
              "        document.querySelector('#df-83b3ec6a-391b-4cb8-a0e2-67f7beccd215 button');\n",
              "      quickchartButtonEl.style.display =\n",
              "        google.colab.kernel.accessAllowed ? 'block' : 'none';\n",
              "    })();\n",
              "  </script>\n",
              "</div>\n",
              "\n",
              "    </div>\n",
              "  </div>\n"
            ],
            "application/vnd.google.colaboratory.intrinsic+json": {
              "type": "dataframe",
              "variable_name": "df",
              "summary": "{\n  \"name\": \"df\",\n  \"rows\": 26505,\n  \"fields\": [\n    {\n      \"column\": \"name\",\n      \"properties\": {\n        \"dtype\": \"category\",\n        \"num_unique_values\": 777,\n        \"samples\": [\n          \"Neeskens Kebano\",\n          \"Michael Keane\",\n          \"Pierre-Emile H\\u00f8jbjerg\"\n        ],\n        \"semantic_type\": \"\",\n        \"description\": \"\"\n      }\n    },\n    {\n      \"column\": \"position\",\n      \"properties\": {\n        \"dtype\": \"category\",\n        \"num_unique_values\": 4,\n        \"samples\": [\n          \"GK\",\n          \"FWD\",\n          \"DEF\"\n        ],\n        \"semantic_type\": \"\",\n        \"description\": \"\"\n      }\n    },\n    {\n      \"column\": \"opponent_team\",\n      \"properties\": {\n        \"dtype\": \"number\",\n        \"std\": 5,\n        \"min\": 1,\n        \"max\": 20,\n        \"num_unique_values\": 20,\n        \"samples\": [\n          13,\n          11,\n          1\n        ],\n        \"semantic_type\": \"\",\n        \"description\": \"\"\n      }\n    },\n    {\n      \"column\": \"total_points\",\n      \"properties\": {\n        \"dtype\": \"number\",\n        \"std\": 2,\n        \"min\": -4,\n        \"max\": 23,\n        \"num_unique_values\": 28,\n        \"samples\": [\n          10,\n          23,\n          4\n        ],\n        \"semantic_type\": \"\",\n        \"description\": \"\"\n      }\n    },\n    {\n      \"column\": \"value\",\n      \"properties\": {\n        \"dtype\": \"number\",\n        \"std\": 11,\n        \"min\": 37,\n        \"max\": 131,\n        \"num_unique_values\": 86,\n        \"samples\": [\n          124,\n          50,\n          119\n        ],\n        \"semantic_type\": \"\",\n        \"description\": \"\"\n      }\n    },\n    {\n      \"column\": \"was_home\",\n      \"properties\": {\n        \"dtype\": \"boolean\",\n        \"num_unique_values\": 2,\n        \"samples\": [\n          false,\n          true\n        ],\n        \"semantic_type\": \"\",\n        \"description\": \"\"\n      }\n    },\n    {\n      \"column\": \"avg_points_last_38\",\n      \"properties\": {\n        \"dtype\": \"number\",\n        \"std\": 1.498433973106891,\n        \"min\": -2.0,\n        \"max\": 15.0,\n        \"num_unique_values\": 2180,\n        \"samples\": [\n          1.76,\n          3.5483870967741935\n        ],\n        \"semantic_type\": \"\",\n        \"description\": \"\"\n      }\n    },\n    {\n      \"column\": \"avg_minutes_last_38\",\n      \"properties\": {\n        \"dtype\": \"number\",\n        \"std\": 32.0115651095211,\n        \"min\": 0.0,\n        \"max\": 90.0,\n        \"num_unique_values\": 9442,\n        \"samples\": [\n          81.64,\n          35.55\n        ],\n        \"semantic_type\": \"\",\n        \"description\": \"\"\n      }\n    },\n    {\n      \"column\": \"avg_ict_index_last_38\",\n      \"properties\": {\n        \"dtype\": \"number\",\n        \"std\": 2.046701577066341,\n        \"min\": 0.0,\n        \"max\": 18.6,\n        \"num_unique_values\": 9700,\n        \"samples\": [\n          7.368181818181818,\n          10.526666666666667\n        ],\n        \"semantic_type\": \"\",\n        \"description\": \"\"\n      }\n    },\n    {\n      \"column\": \"avg_bonus_last_38\",\n      \"properties\": {\n        \"dtype\": \"number\",\n        \"std\": 0.20103766329467068,\n        \"min\": 0.0,\n        \"max\": 3.0,\n        \"num_unique_values\": 424,\n        \"samples\": [\n          0.4090909090909091,\n          0.43333333333333335\n        ],\n        \"semantic_type\": \"\",\n        \"description\": \"\"\n      }\n    },\n    {\n      \"column\": \"avg_bps_last_38\",\n      \"properties\": {\n        \"dtype\": \"number\",\n        \"std\": 6.343637290408693,\n        \"min\": -5.0,\n        \"max\": 57.0,\n        \"num_unique_values\": 5633,\n        \"samples\": [\n          13.176470588235293,\n          8.35135135135135\n        ],\n        \"semantic_type\": \"\",\n        \"description\": \"\"\n      }\n    },\n    {\n      \"column\": \"avg_xP_last_38\",\n      \"properties\": {\n        \"dtype\": \"number\",\n        \"std\": 1.4794545165158712,\n        \"min\": -0.9,\n        \"max\": 11.333333333333334,\n        \"num_unique_values\": 10369,\n        \"samples\": [\n          1.5548387096774194,\n          2.05\n        ],\n        \"semantic_type\": \"\",\n        \"description\": \"\"\n      }\n    },\n    {\n      \"column\": \"avg_expected_goal_involvements_last_38\",\n      \"properties\": {\n        \"dtype\": \"number\",\n        \"std\": 0.04741819024507451,\n        \"min\": 0.0,\n        \"max\": 0.77,\n        \"num_unique_values\": 10156,\n        \"samples\": [\n          0.009588181818181819,\n          0.007593333333333334\n        ],\n        \"semantic_type\": \"\",\n        \"description\": \"\"\n      }\n    },\n    {\n      \"column\": \"avg_expected_goals_conceded_last_38\",\n      \"properties\": {\n        \"dtype\": \"number\",\n        \"std\": 0.24897489948673782,\n        \"min\": 0.0,\n        \"max\": 2.61,\n        \"num_unique_values\": 9835,\n        \"samples\": [\n          0.1777190476190476,\n          1.077588888888889\n        ],\n        \"semantic_type\": \"\",\n        \"description\": \"\"\n      }\n    },\n    {\n      \"column\": \"avg_goals_conceded_last_38\",\n      \"properties\": {\n        \"dtype\": \"number\",\n        \"std\": 0.550869339759063,\n        \"min\": 0.0,\n        \"max\": 5.0,\n        \"num_unique_values\": 839,\n        \"samples\": [\n          0.6857142857142857,\n          1.457142857142857\n        ],\n        \"semantic_type\": \"\",\n        \"description\": \"\"\n      }\n    },\n    {\n      \"column\": \"avg_goals_scored_last_38\",\n      \"properties\": {\n        \"dtype\": \"number\",\n        \"std\": 0.10922800436978418,\n        \"min\": 0.0,\n        \"max\": 2.0,\n        \"num_unique_values\": 314,\n        \"samples\": [\n          0.3,\n          0.03125\n        ],\n        \"semantic_type\": \"\",\n        \"description\": \"\"\n      }\n    },\n    {\n      \"column\": \"avg_influence_last_38\",\n      \"properties\": {\n        \"dtype\": \"number\",\n        \"std\": 8.016804184648032,\n        \"min\": 0.0,\n        \"max\": 82.0,\n        \"num_unique_values\": 11756,\n        \"samples\": [\n          33.166666666666664,\n          12.58095238095238\n        ],\n        \"semantic_type\": \"\",\n        \"description\": \"\"\n      }\n    },\n    {\n      \"column\": \"avg_threat_last_38\",\n      \"properties\": {\n        \"dtype\": \"number\",\n        \"std\": 8.458776084873918,\n        \"min\": 0.0,\n        \"max\": 112.0,\n        \"num_unique_values\": 5341,\n        \"samples\": [\n          30.586206896551722,\n          18.0\n        ],\n        \"semantic_type\": \"\",\n        \"description\": \"\"\n      }\n    },\n    {\n      \"column\": \"avg_creativity_last_38\",\n      \"properties\": {\n        \"dtype\": \"number\",\n        \"std\": 7.001069330473077,\n        \"min\": 0.0,\n        \"max\": 78.8,\n        \"num_unique_values\": 11872,\n        \"samples\": [\n          22.314285714285713,\n          1.8088235294117647\n        ],\n        \"semantic_type\": \"\",\n        \"description\": \"\"\n      }\n    },\n    {\n      \"column\": \"team_category\",\n      \"properties\": {\n        \"dtype\": \"category\",\n        \"num_unique_values\": 3,\n        \"samples\": [\n          \"mid table\",\n          \"relegation fodder\"\n        ],\n        \"semantic_type\": \"\",\n        \"description\": \"\"\n      }\n    }\n  ]\n}"
            }
          },
          "metadata": {},
          "execution_count": 17
        }
      ],
      "source": [
        "df.head()"
      ]
    },
    {
      "cell_type": "markdown",
      "source": [
        "There are four positions. The scoring for each position is different. Hence in predicting the scores, we need to create four different models for each position."
      ],
      "metadata": {
        "id": "DAvW9mYJDttK"
      }
    },
    {
      "cell_type": "code",
      "execution_count": null,
      "metadata": {
        "id": "dU7q-Mn1A0Fz"
      },
      "outputs": [],
      "source": [
        "fwd_df = df[df['position'] == 'FWD'].reset_index(drop = True)\n",
        "mid_df = df[df['position'] == 'MID'].reset_index(drop = True)\n",
        "def_df = df[df['position'] == 'DEF'].reset_index(drop = True)\n",
        "gk_df = df[df['position'] == 'GK'].reset_index(drop = True)"
      ]
    },
    {
      "cell_type": "markdown",
      "source": [
        "The correlation matrices show how the important factors for a certain position's points differ"
      ],
      "metadata": {
        "id": "0btYgWVOD1se"
      }
    },
    {
      "cell_type": "code",
      "execution_count": null,
      "metadata": {
        "id": "q6hgSNpaCdTg",
        "colab": {
          "base_uri": "https://localhost:8080/"
        },
        "outputId": "676dc7ab-df48-43fb-8908-44a6a68c096a"
      },
      "outputs": [
        {
          "output_type": "execute_result",
          "data": {
            "text/plain": [
              "opponent_team                             0.017229\n",
              "avg_expected_goals_conceded_last_38       0.205430\n",
              "avg_expected_goal_involvements_last_38    0.278139\n",
              "value                                     0.378955\n",
              "avg_goals_conceded_last_38                0.384434\n",
              "avg_bonus_last_38                         0.405298\n",
              "avg_goals_scored_last_38                  0.414982\n",
              "avg_creativity_last_38                    0.420961\n",
              "avg_threat_last_38                        0.437201\n",
              "avg_influence_last_38                     0.452099\n",
              "avg_bps_last_38                           0.454135\n",
              "avg_minutes_last_38                       0.455059\n",
              "avg_xP_last_38                            0.458962\n",
              "avg_ict_index_last_38                     0.460307\n",
              "avg_points_last_38                        0.467760\n",
              "total_points                              1.000000\n",
              "Name: total_points, dtype: float64"
            ]
          },
          "metadata": {},
          "execution_count": 19
        }
      ],
      "source": [
        "corr_matrix = fwd_df.select_dtypes(include = np.number).corr()\n",
        "corr_matrix['total_points'].sort_values(ascending = True)"
      ]
    },
    {
      "cell_type": "code",
      "execution_count": null,
      "metadata": {
        "id": "CgjCb8etT2jx",
        "colab": {
          "base_uri": "https://localhost:8080/"
        },
        "outputId": "9a0952be-0d88-4a25-bd73-78c7fd0f5216"
      },
      "outputs": [
        {
          "output_type": "execute_result",
          "data": {
            "text/plain": [
              "opponent_team                             0.011652\n",
              "avg_expected_goals_conceded_last_38       0.255487\n",
              "avg_expected_goal_involvements_last_38    0.309192\n",
              "avg_bonus_last_38                         0.348031\n",
              "value                                     0.363540\n",
              "avg_goals_scored_last_38                  0.364659\n",
              "avg_goals_conceded_last_38                0.420772\n",
              "avg_threat_last_38                        0.465491\n",
              "avg_creativity_last_38                    0.478189\n",
              "avg_xP_last_38                            0.478222\n",
              "avg_influence_last_38                     0.487657\n",
              "avg_bps_last_38                           0.491464\n",
              "avg_minutes_last_38                       0.501738\n",
              "avg_points_last_38                        0.505247\n",
              "avg_ict_index_last_38                     0.515389\n",
              "total_points                              1.000000\n",
              "Name: total_points, dtype: float64"
            ]
          },
          "metadata": {},
          "execution_count": 20
        }
      ],
      "source": [
        "corr_matrix = mid_df.select_dtypes(include = np.number).corr()\n",
        "corr_matrix['total_points'].sort_values(ascending = True)"
      ]
    },
    {
      "cell_type": "code",
      "execution_count": null,
      "metadata": {
        "id": "e_VAuaDLT_R7",
        "colab": {
          "base_uri": "https://localhost:8080/"
        },
        "outputId": "52f1997b-a64f-4f66-9d67-83b722394265"
      },
      "outputs": [
        {
          "output_type": "execute_result",
          "data": {
            "text/plain": [
              "opponent_team                             0.021478\n",
              "avg_goals_scored_last_38                  0.132332\n",
              "avg_expected_goals_conceded_last_38       0.211815\n",
              "avg_expected_goal_involvements_last_38    0.214427\n",
              "value                                     0.266389\n",
              "avg_bonus_last_38                         0.276023\n",
              "avg_threat_last_38                        0.283267\n",
              "avg_creativity_last_38                    0.295360\n",
              "avg_goals_conceded_last_38                0.336338\n",
              "avg_xP_last_38                            0.371354\n",
              "avg_points_last_38                        0.387497\n",
              "avg_ict_index_last_38                     0.391860\n",
              "avg_influence_last_38                     0.395005\n",
              "avg_minutes_last_38                       0.410971\n",
              "avg_bps_last_38                           0.416528\n",
              "total_points                              1.000000\n",
              "Name: total_points, dtype: float64"
            ]
          },
          "metadata": {},
          "execution_count": 21
        }
      ],
      "source": [
        "corr_matrix = def_df.select_dtypes(include = np.number).corr()\n",
        "corr_matrix['total_points'].sort_values(ascending = True)"
      ]
    },
    {
      "cell_type": "code",
      "execution_count": null,
      "metadata": {
        "id": "2xocGC8JUelP",
        "colab": {
          "base_uri": "https://localhost:8080/"
        },
        "outputId": "d794e2b4-acbe-4a2a-a5a7-15f54213e085"
      },
      "outputs": [
        {
          "output_type": "execute_result",
          "data": {
            "text/plain": [
              "avg_threat_last_38                        0.015958\n",
              "opponent_team                             0.017110\n",
              "avg_expected_goal_involvements_last_38    0.179847\n",
              "avg_creativity_last_38                    0.297842\n",
              "avg_expected_goals_conceded_last_38       0.321264\n",
              "avg_bonus_last_38                         0.440943\n",
              "value                                     0.490785\n",
              "avg_goals_conceded_last_38                0.537313\n",
              "avg_xP_last_38                            0.552065\n",
              "avg_points_last_38                        0.575165\n",
              "avg_ict_index_last_38                     0.587697\n",
              "avg_influence_last_38                     0.587875\n",
              "avg_minutes_last_38                       0.601381\n",
              "avg_bps_last_38                           0.601595\n",
              "total_points                              1.000000\n",
              "avg_goals_scored_last_38                       NaN\n",
              "Name: total_points, dtype: float64"
            ]
          },
          "metadata": {},
          "execution_count": 22
        }
      ],
      "source": [
        "corr_matrix = gk_df.select_dtypes(include = np.number).corr()\n",
        "corr_matrix['total_points'].sort_values(ascending = True)"
      ]
    },
    {
      "cell_type": "markdown",
      "metadata": {
        "id": "NklkIjDYt6Zl"
      },
      "source": [
        "**Processing the test df**"
      ]
    },
    {
      "cell_type": "code",
      "execution_count": null,
      "metadata": {
        "id": "8ZCp2sDnuqiB"
      },
      "outputs": [],
      "source": [
        "test_df = test_df.sort_values(by=['name', 'GW']).reset_index(drop=True)"
      ]
    },
    {
      "cell_type": "code",
      "execution_count": null,
      "metadata": {
        "id": "uCFZPhF_twmm"
      },
      "outputs": [],
      "source": [
        "window_size = 38\n",
        "test_df[f'avg_points_last_{window_size}'] = test_df.groupby(['name'])['total_points'].transform(lambda x: x.rolling(window=window_size, min_periods=1).mean().shift(1))\n",
        "test_df[f'avg_minutes_last_{window_size}'] = test_df.groupby(['name'])['minutes'].transform(lambda x: x.rolling(window=window_size, min_periods = 1).mean().shift(1))\n",
        "test_df[f'avg_ict_index_last_{window_size}'] = test_df.groupby(['name'])['ict_index'].transform(lambda x: x.rolling(window=window_size, min_periods = 1).mean().shift(1))\n",
        "test_df[f'avg_bonus_last_{window_size}'] = test_df.groupby(['name'])['bonus'].transform(lambda x: x.rolling(window=window_size, min_periods = 1).mean().shift(1))\n",
        "test_df[f'avg_bps_last_{window_size}'] = test_df.groupby(['name'])['bps'].transform(lambda x: x.rolling(window=window_size, min_periods = 1).mean().shift(1))\n",
        "test_df[f'avg_xP_last_{window_size}'] = test_df.groupby(['name'])['xP'].transform(lambda x: x.rolling(window = window_size, min_periods = 1).mean().shift(1))\n",
        "test_df[f'avg_expected_goal_involvements_last_{window_size}'] = test_df.groupby(['name'])['expected_goal_involvements'].transform(lambda x: x.rolling(window = window_size, min_periods = 1).mean().shift(1))\n",
        "test_df[f'avg_expected_goals_conceded_last_{window_size}'] = test_df.groupby(['name'])['expected_goals_conceded'].transform(lambda x: x.rolling(window = window_size, min_periods = 1).mean().shift(1))\n",
        "test_df[f'avg_goals_conceded_last_{window_size}'] = test_df.groupby(['name'])['goals_conceded'].transform(lambda x: x.rolling(window = window_size, min_periods = 1).mean().shift(1))\n",
        "test_df[f'avg_goals_scored_last_{window_size}'] = test_df.groupby(['name'])['goals_scored'].transform(lambda x: x.rolling(window = window_size, min_periods = 1).mean().shift(1))\n",
        "test_df[f'avg_influence_last_{window_size}'] = test_df.groupby(['name'])['influence'].transform(lambda x: x.rolling(window = window_size, min_periods = 1).mean().shift(1))\n",
        "test_df[f'avg_threat_last_{window_size}'] = test_df.groupby(['name'])['threat'].transform(lambda x: x.rolling(window = window_size, min_periods = 1).mean().shift(1))\n",
        "test_df[f'avg_creativity_last_{window_size}'] = test_df.groupby(['name'])['creativity'].transform(lambda x: x.rolling(window = window_size, min_periods = 1).mean().shift(1))\n",
        "\n",
        "test_df[f'avg_points_last_{window_size}'] = test_df[f'avg_points_last_{window_size}'].fillna(0)\n",
        "test_df[f'avg_minutes_last_{window_size}'] = test_df[f'avg_minutes_last_{window_size}'].fillna(0)\n",
        "test_df[f'avg_ict_index_last_{window_size}'] = test_df[f'avg_ict_index_last_{window_size}'].fillna(0)\n",
        "test_df[f'avg_bonus_last_{window_size}'] = test_df[f'avg_bonus_last_{window_size}'].fillna(0)\n",
        "test_df[f'avg_bps_last_{window_size}'] = test_df[f'avg_bps_last_{window_size}'].fillna(0)\n",
        "test_df[f'avg_xP_last_{window_size}'] = test_df[f'avg_xP_last_{window_size}'].fillna(0)\n",
        "test_df[f'avg_expected_goal_involvements_last_{window_size}'] = test_df[f'avg_expected_goal_involvements_last_{window_size}'].fillna(0)\n",
        "test_df[f'avg_expected_goals_conceded_last_{window_size}'] = test_df[f'avg_expected_goals_conceded_last_{window_size}'].fillna(0)\n",
        "test_df[f'avg_goals_conceded_last_{window_size}'] = test_df[f'avg_goals_conceded_last_{window_size}'].fillna(0)\n",
        "test_df[f'avg_goals_scored_last_{window_size}'] = test_df[f'avg_goals_scored_last_{window_size}'].fillna(0)\n",
        "test_df[f'avg_influence_last_{window_size}'] = test_df[f'avg_influence_last_{window_size}'].fillna(0)\n",
        "test_df[f'avg_threat_last_{window_size}'] = test_df[f'avg_threat_last_{window_size}'].fillna(0)\n",
        "test_df[f'avg_creativity_last_{window_size}'] = test_df[f'avg_creativity_last_{window_size}'].fillna(0)"
      ]
    },
    {
      "cell_type": "code",
      "execution_count": null,
      "metadata": {
        "id": "XW-4cy73u0uV"
      },
      "outputs": [],
      "source": [
        "test_df.drop(columns = useless_columns, inplace= True)"
      ]
    },
    {
      "cell_type": "code",
      "execution_count": null,
      "metadata": {
        "id": "yY5CVhl4yuNW"
      },
      "outputs": [],
      "source": [
        "bins = [0, 6, 14, 20]\n",
        "labels = ['top 6', 'mid table', 'relegation fodder']\n",
        "\n",
        "test_df['team_category'] = pd.cut(test_df['opponent_team'], bins=bins, labels=labels, right=True)"
      ]
    },
    {
      "cell_type": "code",
      "execution_count": null,
      "metadata": {
        "id": "BE7-8aEGxShc",
        "colab": {
          "base_uri": "https://localhost:8080/",
          "height": 313
        },
        "outputId": "2468b569-7e33-4cbb-9ca5-ae0a726252ef"
      },
      "outputs": [
        {
          "output_type": "execute_result",
          "data": {
            "text/plain": [
              "             name position  opponent_team  total_points  value  was_home  \\\n",
              "0  Aaron Connolly      FWD             12             0     45      True   \n",
              "1  Aaron Connolly      FWD             20             0     45     False   \n",
              "2  Aaron Connolly      FWD             19             0     45      True   \n",
              "3  Aaron Connolly      FWD             15             0     45      True   \n",
              "4  Aaron Connolly      FWD             14             0     45     False   \n",
              "\n",
              "   avg_points_last_38  avg_minutes_last_38  avg_ict_index_last_38  \\\n",
              "0                 0.0                  0.0                    0.0   \n",
              "1                 0.0                  0.0                    0.0   \n",
              "2                 0.0                  0.0                    0.0   \n",
              "3                 0.0                  0.0                    0.0   \n",
              "4                 0.0                  0.0                    0.0   \n",
              "\n",
              "   avg_bonus_last_38  avg_bps_last_38  avg_xP_last_38  \\\n",
              "0                0.0              0.0             0.0   \n",
              "1                0.0              0.0             0.0   \n",
              "2                0.0              0.0             0.0   \n",
              "3                0.0              0.0             0.0   \n",
              "4                0.0              0.0             0.0   \n",
              "\n",
              "   avg_expected_goal_involvements_last_38  \\\n",
              "0                                     0.0   \n",
              "1                                     0.0   \n",
              "2                                     0.0   \n",
              "3                                     0.0   \n",
              "4                                     0.0   \n",
              "\n",
              "   avg_expected_goals_conceded_last_38  avg_goals_conceded_last_38  \\\n",
              "0                                  0.0                         0.0   \n",
              "1                                  0.0                         0.0   \n",
              "2                                  0.0                         0.0   \n",
              "3                                  0.0                         0.0   \n",
              "4                                  0.0                         0.0   \n",
              "\n",
              "   avg_goals_scored_last_38  avg_influence_last_38  avg_threat_last_38  \\\n",
              "0                       0.0                    0.0                 0.0   \n",
              "1                       0.0                    0.0                 0.0   \n",
              "2                       0.0                    0.0                 0.0   \n",
              "3                       0.0                    0.0                 0.0   \n",
              "4                       0.0                    0.0                 0.0   \n",
              "\n",
              "   avg_creativity_last_38      team_category  \n",
              "0                     0.0          mid table  \n",
              "1                     0.0  relegation fodder  \n",
              "2                     0.0  relegation fodder  \n",
              "3                     0.0  relegation fodder  \n",
              "4                     0.0          mid table  "
            ],
            "text/html": [
              "\n",
              "  <div id=\"df-52240f68-6a79-486b-b584-7b6ddc8258fd\" class=\"colab-df-container\">\n",
              "    <div>\n",
              "<style scoped>\n",
              "    .dataframe tbody tr th:only-of-type {\n",
              "        vertical-align: middle;\n",
              "    }\n",
              "\n",
              "    .dataframe tbody tr th {\n",
              "        vertical-align: top;\n",
              "    }\n",
              "\n",
              "    .dataframe thead th {\n",
              "        text-align: right;\n",
              "    }\n",
              "</style>\n",
              "<table border=\"1\" class=\"dataframe\">\n",
              "  <thead>\n",
              "    <tr style=\"text-align: right;\">\n",
              "      <th></th>\n",
              "      <th>name</th>\n",
              "      <th>position</th>\n",
              "      <th>opponent_team</th>\n",
              "      <th>total_points</th>\n",
              "      <th>value</th>\n",
              "      <th>was_home</th>\n",
              "      <th>avg_points_last_38</th>\n",
              "      <th>avg_minutes_last_38</th>\n",
              "      <th>avg_ict_index_last_38</th>\n",
              "      <th>avg_bonus_last_38</th>\n",
              "      <th>avg_bps_last_38</th>\n",
              "      <th>avg_xP_last_38</th>\n",
              "      <th>avg_expected_goal_involvements_last_38</th>\n",
              "      <th>avg_expected_goals_conceded_last_38</th>\n",
              "      <th>avg_goals_conceded_last_38</th>\n",
              "      <th>avg_goals_scored_last_38</th>\n",
              "      <th>avg_influence_last_38</th>\n",
              "      <th>avg_threat_last_38</th>\n",
              "      <th>avg_creativity_last_38</th>\n",
              "      <th>team_category</th>\n",
              "    </tr>\n",
              "  </thead>\n",
              "  <tbody>\n",
              "    <tr>\n",
              "      <th>0</th>\n",
              "      <td>Aaron Connolly</td>\n",
              "      <td>FWD</td>\n",
              "      <td>12</td>\n",
              "      <td>0</td>\n",
              "      <td>45</td>\n",
              "      <td>True</td>\n",
              "      <td>0.0</td>\n",
              "      <td>0.0</td>\n",
              "      <td>0.0</td>\n",
              "      <td>0.0</td>\n",
              "      <td>0.0</td>\n",
              "      <td>0.0</td>\n",
              "      <td>0.0</td>\n",
              "      <td>0.0</td>\n",
              "      <td>0.0</td>\n",
              "      <td>0.0</td>\n",
              "      <td>0.0</td>\n",
              "      <td>0.0</td>\n",
              "      <td>0.0</td>\n",
              "      <td>mid table</td>\n",
              "    </tr>\n",
              "    <tr>\n",
              "      <th>1</th>\n",
              "      <td>Aaron Connolly</td>\n",
              "      <td>FWD</td>\n",
              "      <td>20</td>\n",
              "      <td>0</td>\n",
              "      <td>45</td>\n",
              "      <td>False</td>\n",
              "      <td>0.0</td>\n",
              "      <td>0.0</td>\n",
              "      <td>0.0</td>\n",
              "      <td>0.0</td>\n",
              "      <td>0.0</td>\n",
              "      <td>0.0</td>\n",
              "      <td>0.0</td>\n",
              "      <td>0.0</td>\n",
              "      <td>0.0</td>\n",
              "      <td>0.0</td>\n",
              "      <td>0.0</td>\n",
              "      <td>0.0</td>\n",
              "      <td>0.0</td>\n",
              "      <td>relegation fodder</td>\n",
              "    </tr>\n",
              "    <tr>\n",
              "      <th>2</th>\n",
              "      <td>Aaron Connolly</td>\n",
              "      <td>FWD</td>\n",
              "      <td>19</td>\n",
              "      <td>0</td>\n",
              "      <td>45</td>\n",
              "      <td>True</td>\n",
              "      <td>0.0</td>\n",
              "      <td>0.0</td>\n",
              "      <td>0.0</td>\n",
              "      <td>0.0</td>\n",
              "      <td>0.0</td>\n",
              "      <td>0.0</td>\n",
              "      <td>0.0</td>\n",
              "      <td>0.0</td>\n",
              "      <td>0.0</td>\n",
              "      <td>0.0</td>\n",
              "      <td>0.0</td>\n",
              "      <td>0.0</td>\n",
              "      <td>0.0</td>\n",
              "      <td>relegation fodder</td>\n",
              "    </tr>\n",
              "    <tr>\n",
              "      <th>3</th>\n",
              "      <td>Aaron Connolly</td>\n",
              "      <td>FWD</td>\n",
              "      <td>15</td>\n",
              "      <td>0</td>\n",
              "      <td>45</td>\n",
              "      <td>True</td>\n",
              "      <td>0.0</td>\n",
              "      <td>0.0</td>\n",
              "      <td>0.0</td>\n",
              "      <td>0.0</td>\n",
              "      <td>0.0</td>\n",
              "      <td>0.0</td>\n",
              "      <td>0.0</td>\n",
              "      <td>0.0</td>\n",
              "      <td>0.0</td>\n",
              "      <td>0.0</td>\n",
              "      <td>0.0</td>\n",
              "      <td>0.0</td>\n",
              "      <td>0.0</td>\n",
              "      <td>relegation fodder</td>\n",
              "    </tr>\n",
              "    <tr>\n",
              "      <th>4</th>\n",
              "      <td>Aaron Connolly</td>\n",
              "      <td>FWD</td>\n",
              "      <td>14</td>\n",
              "      <td>0</td>\n",
              "      <td>45</td>\n",
              "      <td>False</td>\n",
              "      <td>0.0</td>\n",
              "      <td>0.0</td>\n",
              "      <td>0.0</td>\n",
              "      <td>0.0</td>\n",
              "      <td>0.0</td>\n",
              "      <td>0.0</td>\n",
              "      <td>0.0</td>\n",
              "      <td>0.0</td>\n",
              "      <td>0.0</td>\n",
              "      <td>0.0</td>\n",
              "      <td>0.0</td>\n",
              "      <td>0.0</td>\n",
              "      <td>0.0</td>\n",
              "      <td>mid table</td>\n",
              "    </tr>\n",
              "  </tbody>\n",
              "</table>\n",
              "</div>\n",
              "    <div class=\"colab-df-buttons\">\n",
              "\n",
              "  <div class=\"colab-df-container\">\n",
              "    <button class=\"colab-df-convert\" onclick=\"convertToInteractive('df-52240f68-6a79-486b-b584-7b6ddc8258fd')\"\n",
              "            title=\"Convert this dataframe to an interactive table.\"\n",
              "            style=\"display:none;\">\n",
              "\n",
              "  <svg xmlns=\"http://www.w3.org/2000/svg\" height=\"24px\" viewBox=\"0 -960 960 960\">\n",
              "    <path d=\"M120-120v-720h720v720H120Zm60-500h600v-160H180v160Zm220 220h160v-160H400v160Zm0 220h160v-160H400v160ZM180-400h160v-160H180v160Zm440 0h160v-160H620v160ZM180-180h160v-160H180v160Zm440 0h160v-160H620v160Z\"/>\n",
              "  </svg>\n",
              "    </button>\n",
              "\n",
              "  <style>\n",
              "    .colab-df-container {\n",
              "      display:flex;\n",
              "      gap: 12px;\n",
              "    }\n",
              "\n",
              "    .colab-df-convert {\n",
              "      background-color: #E8F0FE;\n",
              "      border: none;\n",
              "      border-radius: 50%;\n",
              "      cursor: pointer;\n",
              "      display: none;\n",
              "      fill: #1967D2;\n",
              "      height: 32px;\n",
              "      padding: 0 0 0 0;\n",
              "      width: 32px;\n",
              "    }\n",
              "\n",
              "    .colab-df-convert:hover {\n",
              "      background-color: #E2EBFA;\n",
              "      box-shadow: 0px 1px 2px rgba(60, 64, 67, 0.3), 0px 1px 3px 1px rgba(60, 64, 67, 0.15);\n",
              "      fill: #174EA6;\n",
              "    }\n",
              "\n",
              "    .colab-df-buttons div {\n",
              "      margin-bottom: 4px;\n",
              "    }\n",
              "\n",
              "    [theme=dark] .colab-df-convert {\n",
              "      background-color: #3B4455;\n",
              "      fill: #D2E3FC;\n",
              "    }\n",
              "\n",
              "    [theme=dark] .colab-df-convert:hover {\n",
              "      background-color: #434B5C;\n",
              "      box-shadow: 0px 1px 3px 1px rgba(0, 0, 0, 0.15);\n",
              "      filter: drop-shadow(0px 1px 2px rgba(0, 0, 0, 0.3));\n",
              "      fill: #FFFFFF;\n",
              "    }\n",
              "  </style>\n",
              "\n",
              "    <script>\n",
              "      const buttonEl =\n",
              "        document.querySelector('#df-52240f68-6a79-486b-b584-7b6ddc8258fd button.colab-df-convert');\n",
              "      buttonEl.style.display =\n",
              "        google.colab.kernel.accessAllowed ? 'block' : 'none';\n",
              "\n",
              "      async function convertToInteractive(key) {\n",
              "        const element = document.querySelector('#df-52240f68-6a79-486b-b584-7b6ddc8258fd');\n",
              "        const dataTable =\n",
              "          await google.colab.kernel.invokeFunction('convertToInteractive',\n",
              "                                                    [key], {});\n",
              "        if (!dataTable) return;\n",
              "\n",
              "        const docLinkHtml = 'Like what you see? Visit the ' +\n",
              "          '<a target=\"_blank\" href=https://colab.research.google.com/notebooks/data_table.ipynb>data table notebook</a>'\n",
              "          + ' to learn more about interactive tables.';\n",
              "        element.innerHTML = '';\n",
              "        dataTable['output_type'] = 'display_data';\n",
              "        await google.colab.output.renderOutput(dataTable, element);\n",
              "        const docLink = document.createElement('div');\n",
              "        docLink.innerHTML = docLinkHtml;\n",
              "        element.appendChild(docLink);\n",
              "      }\n",
              "    </script>\n",
              "  </div>\n",
              "\n",
              "\n",
              "<div id=\"df-f285a768-a947-420c-8fec-34e1a2834fa8\">\n",
              "  <button class=\"colab-df-quickchart\" onclick=\"quickchart('df-f285a768-a947-420c-8fec-34e1a2834fa8')\"\n",
              "            title=\"Suggest charts\"\n",
              "            style=\"display:none;\">\n",
              "\n",
              "<svg xmlns=\"http://www.w3.org/2000/svg\" height=\"24px\"viewBox=\"0 0 24 24\"\n",
              "     width=\"24px\">\n",
              "    <g>\n",
              "        <path d=\"M19 3H5c-1.1 0-2 .9-2 2v14c0 1.1.9 2 2 2h14c1.1 0 2-.9 2-2V5c0-1.1-.9-2-2-2zM9 17H7v-7h2v7zm4 0h-2V7h2v10zm4 0h-2v-4h2v4z\"/>\n",
              "    </g>\n",
              "</svg>\n",
              "  </button>\n",
              "\n",
              "<style>\n",
              "  .colab-df-quickchart {\n",
              "      --bg-color: #E8F0FE;\n",
              "      --fill-color: #1967D2;\n",
              "      --hover-bg-color: #E2EBFA;\n",
              "      --hover-fill-color: #174EA6;\n",
              "      --disabled-fill-color: #AAA;\n",
              "      --disabled-bg-color: #DDD;\n",
              "  }\n",
              "\n",
              "  [theme=dark] .colab-df-quickchart {\n",
              "      --bg-color: #3B4455;\n",
              "      --fill-color: #D2E3FC;\n",
              "      --hover-bg-color: #434B5C;\n",
              "      --hover-fill-color: #FFFFFF;\n",
              "      --disabled-bg-color: #3B4455;\n",
              "      --disabled-fill-color: #666;\n",
              "  }\n",
              "\n",
              "  .colab-df-quickchart {\n",
              "    background-color: var(--bg-color);\n",
              "    border: none;\n",
              "    border-radius: 50%;\n",
              "    cursor: pointer;\n",
              "    display: none;\n",
              "    fill: var(--fill-color);\n",
              "    height: 32px;\n",
              "    padding: 0;\n",
              "    width: 32px;\n",
              "  }\n",
              "\n",
              "  .colab-df-quickchart:hover {\n",
              "    background-color: var(--hover-bg-color);\n",
              "    box-shadow: 0 1px 2px rgba(60, 64, 67, 0.3), 0 1px 3px 1px rgba(60, 64, 67, 0.15);\n",
              "    fill: var(--button-hover-fill-color);\n",
              "  }\n",
              "\n",
              "  .colab-df-quickchart-complete:disabled,\n",
              "  .colab-df-quickchart-complete:disabled:hover {\n",
              "    background-color: var(--disabled-bg-color);\n",
              "    fill: var(--disabled-fill-color);\n",
              "    box-shadow: none;\n",
              "  }\n",
              "\n",
              "  .colab-df-spinner {\n",
              "    border: 2px solid var(--fill-color);\n",
              "    border-color: transparent;\n",
              "    border-bottom-color: var(--fill-color);\n",
              "    animation:\n",
              "      spin 1s steps(1) infinite;\n",
              "  }\n",
              "\n",
              "  @keyframes spin {\n",
              "    0% {\n",
              "      border-color: transparent;\n",
              "      border-bottom-color: var(--fill-color);\n",
              "      border-left-color: var(--fill-color);\n",
              "    }\n",
              "    20% {\n",
              "      border-color: transparent;\n",
              "      border-left-color: var(--fill-color);\n",
              "      border-top-color: var(--fill-color);\n",
              "    }\n",
              "    30% {\n",
              "      border-color: transparent;\n",
              "      border-left-color: var(--fill-color);\n",
              "      border-top-color: var(--fill-color);\n",
              "      border-right-color: var(--fill-color);\n",
              "    }\n",
              "    40% {\n",
              "      border-color: transparent;\n",
              "      border-right-color: var(--fill-color);\n",
              "      border-top-color: var(--fill-color);\n",
              "    }\n",
              "    60% {\n",
              "      border-color: transparent;\n",
              "      border-right-color: var(--fill-color);\n",
              "    }\n",
              "    80% {\n",
              "      border-color: transparent;\n",
              "      border-right-color: var(--fill-color);\n",
              "      border-bottom-color: var(--fill-color);\n",
              "    }\n",
              "    90% {\n",
              "      border-color: transparent;\n",
              "      border-bottom-color: var(--fill-color);\n",
              "    }\n",
              "  }\n",
              "</style>\n",
              "\n",
              "  <script>\n",
              "    async function quickchart(key) {\n",
              "      const quickchartButtonEl =\n",
              "        document.querySelector('#' + key + ' button');\n",
              "      quickchartButtonEl.disabled = true;  // To prevent multiple clicks.\n",
              "      quickchartButtonEl.classList.add('colab-df-spinner');\n",
              "      try {\n",
              "        const charts = await google.colab.kernel.invokeFunction(\n",
              "            'suggestCharts', [key], {});\n",
              "      } catch (error) {\n",
              "        console.error('Error during call to suggestCharts:', error);\n",
              "      }\n",
              "      quickchartButtonEl.classList.remove('colab-df-spinner');\n",
              "      quickchartButtonEl.classList.add('colab-df-quickchart-complete');\n",
              "    }\n",
              "    (() => {\n",
              "      let quickchartButtonEl =\n",
              "        document.querySelector('#df-f285a768-a947-420c-8fec-34e1a2834fa8 button');\n",
              "      quickchartButtonEl.style.display =\n",
              "        google.colab.kernel.accessAllowed ? 'block' : 'none';\n",
              "    })();\n",
              "  </script>\n",
              "</div>\n",
              "\n",
              "    </div>\n",
              "  </div>\n"
            ],
            "application/vnd.google.colaboratory.intrinsic+json": {
              "type": "dataframe",
              "variable_name": "test_df",
              "summary": "{\n  \"name\": \"test_df\",\n  \"rows\": 29725,\n  \"fields\": [\n    {\n      \"column\": \"name\",\n      \"properties\": {\n        \"dtype\": \"category\",\n        \"num_unique_values\": 869,\n        \"samples\": [\n          \"Jeffrey Schlupp\",\n          \"Antonee Robinson\",\n          \"Lawrence Vigouroux\"\n        ],\n        \"semantic_type\": \"\",\n        \"description\": \"\"\n      }\n    },\n    {\n      \"column\": \"position\",\n      \"properties\": {\n        \"dtype\": \"category\",\n        \"num_unique_values\": 4,\n        \"samples\": [\n          \"DEF\",\n          \"MID\",\n          \"FWD\"\n        ],\n        \"semantic_type\": \"\",\n        \"description\": \"\"\n      }\n    },\n    {\n      \"column\": \"opponent_team\",\n      \"properties\": {\n        \"dtype\": \"number\",\n        \"std\": 5,\n        \"min\": 1,\n        \"max\": 20,\n        \"num_unique_values\": 20,\n        \"samples\": [\n          12,\n          8,\n          6\n        ],\n        \"semantic_type\": \"\",\n        \"description\": \"\"\n      }\n    },\n    {\n      \"column\": \"total_points\",\n      \"properties\": {\n        \"dtype\": \"number\",\n        \"std\": 2,\n        \"min\": -4,\n        \"max\": 26,\n        \"num_unique_values\": 29,\n        \"samples\": [\n          22,\n          13,\n          9\n        ],\n        \"semantic_type\": \"\",\n        \"description\": \"\"\n      }\n    },\n    {\n      \"column\": \"value\",\n      \"properties\": {\n        \"dtype\": \"number\",\n        \"std\": 10,\n        \"min\": 36,\n        \"max\": 145,\n        \"num_unique_values\": 91,\n        \"samples\": [\n          68,\n          82,\n          72\n        ],\n        \"semantic_type\": \"\",\n        \"description\": \"\"\n      }\n    },\n    {\n      \"column\": \"was_home\",\n      \"properties\": {\n        \"dtype\": \"boolean\",\n        \"num_unique_values\": 2,\n        \"samples\": [\n          false,\n          true\n        ],\n        \"semantic_type\": \"\",\n        \"description\": \"\"\n      }\n    },\n    {\n      \"column\": \"avg_points_last_38\",\n      \"properties\": {\n        \"dtype\": \"number\",\n        \"std\": 1.4021695403538004,\n        \"min\": -2.0,\n        \"max\": 14.0,\n        \"num_unique_values\": 2153,\n        \"samples\": [\n          5.290322580645161,\n          3.8076923076923075\n        ],\n        \"semantic_type\": \"\",\n        \"description\": \"\"\n      }\n    },\n    {\n      \"column\": \"avg_minutes_last_38\",\n      \"properties\": {\n        \"dtype\": \"number\",\n        \"std\": 30.520435575869346,\n        \"min\": 0.0,\n        \"max\": 90.0,\n        \"num_unique_values\": 9797,\n        \"samples\": [\n          15.0,\n          64.81818181818181\n        ],\n        \"semantic_type\": \"\",\n        \"description\": \"\"\n      }\n    },\n    {\n      \"column\": \"avg_ict_index_last_38\",\n      \"properties\": {\n        \"dtype\": \"number\",\n        \"std\": 1.9323927925858824,\n        \"min\": 0.0,\n        \"max\": 16.0,\n        \"num_unique_values\": 9919,\n        \"samples\": [\n          1.4625000000000001,\n          0.3909090909090909\n        ],\n        \"semantic_type\": \"\",\n        \"description\": \"\"\n      }\n    },\n    {\n      \"column\": \"avg_bonus_last_38\",\n      \"properties\": {\n        \"dtype\": \"number\",\n        \"std\": 0.18561923846940132,\n        \"min\": 0.0,\n        \"max\": 3.0,\n        \"num_unique_values\": 405,\n        \"samples\": [\n          0.05555555555555555,\n          1.1428571428571428\n        ],\n        \"semantic_type\": \"\",\n        \"description\": \"\"\n      }\n    },\n    {\n      \"column\": \"avg_bps_last_38\",\n      \"properties\": {\n        \"dtype\": \"number\",\n        \"std\": 6.061534876324581,\n        \"min\": -6.0,\n        \"max\": 56.0,\n        \"num_unique_values\": 5737,\n        \"samples\": [\n          1.5172413793103448,\n          10.473684210526315\n        ],\n        \"semantic_type\": \"\",\n        \"description\": \"\"\n      }\n    },\n    {\n      \"column\": \"avg_xP_last_38\",\n      \"properties\": {\n        \"dtype\": \"number\",\n        \"std\": 1.333484647664469,\n        \"min\": -0.8375,\n        \"max\": 8.85,\n        \"num_unique_values\": 10232,\n        \"samples\": [\n          0.6558823529411765,\n          3.4166666666666665\n        ],\n        \"semantic_type\": \"\",\n        \"description\": \"\"\n      }\n    },\n    {\n      \"column\": \"avg_expected_goal_involvements_last_38\",\n      \"properties\": {\n        \"dtype\": \"number\",\n        \"std\": 0.1258249741503875,\n        \"min\": 0.0,\n        \"max\": 1.7049999999999998,\n        \"num_unique_values\": 7737,\n        \"samples\": [\n          0.028064516129032258,\n          0.017096774193548388\n        ],\n        \"semantic_type\": \"\",\n        \"description\": \"\"\n      }\n    },\n    {\n      \"column\": \"avg_expected_goals_conceded_last_38\",\n      \"properties\": {\n        \"dtype\": \"number\",\n        \"std\": 0.558891487918786,\n        \"min\": 0.0,\n        \"max\": 4.595,\n        \"num_unique_values\": 13059,\n        \"samples\": [\n          0.13874999999999998,\n          0.37103448275862067\n        ],\n        \"semantic_type\": \"\",\n        \"description\": \"\"\n      }\n    },\n    {\n      \"column\": \"avg_goals_conceded_last_38\",\n      \"properties\": {\n        \"dtype\": \"number\",\n        \"std\": 0.5765344234248819,\n        \"min\": 0.0,\n        \"max\": 5.0,\n        \"num_unique_values\": 967,\n        \"samples\": [\n          0.9130434782608695,\n          0.43333333333333335\n        ],\n        \"semantic_type\": \"\",\n        \"description\": \"\"\n      }\n    },\n    {\n      \"column\": \"avg_goals_scored_last_38\",\n      \"properties\": {\n        \"dtype\": \"number\",\n        \"std\": 0.10222034874230991,\n        \"min\": 0.0,\n        \"max\": 2.0,\n        \"num_unique_values\": 289,\n        \"samples\": [\n          0.13636363636363635,\n          0.11538461538461539\n        ],\n        \"semantic_type\": \"\",\n        \"description\": \"\"\n      }\n    },\n    {\n      \"column\": \"avg_influence_last_38\",\n      \"properties\": {\n        \"dtype\": \"number\",\n        \"std\": 7.862494077270493,\n        \"min\": 0.0,\n        \"max\": 75.0,\n        \"num_unique_values\": 12059,\n        \"samples\": [\n          5.179310344827586,\n          13.1625\n        ],\n        \"semantic_type\": \"\",\n        \"description\": \"\"\n      }\n    },\n    {\n      \"column\": \"avg_threat_last_38\",\n      \"properties\": {\n        \"dtype\": \"number\",\n        \"std\": 7.028015924373296,\n        \"min\": 0.0,\n        \"max\": 93.0,\n        \"num_unique_values\": 5161,\n        \"samples\": [\n          16.033333333333335,\n          14.045454545454545\n        ],\n        \"semantic_type\": \"\",\n        \"description\": \"\"\n      }\n    },\n    {\n      \"column\": \"avg_creativity_last_38\",\n      \"properties\": {\n        \"dtype\": \"number\",\n        \"std\": 7.02012659086844,\n        \"min\": 0.0,\n        \"max\": 96.2,\n        \"num_unique_values\": 12302,\n        \"samples\": [\n          16.66875,\n          18.441176470588236\n        ],\n        \"semantic_type\": \"\",\n        \"description\": \"\"\n      }\n    },\n    {\n      \"column\": \"team_category\",\n      \"properties\": {\n        \"dtype\": \"category\",\n        \"num_unique_values\": 3,\n        \"samples\": [\n          \"mid table\",\n          \"relegation fodder\"\n        ],\n        \"semantic_type\": \"\",\n        \"description\": \"\"\n      }\n    }\n  ]\n}"
            }
          },
          "metadata": {},
          "execution_count": 27
        }
      ],
      "source": [
        "test_df.head()"
      ]
    },
    {
      "cell_type": "markdown",
      "metadata": {
        "id": "d3AZ9R3-BPpt"
      },
      "source": [
        "**We would test for each kind of player**"
      ]
    },
    {
      "cell_type": "markdown",
      "metadata": {
        "id": "P9QqJ1F_BUNW"
      },
      "source": [
        "**Testing for forwards**"
      ]
    },
    {
      "cell_type": "code",
      "execution_count": null,
      "metadata": {
        "id": "gPk1uZpm7eSg"
      },
      "outputs": [],
      "source": [
        "x = fwd_df.drop(columns= ['name'])\n",
        "x_test = test_df[test_df['name'] == 'Ollie Watkins'].reset_index(drop = True)"
      ]
    },
    {
      "cell_type": "code",
      "execution_count": null,
      "metadata": {
        "id": "5LqhmVbsDrty"
      },
      "outputs": [],
      "source": [
        "y_test = x_test['total_points']\n",
        "_y = x['total_points']\n",
        "x.drop(columns = ['total_points','opponent_team', 'position'], inplace = True)\n",
        "x_test.drop(columns = ['total_points', 'name', 'opponent_team', 'position'], inplace = True)"
      ]
    },
    {
      "cell_type": "code",
      "execution_count": null,
      "metadata": {
        "id": "BbfkJfbcQx15",
        "colab": {
          "base_uri": "https://localhost:8080/",
          "height": 244
        },
        "outputId": "97fb5b2e-4a10-4cde-898b-f9f17b99d741"
      },
      "outputs": [
        {
          "output_type": "execute_result",
          "data": {
            "text/plain": [
              "   value  was_home  avg_points_last_38  avg_minutes_last_38  \\\n",
              "0     55     False            0.000000             0.000000   \n",
              "1     55      True            1.000000            45.000000   \n",
              "2     55     False            2.500000            37.000000   \n",
              "3     55      True            2.333333            47.666667   \n",
              "4     55      True            2.250000            54.750000   \n",
              "\n",
              "   avg_ict_index_last_38  avg_bonus_last_38  avg_bps_last_38  avg_xP_last_38  \\\n",
              "0               0.000000                0.0         0.000000             0.0   \n",
              "1               0.000000                0.0         0.000000             1.0   \n",
              "2               1.650000                0.0         7.500000             2.0   \n",
              "3               1.366667                0.0         6.666667             2.1   \n",
              "4               2.525000                0.0         7.000000             2.0   \n",
              "\n",
              "   avg_expected_goal_involvements_last_38  \\\n",
              "0                                     0.0   \n",
              "1                                     0.0   \n",
              "2                                     0.0   \n",
              "3                                     0.0   \n",
              "4                                     0.0   \n",
              "\n",
              "   avg_expected_goals_conceded_last_38  avg_goals_conceded_last_38  \\\n",
              "0                                  0.0                         0.0   \n",
              "1                                  0.0                         2.0   \n",
              "2                                  0.0                         1.0   \n",
              "3                                  0.0                         1.0   \n",
              "4                                  0.0                         1.0   \n",
              "\n",
              "   avg_goals_scored_last_38  avg_influence_last_38  avg_threat_last_38  \\\n",
              "0                       0.0               0.000000                 0.0   \n",
              "1                       0.0               0.000000                 1.0   \n",
              "2                       0.0               8.700000                 2.5   \n",
              "3                       0.0               6.666667                 3.0   \n",
              "4                       0.0               7.400000                 8.5   \n",
              "\n",
              "   avg_creativity_last_38      team_category  \n",
              "0                   0.000  relegation fodder  \n",
              "1                   0.800          mid table  \n",
              "2                   5.950          mid table  \n",
              "3                   4.400          mid table  \n",
              "4                   9.725              top 6  "
            ],
            "text/html": [
              "\n",
              "  <div id=\"df-672a6fdc-7d70-483a-8997-b74bd2bd108e\" class=\"colab-df-container\">\n",
              "    <div>\n",
              "<style scoped>\n",
              "    .dataframe tbody tr th:only-of-type {\n",
              "        vertical-align: middle;\n",
              "    }\n",
              "\n",
              "    .dataframe tbody tr th {\n",
              "        vertical-align: top;\n",
              "    }\n",
              "\n",
              "    .dataframe thead th {\n",
              "        text-align: right;\n",
              "    }\n",
              "</style>\n",
              "<table border=\"1\" class=\"dataframe\">\n",
              "  <thead>\n",
              "    <tr style=\"text-align: right;\">\n",
              "      <th></th>\n",
              "      <th>value</th>\n",
              "      <th>was_home</th>\n",
              "      <th>avg_points_last_38</th>\n",
              "      <th>avg_minutes_last_38</th>\n",
              "      <th>avg_ict_index_last_38</th>\n",
              "      <th>avg_bonus_last_38</th>\n",
              "      <th>avg_bps_last_38</th>\n",
              "      <th>avg_xP_last_38</th>\n",
              "      <th>avg_expected_goal_involvements_last_38</th>\n",
              "      <th>avg_expected_goals_conceded_last_38</th>\n",
              "      <th>avg_goals_conceded_last_38</th>\n",
              "      <th>avg_goals_scored_last_38</th>\n",
              "      <th>avg_influence_last_38</th>\n",
              "      <th>avg_threat_last_38</th>\n",
              "      <th>avg_creativity_last_38</th>\n",
              "      <th>team_category</th>\n",
              "    </tr>\n",
              "  </thead>\n",
              "  <tbody>\n",
              "    <tr>\n",
              "      <th>0</th>\n",
              "      <td>55</td>\n",
              "      <td>False</td>\n",
              "      <td>0.000000</td>\n",
              "      <td>0.000000</td>\n",
              "      <td>0.000000</td>\n",
              "      <td>0.0</td>\n",
              "      <td>0.000000</td>\n",
              "      <td>0.0</td>\n",
              "      <td>0.0</td>\n",
              "      <td>0.0</td>\n",
              "      <td>0.0</td>\n",
              "      <td>0.0</td>\n",
              "      <td>0.000000</td>\n",
              "      <td>0.0</td>\n",
              "      <td>0.000</td>\n",
              "      <td>relegation fodder</td>\n",
              "    </tr>\n",
              "    <tr>\n",
              "      <th>1</th>\n",
              "      <td>55</td>\n",
              "      <td>True</td>\n",
              "      <td>1.000000</td>\n",
              "      <td>45.000000</td>\n",
              "      <td>0.000000</td>\n",
              "      <td>0.0</td>\n",
              "      <td>0.000000</td>\n",
              "      <td>1.0</td>\n",
              "      <td>0.0</td>\n",
              "      <td>0.0</td>\n",
              "      <td>2.0</td>\n",
              "      <td>0.0</td>\n",
              "      <td>0.000000</td>\n",
              "      <td>1.0</td>\n",
              "      <td>0.800</td>\n",
              "      <td>mid table</td>\n",
              "    </tr>\n",
              "    <tr>\n",
              "      <th>2</th>\n",
              "      <td>55</td>\n",
              "      <td>False</td>\n",
              "      <td>2.500000</td>\n",
              "      <td>37.000000</td>\n",
              "      <td>1.650000</td>\n",
              "      <td>0.0</td>\n",
              "      <td>7.500000</td>\n",
              "      <td>2.0</td>\n",
              "      <td>0.0</td>\n",
              "      <td>0.0</td>\n",
              "      <td>1.0</td>\n",
              "      <td>0.0</td>\n",
              "      <td>8.700000</td>\n",
              "      <td>2.5</td>\n",
              "      <td>5.950</td>\n",
              "      <td>mid table</td>\n",
              "    </tr>\n",
              "    <tr>\n",
              "      <th>3</th>\n",
              "      <td>55</td>\n",
              "      <td>True</td>\n",
              "      <td>2.333333</td>\n",
              "      <td>47.666667</td>\n",
              "      <td>1.366667</td>\n",
              "      <td>0.0</td>\n",
              "      <td>6.666667</td>\n",
              "      <td>2.1</td>\n",
              "      <td>0.0</td>\n",
              "      <td>0.0</td>\n",
              "      <td>1.0</td>\n",
              "      <td>0.0</td>\n",
              "      <td>6.666667</td>\n",
              "      <td>3.0</td>\n",
              "      <td>4.400</td>\n",
              "      <td>mid table</td>\n",
              "    </tr>\n",
              "    <tr>\n",
              "      <th>4</th>\n",
              "      <td>55</td>\n",
              "      <td>True</td>\n",
              "      <td>2.250000</td>\n",
              "      <td>54.750000</td>\n",
              "      <td>2.525000</td>\n",
              "      <td>0.0</td>\n",
              "      <td>7.000000</td>\n",
              "      <td>2.0</td>\n",
              "      <td>0.0</td>\n",
              "      <td>0.0</td>\n",
              "      <td>1.0</td>\n",
              "      <td>0.0</td>\n",
              "      <td>7.400000</td>\n",
              "      <td>8.5</td>\n",
              "      <td>9.725</td>\n",
              "      <td>top 6</td>\n",
              "    </tr>\n",
              "  </tbody>\n",
              "</table>\n",
              "</div>\n",
              "    <div class=\"colab-df-buttons\">\n",
              "\n",
              "  <div class=\"colab-df-container\">\n",
              "    <button class=\"colab-df-convert\" onclick=\"convertToInteractive('df-672a6fdc-7d70-483a-8997-b74bd2bd108e')\"\n",
              "            title=\"Convert this dataframe to an interactive table.\"\n",
              "            style=\"display:none;\">\n",
              "\n",
              "  <svg xmlns=\"http://www.w3.org/2000/svg\" height=\"24px\" viewBox=\"0 -960 960 960\">\n",
              "    <path d=\"M120-120v-720h720v720H120Zm60-500h600v-160H180v160Zm220 220h160v-160H400v160Zm0 220h160v-160H400v160ZM180-400h160v-160H180v160Zm440 0h160v-160H620v160ZM180-180h160v-160H180v160Zm440 0h160v-160H620v160Z\"/>\n",
              "  </svg>\n",
              "    </button>\n",
              "\n",
              "  <style>\n",
              "    .colab-df-container {\n",
              "      display:flex;\n",
              "      gap: 12px;\n",
              "    }\n",
              "\n",
              "    .colab-df-convert {\n",
              "      background-color: #E8F0FE;\n",
              "      border: none;\n",
              "      border-radius: 50%;\n",
              "      cursor: pointer;\n",
              "      display: none;\n",
              "      fill: #1967D2;\n",
              "      height: 32px;\n",
              "      padding: 0 0 0 0;\n",
              "      width: 32px;\n",
              "    }\n",
              "\n",
              "    .colab-df-convert:hover {\n",
              "      background-color: #E2EBFA;\n",
              "      box-shadow: 0px 1px 2px rgba(60, 64, 67, 0.3), 0px 1px 3px 1px rgba(60, 64, 67, 0.15);\n",
              "      fill: #174EA6;\n",
              "    }\n",
              "\n",
              "    .colab-df-buttons div {\n",
              "      margin-bottom: 4px;\n",
              "    }\n",
              "\n",
              "    [theme=dark] .colab-df-convert {\n",
              "      background-color: #3B4455;\n",
              "      fill: #D2E3FC;\n",
              "    }\n",
              "\n",
              "    [theme=dark] .colab-df-convert:hover {\n",
              "      background-color: #434B5C;\n",
              "      box-shadow: 0px 1px 3px 1px rgba(0, 0, 0, 0.15);\n",
              "      filter: drop-shadow(0px 1px 2px rgba(0, 0, 0, 0.3));\n",
              "      fill: #FFFFFF;\n",
              "    }\n",
              "  </style>\n",
              "\n",
              "    <script>\n",
              "      const buttonEl =\n",
              "        document.querySelector('#df-672a6fdc-7d70-483a-8997-b74bd2bd108e button.colab-df-convert');\n",
              "      buttonEl.style.display =\n",
              "        google.colab.kernel.accessAllowed ? 'block' : 'none';\n",
              "\n",
              "      async function convertToInteractive(key) {\n",
              "        const element = document.querySelector('#df-672a6fdc-7d70-483a-8997-b74bd2bd108e');\n",
              "        const dataTable =\n",
              "          await google.colab.kernel.invokeFunction('convertToInteractive',\n",
              "                                                    [key], {});\n",
              "        if (!dataTable) return;\n",
              "\n",
              "        const docLinkHtml = 'Like what you see? Visit the ' +\n",
              "          '<a target=\"_blank\" href=https://colab.research.google.com/notebooks/data_table.ipynb>data table notebook</a>'\n",
              "          + ' to learn more about interactive tables.';\n",
              "        element.innerHTML = '';\n",
              "        dataTable['output_type'] = 'display_data';\n",
              "        await google.colab.output.renderOutput(dataTable, element);\n",
              "        const docLink = document.createElement('div');\n",
              "        docLink.innerHTML = docLinkHtml;\n",
              "        element.appendChild(docLink);\n",
              "      }\n",
              "    </script>\n",
              "  </div>\n",
              "\n",
              "\n",
              "<div id=\"df-b3f19489-a717-49ea-8aa2-cfad18e596a3\">\n",
              "  <button class=\"colab-df-quickchart\" onclick=\"quickchart('df-b3f19489-a717-49ea-8aa2-cfad18e596a3')\"\n",
              "            title=\"Suggest charts\"\n",
              "            style=\"display:none;\">\n",
              "\n",
              "<svg xmlns=\"http://www.w3.org/2000/svg\" height=\"24px\"viewBox=\"0 0 24 24\"\n",
              "     width=\"24px\">\n",
              "    <g>\n",
              "        <path d=\"M19 3H5c-1.1 0-2 .9-2 2v14c0 1.1.9 2 2 2h14c1.1 0 2-.9 2-2V5c0-1.1-.9-2-2-2zM9 17H7v-7h2v7zm4 0h-2V7h2v10zm4 0h-2v-4h2v4z\"/>\n",
              "    </g>\n",
              "</svg>\n",
              "  </button>\n",
              "\n",
              "<style>\n",
              "  .colab-df-quickchart {\n",
              "      --bg-color: #E8F0FE;\n",
              "      --fill-color: #1967D2;\n",
              "      --hover-bg-color: #E2EBFA;\n",
              "      --hover-fill-color: #174EA6;\n",
              "      --disabled-fill-color: #AAA;\n",
              "      --disabled-bg-color: #DDD;\n",
              "  }\n",
              "\n",
              "  [theme=dark] .colab-df-quickchart {\n",
              "      --bg-color: #3B4455;\n",
              "      --fill-color: #D2E3FC;\n",
              "      --hover-bg-color: #434B5C;\n",
              "      --hover-fill-color: #FFFFFF;\n",
              "      --disabled-bg-color: #3B4455;\n",
              "      --disabled-fill-color: #666;\n",
              "  }\n",
              "\n",
              "  .colab-df-quickchart {\n",
              "    background-color: var(--bg-color);\n",
              "    border: none;\n",
              "    border-radius: 50%;\n",
              "    cursor: pointer;\n",
              "    display: none;\n",
              "    fill: var(--fill-color);\n",
              "    height: 32px;\n",
              "    padding: 0;\n",
              "    width: 32px;\n",
              "  }\n",
              "\n",
              "  .colab-df-quickchart:hover {\n",
              "    background-color: var(--hover-bg-color);\n",
              "    box-shadow: 0 1px 2px rgba(60, 64, 67, 0.3), 0 1px 3px 1px rgba(60, 64, 67, 0.15);\n",
              "    fill: var(--button-hover-fill-color);\n",
              "  }\n",
              "\n",
              "  .colab-df-quickchart-complete:disabled,\n",
              "  .colab-df-quickchart-complete:disabled:hover {\n",
              "    background-color: var(--disabled-bg-color);\n",
              "    fill: var(--disabled-fill-color);\n",
              "    box-shadow: none;\n",
              "  }\n",
              "\n",
              "  .colab-df-spinner {\n",
              "    border: 2px solid var(--fill-color);\n",
              "    border-color: transparent;\n",
              "    border-bottom-color: var(--fill-color);\n",
              "    animation:\n",
              "      spin 1s steps(1) infinite;\n",
              "  }\n",
              "\n",
              "  @keyframes spin {\n",
              "    0% {\n",
              "      border-color: transparent;\n",
              "      border-bottom-color: var(--fill-color);\n",
              "      border-left-color: var(--fill-color);\n",
              "    }\n",
              "    20% {\n",
              "      border-color: transparent;\n",
              "      border-left-color: var(--fill-color);\n",
              "      border-top-color: var(--fill-color);\n",
              "    }\n",
              "    30% {\n",
              "      border-color: transparent;\n",
              "      border-left-color: var(--fill-color);\n",
              "      border-top-color: var(--fill-color);\n",
              "      border-right-color: var(--fill-color);\n",
              "    }\n",
              "    40% {\n",
              "      border-color: transparent;\n",
              "      border-right-color: var(--fill-color);\n",
              "      border-top-color: var(--fill-color);\n",
              "    }\n",
              "    60% {\n",
              "      border-color: transparent;\n",
              "      border-right-color: var(--fill-color);\n",
              "    }\n",
              "    80% {\n",
              "      border-color: transparent;\n",
              "      border-right-color: var(--fill-color);\n",
              "      border-bottom-color: var(--fill-color);\n",
              "    }\n",
              "    90% {\n",
              "      border-color: transparent;\n",
              "      border-bottom-color: var(--fill-color);\n",
              "    }\n",
              "  }\n",
              "</style>\n",
              "\n",
              "  <script>\n",
              "    async function quickchart(key) {\n",
              "      const quickchartButtonEl =\n",
              "        document.querySelector('#' + key + ' button');\n",
              "      quickchartButtonEl.disabled = true;  // To prevent multiple clicks.\n",
              "      quickchartButtonEl.classList.add('colab-df-spinner');\n",
              "      try {\n",
              "        const charts = await google.colab.kernel.invokeFunction(\n",
              "            'suggestCharts', [key], {});\n",
              "      } catch (error) {\n",
              "        console.error('Error during call to suggestCharts:', error);\n",
              "      }\n",
              "      quickchartButtonEl.classList.remove('colab-df-spinner');\n",
              "      quickchartButtonEl.classList.add('colab-df-quickchart-complete');\n",
              "    }\n",
              "    (() => {\n",
              "      let quickchartButtonEl =\n",
              "        document.querySelector('#df-b3f19489-a717-49ea-8aa2-cfad18e596a3 button');\n",
              "      quickchartButtonEl.style.display =\n",
              "        google.colab.kernel.accessAllowed ? 'block' : 'none';\n",
              "    })();\n",
              "  </script>\n",
              "</div>\n",
              "\n",
              "    </div>\n",
              "  </div>\n"
            ],
            "application/vnd.google.colaboratory.intrinsic+json": {
              "type": "dataframe",
              "variable_name": "x",
              "summary": "{\n  \"name\": \"x\",\n  \"rows\": 3113,\n  \"fields\": [\n    {\n      \"column\": \"value\",\n      \"properties\": {\n        \"dtype\": \"number\",\n        \"std\": 16,\n        \"min\": 40,\n        \"max\": 124,\n        \"num_unique_values\": 70,\n        \"samples\": [\n          73,\n          55,\n          122\n        ],\n        \"semantic_type\": \"\",\n        \"description\": \"\"\n      }\n    },\n    {\n      \"column\": \"was_home\",\n      \"properties\": {\n        \"dtype\": \"boolean\",\n        \"num_unique_values\": 2,\n        \"samples\": [\n          true,\n          false\n        ],\n        \"semantic_type\": \"\",\n        \"description\": \"\"\n      }\n    },\n    {\n      \"column\": \"avg_points_last_38\",\n      \"properties\": {\n        \"dtype\": \"number\",\n        \"std\": 1.7146585116749065,\n        \"min\": -1.0,\n        \"max\": 13.0,\n        \"num_unique_values\": 937,\n        \"samples\": [\n          2.9,\n          2.5714285714285716\n        ],\n        \"semantic_type\": \"\",\n        \"description\": \"\"\n      }\n    },\n    {\n      \"column\": \"avg_minutes_last_38\",\n      \"properties\": {\n        \"dtype\": \"number\",\n        \"std\": 26.935894157112326,\n        \"min\": 0.0,\n        \"max\": 90.0,\n        \"num_unique_values\": 1827,\n        \"samples\": [\n          74.45454545454545,\n          1.263157894736842\n        ],\n        \"semantic_type\": \"\",\n        \"description\": \"\"\n      }\n    },\n    {\n      \"column\": \"avg_ict_index_last_38\",\n      \"properties\": {\n        \"dtype\": \"number\",\n        \"std\": 2.6882665568004906,\n        \"min\": 0.0,\n        \"max\": 18.6,\n        \"num_unique_values\": 1889,\n        \"samples\": [\n          2.9000000000000004,\n          2.2666666666666666\n        ],\n        \"semantic_type\": \"\",\n        \"description\": \"\"\n      }\n    },\n    {\n      \"column\": \"avg_bonus_last_38\",\n      \"properties\": {\n        \"dtype\": \"number\",\n        \"std\": 0.28539053547648324,\n        \"min\": 0.0,\n        \"max\": 3.0,\n        \"num_unique_values\": 318,\n        \"samples\": [\n          0.4375,\n          0.8461538461538461\n        ],\n        \"semantic_type\": \"\",\n        \"description\": \"\"\n      }\n    },\n    {\n      \"column\": \"avg_bps_last_38\",\n      \"properties\": {\n        \"dtype\": \"number\",\n        \"std\": 6.394950727194902,\n        \"min\": -5.0,\n        \"max\": 57.0,\n        \"num_unique_values\": 1400,\n        \"samples\": [\n          2.5789473684210527,\n          9.121212121212121\n        ],\n        \"semantic_type\": \"\",\n        \"description\": \"\"\n      }\n    },\n    {\n      \"column\": \"avg_xP_last_38\",\n      \"properties\": {\n        \"dtype\": \"number\",\n        \"std\": 1.7293231943702905,\n        \"min\": -0.6,\n        \"max\": 11.333333333333334,\n        \"num_unique_values\": 2114,\n        \"samples\": [\n          3.566666666666667,\n          0.015384615384615382\n        ],\n        \"semantic_type\": \"\",\n        \"description\": \"\"\n      }\n    },\n    {\n      \"column\": \"avg_expected_goal_involvements_last_38\",\n      \"properties\": {\n        \"dtype\": \"number\",\n        \"std\": 0.07307667444783308,\n        \"min\": 0.0,\n        \"max\": 0.5091948648648649,\n        \"num_unique_values\": 1380,\n        \"samples\": [\n          0.030000000000000006,\n          0.05307789473684211\n        ],\n        \"semantic_type\": \"\",\n        \"description\": \"\"\n      }\n    },\n    {\n      \"column\": \"avg_expected_goals_conceded_last_38\",\n      \"properties\": {\n        \"dtype\": \"number\",\n        \"std\": 0.21419688426614458,\n        \"min\": 0.0,\n        \"max\": 2.61,\n        \"num_unique_values\": 1363,\n        \"samples\": [\n          0.08916666666666667,\n          0.030000000000000002\n        ],\n        \"semantic_type\": \"\",\n        \"description\": \"\"\n      }\n    },\n    {\n      \"column\": \"avg_goals_conceded_last_38\",\n      \"properties\": {\n        \"dtype\": \"number\",\n        \"std\": 0.46572388464581466,\n        \"min\": 0.0,\n        \"max\": 4.0,\n        \"num_unique_values\": 505,\n        \"samples\": [\n          1.0555555555555556,\n          0.6774193548387096\n        ],\n        \"semantic_type\": \"\",\n        \"description\": \"\"\n      }\n    },\n    {\n      \"column\": \"avg_goals_scored_last_38\",\n      \"properties\": {\n        \"dtype\": \"number\",\n        \"std\": 0.20815972654223663,\n        \"min\": 0.0,\n        \"max\": 2.0,\n        \"num_unique_values\": 262,\n        \"samples\": [\n          0.21212121212121213,\n          0.7647058823529411\n        ],\n        \"semantic_type\": \"\",\n        \"description\": \"\"\n      }\n    },\n    {\n      \"column\": \"avg_influence_last_38\",\n      \"properties\": {\n        \"dtype\": \"number\",\n        \"std\": 9.022464030280618,\n        \"min\": 0.0,\n        \"max\": 82.0,\n        \"num_unique_values\": 1887,\n        \"samples\": [\n          0.5714285714285714,\n          8.3\n        ],\n        \"semantic_type\": \"\",\n        \"description\": \"\"\n      }\n    },\n    {\n      \"column\": \"avg_threat_last_38\",\n      \"properties\": {\n        \"dtype\": \"number\",\n        \"std\": 14.034686402484539,\n        \"min\": 0.0,\n        \"max\": 112.0,\n        \"num_unique_values\": 1642,\n        \"samples\": [\n          24.533333333333335,\n          36.43333333333333\n        ],\n        \"semantic_type\": \"\",\n        \"description\": \"\"\n      }\n    },\n    {\n      \"column\": \"avg_creativity_last_38\",\n      \"properties\": {\n        \"dtype\": \"number\",\n        \"std\": 5.13292717634925,\n        \"min\": 0.0,\n        \"max\": 34.9,\n        \"num_unique_values\": 1955,\n        \"samples\": [\n          3.042857142857143,\n          0.8714285714285716\n        ],\n        \"semantic_type\": \"\",\n        \"description\": \"\"\n      }\n    },\n    {\n      \"column\": \"team_category\",\n      \"properties\": {\n        \"dtype\": \"category\",\n        \"num_unique_values\": 3,\n        \"samples\": [\n          \"relegation fodder\",\n          \"mid table\"\n        ],\n        \"semantic_type\": \"\",\n        \"description\": \"\"\n      }\n    }\n  ]\n}"
            }
          },
          "metadata": {},
          "execution_count": 30
        }
      ],
      "source": [
        "x.head()"
      ]
    },
    {
      "cell_type": "code",
      "execution_count": null,
      "metadata": {
        "id": "ST0WqWy-QzhQ",
        "colab": {
          "base_uri": "https://localhost:8080/",
          "height": 244
        },
        "outputId": "932fb742-6ad0-4f9e-db8a-fc0e3e5cf2c5"
      },
      "outputs": [
        {
          "output_type": "execute_result",
          "data": {
            "text/plain": [
              "   value  was_home  avg_points_last_38  avg_minutes_last_38  \\\n",
              "0     80     False                0.00             0.000000   \n",
              "1     80      True                5.00            90.000000   \n",
              "2     80     False                5.00            81.500000   \n",
              "3     80     False                5.00            82.666667   \n",
              "4     80      True                4.25            80.000000   \n",
              "\n",
              "   avg_ict_index_last_38  avg_bonus_last_38  avg_bps_last_38  avg_xP_last_38  \\\n",
              "0               0.000000                0.0         0.000000           0.000   \n",
              "1               8.500000                0.0        18.000000           2.100   \n",
              "2               6.850000                0.0        14.500000           3.550   \n",
              "3               8.266667                0.0        12.333333           4.200   \n",
              "4               6.725000                0.0         9.750000           4.075   \n",
              "\n",
              "   avg_expected_goal_involvements_last_38  \\\n",
              "0                                   0.000   \n",
              "1                                   0.330   \n",
              "2                                   0.265   \n",
              "3                                   0.440   \n",
              "4                                   0.385   \n",
              "\n",
              "   avg_expected_goals_conceded_last_38  avg_goals_conceded_last_38  \\\n",
              "0                                0.000                        0.00   \n",
              "1                                3.440                        5.00   \n",
              "2                                2.040                        2.50   \n",
              "3                                1.490                        2.00   \n",
              "4                                1.705                        2.25   \n",
              "\n",
              "   avg_goals_scored_last_38  avg_influence_last_38  avg_threat_last_38  \\\n",
              "0                       0.0               0.000000            0.000000   \n",
              "1                       0.0              32.200000           29.000000   \n",
              "2                       0.0              19.700000           20.500000   \n",
              "3                       0.0              20.066667           35.333333   \n",
              "4                       0.0              15.050000           29.000000   \n",
              "\n",
              "   avg_creativity_last_38      team_category  \n",
              "0                0.000000  relegation fodder  \n",
              "1               23.400000          mid table  \n",
              "2               27.900000              top 6  \n",
              "3               26.866667          mid table  \n",
              "4               23.100000          mid table  "
            ],
            "text/html": [
              "\n",
              "  <div id=\"df-a6c87be0-b9ef-4d5b-b445-043bf223c8c2\" class=\"colab-df-container\">\n",
              "    <div>\n",
              "<style scoped>\n",
              "    .dataframe tbody tr th:only-of-type {\n",
              "        vertical-align: middle;\n",
              "    }\n",
              "\n",
              "    .dataframe tbody tr th {\n",
              "        vertical-align: top;\n",
              "    }\n",
              "\n",
              "    .dataframe thead th {\n",
              "        text-align: right;\n",
              "    }\n",
              "</style>\n",
              "<table border=\"1\" class=\"dataframe\">\n",
              "  <thead>\n",
              "    <tr style=\"text-align: right;\">\n",
              "      <th></th>\n",
              "      <th>value</th>\n",
              "      <th>was_home</th>\n",
              "      <th>avg_points_last_38</th>\n",
              "      <th>avg_minutes_last_38</th>\n",
              "      <th>avg_ict_index_last_38</th>\n",
              "      <th>avg_bonus_last_38</th>\n",
              "      <th>avg_bps_last_38</th>\n",
              "      <th>avg_xP_last_38</th>\n",
              "      <th>avg_expected_goal_involvements_last_38</th>\n",
              "      <th>avg_expected_goals_conceded_last_38</th>\n",
              "      <th>avg_goals_conceded_last_38</th>\n",
              "      <th>avg_goals_scored_last_38</th>\n",
              "      <th>avg_influence_last_38</th>\n",
              "      <th>avg_threat_last_38</th>\n",
              "      <th>avg_creativity_last_38</th>\n",
              "      <th>team_category</th>\n",
              "    </tr>\n",
              "  </thead>\n",
              "  <tbody>\n",
              "    <tr>\n",
              "      <th>0</th>\n",
              "      <td>80</td>\n",
              "      <td>False</td>\n",
              "      <td>0.00</td>\n",
              "      <td>0.000000</td>\n",
              "      <td>0.000000</td>\n",
              "      <td>0.0</td>\n",
              "      <td>0.000000</td>\n",
              "      <td>0.000</td>\n",
              "      <td>0.000</td>\n",
              "      <td>0.000</td>\n",
              "      <td>0.00</td>\n",
              "      <td>0.0</td>\n",
              "      <td>0.000000</td>\n",
              "      <td>0.000000</td>\n",
              "      <td>0.000000</td>\n",
              "      <td>relegation fodder</td>\n",
              "    </tr>\n",
              "    <tr>\n",
              "      <th>1</th>\n",
              "      <td>80</td>\n",
              "      <td>True</td>\n",
              "      <td>5.00</td>\n",
              "      <td>90.000000</td>\n",
              "      <td>8.500000</td>\n",
              "      <td>0.0</td>\n",
              "      <td>18.000000</td>\n",
              "      <td>2.100</td>\n",
              "      <td>0.330</td>\n",
              "      <td>3.440</td>\n",
              "      <td>5.00</td>\n",
              "      <td>0.0</td>\n",
              "      <td>32.200000</td>\n",
              "      <td>29.000000</td>\n",
              "      <td>23.400000</td>\n",
              "      <td>mid table</td>\n",
              "    </tr>\n",
              "    <tr>\n",
              "      <th>2</th>\n",
              "      <td>80</td>\n",
              "      <td>False</td>\n",
              "      <td>5.00</td>\n",
              "      <td>81.500000</td>\n",
              "      <td>6.850000</td>\n",
              "      <td>0.0</td>\n",
              "      <td>14.500000</td>\n",
              "      <td>3.550</td>\n",
              "      <td>0.265</td>\n",
              "      <td>2.040</td>\n",
              "      <td>2.50</td>\n",
              "      <td>0.0</td>\n",
              "      <td>19.700000</td>\n",
              "      <td>20.500000</td>\n",
              "      <td>27.900000</td>\n",
              "      <td>top 6</td>\n",
              "    </tr>\n",
              "    <tr>\n",
              "      <th>3</th>\n",
              "      <td>80</td>\n",
              "      <td>False</td>\n",
              "      <td>5.00</td>\n",
              "      <td>82.666667</td>\n",
              "      <td>8.266667</td>\n",
              "      <td>0.0</td>\n",
              "      <td>12.333333</td>\n",
              "      <td>4.200</td>\n",
              "      <td>0.440</td>\n",
              "      <td>1.490</td>\n",
              "      <td>2.00</td>\n",
              "      <td>0.0</td>\n",
              "      <td>20.066667</td>\n",
              "      <td>35.333333</td>\n",
              "      <td>26.866667</td>\n",
              "      <td>mid table</td>\n",
              "    </tr>\n",
              "    <tr>\n",
              "      <th>4</th>\n",
              "      <td>80</td>\n",
              "      <td>True</td>\n",
              "      <td>4.25</td>\n",
              "      <td>80.000000</td>\n",
              "      <td>6.725000</td>\n",
              "      <td>0.0</td>\n",
              "      <td>9.750000</td>\n",
              "      <td>4.075</td>\n",
              "      <td>0.385</td>\n",
              "      <td>1.705</td>\n",
              "      <td>2.25</td>\n",
              "      <td>0.0</td>\n",
              "      <td>15.050000</td>\n",
              "      <td>29.000000</td>\n",
              "      <td>23.100000</td>\n",
              "      <td>mid table</td>\n",
              "    </tr>\n",
              "  </tbody>\n",
              "</table>\n",
              "</div>\n",
              "    <div class=\"colab-df-buttons\">\n",
              "\n",
              "  <div class=\"colab-df-container\">\n",
              "    <button class=\"colab-df-convert\" onclick=\"convertToInteractive('df-a6c87be0-b9ef-4d5b-b445-043bf223c8c2')\"\n",
              "            title=\"Convert this dataframe to an interactive table.\"\n",
              "            style=\"display:none;\">\n",
              "\n",
              "  <svg xmlns=\"http://www.w3.org/2000/svg\" height=\"24px\" viewBox=\"0 -960 960 960\">\n",
              "    <path d=\"M120-120v-720h720v720H120Zm60-500h600v-160H180v160Zm220 220h160v-160H400v160Zm0 220h160v-160H400v160ZM180-400h160v-160H180v160Zm440 0h160v-160H620v160ZM180-180h160v-160H180v160Zm440 0h160v-160H620v160Z\"/>\n",
              "  </svg>\n",
              "    </button>\n",
              "\n",
              "  <style>\n",
              "    .colab-df-container {\n",
              "      display:flex;\n",
              "      gap: 12px;\n",
              "    }\n",
              "\n",
              "    .colab-df-convert {\n",
              "      background-color: #E8F0FE;\n",
              "      border: none;\n",
              "      border-radius: 50%;\n",
              "      cursor: pointer;\n",
              "      display: none;\n",
              "      fill: #1967D2;\n",
              "      height: 32px;\n",
              "      padding: 0 0 0 0;\n",
              "      width: 32px;\n",
              "    }\n",
              "\n",
              "    .colab-df-convert:hover {\n",
              "      background-color: #E2EBFA;\n",
              "      box-shadow: 0px 1px 2px rgba(60, 64, 67, 0.3), 0px 1px 3px 1px rgba(60, 64, 67, 0.15);\n",
              "      fill: #174EA6;\n",
              "    }\n",
              "\n",
              "    .colab-df-buttons div {\n",
              "      margin-bottom: 4px;\n",
              "    }\n",
              "\n",
              "    [theme=dark] .colab-df-convert {\n",
              "      background-color: #3B4455;\n",
              "      fill: #D2E3FC;\n",
              "    }\n",
              "\n",
              "    [theme=dark] .colab-df-convert:hover {\n",
              "      background-color: #434B5C;\n",
              "      box-shadow: 0px 1px 3px 1px rgba(0, 0, 0, 0.15);\n",
              "      filter: drop-shadow(0px 1px 2px rgba(0, 0, 0, 0.3));\n",
              "      fill: #FFFFFF;\n",
              "    }\n",
              "  </style>\n",
              "\n",
              "    <script>\n",
              "      const buttonEl =\n",
              "        document.querySelector('#df-a6c87be0-b9ef-4d5b-b445-043bf223c8c2 button.colab-df-convert');\n",
              "      buttonEl.style.display =\n",
              "        google.colab.kernel.accessAllowed ? 'block' : 'none';\n",
              "\n",
              "      async function convertToInteractive(key) {\n",
              "        const element = document.querySelector('#df-a6c87be0-b9ef-4d5b-b445-043bf223c8c2');\n",
              "        const dataTable =\n",
              "          await google.colab.kernel.invokeFunction('convertToInteractive',\n",
              "                                                    [key], {});\n",
              "        if (!dataTable) return;\n",
              "\n",
              "        const docLinkHtml = 'Like what you see? Visit the ' +\n",
              "          '<a target=\"_blank\" href=https://colab.research.google.com/notebooks/data_table.ipynb>data table notebook</a>'\n",
              "          + ' to learn more about interactive tables.';\n",
              "        element.innerHTML = '';\n",
              "        dataTable['output_type'] = 'display_data';\n",
              "        await google.colab.output.renderOutput(dataTable, element);\n",
              "        const docLink = document.createElement('div');\n",
              "        docLink.innerHTML = docLinkHtml;\n",
              "        element.appendChild(docLink);\n",
              "      }\n",
              "    </script>\n",
              "  </div>\n",
              "\n",
              "\n",
              "<div id=\"df-c76ef627-6685-48fc-a5d6-05a6efbe4214\">\n",
              "  <button class=\"colab-df-quickchart\" onclick=\"quickchart('df-c76ef627-6685-48fc-a5d6-05a6efbe4214')\"\n",
              "            title=\"Suggest charts\"\n",
              "            style=\"display:none;\">\n",
              "\n",
              "<svg xmlns=\"http://www.w3.org/2000/svg\" height=\"24px\"viewBox=\"0 0 24 24\"\n",
              "     width=\"24px\">\n",
              "    <g>\n",
              "        <path d=\"M19 3H5c-1.1 0-2 .9-2 2v14c0 1.1.9 2 2 2h14c1.1 0 2-.9 2-2V5c0-1.1-.9-2-2-2zM9 17H7v-7h2v7zm4 0h-2V7h2v10zm4 0h-2v-4h2v4z\"/>\n",
              "    </g>\n",
              "</svg>\n",
              "  </button>\n",
              "\n",
              "<style>\n",
              "  .colab-df-quickchart {\n",
              "      --bg-color: #E8F0FE;\n",
              "      --fill-color: #1967D2;\n",
              "      --hover-bg-color: #E2EBFA;\n",
              "      --hover-fill-color: #174EA6;\n",
              "      --disabled-fill-color: #AAA;\n",
              "      --disabled-bg-color: #DDD;\n",
              "  }\n",
              "\n",
              "  [theme=dark] .colab-df-quickchart {\n",
              "      --bg-color: #3B4455;\n",
              "      --fill-color: #D2E3FC;\n",
              "      --hover-bg-color: #434B5C;\n",
              "      --hover-fill-color: #FFFFFF;\n",
              "      --disabled-bg-color: #3B4455;\n",
              "      --disabled-fill-color: #666;\n",
              "  }\n",
              "\n",
              "  .colab-df-quickchart {\n",
              "    background-color: var(--bg-color);\n",
              "    border: none;\n",
              "    border-radius: 50%;\n",
              "    cursor: pointer;\n",
              "    display: none;\n",
              "    fill: var(--fill-color);\n",
              "    height: 32px;\n",
              "    padding: 0;\n",
              "    width: 32px;\n",
              "  }\n",
              "\n",
              "  .colab-df-quickchart:hover {\n",
              "    background-color: var(--hover-bg-color);\n",
              "    box-shadow: 0 1px 2px rgba(60, 64, 67, 0.3), 0 1px 3px 1px rgba(60, 64, 67, 0.15);\n",
              "    fill: var(--button-hover-fill-color);\n",
              "  }\n",
              "\n",
              "  .colab-df-quickchart-complete:disabled,\n",
              "  .colab-df-quickchart-complete:disabled:hover {\n",
              "    background-color: var(--disabled-bg-color);\n",
              "    fill: var(--disabled-fill-color);\n",
              "    box-shadow: none;\n",
              "  }\n",
              "\n",
              "  .colab-df-spinner {\n",
              "    border: 2px solid var(--fill-color);\n",
              "    border-color: transparent;\n",
              "    border-bottom-color: var(--fill-color);\n",
              "    animation:\n",
              "      spin 1s steps(1) infinite;\n",
              "  }\n",
              "\n",
              "  @keyframes spin {\n",
              "    0% {\n",
              "      border-color: transparent;\n",
              "      border-bottom-color: var(--fill-color);\n",
              "      border-left-color: var(--fill-color);\n",
              "    }\n",
              "    20% {\n",
              "      border-color: transparent;\n",
              "      border-left-color: var(--fill-color);\n",
              "      border-top-color: var(--fill-color);\n",
              "    }\n",
              "    30% {\n",
              "      border-color: transparent;\n",
              "      border-left-color: var(--fill-color);\n",
              "      border-top-color: var(--fill-color);\n",
              "      border-right-color: var(--fill-color);\n",
              "    }\n",
              "    40% {\n",
              "      border-color: transparent;\n",
              "      border-right-color: var(--fill-color);\n",
              "      border-top-color: var(--fill-color);\n",
              "    }\n",
              "    60% {\n",
              "      border-color: transparent;\n",
              "      border-right-color: var(--fill-color);\n",
              "    }\n",
              "    80% {\n",
              "      border-color: transparent;\n",
              "      border-right-color: var(--fill-color);\n",
              "      border-bottom-color: var(--fill-color);\n",
              "    }\n",
              "    90% {\n",
              "      border-color: transparent;\n",
              "      border-bottom-color: var(--fill-color);\n",
              "    }\n",
              "  }\n",
              "</style>\n",
              "\n",
              "  <script>\n",
              "    async function quickchart(key) {\n",
              "      const quickchartButtonEl =\n",
              "        document.querySelector('#' + key + ' button');\n",
              "      quickchartButtonEl.disabled = true;  // To prevent multiple clicks.\n",
              "      quickchartButtonEl.classList.add('colab-df-spinner');\n",
              "      try {\n",
              "        const charts = await google.colab.kernel.invokeFunction(\n",
              "            'suggestCharts', [key], {});\n",
              "      } catch (error) {\n",
              "        console.error('Error during call to suggestCharts:', error);\n",
              "      }\n",
              "      quickchartButtonEl.classList.remove('colab-df-spinner');\n",
              "      quickchartButtonEl.classList.add('colab-df-quickchart-complete');\n",
              "    }\n",
              "    (() => {\n",
              "      let quickchartButtonEl =\n",
              "        document.querySelector('#df-c76ef627-6685-48fc-a5d6-05a6efbe4214 button');\n",
              "      quickchartButtonEl.style.display =\n",
              "        google.colab.kernel.accessAllowed ? 'block' : 'none';\n",
              "    })();\n",
              "  </script>\n",
              "</div>\n",
              "\n",
              "    </div>\n",
              "  </div>\n"
            ],
            "application/vnd.google.colaboratory.intrinsic+json": {
              "type": "dataframe",
              "variable_name": "x_test",
              "summary": "{\n  \"name\": \"x_test\",\n  \"rows\": 38,\n  \"fields\": [\n    {\n      \"column\": \"value\",\n      \"properties\": {\n        \"dtype\": \"number\",\n        \"std\": 3,\n        \"min\": 79,\n        \"max\": 90,\n        \"num_unique_values\": 11,\n        \"samples\": [\n          84,\n          80,\n          89\n        ],\n        \"semantic_type\": \"\",\n        \"description\": \"\"\n      }\n    },\n    {\n      \"column\": \"was_home\",\n      \"properties\": {\n        \"dtype\": \"boolean\",\n        \"num_unique_values\": 2,\n        \"samples\": [\n          true,\n          false\n        ],\n        \"semantic_type\": \"\",\n        \"description\": \"\"\n      }\n    },\n    {\n      \"column\": \"avg_points_last_38\",\n      \"properties\": {\n        \"dtype\": \"number\",\n        \"std\": 1.267905903529168,\n        \"min\": 0.0,\n        \"max\": 7.777777777777778,\n        \"num_unique_values\": 35,\n        \"samples\": [\n          6.448275862068965,\n          6.466666666666667\n        ],\n        \"semantic_type\": \"\",\n        \"description\": \"\"\n      }\n    },\n    {\n      \"column\": \"avg_minutes_last_38\",\n      \"properties\": {\n        \"dtype\": \"number\",\n        \"std\": 14.164508732555843,\n        \"min\": 0.0,\n        \"max\": 90.0,\n        \"num_unique_values\": 38,\n        \"samples\": [\n          84.66666666666667,\n          85.11111111111111\n        ],\n        \"semantic_type\": \"\",\n        \"description\": \"\"\n      }\n    },\n    {\n      \"column\": \"avg_ict_index_last_38\",\n      \"properties\": {\n        \"dtype\": \"number\",\n        \"std\": 1.577019913210063,\n        \"min\": 0.0,\n        \"max\": 9.742857142857144,\n        \"num_unique_values\": 38,\n        \"samples\": [\n          8.403030303030304,\n          8.211111111111112\n        ],\n        \"semantic_type\": \"\",\n        \"description\": \"\"\n      }\n    },\n    {\n      \"column\": \"avg_bonus_last_38\",\n      \"properties\": {\n        \"dtype\": \"number\",\n        \"std\": 0.29599936682921785,\n        \"min\": 0.0,\n        \"max\": 0.8888888888888888,\n        \"num_unique_values\": 28,\n        \"samples\": [\n          0.7333333333333333,\n          0.8285714285714286\n        ],\n        \"semantic_type\": \"\",\n        \"description\": \"\"\n      }\n    },\n    {\n      \"column\": \"avg_bps_last_38\",\n      \"properties\": {\n        \"dtype\": \"number\",\n        \"std\": 5.056837212377493,\n        \"min\": 0.0,\n        \"max\": 26.714285714285715,\n        \"num_unique_values\": 38,\n        \"samples\": [\n          21.363636363636363,\n          20.583333333333332\n        ],\n        \"semantic_type\": \"\",\n        \"description\": \"\"\n      }\n    },\n    {\n      \"column\": \"avg_xP_last_38\",\n      \"properties\": {\n        \"dtype\": \"number\",\n        \"std\": 1.3145730921366636,\n        \"min\": 0.0,\n        \"max\": 7.011111111111111,\n        \"num_unique_values\": 38,\n        \"samples\": [\n          5.6454545454545455,\n          5.694444444444445\n        ],\n        \"semantic_type\": \"\",\n        \"description\": \"\"\n      }\n    },\n    {\n      \"column\": \"avg_expected_goal_involvements_last_38\",\n      \"properties\": {\n        \"dtype\": \"number\",\n        \"std\": 0.13192452491993914,\n        \"min\": 0.0,\n        \"max\": 0.7069230769230769,\n        \"num_unique_values\": 38,\n        \"samples\": [\n          0.5772727272727273,\n          0.5527777777777777\n        ],\n        \"semantic_type\": \"\",\n        \"description\": \"\"\n      }\n    },\n    {\n      \"column\": \"avg_expected_goals_conceded_last_38\",\n      \"properties\": {\n        \"dtype\": \"number\",\n        \"std\": 0.43283318269030735,\n        \"min\": 0.0,\n        \"max\": 3.44,\n        \"num_unique_values\": 38,\n        \"samples\": [\n          1.376060606060606,\n          1.421111111111111\n        ],\n        \"semantic_type\": \"\",\n        \"description\": \"\"\n      }\n    },\n    {\n      \"column\": \"avg_goals_conceded_last_38\",\n      \"properties\": {\n        \"dtype\": \"number\",\n        \"std\": 0.6825438638473553,\n        \"min\": 0.0,\n        \"max\": 5.0,\n        \"num_unique_values\": 34,\n        \"samples\": [\n          1.25,\n          1.35\n        ],\n        \"semantic_type\": \"\",\n        \"description\": \"\"\n      }\n    },\n    {\n      \"column\": \"avg_goals_scored_last_38\",\n      \"properties\": {\n        \"dtype\": \"number\",\n        \"std\": 0.20011725782258272,\n        \"min\": 0.0,\n        \"max\": 0.5925925925925926,\n        \"num_unique_values\": 24,\n        \"samples\": [\n          0.5294117647058824,\n          0.5517241379310345\n        ],\n        \"semantic_type\": \"\",\n        \"description\": \"\"\n      }\n    },\n    {\n      \"column\": \"avg_influence_last_38\",\n      \"properties\": {\n        \"dtype\": \"number\",\n        \"std\": 6.460689004885732,\n        \"min\": 0.0,\n        \"max\": 33.333333333333336,\n        \"num_unique_values\": 38,\n        \"samples\": [\n          29.054545454545455,\n          27.95\n        ],\n        \"semantic_type\": \"\",\n        \"description\": \"\"\n      }\n    },\n    {\n      \"column\": \"avg_threat_last_38\",\n      \"properties\": {\n        \"dtype\": \"number\",\n        \"std\": 7.699381604132882,\n        \"min\": 0.0,\n        \"max\": 42.916666666666664,\n        \"num_unique_values\": 37,\n        \"samples\": [\n          40.111111111111114,\n          41.57142857142857\n        ],\n        \"semantic_type\": \"\",\n        \"description\": \"\"\n      }\n    },\n    {\n      \"column\": \"avg_creativity_last_38\",\n      \"properties\": {\n        \"dtype\": \"number\",\n        \"std\": 4.342635927659486,\n        \"min\": 0.0,\n        \"max\": 27.9,\n        \"num_unique_values\": 38,\n        \"samples\": [\n          16.045454545454547,\n          15.666666666666666\n        ],\n        \"semantic_type\": \"\",\n        \"description\": \"\"\n      }\n    },\n    {\n      \"column\": \"team_category\",\n      \"properties\": {\n        \"dtype\": \"category\",\n        \"num_unique_values\": 3,\n        \"samples\": [\n          \"relegation fodder\",\n          \"mid table\"\n        ],\n        \"semantic_type\": \"\",\n        \"description\": \"\"\n      }\n    }\n  ]\n}"
            }
          },
          "metadata": {},
          "execution_count": 31
        }
      ],
      "source": [
        "x_test.head()"
      ]
    },
    {
      "cell_type": "markdown",
      "metadata": {
        "id": "z6FtIrlaIquR"
      },
      "source": [
        "**Processing Pipeline**"
      ]
    },
    {
      "cell_type": "code",
      "execution_count": null,
      "metadata": {
        "id": "upz80MRS2dya"
      },
      "outputs": [],
      "source": [
        "scaler = MinMaxScaler()"
      ]
    },
    {
      "cell_type": "code",
      "execution_count": null,
      "metadata": {
        "id": "ri5Bsc4bIs6T",
        "colab": {
          "base_uri": "https://localhost:8080/"
        },
        "outputId": "1c589a96-cbb8-4136-d0f2-f169035cca53"
      },
      "outputs": [
        {
          "output_type": "stream",
          "name": "stdout",
          "text": [
            "Index(['value', 'avg_points_last_38', 'avg_minutes_last_38',\n",
            "       'avg_ict_index_last_38', 'avg_bonus_last_38', 'avg_bps_last_38',\n",
            "       'avg_xP_last_38', 'avg_expected_goal_involvements_last_38',\n",
            "       'avg_expected_goals_conceded_last_38', 'avg_goals_conceded_last_38',\n",
            "       'avg_goals_scored_last_38', 'avg_influence_last_38',\n",
            "       'avg_threat_last_38', 'avg_creativity_last_38'],\n",
            "      dtype='object')\n",
            "Index(['was_home', 'team_category'], dtype='object')\n"
          ]
        }
      ],
      "source": [
        "quant_features = x.select_dtypes(include = np.number).columns\n",
        "print(quant_features)\n",
        "quant_pipeline = Pipeline(steps = [\n",
        "   ('imputer', SimpleImputer(strategy = 'median')),\n",
        "   ('scaler', scaler)\n",
        "])\n",
        "\n",
        "cat_features = x.select_dtypes(include = ['object', 'bool', 'category']).columns\n",
        "print(cat_features)\n",
        "cat_pipeline = Pipeline(steps = [\n",
        "    ('encoder', OneHotEncoder(sparse = False, drop = 'first'))\n",
        "])\n",
        "\n",
        "preprocessor = ColumnTransformer(transformers=[\n",
        "    ('quant', quant_pipeline, quant_features),\n",
        "    ('cat', cat_pipeline, cat_features)\n",
        "])"
      ]
    },
    {
      "cell_type": "code",
      "execution_count": null,
      "metadata": {
        "id": "LWkyB0lbw_LX"
      },
      "outputs": [],
      "source": [
        "feature_names = ['was_home_True', 'team_category_relegation fodder', 'team_category_top 6']"
      ]
    },
    {
      "cell_type": "markdown",
      "source": [
        "We would be trying to forecast the points for a specific player in 23/24 based on their 22/23 stats"
      ],
      "metadata": {
        "id": "KyILCOpxEuQY"
      }
    },
    {
      "cell_type": "code",
      "execution_count": null,
      "metadata": {
        "id": "snIbtbUPKLLo",
        "colab": {
          "base_uri": "https://localhost:8080/"
        },
        "outputId": "dc8c1964-7e8f-4b6e-b5d9-b4f6167ea9fc"
      },
      "outputs": [
        {
          "output_type": "stream",
          "name": "stderr",
          "text": [
            "/usr/local/lib/python3.10/dist-packages/sklearn/preprocessing/_encoders.py:975: FutureWarning: `sparse` was renamed to `sparse_output` in version 1.2 and will be removed in 1.4. `sparse_output` is ignored unless you leave `sparse` to its default value.\n",
            "  warnings.warn(\n"
          ]
        }
      ],
      "source": [
        "x = pd.DataFrame(preprocessor.fit_transform(x), columns = list(quant_features)+list(feature_names))"
      ]
    },
    {
      "cell_type": "code",
      "execution_count": null,
      "metadata": {
        "id": "zIelFcOLM7ZU",
        "colab": {
          "base_uri": "https://localhost:8080/",
          "height": 244
        },
        "outputId": "083a3e6f-f312-497e-998d-ccdcbdcbf817"
      },
      "outputs": [
        {
          "output_type": "execute_result",
          "data": {
            "text/plain": [
              "      value  avg_points_last_38  avg_minutes_last_38  avg_ict_index_last_38  \\\n",
              "0  0.178571            0.071429             0.000000               0.000000   \n",
              "1  0.178571            0.142857             0.500000               0.000000   \n",
              "2  0.178571            0.250000             0.411111               0.088710   \n",
              "3  0.178571            0.238095             0.529630               0.073477   \n",
              "4  0.178571            0.232143             0.608333               0.135753   \n",
              "\n",
              "   avg_bonus_last_38  avg_bps_last_38  avg_xP_last_38  \\\n",
              "0                0.0         0.080645        0.050279   \n",
              "1                0.0         0.080645        0.134078   \n",
              "2                0.0         0.201613        0.217877   \n",
              "3                0.0         0.188172        0.226257   \n",
              "4                0.0         0.193548        0.217877   \n",
              "\n",
              "   avg_expected_goal_involvements_last_38  \\\n",
              "0                                     0.0   \n",
              "1                                     0.0   \n",
              "2                                     0.0   \n",
              "3                                     0.0   \n",
              "4                                     0.0   \n",
              "\n",
              "   avg_expected_goals_conceded_last_38  avg_goals_conceded_last_38  \\\n",
              "0                                  0.0                        0.00   \n",
              "1                                  0.0                        0.50   \n",
              "2                                  0.0                        0.25   \n",
              "3                                  0.0                        0.25   \n",
              "4                                  0.0                        0.25   \n",
              "\n",
              "   avg_goals_scored_last_38  avg_influence_last_38  avg_threat_last_38  \\\n",
              "0                       0.0               0.000000            0.000000   \n",
              "1                       0.0               0.000000            0.008929   \n",
              "2                       0.0               0.106098            0.022321   \n",
              "3                       0.0               0.081301            0.026786   \n",
              "4                       0.0               0.090244            0.075893   \n",
              "\n",
              "   avg_creativity_last_38  was_home_True  team_category_relegation fodder  \\\n",
              "0                0.000000            0.0                              1.0   \n",
              "1                0.022923            1.0                              0.0   \n",
              "2                0.170487            0.0                              0.0   \n",
              "3                0.126074            1.0                              0.0   \n",
              "4                0.278653            1.0                              0.0   \n",
              "\n",
              "   team_category_top 6  \n",
              "0                  0.0  \n",
              "1                  0.0  \n",
              "2                  0.0  \n",
              "3                  0.0  \n",
              "4                  1.0  "
            ],
            "text/html": [
              "\n",
              "  <div id=\"df-c259eb26-2946-4d79-99e6-7dca25eef97d\" class=\"colab-df-container\">\n",
              "    <div>\n",
              "<style scoped>\n",
              "    .dataframe tbody tr th:only-of-type {\n",
              "        vertical-align: middle;\n",
              "    }\n",
              "\n",
              "    .dataframe tbody tr th {\n",
              "        vertical-align: top;\n",
              "    }\n",
              "\n",
              "    .dataframe thead th {\n",
              "        text-align: right;\n",
              "    }\n",
              "</style>\n",
              "<table border=\"1\" class=\"dataframe\">\n",
              "  <thead>\n",
              "    <tr style=\"text-align: right;\">\n",
              "      <th></th>\n",
              "      <th>value</th>\n",
              "      <th>avg_points_last_38</th>\n",
              "      <th>avg_minutes_last_38</th>\n",
              "      <th>avg_ict_index_last_38</th>\n",
              "      <th>avg_bonus_last_38</th>\n",
              "      <th>avg_bps_last_38</th>\n",
              "      <th>avg_xP_last_38</th>\n",
              "      <th>avg_expected_goal_involvements_last_38</th>\n",
              "      <th>avg_expected_goals_conceded_last_38</th>\n",
              "      <th>avg_goals_conceded_last_38</th>\n",
              "      <th>avg_goals_scored_last_38</th>\n",
              "      <th>avg_influence_last_38</th>\n",
              "      <th>avg_threat_last_38</th>\n",
              "      <th>avg_creativity_last_38</th>\n",
              "      <th>was_home_True</th>\n",
              "      <th>team_category_relegation fodder</th>\n",
              "      <th>team_category_top 6</th>\n",
              "    </tr>\n",
              "  </thead>\n",
              "  <tbody>\n",
              "    <tr>\n",
              "      <th>0</th>\n",
              "      <td>0.178571</td>\n",
              "      <td>0.071429</td>\n",
              "      <td>0.000000</td>\n",
              "      <td>0.000000</td>\n",
              "      <td>0.0</td>\n",
              "      <td>0.080645</td>\n",
              "      <td>0.050279</td>\n",
              "      <td>0.0</td>\n",
              "      <td>0.0</td>\n",
              "      <td>0.00</td>\n",
              "      <td>0.0</td>\n",
              "      <td>0.000000</td>\n",
              "      <td>0.000000</td>\n",
              "      <td>0.000000</td>\n",
              "      <td>0.0</td>\n",
              "      <td>1.0</td>\n",
              "      <td>0.0</td>\n",
              "    </tr>\n",
              "    <tr>\n",
              "      <th>1</th>\n",
              "      <td>0.178571</td>\n",
              "      <td>0.142857</td>\n",
              "      <td>0.500000</td>\n",
              "      <td>0.000000</td>\n",
              "      <td>0.0</td>\n",
              "      <td>0.080645</td>\n",
              "      <td>0.134078</td>\n",
              "      <td>0.0</td>\n",
              "      <td>0.0</td>\n",
              "      <td>0.50</td>\n",
              "      <td>0.0</td>\n",
              "      <td>0.000000</td>\n",
              "      <td>0.008929</td>\n",
              "      <td>0.022923</td>\n",
              "      <td>1.0</td>\n",
              "      <td>0.0</td>\n",
              "      <td>0.0</td>\n",
              "    </tr>\n",
              "    <tr>\n",
              "      <th>2</th>\n",
              "      <td>0.178571</td>\n",
              "      <td>0.250000</td>\n",
              "      <td>0.411111</td>\n",
              "      <td>0.088710</td>\n",
              "      <td>0.0</td>\n",
              "      <td>0.201613</td>\n",
              "      <td>0.217877</td>\n",
              "      <td>0.0</td>\n",
              "      <td>0.0</td>\n",
              "      <td>0.25</td>\n",
              "      <td>0.0</td>\n",
              "      <td>0.106098</td>\n",
              "      <td>0.022321</td>\n",
              "      <td>0.170487</td>\n",
              "      <td>0.0</td>\n",
              "      <td>0.0</td>\n",
              "      <td>0.0</td>\n",
              "    </tr>\n",
              "    <tr>\n",
              "      <th>3</th>\n",
              "      <td>0.178571</td>\n",
              "      <td>0.238095</td>\n",
              "      <td>0.529630</td>\n",
              "      <td>0.073477</td>\n",
              "      <td>0.0</td>\n",
              "      <td>0.188172</td>\n",
              "      <td>0.226257</td>\n",
              "      <td>0.0</td>\n",
              "      <td>0.0</td>\n",
              "      <td>0.25</td>\n",
              "      <td>0.0</td>\n",
              "      <td>0.081301</td>\n",
              "      <td>0.026786</td>\n",
              "      <td>0.126074</td>\n",
              "      <td>1.0</td>\n",
              "      <td>0.0</td>\n",
              "      <td>0.0</td>\n",
              "    </tr>\n",
              "    <tr>\n",
              "      <th>4</th>\n",
              "      <td>0.178571</td>\n",
              "      <td>0.232143</td>\n",
              "      <td>0.608333</td>\n",
              "      <td>0.135753</td>\n",
              "      <td>0.0</td>\n",
              "      <td>0.193548</td>\n",
              "      <td>0.217877</td>\n",
              "      <td>0.0</td>\n",
              "      <td>0.0</td>\n",
              "      <td>0.25</td>\n",
              "      <td>0.0</td>\n",
              "      <td>0.090244</td>\n",
              "      <td>0.075893</td>\n",
              "      <td>0.278653</td>\n",
              "      <td>1.0</td>\n",
              "      <td>0.0</td>\n",
              "      <td>1.0</td>\n",
              "    </tr>\n",
              "  </tbody>\n",
              "</table>\n",
              "</div>\n",
              "    <div class=\"colab-df-buttons\">\n",
              "\n",
              "  <div class=\"colab-df-container\">\n",
              "    <button class=\"colab-df-convert\" onclick=\"convertToInteractive('df-c259eb26-2946-4d79-99e6-7dca25eef97d')\"\n",
              "            title=\"Convert this dataframe to an interactive table.\"\n",
              "            style=\"display:none;\">\n",
              "\n",
              "  <svg xmlns=\"http://www.w3.org/2000/svg\" height=\"24px\" viewBox=\"0 -960 960 960\">\n",
              "    <path d=\"M120-120v-720h720v720H120Zm60-500h600v-160H180v160Zm220 220h160v-160H400v160Zm0 220h160v-160H400v160ZM180-400h160v-160H180v160Zm440 0h160v-160H620v160ZM180-180h160v-160H180v160Zm440 0h160v-160H620v160Z\"/>\n",
              "  </svg>\n",
              "    </button>\n",
              "\n",
              "  <style>\n",
              "    .colab-df-container {\n",
              "      display:flex;\n",
              "      gap: 12px;\n",
              "    }\n",
              "\n",
              "    .colab-df-convert {\n",
              "      background-color: #E8F0FE;\n",
              "      border: none;\n",
              "      border-radius: 50%;\n",
              "      cursor: pointer;\n",
              "      display: none;\n",
              "      fill: #1967D2;\n",
              "      height: 32px;\n",
              "      padding: 0 0 0 0;\n",
              "      width: 32px;\n",
              "    }\n",
              "\n",
              "    .colab-df-convert:hover {\n",
              "      background-color: #E2EBFA;\n",
              "      box-shadow: 0px 1px 2px rgba(60, 64, 67, 0.3), 0px 1px 3px 1px rgba(60, 64, 67, 0.15);\n",
              "      fill: #174EA6;\n",
              "    }\n",
              "\n",
              "    .colab-df-buttons div {\n",
              "      margin-bottom: 4px;\n",
              "    }\n",
              "\n",
              "    [theme=dark] .colab-df-convert {\n",
              "      background-color: #3B4455;\n",
              "      fill: #D2E3FC;\n",
              "    }\n",
              "\n",
              "    [theme=dark] .colab-df-convert:hover {\n",
              "      background-color: #434B5C;\n",
              "      box-shadow: 0px 1px 3px 1px rgba(0, 0, 0, 0.15);\n",
              "      filter: drop-shadow(0px 1px 2px rgba(0, 0, 0, 0.3));\n",
              "      fill: #FFFFFF;\n",
              "    }\n",
              "  </style>\n",
              "\n",
              "    <script>\n",
              "      const buttonEl =\n",
              "        document.querySelector('#df-c259eb26-2946-4d79-99e6-7dca25eef97d button.colab-df-convert');\n",
              "      buttonEl.style.display =\n",
              "        google.colab.kernel.accessAllowed ? 'block' : 'none';\n",
              "\n",
              "      async function convertToInteractive(key) {\n",
              "        const element = document.querySelector('#df-c259eb26-2946-4d79-99e6-7dca25eef97d');\n",
              "        const dataTable =\n",
              "          await google.colab.kernel.invokeFunction('convertToInteractive',\n",
              "                                                    [key], {});\n",
              "        if (!dataTable) return;\n",
              "\n",
              "        const docLinkHtml = 'Like what you see? Visit the ' +\n",
              "          '<a target=\"_blank\" href=https://colab.research.google.com/notebooks/data_table.ipynb>data table notebook</a>'\n",
              "          + ' to learn more about interactive tables.';\n",
              "        element.innerHTML = '';\n",
              "        dataTable['output_type'] = 'display_data';\n",
              "        await google.colab.output.renderOutput(dataTable, element);\n",
              "        const docLink = document.createElement('div');\n",
              "        docLink.innerHTML = docLinkHtml;\n",
              "        element.appendChild(docLink);\n",
              "      }\n",
              "    </script>\n",
              "  </div>\n",
              "\n",
              "\n",
              "<div id=\"df-4cba48c4-93b3-4e6a-9792-3626e65bf7a7\">\n",
              "  <button class=\"colab-df-quickchart\" onclick=\"quickchart('df-4cba48c4-93b3-4e6a-9792-3626e65bf7a7')\"\n",
              "            title=\"Suggest charts\"\n",
              "            style=\"display:none;\">\n",
              "\n",
              "<svg xmlns=\"http://www.w3.org/2000/svg\" height=\"24px\"viewBox=\"0 0 24 24\"\n",
              "     width=\"24px\">\n",
              "    <g>\n",
              "        <path d=\"M19 3H5c-1.1 0-2 .9-2 2v14c0 1.1.9 2 2 2h14c1.1 0 2-.9 2-2V5c0-1.1-.9-2-2-2zM9 17H7v-7h2v7zm4 0h-2V7h2v10zm4 0h-2v-4h2v4z\"/>\n",
              "    </g>\n",
              "</svg>\n",
              "  </button>\n",
              "\n",
              "<style>\n",
              "  .colab-df-quickchart {\n",
              "      --bg-color: #E8F0FE;\n",
              "      --fill-color: #1967D2;\n",
              "      --hover-bg-color: #E2EBFA;\n",
              "      --hover-fill-color: #174EA6;\n",
              "      --disabled-fill-color: #AAA;\n",
              "      --disabled-bg-color: #DDD;\n",
              "  }\n",
              "\n",
              "  [theme=dark] .colab-df-quickchart {\n",
              "      --bg-color: #3B4455;\n",
              "      --fill-color: #D2E3FC;\n",
              "      --hover-bg-color: #434B5C;\n",
              "      --hover-fill-color: #FFFFFF;\n",
              "      --disabled-bg-color: #3B4455;\n",
              "      --disabled-fill-color: #666;\n",
              "  }\n",
              "\n",
              "  .colab-df-quickchart {\n",
              "    background-color: var(--bg-color);\n",
              "    border: none;\n",
              "    border-radius: 50%;\n",
              "    cursor: pointer;\n",
              "    display: none;\n",
              "    fill: var(--fill-color);\n",
              "    height: 32px;\n",
              "    padding: 0;\n",
              "    width: 32px;\n",
              "  }\n",
              "\n",
              "  .colab-df-quickchart:hover {\n",
              "    background-color: var(--hover-bg-color);\n",
              "    box-shadow: 0 1px 2px rgba(60, 64, 67, 0.3), 0 1px 3px 1px rgba(60, 64, 67, 0.15);\n",
              "    fill: var(--button-hover-fill-color);\n",
              "  }\n",
              "\n",
              "  .colab-df-quickchart-complete:disabled,\n",
              "  .colab-df-quickchart-complete:disabled:hover {\n",
              "    background-color: var(--disabled-bg-color);\n",
              "    fill: var(--disabled-fill-color);\n",
              "    box-shadow: none;\n",
              "  }\n",
              "\n",
              "  .colab-df-spinner {\n",
              "    border: 2px solid var(--fill-color);\n",
              "    border-color: transparent;\n",
              "    border-bottom-color: var(--fill-color);\n",
              "    animation:\n",
              "      spin 1s steps(1) infinite;\n",
              "  }\n",
              "\n",
              "  @keyframes spin {\n",
              "    0% {\n",
              "      border-color: transparent;\n",
              "      border-bottom-color: var(--fill-color);\n",
              "      border-left-color: var(--fill-color);\n",
              "    }\n",
              "    20% {\n",
              "      border-color: transparent;\n",
              "      border-left-color: var(--fill-color);\n",
              "      border-top-color: var(--fill-color);\n",
              "    }\n",
              "    30% {\n",
              "      border-color: transparent;\n",
              "      border-left-color: var(--fill-color);\n",
              "      border-top-color: var(--fill-color);\n",
              "      border-right-color: var(--fill-color);\n",
              "    }\n",
              "    40% {\n",
              "      border-color: transparent;\n",
              "      border-right-color: var(--fill-color);\n",
              "      border-top-color: var(--fill-color);\n",
              "    }\n",
              "    60% {\n",
              "      border-color: transparent;\n",
              "      border-right-color: var(--fill-color);\n",
              "    }\n",
              "    80% {\n",
              "      border-color: transparent;\n",
              "      border-right-color: var(--fill-color);\n",
              "      border-bottom-color: var(--fill-color);\n",
              "    }\n",
              "    90% {\n",
              "      border-color: transparent;\n",
              "      border-bottom-color: var(--fill-color);\n",
              "    }\n",
              "  }\n",
              "</style>\n",
              "\n",
              "  <script>\n",
              "    async function quickchart(key) {\n",
              "      const quickchartButtonEl =\n",
              "        document.querySelector('#' + key + ' button');\n",
              "      quickchartButtonEl.disabled = true;  // To prevent multiple clicks.\n",
              "      quickchartButtonEl.classList.add('colab-df-spinner');\n",
              "      try {\n",
              "        const charts = await google.colab.kernel.invokeFunction(\n",
              "            'suggestCharts', [key], {});\n",
              "      } catch (error) {\n",
              "        console.error('Error during call to suggestCharts:', error);\n",
              "      }\n",
              "      quickchartButtonEl.classList.remove('colab-df-spinner');\n",
              "      quickchartButtonEl.classList.add('colab-df-quickchart-complete');\n",
              "    }\n",
              "    (() => {\n",
              "      let quickchartButtonEl =\n",
              "        document.querySelector('#df-4cba48c4-93b3-4e6a-9792-3626e65bf7a7 button');\n",
              "      quickchartButtonEl.style.display =\n",
              "        google.colab.kernel.accessAllowed ? 'block' : 'none';\n",
              "    })();\n",
              "  </script>\n",
              "</div>\n",
              "\n",
              "    </div>\n",
              "  </div>\n"
            ],
            "application/vnd.google.colaboratory.intrinsic+json": {
              "type": "dataframe",
              "variable_name": "x",
              "summary": "{\n  \"name\": \"x\",\n  \"rows\": 3113,\n  \"fields\": [\n    {\n      \"column\": \"value\",\n      \"properties\": {\n        \"dtype\": \"number\",\n        \"std\": 0.19691987821389903,\n        \"min\": 0.0,\n        \"max\": 0.9999999999999999,\n        \"num_unique_values\": 70,\n        \"samples\": [\n          0.3928571428571428,\n          0.1785714285714286,\n          0.9761904761904762\n        ],\n        \"semantic_type\": \"\",\n        \"description\": \"\"\n      }\n    },\n    {\n      \"column\": \"avg_points_last_38\",\n      \"properties\": {\n        \"dtype\": \"number\",\n        \"std\": 0.12247560797677902,\n        \"min\": 0.0,\n        \"max\": 0.9999999999999999,\n        \"num_unique_values\": 937,\n        \"samples\": [\n          0.2785714285714286,\n          0.25510204081632654,\n          0.30476190476190473\n        ],\n        \"semantic_type\": \"\",\n        \"description\": \"\"\n      }\n    },\n    {\n      \"column\": \"avg_minutes_last_38\",\n      \"properties\": {\n        \"dtype\": \"number\",\n        \"std\": 0.2992877128568036,\n        \"min\": 0.0,\n        \"max\": 1.0,\n        \"num_unique_values\": 1827,\n        \"samples\": [\n          0.8272727272727273,\n          0.014035087719298246,\n          0.3128205128205128\n        ],\n        \"semantic_type\": \"\",\n        \"description\": \"\"\n      }\n    },\n    {\n      \"column\": \"avg_ict_index_last_38\",\n      \"properties\": {\n        \"dtype\": \"number\",\n        \"std\": 0.1445304600430371,\n        \"min\": 0.0,\n        \"max\": 1.0,\n        \"num_unique_values\": 1877,\n        \"samples\": [\n          0.00973554199360651,\n          0.16487455197132617,\n          0.12085086489013556\n        ],\n        \"semantic_type\": \"\",\n        \"description\": \"\"\n      }\n    },\n    {\n      \"column\": \"avg_bonus_last_38\",\n      \"properties\": {\n        \"dtype\": \"number\",\n        \"std\": 0.09513017849216107,\n        \"min\": 0.0,\n        \"max\": 1.0,\n        \"num_unique_values\": 318,\n        \"samples\": [\n          0.14583333333333331,\n          0.28205128205128205,\n          0.034482758620689655\n        ],\n        \"semantic_type\": \"\",\n        \"description\": \"\"\n      }\n    },\n    {\n      \"column\": \"avg_bps_last_38\",\n      \"properties\": {\n        \"dtype\": \"number\",\n        \"std\": 0.1031443665676597,\n        \"min\": 0.0,\n        \"max\": 1.0,\n        \"num_unique_values\": 1400,\n        \"samples\": [\n          0.12224108658743632,\n          0.22776148582600192,\n          0.17972350230414746\n        ],\n        \"semantic_type\": \"\",\n        \"description\": \"\"\n      }\n    },\n    {\n      \"column\": \"avg_xP_last_38\",\n      \"properties\": {\n        \"dtype\": \"number\",\n        \"std\": 0.14491535148354387,\n        \"min\": 0.0,\n        \"max\": 1.0,\n        \"num_unique_values\": 2053,\n        \"samples\": [\n          0.046508379888268156,\n          0.6129289704708699,\n          0.2771809196390202\n        ],\n        \"semantic_type\": \"\",\n        \"description\": \"\"\n      }\n    },\n    {\n      \"column\": \"avg_expected_goal_involvements_last_38\",\n      \"properties\": {\n        \"dtype\": \"number\",\n        \"std\": 0.14351416223968969,\n        \"min\": 0.0,\n        \"max\": 1.0,\n        \"num_unique_values\": 1380,\n        \"samples\": [\n          0.05891654073919559,\n          0.1042388649204631,\n          0.193103005564725\n        ],\n        \"semantic_type\": \"\",\n        \"description\": \"\"\n      }\n    },\n    {\n      \"column\": \"avg_expected_goals_conceded_last_38\",\n      \"properties\": {\n        \"dtype\": \"number\",\n        \"std\": 0.08206777174948068,\n        \"min\": 0.0,\n        \"max\": 1.0,\n        \"num_unique_values\": 1363,\n        \"samples\": [\n          0.034163473818646234,\n          0.01149425287356322,\n          0.018063392546151164\n        ],\n        \"semantic_type\": \"\",\n        \"description\": \"\"\n      }\n    },\n    {\n      \"column\": \"avg_goals_conceded_last_38\",\n      \"properties\": {\n        \"dtype\": \"number\",\n        \"std\": 0.11643097116145366,\n        \"min\": 0.0,\n        \"max\": 1.0,\n        \"num_unique_values\": 505,\n        \"samples\": [\n          0.2638888888888889,\n          0.1693548387096774,\n          0.06\n        ],\n        \"semantic_type\": \"\",\n        \"description\": \"\"\n      }\n    },\n    {\n      \"column\": \"avg_goals_scored_last_38\",\n      \"properties\": {\n        \"dtype\": \"number\",\n        \"std\": 0.10407986327111832,\n        \"min\": 0.0,\n        \"max\": 1.0,\n        \"num_unique_values\": 262,\n        \"samples\": [\n          0.10606060606060606,\n          0.38235294117647056,\n          0.532258064516129\n        ],\n        \"semantic_type\": \"\",\n        \"description\": \"\"\n      }\n    },\n    {\n      \"column\": \"avg_influence_last_38\",\n      \"properties\": {\n        \"dtype\": \"number\",\n        \"std\": 0.11003004914976361,\n        \"min\": 0.0,\n        \"max\": 1.0,\n        \"num_unique_values\": 1884,\n        \"samples\": [\n          0.056402439024390245,\n          0.061991869918699184,\n          0.05457317073170732\n        ],\n        \"semantic_type\": \"\",\n        \"description\": \"\"\n      }\n    },\n    {\n      \"column\": \"avg_threat_last_38\",\n      \"properties\": {\n        \"dtype\": \"number\",\n        \"std\": 0.1253097000221834,\n        \"min\": 0.0,\n        \"max\": 1.0,\n        \"num_unique_values\": 1642,\n        \"samples\": [\n          0.21904761904761905,\n          0.325297619047619,\n          0.10096153846153846\n        ],\n        \"semantic_type\": \"\",\n        \"description\": \"\"\n      }\n    },\n    {\n      \"column\": \"avg_creativity_last_38\",\n      \"properties\": {\n        \"dtype\": \"number\",\n        \"std\": 0.14707527725929084,\n        \"min\": 0.0,\n        \"max\": 1.0,\n        \"num_unique_values\": 1949,\n        \"samples\": [\n          0.08137535816618913,\n          0.18756887811329076,\n          0.12790512575612864\n        ],\n        \"semantic_type\": \"\",\n        \"description\": \"\"\n      }\n    },\n    {\n      \"column\": \"was_home_True\",\n      \"properties\": {\n        \"dtype\": \"number\",\n        \"std\": 0.5000790634434367,\n        \"min\": 0.0,\n        \"max\": 1.0,\n        \"num_unique_values\": 2,\n        \"samples\": [\n          1.0,\n          0.0\n        ],\n        \"semantic_type\": \"\",\n        \"description\": \"\"\n      }\n    },\n    {\n      \"column\": \"team_category_relegation fodder\",\n      \"properties\": {\n        \"dtype\": \"number\",\n        \"std\": 0.45692983066129045,\n        \"min\": 0.0,\n        \"max\": 1.0,\n        \"num_unique_values\": 2,\n        \"samples\": [\n          0.0,\n          1.0\n        ],\n        \"semantic_type\": \"\",\n        \"description\": \"\"\n      }\n    },\n    {\n      \"column\": \"team_category_top 6\",\n      \"properties\": {\n        \"dtype\": \"number\",\n        \"std\": 0.45820488416679317,\n        \"min\": 0.0,\n        \"max\": 1.0,\n        \"num_unique_values\": 2,\n        \"samples\": [\n          1.0,\n          0.0\n        ],\n        \"semantic_type\": \"\",\n        \"description\": \"\"\n      }\n    }\n  ]\n}"
            }
          },
          "metadata": {},
          "execution_count": 36
        }
      ],
      "source": [
        "x.head()"
      ]
    },
    {
      "cell_type": "code",
      "execution_count": null,
      "metadata": {
        "id": "73qGN2jZM-KZ",
        "colab": {
          "base_uri": "https://localhost:8080/"
        },
        "outputId": "ebc5d13d-e0f1-47c9-cba7-91123f26c3c0"
      },
      "outputs": [
        {
          "output_type": "stream",
          "name": "stderr",
          "text": [
            "/usr/local/lib/python3.10/dist-packages/sklearn/preprocessing/_encoders.py:975: FutureWarning: `sparse` was renamed to `sparse_output` in version 1.2 and will be removed in 1.4. `sparse_output` is ignored unless you leave `sparse` to its default value.\n",
            "  warnings.warn(\n",
            "/usr/local/lib/python3.10/dist-packages/sklearn/preprocessing/_encoders.py:975: FutureWarning: `sparse` was renamed to `sparse_output` in version 1.2 and will be removed in 1.4. `sparse_output` is ignored unless you leave `sparse` to its default value.\n",
            "  warnings.warn(\n"
          ]
        }
      ],
      "source": [
        "quant_x_test = pd.DataFrame(quant_pipeline.fit_transform(x_test.select_dtypes(include=np.number)), columns = list(quant_features))\n",
        "\n",
        "quant_x_test['was_home_True']= cat_pipeline.fit_transform(pd.DataFrame({'was_home': x_test['was_home']}))\n",
        "encoded_array = cat_pipeline.fit_transform(pd.DataFrame({'team_category':x_test['team_category']}))\n",
        "encoded_df = pd.DataFrame(encoded_array, columns=cat_pipeline.get_feature_names_out(['team_category']))\n",
        "x_test = pd.concat([quant_x_test, encoded_df], axis = 1)"
      ]
    },
    {
      "cell_type": "code",
      "execution_count": null,
      "metadata": {
        "id": "Y_d5QOqmy6TU",
        "colab": {
          "base_uri": "https://localhost:8080/",
          "height": 244
        },
        "outputId": "8193f845-fc06-4f88-f3b5-4c445205a09d"
      },
      "outputs": [
        {
          "output_type": "execute_result",
          "data": {
            "text/plain": [
              "      value  avg_points_last_38  avg_minutes_last_38  avg_ict_index_last_38  \\\n",
              "0  0.090909            0.000000             0.000000               0.000000   \n",
              "1  0.090909            0.642857             1.000000               0.872434   \n",
              "2  0.090909            0.642857             0.905556               0.703079   \n",
              "3  0.090909            0.642857             0.918519               0.848485   \n",
              "4  0.090909            0.546429             0.888889               0.690249   \n",
              "\n",
              "   avg_bonus_last_38  avg_bps_last_38  avg_xP_last_38  \\\n",
              "0                0.0         0.000000        0.000000   \n",
              "1                0.0         0.673797        0.299525   \n",
              "2                0.0         0.542781        0.506339   \n",
              "3                0.0         0.461676        0.599049   \n",
              "4                0.0         0.364973        0.581220   \n",
              "\n",
              "   avg_expected_goal_involvements_last_38  \\\n",
              "0                                0.000000   \n",
              "1                                0.466812   \n",
              "2                                0.374864   \n",
              "3                                0.622416   \n",
              "4                                0.544614   \n",
              "\n",
              "   avg_expected_goals_conceded_last_38  avg_goals_conceded_last_38  \\\n",
              "0                             0.000000                        0.00   \n",
              "1                             1.000000                        1.00   \n",
              "2                             0.593023                        0.50   \n",
              "3                             0.433140                        0.40   \n",
              "4                             0.495640                        0.45   \n",
              "\n",
              "   avg_goals_scored_last_38  avg_influence_last_38  avg_threat_last_38  \\\n",
              "0                       0.0                 0.0000            0.000000   \n",
              "1                       0.0                 0.9660            0.675728   \n",
              "2                       0.0                 0.5910            0.477670   \n",
              "3                       0.0                 0.6020            0.823301   \n",
              "4                       0.0                 0.4515            0.675728   \n",
              "\n",
              "   avg_creativity_last_38  was_home_True  team_category_relegation fodder  \\\n",
              "0                0.000000            0.0                              1.0   \n",
              "1                0.838710            1.0                              0.0   \n",
              "2                1.000000            0.0                              0.0   \n",
              "3                0.962963            0.0                              0.0   \n",
              "4                0.827957            1.0                              0.0   \n",
              "\n",
              "   team_category_top 6  \n",
              "0                  0.0  \n",
              "1                  0.0  \n",
              "2                  1.0  \n",
              "3                  0.0  \n",
              "4                  0.0  "
            ],
            "text/html": [
              "\n",
              "  <div id=\"df-7e32b3af-2773-4ce7-85d4-550d3fe10af7\" class=\"colab-df-container\">\n",
              "    <div>\n",
              "<style scoped>\n",
              "    .dataframe tbody tr th:only-of-type {\n",
              "        vertical-align: middle;\n",
              "    }\n",
              "\n",
              "    .dataframe tbody tr th {\n",
              "        vertical-align: top;\n",
              "    }\n",
              "\n",
              "    .dataframe thead th {\n",
              "        text-align: right;\n",
              "    }\n",
              "</style>\n",
              "<table border=\"1\" class=\"dataframe\">\n",
              "  <thead>\n",
              "    <tr style=\"text-align: right;\">\n",
              "      <th></th>\n",
              "      <th>value</th>\n",
              "      <th>avg_points_last_38</th>\n",
              "      <th>avg_minutes_last_38</th>\n",
              "      <th>avg_ict_index_last_38</th>\n",
              "      <th>avg_bonus_last_38</th>\n",
              "      <th>avg_bps_last_38</th>\n",
              "      <th>avg_xP_last_38</th>\n",
              "      <th>avg_expected_goal_involvements_last_38</th>\n",
              "      <th>avg_expected_goals_conceded_last_38</th>\n",
              "      <th>avg_goals_conceded_last_38</th>\n",
              "      <th>avg_goals_scored_last_38</th>\n",
              "      <th>avg_influence_last_38</th>\n",
              "      <th>avg_threat_last_38</th>\n",
              "      <th>avg_creativity_last_38</th>\n",
              "      <th>was_home_True</th>\n",
              "      <th>team_category_relegation fodder</th>\n",
              "      <th>team_category_top 6</th>\n",
              "    </tr>\n",
              "  </thead>\n",
              "  <tbody>\n",
              "    <tr>\n",
              "      <th>0</th>\n",
              "      <td>0.090909</td>\n",
              "      <td>0.000000</td>\n",
              "      <td>0.000000</td>\n",
              "      <td>0.000000</td>\n",
              "      <td>0.0</td>\n",
              "      <td>0.000000</td>\n",
              "      <td>0.000000</td>\n",
              "      <td>0.000000</td>\n",
              "      <td>0.000000</td>\n",
              "      <td>0.00</td>\n",
              "      <td>0.0</td>\n",
              "      <td>0.0000</td>\n",
              "      <td>0.000000</td>\n",
              "      <td>0.000000</td>\n",
              "      <td>0.0</td>\n",
              "      <td>1.0</td>\n",
              "      <td>0.0</td>\n",
              "    </tr>\n",
              "    <tr>\n",
              "      <th>1</th>\n",
              "      <td>0.090909</td>\n",
              "      <td>0.642857</td>\n",
              "      <td>1.000000</td>\n",
              "      <td>0.872434</td>\n",
              "      <td>0.0</td>\n",
              "      <td>0.673797</td>\n",
              "      <td>0.299525</td>\n",
              "      <td>0.466812</td>\n",
              "      <td>1.000000</td>\n",
              "      <td>1.00</td>\n",
              "      <td>0.0</td>\n",
              "      <td>0.9660</td>\n",
              "      <td>0.675728</td>\n",
              "      <td>0.838710</td>\n",
              "      <td>1.0</td>\n",
              "      <td>0.0</td>\n",
              "      <td>0.0</td>\n",
              "    </tr>\n",
              "    <tr>\n",
              "      <th>2</th>\n",
              "      <td>0.090909</td>\n",
              "      <td>0.642857</td>\n",
              "      <td>0.905556</td>\n",
              "      <td>0.703079</td>\n",
              "      <td>0.0</td>\n",
              "      <td>0.542781</td>\n",
              "      <td>0.506339</td>\n",
              "      <td>0.374864</td>\n",
              "      <td>0.593023</td>\n",
              "      <td>0.50</td>\n",
              "      <td>0.0</td>\n",
              "      <td>0.5910</td>\n",
              "      <td>0.477670</td>\n",
              "      <td>1.000000</td>\n",
              "      <td>0.0</td>\n",
              "      <td>0.0</td>\n",
              "      <td>1.0</td>\n",
              "    </tr>\n",
              "    <tr>\n",
              "      <th>3</th>\n",
              "      <td>0.090909</td>\n",
              "      <td>0.642857</td>\n",
              "      <td>0.918519</td>\n",
              "      <td>0.848485</td>\n",
              "      <td>0.0</td>\n",
              "      <td>0.461676</td>\n",
              "      <td>0.599049</td>\n",
              "      <td>0.622416</td>\n",
              "      <td>0.433140</td>\n",
              "      <td>0.40</td>\n",
              "      <td>0.0</td>\n",
              "      <td>0.6020</td>\n",
              "      <td>0.823301</td>\n",
              "      <td>0.962963</td>\n",
              "      <td>0.0</td>\n",
              "      <td>0.0</td>\n",
              "      <td>0.0</td>\n",
              "    </tr>\n",
              "    <tr>\n",
              "      <th>4</th>\n",
              "      <td>0.090909</td>\n",
              "      <td>0.546429</td>\n",
              "      <td>0.888889</td>\n",
              "      <td>0.690249</td>\n",
              "      <td>0.0</td>\n",
              "      <td>0.364973</td>\n",
              "      <td>0.581220</td>\n",
              "      <td>0.544614</td>\n",
              "      <td>0.495640</td>\n",
              "      <td>0.45</td>\n",
              "      <td>0.0</td>\n",
              "      <td>0.4515</td>\n",
              "      <td>0.675728</td>\n",
              "      <td>0.827957</td>\n",
              "      <td>1.0</td>\n",
              "      <td>0.0</td>\n",
              "      <td>0.0</td>\n",
              "    </tr>\n",
              "  </tbody>\n",
              "</table>\n",
              "</div>\n",
              "    <div class=\"colab-df-buttons\">\n",
              "\n",
              "  <div class=\"colab-df-container\">\n",
              "    <button class=\"colab-df-convert\" onclick=\"convertToInteractive('df-7e32b3af-2773-4ce7-85d4-550d3fe10af7')\"\n",
              "            title=\"Convert this dataframe to an interactive table.\"\n",
              "            style=\"display:none;\">\n",
              "\n",
              "  <svg xmlns=\"http://www.w3.org/2000/svg\" height=\"24px\" viewBox=\"0 -960 960 960\">\n",
              "    <path d=\"M120-120v-720h720v720H120Zm60-500h600v-160H180v160Zm220 220h160v-160H400v160Zm0 220h160v-160H400v160ZM180-400h160v-160H180v160Zm440 0h160v-160H620v160ZM180-180h160v-160H180v160Zm440 0h160v-160H620v160Z\"/>\n",
              "  </svg>\n",
              "    </button>\n",
              "\n",
              "  <style>\n",
              "    .colab-df-container {\n",
              "      display:flex;\n",
              "      gap: 12px;\n",
              "    }\n",
              "\n",
              "    .colab-df-convert {\n",
              "      background-color: #E8F0FE;\n",
              "      border: none;\n",
              "      border-radius: 50%;\n",
              "      cursor: pointer;\n",
              "      display: none;\n",
              "      fill: #1967D2;\n",
              "      height: 32px;\n",
              "      padding: 0 0 0 0;\n",
              "      width: 32px;\n",
              "    }\n",
              "\n",
              "    .colab-df-convert:hover {\n",
              "      background-color: #E2EBFA;\n",
              "      box-shadow: 0px 1px 2px rgba(60, 64, 67, 0.3), 0px 1px 3px 1px rgba(60, 64, 67, 0.15);\n",
              "      fill: #174EA6;\n",
              "    }\n",
              "\n",
              "    .colab-df-buttons div {\n",
              "      margin-bottom: 4px;\n",
              "    }\n",
              "\n",
              "    [theme=dark] .colab-df-convert {\n",
              "      background-color: #3B4455;\n",
              "      fill: #D2E3FC;\n",
              "    }\n",
              "\n",
              "    [theme=dark] .colab-df-convert:hover {\n",
              "      background-color: #434B5C;\n",
              "      box-shadow: 0px 1px 3px 1px rgba(0, 0, 0, 0.15);\n",
              "      filter: drop-shadow(0px 1px 2px rgba(0, 0, 0, 0.3));\n",
              "      fill: #FFFFFF;\n",
              "    }\n",
              "  </style>\n",
              "\n",
              "    <script>\n",
              "      const buttonEl =\n",
              "        document.querySelector('#df-7e32b3af-2773-4ce7-85d4-550d3fe10af7 button.colab-df-convert');\n",
              "      buttonEl.style.display =\n",
              "        google.colab.kernel.accessAllowed ? 'block' : 'none';\n",
              "\n",
              "      async function convertToInteractive(key) {\n",
              "        const element = document.querySelector('#df-7e32b3af-2773-4ce7-85d4-550d3fe10af7');\n",
              "        const dataTable =\n",
              "          await google.colab.kernel.invokeFunction('convertToInteractive',\n",
              "                                                    [key], {});\n",
              "        if (!dataTable) return;\n",
              "\n",
              "        const docLinkHtml = 'Like what you see? Visit the ' +\n",
              "          '<a target=\"_blank\" href=https://colab.research.google.com/notebooks/data_table.ipynb>data table notebook</a>'\n",
              "          + ' to learn more about interactive tables.';\n",
              "        element.innerHTML = '';\n",
              "        dataTable['output_type'] = 'display_data';\n",
              "        await google.colab.output.renderOutput(dataTable, element);\n",
              "        const docLink = document.createElement('div');\n",
              "        docLink.innerHTML = docLinkHtml;\n",
              "        element.appendChild(docLink);\n",
              "      }\n",
              "    </script>\n",
              "  </div>\n",
              "\n",
              "\n",
              "<div id=\"df-40df2ac2-8734-4461-9447-d6fb8cf083c2\">\n",
              "  <button class=\"colab-df-quickchart\" onclick=\"quickchart('df-40df2ac2-8734-4461-9447-d6fb8cf083c2')\"\n",
              "            title=\"Suggest charts\"\n",
              "            style=\"display:none;\">\n",
              "\n",
              "<svg xmlns=\"http://www.w3.org/2000/svg\" height=\"24px\"viewBox=\"0 0 24 24\"\n",
              "     width=\"24px\">\n",
              "    <g>\n",
              "        <path d=\"M19 3H5c-1.1 0-2 .9-2 2v14c0 1.1.9 2 2 2h14c1.1 0 2-.9 2-2V5c0-1.1-.9-2-2-2zM9 17H7v-7h2v7zm4 0h-2V7h2v10zm4 0h-2v-4h2v4z\"/>\n",
              "    </g>\n",
              "</svg>\n",
              "  </button>\n",
              "\n",
              "<style>\n",
              "  .colab-df-quickchart {\n",
              "      --bg-color: #E8F0FE;\n",
              "      --fill-color: #1967D2;\n",
              "      --hover-bg-color: #E2EBFA;\n",
              "      --hover-fill-color: #174EA6;\n",
              "      --disabled-fill-color: #AAA;\n",
              "      --disabled-bg-color: #DDD;\n",
              "  }\n",
              "\n",
              "  [theme=dark] .colab-df-quickchart {\n",
              "      --bg-color: #3B4455;\n",
              "      --fill-color: #D2E3FC;\n",
              "      --hover-bg-color: #434B5C;\n",
              "      --hover-fill-color: #FFFFFF;\n",
              "      --disabled-bg-color: #3B4455;\n",
              "      --disabled-fill-color: #666;\n",
              "  }\n",
              "\n",
              "  .colab-df-quickchart {\n",
              "    background-color: var(--bg-color);\n",
              "    border: none;\n",
              "    border-radius: 50%;\n",
              "    cursor: pointer;\n",
              "    display: none;\n",
              "    fill: var(--fill-color);\n",
              "    height: 32px;\n",
              "    padding: 0;\n",
              "    width: 32px;\n",
              "  }\n",
              "\n",
              "  .colab-df-quickchart:hover {\n",
              "    background-color: var(--hover-bg-color);\n",
              "    box-shadow: 0 1px 2px rgba(60, 64, 67, 0.3), 0 1px 3px 1px rgba(60, 64, 67, 0.15);\n",
              "    fill: var(--button-hover-fill-color);\n",
              "  }\n",
              "\n",
              "  .colab-df-quickchart-complete:disabled,\n",
              "  .colab-df-quickchart-complete:disabled:hover {\n",
              "    background-color: var(--disabled-bg-color);\n",
              "    fill: var(--disabled-fill-color);\n",
              "    box-shadow: none;\n",
              "  }\n",
              "\n",
              "  .colab-df-spinner {\n",
              "    border: 2px solid var(--fill-color);\n",
              "    border-color: transparent;\n",
              "    border-bottom-color: var(--fill-color);\n",
              "    animation:\n",
              "      spin 1s steps(1) infinite;\n",
              "  }\n",
              "\n",
              "  @keyframes spin {\n",
              "    0% {\n",
              "      border-color: transparent;\n",
              "      border-bottom-color: var(--fill-color);\n",
              "      border-left-color: var(--fill-color);\n",
              "    }\n",
              "    20% {\n",
              "      border-color: transparent;\n",
              "      border-left-color: var(--fill-color);\n",
              "      border-top-color: var(--fill-color);\n",
              "    }\n",
              "    30% {\n",
              "      border-color: transparent;\n",
              "      border-left-color: var(--fill-color);\n",
              "      border-top-color: var(--fill-color);\n",
              "      border-right-color: var(--fill-color);\n",
              "    }\n",
              "    40% {\n",
              "      border-color: transparent;\n",
              "      border-right-color: var(--fill-color);\n",
              "      border-top-color: var(--fill-color);\n",
              "    }\n",
              "    60% {\n",
              "      border-color: transparent;\n",
              "      border-right-color: var(--fill-color);\n",
              "    }\n",
              "    80% {\n",
              "      border-color: transparent;\n",
              "      border-right-color: var(--fill-color);\n",
              "      border-bottom-color: var(--fill-color);\n",
              "    }\n",
              "    90% {\n",
              "      border-color: transparent;\n",
              "      border-bottom-color: var(--fill-color);\n",
              "    }\n",
              "  }\n",
              "</style>\n",
              "\n",
              "  <script>\n",
              "    async function quickchart(key) {\n",
              "      const quickchartButtonEl =\n",
              "        document.querySelector('#' + key + ' button');\n",
              "      quickchartButtonEl.disabled = true;  // To prevent multiple clicks.\n",
              "      quickchartButtonEl.classList.add('colab-df-spinner');\n",
              "      try {\n",
              "        const charts = await google.colab.kernel.invokeFunction(\n",
              "            'suggestCharts', [key], {});\n",
              "      } catch (error) {\n",
              "        console.error('Error during call to suggestCharts:', error);\n",
              "      }\n",
              "      quickchartButtonEl.classList.remove('colab-df-spinner');\n",
              "      quickchartButtonEl.classList.add('colab-df-quickchart-complete');\n",
              "    }\n",
              "    (() => {\n",
              "      let quickchartButtonEl =\n",
              "        document.querySelector('#df-40df2ac2-8734-4461-9447-d6fb8cf083c2 button');\n",
              "      quickchartButtonEl.style.display =\n",
              "        google.colab.kernel.accessAllowed ? 'block' : 'none';\n",
              "    })();\n",
              "  </script>\n",
              "</div>\n",
              "\n",
              "    </div>\n",
              "  </div>\n"
            ],
            "application/vnd.google.colaboratory.intrinsic+json": {
              "type": "dataframe",
              "variable_name": "x_test",
              "summary": "{\n  \"name\": \"x_test\",\n  \"rows\": 38,\n  \"fields\": [\n    {\n      \"column\": \"value\",\n      \"properties\": {\n        \"dtype\": \"number\",\n        \"std\": 0.3399432414792741,\n        \"min\": 0.0,\n        \"max\": 1.0,\n        \"num_unique_values\": 11,\n        \"samples\": [\n          0.45454545454545503,\n          0.09090909090909172,\n          0.9090909090909101\n        ],\n        \"semantic_type\": \"\",\n        \"description\": \"\"\n      }\n    },\n    {\n      \"column\": \"avg_points_last_38\",\n      \"properties\": {\n        \"dtype\": \"number\",\n        \"std\": 0.16301647331089306,\n        \"min\": 0.0,\n        \"max\": 1.0,\n        \"num_unique_values\": 35,\n        \"samples\": [\n          0.8290640394088671,\n          0.8314285714285715,\n          0.8714285714285716\n        ],\n        \"semantic_type\": \"\",\n        \"description\": \"\"\n      }\n    },\n    {\n      \"column\": \"avg_minutes_last_38\",\n      \"properties\": {\n        \"dtype\": \"number\",\n        \"std\": 0.15738343036173158,\n        \"min\": 0.0,\n        \"max\": 1.0,\n        \"num_unique_values\": 38,\n        \"samples\": [\n          0.9407407407407409,\n          0.9456790123456791,\n          0.888888888888889\n        ],\n        \"semantic_type\": \"\",\n        \"description\": \"\"\n      }\n    },\n    {\n      \"column\": \"avg_ict_index_last_38\",\n      \"properties\": {\n        \"dtype\": \"number\",\n        \"std\": 0.1618642139658422,\n        \"min\": 0.0,\n        \"max\": 1.0,\n        \"num_unique_values\": 38,\n        \"samples\": [\n          0.8624811161468053,\n          0.8427826653633106,\n          0.6902492668621701\n        ],\n        \"semantic_type\": \"\",\n        \"description\": \"\"\n      }\n    },\n    {\n      \"column\": \"avg_bonus_last_38\",\n      \"properties\": {\n        \"dtype\": \"number\",\n        \"std\": 0.33299928768287,\n        \"min\": 0.0,\n        \"max\": 1.0,\n        \"num_unique_values\": 28,\n        \"samples\": [\n          0.825,\n          0.9321428571428572,\n          0.8839285714285714\n        ],\n        \"semantic_type\": \"\",\n        \"description\": \"\"\n      }\n    },\n    {\n      \"column\": \"avg_bps_last_38\",\n      \"properties\": {\n        \"dtype\": \"number\",\n        \"std\": 0.18929337158632326,\n        \"min\": 0.0,\n        \"max\": 1.0,\n        \"num_unique_values\": 38,\n        \"samples\": [\n          0.799708313077297,\n          0.7704991087344027,\n          0.3649732620320855\n        ],\n        \"semantic_type\": \"\",\n        \"description\": \"\"\n      }\n    },\n    {\n      \"column\": \"avg_xP_last_38\",\n      \"properties\": {\n        \"dtype\": \"number\",\n        \"std\": 0.18749853929049087,\n        \"min\": 0.0,\n        \"max\": 1.0,\n        \"num_unique_values\": 38,\n        \"samples\": [\n          0.8052153868318686,\n          0.812202852614897,\n          0.5812202852614897\n        ],\n        \"semantic_type\": \"\",\n        \"description\": \"\"\n      }\n    },\n    {\n      \"column\": \"avg_expected_goal_involvements_last_38\",\n      \"properties\": {\n        \"dtype\": \"number\",\n        \"std\": 0.18661793514246017,\n        \"min\": 0.0,\n        \"max\": 1.0,\n        \"num_unique_values\": 38,\n        \"samples\": [\n          0.8165990701355229,\n          0.7819489783581187,\n          0.5446137105549511\n        ],\n        \"semantic_type\": \"\",\n        \"description\": \"\"\n      }\n    },\n    {\n      \"column\": \"avg_expected_goals_conceded_last_38\",\n      \"properties\": {\n        \"dtype\": \"number\",\n        \"std\": 0.1258235996192754,\n        \"min\": 0.0,\n        \"max\": 1.0,\n        \"num_unique_values\": 38,\n        \"samples\": [\n          0.4000176180408739,\n          0.41311369509043927,\n          0.495639534883721\n        ],\n        \"semantic_type\": \"\",\n        \"description\": \"\"\n      }\n    },\n    {\n      \"column\": \"avg_goals_conceded_last_38\",\n      \"properties\": {\n        \"dtype\": \"number\",\n        \"std\": 0.13650877276947107,\n        \"min\": 0.0,\n        \"max\": 1.0,\n        \"num_unique_values\": 34,\n        \"samples\": [\n          0.25,\n          0.27,\n          0.2896551724137931\n        ],\n        \"semantic_type\": \"\",\n        \"description\": \"\"\n      }\n    },\n    {\n      \"column\": \"avg_goals_scored_last_38\",\n      \"properties\": {\n        \"dtype\": \"number\",\n        \"std\": 0.3376978725756084,\n        \"min\": 0.0,\n        \"max\": 1.0,\n        \"num_unique_values\": 24,\n        \"samples\": [\n          0.8933823529411765,\n          0.9310344827586207,\n          0.0\n        ],\n        \"semantic_type\": \"\",\n        \"description\": \"\"\n      }\n    },\n    {\n      \"column\": \"avg_influence_last_38\",\n      \"properties\": {\n        \"dtype\": \"number\",\n        \"std\": 0.19382067014657195,\n        \"min\": 0.0,\n        \"max\": 1.0,\n        \"num_unique_values\": 38,\n        \"samples\": [\n          0.8716363636363637,\n          0.8384999999999999,\n          0.4515\n        ],\n        \"semantic_type\": \"\",\n        \"description\": \"\"\n      }\n    },\n    {\n      \"column\": \"avg_threat_last_38\",\n      \"properties\": {\n        \"dtype\": \"number\",\n        \"std\": 0.17940306650406718,\n        \"min\": 0.0,\n        \"max\": 1.0,\n        \"num_unique_values\": 37,\n        \"samples\": [\n          0.9346278317152105,\n          0.9686546463245492,\n          0.7549514563106796\n        ],\n        \"semantic_type\": \"\",\n        \"description\": \"\"\n      }\n    },\n    {\n      \"column\": \"avg_creativity_last_38\",\n      \"properties\": {\n        \"dtype\": \"number\",\n        \"std\": 0.15565003324944396,\n        \"min\": 0.0,\n        \"max\": 1.0,\n        \"num_unique_values\": 38,\n        \"samples\": [\n          0.575105897686543,\n          0.5615292712066906,\n          0.827956989247312\n        ],\n        \"semantic_type\": \"\",\n        \"description\": \"\"\n      }\n    },\n    {\n      \"column\": \"was_home_True\",\n      \"properties\": {\n        \"dtype\": \"number\",\n        \"std\": 0.5067117097095317,\n        \"min\": 0.0,\n        \"max\": 1.0,\n        \"num_unique_values\": 2,\n        \"samples\": [\n          1.0,\n          0.0\n        ],\n        \"semantic_type\": \"\",\n        \"description\": \"\"\n      }\n    },\n    {\n      \"column\": \"team_category_relegation fodder\",\n      \"properties\": {\n        \"dtype\": \"number\",\n        \"std\": 0.4710691208760756,\n        \"min\": 0.0,\n        \"max\": 1.0,\n        \"num_unique_values\": 2,\n        \"samples\": [\n          0.0,\n          1.0\n        ],\n        \"semantic_type\": \"\",\n        \"description\": \"\"\n      }\n    },\n    {\n      \"column\": \"team_category_top 6\",\n      \"properties\": {\n        \"dtype\": \"number\",\n        \"std\": 0.4462583499902144,\n        \"min\": 0.0,\n        \"max\": 1.0,\n        \"num_unique_values\": 2,\n        \"samples\": [\n          1.0,\n          0.0\n        ],\n        \"semantic_type\": \"\",\n        \"description\": \"\"\n      }\n    }\n  ]\n}"
            }
          },
          "metadata": {},
          "execution_count": 38
        }
      ],
      "source": [
        "x_test.head()"
      ]
    },
    {
      "cell_type": "code",
      "execution_count": null,
      "metadata": {
        "id": "3DzvZt9nA2zW"
      },
      "outputs": [],
      "source": [
        "dTree  = DecisionTreeRegressor()"
      ]
    },
    {
      "cell_type": "code",
      "execution_count": null,
      "metadata": {
        "id": "vHl3ZWWjBHc5",
        "colab": {
          "base_uri": "https://localhost:8080/",
          "height": 75
        },
        "outputId": "cf1aafe2-3917-4636-8d04-cc2b7a055514"
      },
      "outputs": [
        {
          "output_type": "execute_result",
          "data": {
            "text/plain": [
              "DecisionTreeRegressor()"
            ],
            "text/html": [
              "<style>#sk-container-id-1 {color: black;}#sk-container-id-1 pre{padding: 0;}#sk-container-id-1 div.sk-toggleable {background-color: white;}#sk-container-id-1 label.sk-toggleable__label {cursor: pointer;display: block;width: 100%;margin-bottom: 0;padding: 0.3em;box-sizing: border-box;text-align: center;}#sk-container-id-1 label.sk-toggleable__label-arrow:before {content: \"▸\";float: left;margin-right: 0.25em;color: #696969;}#sk-container-id-1 label.sk-toggleable__label-arrow:hover:before {color: black;}#sk-container-id-1 div.sk-estimator:hover label.sk-toggleable__label-arrow:before {color: black;}#sk-container-id-1 div.sk-toggleable__content {max-height: 0;max-width: 0;overflow: hidden;text-align: left;background-color: #f0f8ff;}#sk-container-id-1 div.sk-toggleable__content pre {margin: 0.2em;color: black;border-radius: 0.25em;background-color: #f0f8ff;}#sk-container-id-1 input.sk-toggleable__control:checked~div.sk-toggleable__content {max-height: 200px;max-width: 100%;overflow: auto;}#sk-container-id-1 input.sk-toggleable__control:checked~label.sk-toggleable__label-arrow:before {content: \"▾\";}#sk-container-id-1 div.sk-estimator input.sk-toggleable__control:checked~label.sk-toggleable__label {background-color: #d4ebff;}#sk-container-id-1 div.sk-label input.sk-toggleable__control:checked~label.sk-toggleable__label {background-color: #d4ebff;}#sk-container-id-1 input.sk-hidden--visually {border: 0;clip: rect(1px 1px 1px 1px);clip: rect(1px, 1px, 1px, 1px);height: 1px;margin: -1px;overflow: hidden;padding: 0;position: absolute;width: 1px;}#sk-container-id-1 div.sk-estimator {font-family: monospace;background-color: #f0f8ff;border: 1px dotted black;border-radius: 0.25em;box-sizing: border-box;margin-bottom: 0.5em;}#sk-container-id-1 div.sk-estimator:hover {background-color: #d4ebff;}#sk-container-id-1 div.sk-parallel-item::after {content: \"\";width: 100%;border-bottom: 1px solid gray;flex-grow: 1;}#sk-container-id-1 div.sk-label:hover label.sk-toggleable__label {background-color: #d4ebff;}#sk-container-id-1 div.sk-serial::before {content: \"\";position: absolute;border-left: 1px solid gray;box-sizing: border-box;top: 0;bottom: 0;left: 50%;z-index: 0;}#sk-container-id-1 div.sk-serial {display: flex;flex-direction: column;align-items: center;background-color: white;padding-right: 0.2em;padding-left: 0.2em;position: relative;}#sk-container-id-1 div.sk-item {position: relative;z-index: 1;}#sk-container-id-1 div.sk-parallel {display: flex;align-items: stretch;justify-content: center;background-color: white;position: relative;}#sk-container-id-1 div.sk-item::before, #sk-container-id-1 div.sk-parallel-item::before {content: \"\";position: absolute;border-left: 1px solid gray;box-sizing: border-box;top: 0;bottom: 0;left: 50%;z-index: -1;}#sk-container-id-1 div.sk-parallel-item {display: flex;flex-direction: column;z-index: 1;position: relative;background-color: white;}#sk-container-id-1 div.sk-parallel-item:first-child::after {align-self: flex-end;width: 50%;}#sk-container-id-1 div.sk-parallel-item:last-child::after {align-self: flex-start;width: 50%;}#sk-container-id-1 div.sk-parallel-item:only-child::after {width: 0;}#sk-container-id-1 div.sk-dashed-wrapped {border: 1px dashed gray;margin: 0 0.4em 0.5em 0.4em;box-sizing: border-box;padding-bottom: 0.4em;background-color: white;}#sk-container-id-1 div.sk-label label {font-family: monospace;font-weight: bold;display: inline-block;line-height: 1.2em;}#sk-container-id-1 div.sk-label-container {text-align: center;}#sk-container-id-1 div.sk-container {/* jupyter's `normalize.less` sets `[hidden] { display: none; }` but bootstrap.min.css set `[hidden] { display: none !important; }` so we also need the `!important` here to be able to override the default hidden behavior on the sphinx rendered scikit-learn.org. See: https://github.com/scikit-learn/scikit-learn/issues/21755 */display: inline-block !important;position: relative;}#sk-container-id-1 div.sk-text-repr-fallback {display: none;}</style><div id=\"sk-container-id-1\" class=\"sk-top-container\"><div class=\"sk-text-repr-fallback\"><pre>DecisionTreeRegressor()</pre><b>In a Jupyter environment, please rerun this cell to show the HTML representation or trust the notebook. <br />On GitHub, the HTML representation is unable to render, please try loading this page with nbviewer.org.</b></div><div class=\"sk-container\" hidden><div class=\"sk-item\"><div class=\"sk-estimator sk-toggleable\"><input class=\"sk-toggleable__control sk-hidden--visually\" id=\"sk-estimator-id-1\" type=\"checkbox\" checked><label for=\"sk-estimator-id-1\" class=\"sk-toggleable__label sk-toggleable__label-arrow\">DecisionTreeRegressor</label><div class=\"sk-toggleable__content\"><pre>DecisionTreeRegressor()</pre></div></div></div></div></div>"
            ]
          },
          "metadata": {},
          "execution_count": 40
        }
      ],
      "source": [
        "dTree.fit(x, _y)"
      ]
    },
    {
      "cell_type": "code",
      "execution_count": null,
      "metadata": {
        "id": "4_9FC5T_BKyf"
      },
      "outputs": [],
      "source": [
        "y_pred = dTree.predict(x_test)"
      ]
    },
    {
      "cell_type": "code",
      "execution_count": null,
      "metadata": {
        "id": "Z4ECiqsnNPzD",
        "colab": {
          "base_uri": "https://localhost:8080/",
          "height": 430
        },
        "outputId": "7b4a0014-078f-4e8b-cdb1-c0669992236d"
      },
      "outputs": [
        {
          "output_type": "display_data",
          "data": {
            "text/plain": [
              "<Figure size 640x480 with 1 Axes>"
            ],
            "image/png": "[encoded data removed]"
          },
          "metadata": {}
        }
      ],
      "source": [
        "plt.plot(range(1,39), y_pred, label = 'predicted points')\n",
        "plt.plot(range(1,39), y_test, label = 'actual points')\n",
        "plt.legend()\n",
        "plt.show()"
      ]
    },
    {
      "cell_type": "code",
      "execution_count": null,
      "metadata": {
        "id": "JV2TVVmdNoMl",
        "colab": {
          "base_uri": "https://localhost:8080/"
        },
        "outputId": "d458f30a-990c-4512-b276-6bcdb3de621e"
      },
      "outputs": [
        {
          "output_type": "stream",
          "name": "stdout",
          "text": [
            "\n",
            "Mean Absolute Error = 5.947368421052632,\n",
            "Mean Squared Error = 52.68421052631579,\n",
            "Root Mean Squared Error = 7.258388975958494\n",
            "\n"
          ]
        }
      ],
      "source": [
        "print(f\"\"\"\n",
        "Mean Absolute Error = {mean_absolute_error(y_pred, y_test)},\n",
        "Mean Squared Error = {mean_squared_error(y_pred, y_test)},\n",
        "Root Mean Squared Error = {np.sqrt(mean_squared_error(y_pred, y_test))}\n",
        "\"\"\")"
      ]
    },
    {
      "cell_type": "code",
      "execution_count": null,
      "metadata": {
        "id": "81YACmONHnKB"
      },
      "outputs": [],
      "source": [
        "model = XGBRegressor(objective = 'reg:absoluteerror')"
      ]
    },
    {
      "cell_type": "code",
      "execution_count": null,
      "metadata": {
        "id": "f9zfE07bI0vA"
      },
      "outputs": [],
      "source": [
        "parameters = {\n",
        "    'n_estimators': [100,200,300,400]\n",
        "}"
      ]
    },
    {
      "cell_type": "code",
      "execution_count": null,
      "metadata": {
        "id": "RtP-m55BJMA_"
      },
      "outputs": [],
      "source": [
        "model = GridSearchCV(model, parameters, scoring='neg_mean_absolute_error')"
      ]
    },
    {
      "cell_type": "code",
      "execution_count": null,
      "metadata": {
        "id": "ML4AZcm5Jmt_",
        "colab": {
          "base_uri": "https://localhost:8080/",
          "height": 118
        },
        "outputId": "10ba4c48-33af-4662-add9-4e0d22bb1b82"
      },
      "outputs": [
        {
          "output_type": "execute_result",
          "data": {
            "text/plain": [
              "GridSearchCV(estimator=XGBRegressor(base_score=None, booster=None,\n",
              "                                    callbacks=None, colsample_bylevel=None,\n",
              "                                    colsample_bynode=None,\n",
              "                                    colsample_bytree=None, device=None,\n",
              "                                    early_stopping_rounds=None,\n",
              "                                    enable_categorical=False, eval_metric=None,\n",
              "                                    feature_types=None, gamma=None,\n",
              "                                    grow_policy=None, importance_type=None,\n",
              "                                    interaction_constraints=None,\n",
              "                                    learning_rate=None, max_bin=None,\n",
              "                                    max_cat_threshold=None,\n",
              "                                    max_cat_to_onehot=None, max_delta_step=None,\n",
              "                                    max_depth=None, max_leaves=None,\n",
              "                                    min_child_weight=None, missing=nan,\n",
              "                                    monotone_constraints=None,\n",
              "                                    multi_strategy=None, n_estimators=None,\n",
              "                                    n_jobs=None, num_parallel_tree=None,\n",
              "                                    objective='reg:absoluteerror', ...),\n",
              "             param_grid={'n_estimators': [100, 200, 300, 400]},\n",
              "             scoring='neg_mean_absolute_error')"
            ],
            "text/html": [
              "<style>#sk-container-id-2 {color: black;}#sk-container-id-2 pre{padding: 0;}#sk-container-id-2 div.sk-toggleable {background-color: white;}#sk-container-id-2 label.sk-toggleable__label {cursor: pointer;display: block;width: 100%;margin-bottom: 0;padding: 0.3em;box-sizing: border-box;text-align: center;}#sk-container-id-2 label.sk-toggleable__label-arrow:before {content: \"▸\";float: left;margin-right: 0.25em;color: #696969;}#sk-container-id-2 label.sk-toggleable__label-arrow:hover:before {color: black;}#sk-container-id-2 div.sk-estimator:hover label.sk-toggleable__label-arrow:before {color: black;}#sk-container-id-2 div.sk-toggleable__content {max-height: 0;max-width: 0;overflow: hidden;text-align: left;background-color: #f0f8ff;}#sk-container-id-2 div.sk-toggleable__content pre {margin: 0.2em;color: black;border-radius: 0.25em;background-color: #f0f8ff;}#sk-container-id-2 input.sk-toggleable__control:checked~div.sk-toggleable__content {max-height: 200px;max-width: 100%;overflow: auto;}#sk-container-id-2 input.sk-toggleable__control:checked~label.sk-toggleable__label-arrow:before {content: \"▾\";}#sk-container-id-2 div.sk-estimator input.sk-toggleable__control:checked~label.sk-toggleable__label {background-color: #d4ebff;}#sk-container-id-2 div.sk-label input.sk-toggleable__control:checked~label.sk-toggleable__label {background-color: #d4ebff;}#sk-container-id-2 input.sk-hidden--visually {border: 0;clip: rect(1px 1px 1px 1px);clip: rect(1px, 1px, 1px, 1px);height: 1px;margin: -1px;overflow: hidden;padding: 0;position: absolute;width: 1px;}#sk-container-id-2 div.sk-estimator {font-family: monospace;background-color: #f0f8ff;border: 1px dotted black;border-radius: 0.25em;box-sizing: border-box;margin-bottom: 0.5em;}#sk-container-id-2 div.sk-estimator:hover {background-color: #d4ebff;}#sk-container-id-2 div.sk-parallel-item::after {content: \"\";width: 100%;border-bottom: 1px solid gray;flex-grow: 1;}#sk-container-id-2 div.sk-label:hover label.sk-toggleable__label {background-color: #d4ebff;}#sk-container-id-2 div.sk-serial::before {content: \"\";position: absolute;border-left: 1px solid gray;box-sizing: border-box;top: 0;bottom: 0;left: 50%;z-index: 0;}#sk-container-id-2 div.sk-serial {display: flex;flex-direction: column;align-items: center;background-color: white;padding-right: 0.2em;padding-left: 0.2em;position: relative;}#sk-container-id-2 div.sk-item {position: relative;z-index: 1;}#sk-container-id-2 div.sk-parallel {display: flex;align-items: stretch;justify-content: center;background-color: white;position: relative;}#sk-container-id-2 div.sk-item::before, #sk-container-id-2 div.sk-parallel-item::before {content: \"\";position: absolute;border-left: 1px solid gray;box-sizing: border-box;top: 0;bottom: 0;left: 50%;z-index: -1;}#sk-container-id-2 div.sk-parallel-item {display: flex;flex-direction: column;z-index: 1;position: relative;background-color: white;}#sk-container-id-2 div.sk-parallel-item:first-child::after {align-self: flex-end;width: 50%;}#sk-container-id-2 div.sk-parallel-item:last-child::after {align-self: flex-start;width: 50%;}#sk-container-id-2 div.sk-parallel-item:only-child::after {width: 0;}#sk-container-id-2 div.sk-dashed-wrapped {border: 1px dashed gray;margin: 0 0.4em 0.5em 0.4em;box-sizing: border-box;padding-bottom: 0.4em;background-color: white;}#sk-container-id-2 div.sk-label label {font-family: monospace;font-weight: bold;display: inline-block;line-height: 1.2em;}#sk-container-id-2 div.sk-label-container {text-align: center;}#sk-container-id-2 div.sk-container {/* jupyter's `normalize.less` sets `[hidden] { display: none; }` but bootstrap.min.css set `[hidden] { display: none !important; }` so we also need the `!important` here to be able to override the default hidden behavior on the sphinx rendered scikit-learn.org. See: https://github.com/scikit-learn/scikit-learn/issues/21755 */display: inline-block !important;position: relative;}#sk-container-id-2 div.sk-text-repr-fallback {display: none;}</style><div id=\"sk-container-id-2\" class=\"sk-top-container\"><div class=\"sk-text-repr-fallback\"><pre>GridSearchCV(estimator=XGBRegressor(base_score=None, booster=None,\n",
              "                                    callbacks=None, colsample_bylevel=None,\n",
              "                                    colsample_bynode=None,\n",
              "                                    colsample_bytree=None, device=None,\n",
              "                                    early_stopping_rounds=None,\n",
              "                                    enable_categorical=False, eval_metric=None,\n",
              "                                    feature_types=None, gamma=None,\n",
              "                                    grow_policy=None, importance_type=None,\n",
              "                                    interaction_constraints=None,\n",
              "                                    learning_rate=None, max_bin=None,\n",
              "                                    max_cat_threshold=None,\n",
              "                                    max_cat_to_onehot=None, max_delta_step=None,\n",
              "                                    max_depth=None, max_leaves=None,\n",
              "                                    min_child_weight=None, missing=nan,\n",
              "                                    monotone_constraints=None,\n",
              "                                    multi_strategy=None, n_estimators=None,\n",
              "                                    n_jobs=None, num_parallel_tree=None,\n",
              "                                    objective=&#x27;reg:absoluteerror&#x27;, ...),\n",
              "             param_grid={&#x27;n_estimators&#x27;: [100, 200, 300, 400]},\n",
              "             scoring=&#x27;neg_mean_absolute_error&#x27;)</pre><b>In a Jupyter environment, please rerun this cell to show the HTML representation or trust the notebook. <br />On GitHub, the HTML representation is unable to render, please try loading this page with nbviewer.org.</b></div><div class=\"sk-container\" hidden><div class=\"sk-item sk-dashed-wrapped\"><div class=\"sk-label-container\"><div class=\"sk-label sk-toggleable\"><input class=\"sk-toggleable__control sk-hidden--visually\" id=\"sk-estimator-id-2\" type=\"checkbox\" ><label for=\"sk-estimator-id-2\" class=\"sk-toggleable__label sk-toggleable__label-arrow\">GridSearchCV</label><div class=\"sk-toggleable__content\"><pre>GridSearchCV(estimator=XGBRegressor(base_score=None, booster=None,\n",
              "                                    callbacks=None, colsample_bylevel=None,\n",
              "                                    colsample_bynode=None,\n",
              "                                    colsample_bytree=None, device=None,\n",
              "                                    early_stopping_rounds=None,\n",
              "                                    enable_categorical=False, eval_metric=None,\n",
              "                                    feature_types=None, gamma=None,\n",
              "                                    grow_policy=None, importance_type=None,\n",
              "                                    interaction_constraints=None,\n",
              "                                    learning_rate=None, max_bin=None,\n",
              "                                    max_cat_threshold=None,\n",
              "                                    max_cat_to_onehot=None, max_delta_step=None,\n",
              "                                    max_depth=None, max_leaves=None,\n",
              "                                    min_child_weight=None, missing=nan,\n",
              "                                    monotone_constraints=None,\n",
              "                                    multi_strategy=None, n_estimators=None,\n",
              "                                    n_jobs=None, num_parallel_tree=None,\n",
              "                                    objective=&#x27;reg:absoluteerror&#x27;, ...),\n",
              "             param_grid={&#x27;n_estimators&#x27;: [100, 200, 300, 400]},\n",
              "             scoring=&#x27;neg_mean_absolute_error&#x27;)</pre></div></div></div><div class=\"sk-parallel\"><div class=\"sk-parallel-item\"><div class=\"sk-item\"><div class=\"sk-label-container\"><div class=\"sk-label sk-toggleable\"><input class=\"sk-toggleable__control sk-hidden--visually\" id=\"sk-estimator-id-3\" type=\"checkbox\" ><label for=\"sk-estimator-id-3\" class=\"sk-toggleable__label sk-toggleable__label-arrow\">estimator: XGBRegressor</label><div class=\"sk-toggleable__content\"><pre>XGBRegressor(base_score=None, booster=None, callbacks=None,\n",
              "             colsample_bylevel=None, colsample_bynode=None,\n",
              "             colsample_bytree=None, device=None, early_stopping_rounds=None,\n",
              "             enable_categorical=False, eval_metric=None, feature_types=None,\n",
              "             gamma=None, grow_policy=None, importance_type=None,\n",
              "             interaction_constraints=None, learning_rate=None, max_bin=None,\n",
              "             max_cat_threshold=None, max_cat_to_onehot=None,\n",
              "             max_delta_step=None, max_depth=None, max_leaves=None,\n",
              "             min_child_weight=None, missing=nan, monotone_constraints=None,\n",
              "             multi_strategy=None, n_estimators=None, n_jobs=None,\n",
              "             num_parallel_tree=None, objective=&#x27;reg:absoluteerror&#x27;, ...)</pre></div></div></div><div class=\"sk-serial\"><div class=\"sk-item\"><div class=\"sk-estimator sk-toggleable\"><input class=\"sk-toggleable__control sk-hidden--visually\" id=\"sk-estimator-id-4\" type=\"checkbox\" ><label for=\"sk-estimator-id-4\" class=\"sk-toggleable__label sk-toggleable__label-arrow\">XGBRegressor</label><div class=\"sk-toggleable__content\"><pre>XGBRegressor(base_score=None, booster=None, callbacks=None,\n",
              "             colsample_bylevel=None, colsample_bynode=None,\n",
              "             colsample_bytree=None, device=None, early_stopping_rounds=None,\n",
              "             enable_categorical=False, eval_metric=None, feature_types=None,\n",
              "             gamma=None, grow_policy=None, importance_type=None,\n",
              "             interaction_constraints=None, learning_rate=None, max_bin=None,\n",
              "             max_cat_threshold=None, max_cat_to_onehot=None,\n",
              "             max_delta_step=None, max_depth=None, max_leaves=None,\n",
              "             min_child_weight=None, missing=nan, monotone_constraints=None,\n",
              "             multi_strategy=None, n_estimators=None, n_jobs=None,\n",
              "             num_parallel_tree=None, objective=&#x27;reg:absoluteerror&#x27;, ...)</pre></div></div></div></div></div></div></div></div></div></div>"
            ]
          },
          "metadata": {},
          "execution_count": 47
        }
      ],
      "source": [
        "model.fit(x,_y)"
      ]
    },
    {
      "cell_type": "code",
      "execution_count": null,
      "metadata": {
        "id": "9bDnuaU0Jwcb"
      },
      "outputs": [],
      "source": [
        "y_pred = model.predict(x_test)"
      ]
    },
    {
      "cell_type": "code",
      "execution_count": null,
      "metadata": {
        "id": "wp2BRkKVJ2NM",
        "colab": {
          "base_uri": "https://localhost:8080/",
          "height": 430
        },
        "outputId": "85f7186b-aab6-4d15-9bd1-44cb10872f9d"
      },
      "outputs": [
        {
          "output_type": "display_data",
          "data": {
            "text/plain": [
              "<Figure size 640x480 with 1 Axes>"
            ],
            "image/png": "[encoded data removed]"
          },
          "metadata": {}
        }
      ],
      "source": [
        "plt.plot(range(1,39), y_pred, label = 'predicted points')\n",
        "plt.plot(range(1,39), y_test, label = 'actual points')\n",
        "plt.legend()\n",
        "plt.show()"
      ]
    },
    {
      "cell_type": "code",
      "execution_count": null,
      "metadata": {
        "id": "JqQB6fIkJ6Sf",
        "colab": {
          "base_uri": "https://localhost:8080/"
        },
        "outputId": "cc1219d5-ab10-499d-e7c7-7d8284b3bb9c"
      },
      "outputs": [
        {
          "output_type": "stream",
          "name": "stdout",
          "text": [
            "\n",
            "Mean Absolute Error = 4.430470159179286,\n",
            "Mean Squared Error = 30.051361760278844,\n",
            "Root Mean Squared Error = 5.4819122357329695\n",
            "\n"
          ]
        }
      ],
      "source": [
        "print(f\"\"\"\n",
        "Mean Absolute Error = {mean_absolute_error(y_pred, y_test)},\n",
        "Mean Squared Error = {mean_squared_error(y_pred, y_test)},\n",
        "Root Mean Squared Error = {np.sqrt(mean_squared_error(y_pred, y_test))}\n",
        "\"\"\")"
      ]
    },
    {
      "cell_type": "code",
      "execution_count": null,
      "metadata": {
        "id": "5XT4QcxGNhSL"
      },
      "outputs": [],
      "source": [
        "parameters  ={\n",
        "    'hidden_layer_sizes': [(50), (50,50)],\n",
        "    'max_iter': [100,200,300,400],\n",
        "    'activation': ['relu', 'tanh'],\n",
        "    'solver': ['adam'],\n",
        "    'learning_rate_init': [0.001, 0.01, 0.1]\n",
        "\n",
        "}"
      ]
    },
    {
      "cell_type": "code",
      "execution_count": null,
      "metadata": {
        "id": "cgvhmqwBeBdt"
      },
      "outputs": [],
      "source": [
        "mlp = GridSearchCV(MLPRegressor(), parameters, scoring='neg_mean_absolute_error')"
      ]
    },
    {
      "cell_type": "code",
      "execution_count": null,
      "metadata": {
        "colab": {
          "base_uri": "https://localhost:8080/",
          "height": 1000
        },
        "id": "pVVWTB7QMU_h",
        "outputId": "2fdd3a1f-8f4a-401b-81b5-c18e8ca637a0"
      },
      "outputs": [
        {
          "output_type": "stream",
          "name": "stderr",
          "text": [
            "/usr/local/lib/python3.10/dist-packages/sklearn/neural_network/_multilayer_perceptron.py:691: ConvergenceWarning: Stochastic Optimizer: Maximum iterations (100) reached and the optimization hasn't converged yet.\n",
            "  warnings.warn(\n",
            "/usr/local/lib/python3.10/dist-packages/sklearn/neural_network/_multilayer_perceptron.py:691: ConvergenceWarning: Stochastic Optimizer: Maximum iterations (100) reached and the optimization hasn't converged yet.\n",
            "  warnings.warn(\n",
            "/usr/local/lib/python3.10/dist-packages/sklearn/neural_network/_multilayer_perceptron.py:691: ConvergenceWarning: Stochastic Optimizer: Maximum iterations (100) reached and the optimization hasn't converged yet.\n",
            "  warnings.warn(\n",
            "/usr/local/lib/python3.10/dist-packages/sklearn/neural_network/_multilayer_perceptron.py:691: ConvergenceWarning: Stochastic Optimizer: Maximum iterations (100) reached and the optimization hasn't converged yet.\n",
            "  warnings.warn(\n",
            "/usr/local/lib/python3.10/dist-packages/sklearn/neural_network/_multilayer_perceptron.py:691: ConvergenceWarning: Stochastic Optimizer: Maximum iterations (100) reached and the optimization hasn't converged yet.\n",
            "  warnings.warn(\n",
            "/usr/local/lib/python3.10/dist-packages/sklearn/neural_network/_multilayer_perceptron.py:691: ConvergenceWarning: Stochastic Optimizer: Maximum iterations (200) reached and the optimization hasn't converged yet.\n",
            "  warnings.warn(\n",
            "/usr/local/lib/python3.10/dist-packages/sklearn/neural_network/_multilayer_perceptron.py:691: ConvergenceWarning: Stochastic Optimizer: Maximum iterations (200) reached and the optimization hasn't converged yet.\n",
            "  warnings.warn(\n",
            "/usr/local/lib/python3.10/dist-packages/sklearn/neural_network/_multilayer_perceptron.py:691: ConvergenceWarning: Stochastic Optimizer: Maximum iterations (200) reached and the optimization hasn't converged yet.\n",
            "  warnings.warn(\n",
            "/usr/local/lib/python3.10/dist-packages/sklearn/neural_network/_multilayer_perceptron.py:691: ConvergenceWarning: Stochastic Optimizer: Maximum iterations (200) reached and the optimization hasn't converged yet.\n",
            "  warnings.warn(\n",
            "/usr/local/lib/python3.10/dist-packages/sklearn/neural_network/_multilayer_perceptron.py:691: ConvergenceWarning: Stochastic Optimizer: Maximum iterations (200) reached and the optimization hasn't converged yet.\n",
            "  warnings.warn(\n",
            "/usr/local/lib/python3.10/dist-packages/sklearn/neural_network/_multilayer_perceptron.py:691: ConvergenceWarning: Stochastic Optimizer: Maximum iterations (300) reached and the optimization hasn't converged yet.\n",
            "  warnings.warn(\n",
            "/usr/local/lib/python3.10/dist-packages/sklearn/neural_network/_multilayer_perceptron.py:691: ConvergenceWarning: Stochastic Optimizer: Maximum iterations (300) reached and the optimization hasn't converged yet.\n",
            "  warnings.warn(\n",
            "/usr/local/lib/python3.10/dist-packages/sklearn/neural_network/_multilayer_perceptron.py:691: ConvergenceWarning: Stochastic Optimizer: Maximum iterations (300) reached and the optimization hasn't converged yet.\n",
            "  warnings.warn(\n",
            "/usr/local/lib/python3.10/dist-packages/sklearn/neural_network/_multilayer_perceptron.py:691: ConvergenceWarning: Stochastic Optimizer: Maximum iterations (300) reached and the optimization hasn't converged yet.\n",
            "  warnings.warn(\n",
            "/usr/local/lib/python3.10/dist-packages/sklearn/neural_network/_multilayer_perceptron.py:691: ConvergenceWarning: Stochastic Optimizer: Maximum iterations (400) reached and the optimization hasn't converged yet.\n",
            "  warnings.warn(\n",
            "/usr/local/lib/python3.10/dist-packages/sklearn/neural_network/_multilayer_perceptron.py:691: ConvergenceWarning: Stochastic Optimizer: Maximum iterations (400) reached and the optimization hasn't converged yet.\n",
            "  warnings.warn(\n",
            "/usr/local/lib/python3.10/dist-packages/sklearn/neural_network/_multilayer_perceptron.py:691: ConvergenceWarning: Stochastic Optimizer: Maximum iterations (400) reached and the optimization hasn't converged yet.\n",
            "  warnings.warn(\n",
            "/usr/local/lib/python3.10/dist-packages/sklearn/neural_network/_multilayer_perceptron.py:691: ConvergenceWarning: Stochastic Optimizer: Maximum iterations (400) reached and the optimization hasn't converged yet.\n",
            "  warnings.warn(\n",
            "/usr/local/lib/python3.10/dist-packages/sklearn/neural_network/_multilayer_perceptron.py:691: ConvergenceWarning: Stochastic Optimizer: Maximum iterations (400) reached and the optimization hasn't converged yet.\n",
            "  warnings.warn(\n",
            "/usr/local/lib/python3.10/dist-packages/sklearn/neural_network/_multilayer_perceptron.py:691: ConvergenceWarning: Stochastic Optimizer: Maximum iterations (100) reached and the optimization hasn't converged yet.\n",
            "  warnings.warn(\n",
            "/usr/local/lib/python3.10/dist-packages/sklearn/neural_network/_multilayer_perceptron.py:691: ConvergenceWarning: Stochastic Optimizer: Maximum iterations (100) reached and the optimization hasn't converged yet.\n",
            "  warnings.warn(\n",
            "/usr/local/lib/python3.10/dist-packages/sklearn/neural_network/_multilayer_perceptron.py:691: ConvergenceWarning: Stochastic Optimizer: Maximum iterations (100) reached and the optimization hasn't converged yet.\n",
            "  warnings.warn(\n",
            "/usr/local/lib/python3.10/dist-packages/sklearn/neural_network/_multilayer_perceptron.py:691: ConvergenceWarning: Stochastic Optimizer: Maximum iterations (100) reached and the optimization hasn't converged yet.\n",
            "  warnings.warn(\n",
            "/usr/local/lib/python3.10/dist-packages/sklearn/neural_network/_multilayer_perceptron.py:691: ConvergenceWarning: Stochastic Optimizer: Maximum iterations (300) reached and the optimization hasn't converged yet.\n",
            "  warnings.warn(\n",
            "/usr/local/lib/python3.10/dist-packages/sklearn/neural_network/_multilayer_perceptron.py:691: ConvergenceWarning: Stochastic Optimizer: Maximum iterations (100) reached and the optimization hasn't converged yet.\n",
            "  warnings.warn(\n",
            "/usr/local/lib/python3.10/dist-packages/sklearn/neural_network/_multilayer_perceptron.py:691: ConvergenceWarning: Stochastic Optimizer: Maximum iterations (100) reached and the optimization hasn't converged yet.\n",
            "  warnings.warn(\n",
            "/usr/local/lib/python3.10/dist-packages/sklearn/neural_network/_multilayer_perceptron.py:691: ConvergenceWarning: Stochastic Optimizer: Maximum iterations (100) reached and the optimization hasn't converged yet.\n",
            "  warnings.warn(\n",
            "/usr/local/lib/python3.10/dist-packages/sklearn/neural_network/_multilayer_perceptron.py:691: ConvergenceWarning: Stochastic Optimizer: Maximum iterations (100) reached and the optimization hasn't converged yet.\n",
            "  warnings.warn(\n",
            "/usr/local/lib/python3.10/dist-packages/sklearn/neural_network/_multilayer_perceptron.py:691: ConvergenceWarning: Stochastic Optimizer: Maximum iterations (100) reached and the optimization hasn't converged yet.\n",
            "  warnings.warn(\n",
            "/usr/local/lib/python3.10/dist-packages/sklearn/neural_network/_multilayer_perceptron.py:691: ConvergenceWarning: Stochastic Optimizer: Maximum iterations (200) reached and the optimization hasn't converged yet.\n",
            "  warnings.warn(\n",
            "/usr/local/lib/python3.10/dist-packages/sklearn/neural_network/_multilayer_perceptron.py:691: ConvergenceWarning: Stochastic Optimizer: Maximum iterations (200) reached and the optimization hasn't converged yet.\n",
            "  warnings.warn(\n",
            "/usr/local/lib/python3.10/dist-packages/sklearn/neural_network/_multilayer_perceptron.py:691: ConvergenceWarning: Stochastic Optimizer: Maximum iterations (200) reached and the optimization hasn't converged yet.\n",
            "  warnings.warn(\n",
            "/usr/local/lib/python3.10/dist-packages/sklearn/neural_network/_multilayer_perceptron.py:691: ConvergenceWarning: Stochastic Optimizer: Maximum iterations (200) reached and the optimization hasn't converged yet.\n",
            "  warnings.warn(\n",
            "/usr/local/lib/python3.10/dist-packages/sklearn/neural_network/_multilayer_perceptron.py:691: ConvergenceWarning: Stochastic Optimizer: Maximum iterations (200) reached and the optimization hasn't converged yet.\n",
            "  warnings.warn(\n",
            "/usr/local/lib/python3.10/dist-packages/sklearn/neural_network/_multilayer_perceptron.py:691: ConvergenceWarning: Stochastic Optimizer: Maximum iterations (300) reached and the optimization hasn't converged yet.\n",
            "  warnings.warn(\n",
            "/usr/local/lib/python3.10/dist-packages/sklearn/neural_network/_multilayer_perceptron.py:691: ConvergenceWarning: Stochastic Optimizer: Maximum iterations (300) reached and the optimization hasn't converged yet.\n",
            "  warnings.warn(\n",
            "/usr/local/lib/python3.10/dist-packages/sklearn/neural_network/_multilayer_perceptron.py:691: ConvergenceWarning: Stochastic Optimizer: Maximum iterations (300) reached and the optimization hasn't converged yet.\n",
            "  warnings.warn(\n",
            "/usr/local/lib/python3.10/dist-packages/sklearn/neural_network/_multilayer_perceptron.py:691: ConvergenceWarning: Stochastic Optimizer: Maximum iterations (300) reached and the optimization hasn't converged yet.\n",
            "  warnings.warn(\n",
            "/usr/local/lib/python3.10/dist-packages/sklearn/neural_network/_multilayer_perceptron.py:691: ConvergenceWarning: Stochastic Optimizer: Maximum iterations (300) reached and the optimization hasn't converged yet.\n",
            "  warnings.warn(\n",
            "/usr/local/lib/python3.10/dist-packages/sklearn/neural_network/_multilayer_perceptron.py:691: ConvergenceWarning: Stochastic Optimizer: Maximum iterations (400) reached and the optimization hasn't converged yet.\n",
            "  warnings.warn(\n",
            "/usr/local/lib/python3.10/dist-packages/sklearn/neural_network/_multilayer_perceptron.py:691: ConvergenceWarning: Stochastic Optimizer: Maximum iterations (400) reached and the optimization hasn't converged yet.\n",
            "  warnings.warn(\n",
            "/usr/local/lib/python3.10/dist-packages/sklearn/neural_network/_multilayer_perceptron.py:691: ConvergenceWarning: Stochastic Optimizer: Maximum iterations (100) reached and the optimization hasn't converged yet.\n",
            "  warnings.warn(\n",
            "/usr/local/lib/python3.10/dist-packages/sklearn/neural_network/_multilayer_perceptron.py:691: ConvergenceWarning: Stochastic Optimizer: Maximum iterations (100) reached and the optimization hasn't converged yet.\n",
            "  warnings.warn(\n",
            "/usr/local/lib/python3.10/dist-packages/sklearn/neural_network/_multilayer_perceptron.py:691: ConvergenceWarning: Stochastic Optimizer: Maximum iterations (100) reached and the optimization hasn't converged yet.\n",
            "  warnings.warn(\n",
            "/usr/local/lib/python3.10/dist-packages/sklearn/neural_network/_multilayer_perceptron.py:691: ConvergenceWarning: Stochastic Optimizer: Maximum iterations (100) reached and the optimization hasn't converged yet.\n",
            "  warnings.warn(\n",
            "/usr/local/lib/python3.10/dist-packages/sklearn/neural_network/_multilayer_perceptron.py:691: ConvergenceWarning: Stochastic Optimizer: Maximum iterations (100) reached and the optimization hasn't converged yet.\n",
            "  warnings.warn(\n",
            "/usr/local/lib/python3.10/dist-packages/sklearn/neural_network/_multilayer_perceptron.py:691: ConvergenceWarning: Stochastic Optimizer: Maximum iterations (200) reached and the optimization hasn't converged yet.\n",
            "  warnings.warn(\n",
            "/usr/local/lib/python3.10/dist-packages/sklearn/neural_network/_multilayer_perceptron.py:691: ConvergenceWarning: Stochastic Optimizer: Maximum iterations (200) reached and the optimization hasn't converged yet.\n",
            "  warnings.warn(\n",
            "/usr/local/lib/python3.10/dist-packages/sklearn/neural_network/_multilayer_perceptron.py:691: ConvergenceWarning: Stochastic Optimizer: Maximum iterations (200) reached and the optimization hasn't converged yet.\n",
            "  warnings.warn(\n",
            "/usr/local/lib/python3.10/dist-packages/sklearn/neural_network/_multilayer_perceptron.py:691: ConvergenceWarning: Stochastic Optimizer: Maximum iterations (200) reached and the optimization hasn't converged yet.\n",
            "  warnings.warn(\n",
            "/usr/local/lib/python3.10/dist-packages/sklearn/neural_network/_multilayer_perceptron.py:691: ConvergenceWarning: Stochastic Optimizer: Maximum iterations (200) reached and the optimization hasn't converged yet.\n",
            "  warnings.warn(\n",
            "/usr/local/lib/python3.10/dist-packages/sklearn/neural_network/_multilayer_perceptron.py:691: ConvergenceWarning: Stochastic Optimizer: Maximum iterations (100) reached and the optimization hasn't converged yet.\n",
            "  warnings.warn(\n",
            "/usr/local/lib/python3.10/dist-packages/sklearn/neural_network/_multilayer_perceptron.py:691: ConvergenceWarning: Stochastic Optimizer: Maximum iterations (100) reached and the optimization hasn't converged yet.\n",
            "  warnings.warn(\n",
            "/usr/local/lib/python3.10/dist-packages/sklearn/neural_network/_multilayer_perceptron.py:691: ConvergenceWarning: Stochastic Optimizer: Maximum iterations (100) reached and the optimization hasn't converged yet.\n",
            "  warnings.warn(\n",
            "/usr/local/lib/python3.10/dist-packages/sklearn/neural_network/_multilayer_perceptron.py:691: ConvergenceWarning: Stochastic Optimizer: Maximum iterations (100) reached and the optimization hasn't converged yet.\n",
            "  warnings.warn(\n",
            "/usr/local/lib/python3.10/dist-packages/sklearn/neural_network/_multilayer_perceptron.py:691: ConvergenceWarning: Stochastic Optimizer: Maximum iterations (100) reached and the optimization hasn't converged yet.\n",
            "  warnings.warn(\n",
            "/usr/local/lib/python3.10/dist-packages/sklearn/neural_network/_multilayer_perceptron.py:691: ConvergenceWarning: Stochastic Optimizer: Maximum iterations (200) reached and the optimization hasn't converged yet.\n",
            "  warnings.warn(\n",
            "/usr/local/lib/python3.10/dist-packages/sklearn/neural_network/_multilayer_perceptron.py:691: ConvergenceWarning: Stochastic Optimizer: Maximum iterations (100) reached and the optimization hasn't converged yet.\n",
            "  warnings.warn(\n",
            "/usr/local/lib/python3.10/dist-packages/sklearn/neural_network/_multilayer_perceptron.py:691: ConvergenceWarning: Stochastic Optimizer: Maximum iterations (100) reached and the optimization hasn't converged yet.\n",
            "  warnings.warn(\n",
            "/usr/local/lib/python3.10/dist-packages/sklearn/neural_network/_multilayer_perceptron.py:691: ConvergenceWarning: Stochastic Optimizer: Maximum iterations (100) reached and the optimization hasn't converged yet.\n",
            "  warnings.warn(\n",
            "/usr/local/lib/python3.10/dist-packages/sklearn/neural_network/_multilayer_perceptron.py:691: ConvergenceWarning: Stochastic Optimizer: Maximum iterations (100) reached and the optimization hasn't converged yet.\n",
            "  warnings.warn(\n",
            "/usr/local/lib/python3.10/dist-packages/sklearn/neural_network/_multilayer_perceptron.py:691: ConvergenceWarning: Stochastic Optimizer: Maximum iterations (100) reached and the optimization hasn't converged yet.\n",
            "  warnings.warn(\n",
            "/usr/local/lib/python3.10/dist-packages/sklearn/neural_network/_multilayer_perceptron.py:691: ConvergenceWarning: Stochastic Optimizer: Maximum iterations (100) reached and the optimization hasn't converged yet.\n",
            "  warnings.warn(\n",
            "/usr/local/lib/python3.10/dist-packages/sklearn/neural_network/_multilayer_perceptron.py:691: ConvergenceWarning: Stochastic Optimizer: Maximum iterations (100) reached and the optimization hasn't converged yet.\n",
            "  warnings.warn(\n",
            "/usr/local/lib/python3.10/dist-packages/sklearn/neural_network/_multilayer_perceptron.py:691: ConvergenceWarning: Stochastic Optimizer: Maximum iterations (200) reached and the optimization hasn't converged yet.\n",
            "  warnings.warn(\n",
            "/usr/local/lib/python3.10/dist-packages/sklearn/neural_network/_multilayer_perceptron.py:691: ConvergenceWarning: Stochastic Optimizer: Maximum iterations (200) reached and the optimization hasn't converged yet.\n",
            "  warnings.warn(\n",
            "/usr/local/lib/python3.10/dist-packages/sklearn/neural_network/_multilayer_perceptron.py:691: ConvergenceWarning: Stochastic Optimizer: Maximum iterations (300) reached and the optimization hasn't converged yet.\n",
            "  warnings.warn(\n",
            "/usr/local/lib/python3.10/dist-packages/sklearn/neural_network/_multilayer_perceptron.py:691: ConvergenceWarning: Stochastic Optimizer: Maximum iterations (100) reached and the optimization hasn't converged yet.\n",
            "  warnings.warn(\n",
            "/usr/local/lib/python3.10/dist-packages/sklearn/neural_network/_multilayer_perceptron.py:691: ConvergenceWarning: Stochastic Optimizer: Maximum iterations (100) reached and the optimization hasn't converged yet.\n",
            "  warnings.warn(\n",
            "/usr/local/lib/python3.10/dist-packages/sklearn/neural_network/_multilayer_perceptron.py:691: ConvergenceWarning: Stochastic Optimizer: Maximum iterations (100) reached and the optimization hasn't converged yet.\n",
            "  warnings.warn(\n",
            "/usr/local/lib/python3.10/dist-packages/sklearn/neural_network/_multilayer_perceptron.py:691: ConvergenceWarning: Stochastic Optimizer: Maximum iterations (100) reached and the optimization hasn't converged yet.\n",
            "  warnings.warn(\n",
            "/usr/local/lib/python3.10/dist-packages/sklearn/neural_network/_multilayer_perceptron.py:691: ConvergenceWarning: Stochastic Optimizer: Maximum iterations (200) reached and the optimization hasn't converged yet.\n",
            "  warnings.warn(\n",
            "/usr/local/lib/python3.10/dist-packages/sklearn/neural_network/_multilayer_perceptron.py:691: ConvergenceWarning: Stochastic Optimizer: Maximum iterations (200) reached and the optimization hasn't converged yet.\n",
            "  warnings.warn(\n",
            "/usr/local/lib/python3.10/dist-packages/sklearn/neural_network/_multilayer_perceptron.py:691: ConvergenceWarning: Stochastic Optimizer: Maximum iterations (200) reached and the optimization hasn't converged yet.\n",
            "  warnings.warn(\n",
            "/usr/local/lib/python3.10/dist-packages/sklearn/neural_network/_multilayer_perceptron.py:691: ConvergenceWarning: Stochastic Optimizer: Maximum iterations (200) reached and the optimization hasn't converged yet.\n",
            "  warnings.warn(\n",
            "/usr/local/lib/python3.10/dist-packages/sklearn/neural_network/_multilayer_perceptron.py:691: ConvergenceWarning: Stochastic Optimizer: Maximum iterations (300) reached and the optimization hasn't converged yet.\n",
            "  warnings.warn(\n",
            "/usr/local/lib/python3.10/dist-packages/sklearn/neural_network/_multilayer_perceptron.py:691: ConvergenceWarning: Stochastic Optimizer: Maximum iterations (300) reached and the optimization hasn't converged yet.\n",
            "  warnings.warn(\n"
          ]
        },
        {
          "output_type": "execute_result",
          "data": {
            "text/plain": [
              "GridSearchCV(estimator=MLPRegressor(),\n",
              "             param_grid={'activation': ['relu', 'tanh'],\n",
              "                         'hidden_layer_sizes': [50, (50, 50)],\n",
              "                         'learning_rate_init': [0.001, 0.01, 0.1],\n",
              "                         'max_iter': [100, 200, 300, 400], 'solver': ['adam']},\n",
              "             scoring='neg_mean_absolute_error')"
            ],
            "text/html": [
              "<style>#sk-container-id-3 {color: black;}#sk-container-id-3 pre{padding: 0;}#sk-container-id-3 div.sk-toggleable {background-color: white;}#sk-container-id-3 label.sk-toggleable__label {cursor: pointer;display: block;width: 100%;margin-bottom: 0;padding: 0.3em;box-sizing: border-box;text-align: center;}#sk-container-id-3 label.sk-toggleable__label-arrow:before {content: \"▸\";float: left;margin-right: 0.25em;color: #696969;}#sk-container-id-3 label.sk-toggleable__label-arrow:hover:before {color: black;}#sk-container-id-3 div.sk-estimator:hover label.sk-toggleable__label-arrow:before {color: black;}#sk-container-id-3 div.sk-toggleable__content {max-height: 0;max-width: 0;overflow: hidden;text-align: left;background-color: #f0f8ff;}#sk-container-id-3 div.sk-toggleable__content pre {margin: 0.2em;color: black;border-radius: 0.25em;background-color: #f0f8ff;}#sk-container-id-3 input.sk-toggleable__control:checked~div.sk-toggleable__content {max-height: 200px;max-width: 100%;overflow: auto;}#sk-container-id-3 input.sk-toggleable__control:checked~label.sk-toggleable__label-arrow:before {content: \"▾\";}#sk-container-id-3 div.sk-estimator input.sk-toggleable__control:checked~label.sk-toggleable__label {background-color: #d4ebff;}#sk-container-id-3 div.sk-label input.sk-toggleable__control:checked~label.sk-toggleable__label {background-color: #d4ebff;}#sk-container-id-3 input.sk-hidden--visually {border: 0;clip: rect(1px 1px 1px 1px);clip: rect(1px, 1px, 1px, 1px);height: 1px;margin: -1px;overflow: hidden;padding: 0;position: absolute;width: 1px;}#sk-container-id-3 div.sk-estimator {font-family: monospace;background-color: #f0f8ff;border: 1px dotted black;border-radius: 0.25em;box-sizing: border-box;margin-bottom: 0.5em;}#sk-container-id-3 div.sk-estimator:hover {background-color: #d4ebff;}#sk-container-id-3 div.sk-parallel-item::after {content: \"\";width: 100%;border-bottom: 1px solid gray;flex-grow: 1;}#sk-container-id-3 div.sk-label:hover label.sk-toggleable__label {background-color: #d4ebff;}#sk-container-id-3 div.sk-serial::before {content: \"\";position: absolute;border-left: 1px solid gray;box-sizing: border-box;top: 0;bottom: 0;left: 50%;z-index: 0;}#sk-container-id-3 div.sk-serial {display: flex;flex-direction: column;align-items: center;background-color: white;padding-right: 0.2em;padding-left: 0.2em;position: relative;}#sk-container-id-3 div.sk-item {position: relative;z-index: 1;}#sk-container-id-3 div.sk-parallel {display: flex;align-items: stretch;justify-content: center;background-color: white;position: relative;}#sk-container-id-3 div.sk-item::before, #sk-container-id-3 div.sk-parallel-item::before {content: \"\";position: absolute;border-left: 1px solid gray;box-sizing: border-box;top: 0;bottom: 0;left: 50%;z-index: -1;}#sk-container-id-3 div.sk-parallel-item {display: flex;flex-direction: column;z-index: 1;position: relative;background-color: white;}#sk-container-id-3 div.sk-parallel-item:first-child::after {align-self: flex-end;width: 50%;}#sk-container-id-3 div.sk-parallel-item:last-child::after {align-self: flex-start;width: 50%;}#sk-container-id-3 div.sk-parallel-item:only-child::after {width: 0;}#sk-container-id-3 div.sk-dashed-wrapped {border: 1px dashed gray;margin: 0 0.4em 0.5em 0.4em;box-sizing: border-box;padding-bottom: 0.4em;background-color: white;}#sk-container-id-3 div.sk-label label {font-family: monospace;font-weight: bold;display: inline-block;line-height: 1.2em;}#sk-container-id-3 div.sk-label-container {text-align: center;}#sk-container-id-3 div.sk-container {/* jupyter's `normalize.less` sets `[hidden] { display: none; }` but bootstrap.min.css set `[hidden] { display: none !important; }` so we also need the `!important` here to be able to override the default hidden behavior on the sphinx rendered scikit-learn.org. See: https://github.com/scikit-learn/scikit-learn/issues/21755 */display: inline-block !important;position: relative;}#sk-container-id-3 div.sk-text-repr-fallback {display: none;}</style><div id=\"sk-container-id-3\" class=\"sk-top-container\"><div class=\"sk-text-repr-fallback\"><pre>GridSearchCV(estimator=MLPRegressor(),\n",
              "             param_grid={&#x27;activation&#x27;: [&#x27;relu&#x27;, &#x27;tanh&#x27;],\n",
              "                         &#x27;hidden_layer_sizes&#x27;: [50, (50, 50)],\n",
              "                         &#x27;learning_rate_init&#x27;: [0.001, 0.01, 0.1],\n",
              "                         &#x27;max_iter&#x27;: [100, 200, 300, 400], &#x27;solver&#x27;: [&#x27;adam&#x27;]},\n",
              "             scoring=&#x27;neg_mean_absolute_error&#x27;)</pre><b>In a Jupyter environment, please rerun this cell to show the HTML representation or trust the notebook. <br />On GitHub, the HTML representation is unable to render, please try loading this page with nbviewer.org.</b></div><div class=\"sk-container\" hidden><div class=\"sk-item sk-dashed-wrapped\"><div class=\"sk-label-container\"><div class=\"sk-label sk-toggleable\"><input class=\"sk-toggleable__control sk-hidden--visually\" id=\"sk-estimator-id-5\" type=\"checkbox\" ><label for=\"sk-estimator-id-5\" class=\"sk-toggleable__label sk-toggleable__label-arrow\">GridSearchCV</label><div class=\"sk-toggleable__content\"><pre>GridSearchCV(estimator=MLPRegressor(),\n",
              "             param_grid={&#x27;activation&#x27;: [&#x27;relu&#x27;, &#x27;tanh&#x27;],\n",
              "                         &#x27;hidden_layer_sizes&#x27;: [50, (50, 50)],\n",
              "                         &#x27;learning_rate_init&#x27;: [0.001, 0.01, 0.1],\n",
              "                         &#x27;max_iter&#x27;: [100, 200, 300, 400], &#x27;solver&#x27;: [&#x27;adam&#x27;]},\n",
              "             scoring=&#x27;neg_mean_absolute_error&#x27;)</pre></div></div></div><div class=\"sk-parallel\"><div class=\"sk-parallel-item\"><div class=\"sk-item\"><div class=\"sk-label-container\"><div class=\"sk-label sk-toggleable\"><input class=\"sk-toggleable__control sk-hidden--visually\" id=\"sk-estimator-id-6\" type=\"checkbox\" ><label for=\"sk-estimator-id-6\" class=\"sk-toggleable__label sk-toggleable__label-arrow\">estimator: MLPRegressor</label><div class=\"sk-toggleable__content\"><pre>MLPRegressor()</pre></div></div></div><div class=\"sk-serial\"><div class=\"sk-item\"><div class=\"sk-estimator sk-toggleable\"><input class=\"sk-toggleable__control sk-hidden--visually\" id=\"sk-estimator-id-7\" type=\"checkbox\" ><label for=\"sk-estimator-id-7\" class=\"sk-toggleable__label sk-toggleable__label-arrow\">MLPRegressor</label><div class=\"sk-toggleable__content\"><pre>MLPRegressor()</pre></div></div></div></div></div></div></div></div></div></div>"
            ]
          },
          "metadata": {},
          "execution_count": 53
        }
      ],
      "source": [
        "mlp.fit(x,_y)"
      ]
    },
    {
      "cell_type": "code",
      "execution_count": null,
      "metadata": {
        "id": "I0-1-RPhMb1Y"
      },
      "outputs": [],
      "source": [
        "y_pred = mlp.predict(x_test)"
      ]
    },
    {
      "cell_type": "code",
      "execution_count": null,
      "metadata": {
        "colab": {
          "base_uri": "https://localhost:8080/",
          "height": 430
        },
        "id": "dwPPc4LxMft_",
        "outputId": "0681c6bb-1099-493e-caed-75216652aa5b"
      },
      "outputs": [
        {
          "output_type": "display_data",
          "data": {
            "text/plain": [
              "<Figure size 640x480 with 1 Axes>"
            ],
            "image/png": "[encoded data removed]"
          },
          "metadata": {}
        }
      ],
      "source": [
        "plt.plot(range(1,39), y_pred, label = 'predicted points')\n",
        "plt.plot(range(1,39), y_test, label = 'actual points')\n",
        "plt.legend()\n",
        "plt.show()"
      ]
    },
    {
      "cell_type": "code",
      "execution_count": null,
      "metadata": {
        "colab": {
          "base_uri": "https://localhost:8080/"
        },
        "id": "q1XujBKrMjLk",
        "outputId": "20d330a7-5f1a-46fe-a953-ac53a974afaf"
      },
      "outputs": [
        {
          "output_type": "stream",
          "name": "stdout",
          "text": [
            "\n",
            "Mean Absolute Error = 4.785887911074522,\n",
            "Mean Squared Error = 35.18371688029706,\n",
            "Root Mean Squared Error = 5.931586371308865\n",
            "\n"
          ]
        }
      ],
      "source": [
        "print(f\"\"\"\n",
        "Mean Absolute Error = {mean_absolute_error(y_pred, y_test)},\n",
        "Mean Squared Error = {mean_squared_error(y_pred, y_test)},\n",
        "Root Mean Squared Error = {np.sqrt(mean_squared_error(y_pred, y_test))}\n",
        "\"\"\")"
      ]
    },
    {
      "cell_type": "code",
      "execution_count": null,
      "metadata": {
        "id": "MeogBhr8fGx6"
      },
      "outputs": [],
      "source": [
        "parameters = {\n",
        "    'n_estimators': [100,200,300],\n",
        "    'max_depth': [5,10, 15, 20]\n",
        "}"
      ]
    },
    {
      "cell_type": "code",
      "execution_count": null,
      "metadata": {
        "id": "XHXOYIcLNOmj"
      },
      "outputs": [],
      "source": [
        "rf = GridSearchCV(RandomForestRegressor(), parameters, scoring='neg_mean_absolute_error')"
      ]
    },
    {
      "cell_type": "code",
      "execution_count": null,
      "metadata": {
        "id": "wEPJ6kTCfGB8",
        "colab": {
          "base_uri": "https://localhost:8080/",
          "height": 118
        },
        "outputId": "66f1caac-a7be-4801-9142-d996225931cf"
      },
      "outputs": [
        {
          "output_type": "execute_result",
          "data": {
            "text/plain": [
              "GridSearchCV(estimator=RandomForestRegressor(),\n",
              "             param_grid={'max_depth': [5, 10, 15, 20],\n",
              "                         'n_estimators': [100, 200, 300]},\n",
              "             scoring='neg_mean_absolute_error')"
            ],
            "text/html": [
              "<style>#sk-container-id-4 {color: black;}#sk-container-id-4 pre{padding: 0;}#sk-container-id-4 div.sk-toggleable {background-color: white;}#sk-container-id-4 label.sk-toggleable__label {cursor: pointer;display: block;width: 100%;margin-bottom: 0;padding: 0.3em;box-sizing: border-box;text-align: center;}#sk-container-id-4 label.sk-toggleable__label-arrow:before {content: \"▸\";float: left;margin-right: 0.25em;color: #696969;}#sk-container-id-4 label.sk-toggleable__label-arrow:hover:before {color: black;}#sk-container-id-4 div.sk-estimator:hover label.sk-toggleable__label-arrow:before {color: black;}#sk-container-id-4 div.sk-toggleable__content {max-height: 0;max-width: 0;overflow: hidden;text-align: left;background-color: #f0f8ff;}#sk-container-id-4 div.sk-toggleable__content pre {margin: 0.2em;color: black;border-radius: 0.25em;background-color: #f0f8ff;}#sk-container-id-4 input.sk-toggleable__control:checked~div.sk-toggleable__content {max-height: 200px;max-width: 100%;overflow: auto;}#sk-container-id-4 input.sk-toggleable__control:checked~label.sk-toggleable__label-arrow:before {content: \"▾\";}#sk-container-id-4 div.sk-estimator input.sk-toggleable__control:checked~label.sk-toggleable__label {background-color: #d4ebff;}#sk-container-id-4 div.sk-label input.sk-toggleable__control:checked~label.sk-toggleable__label {background-color: #d4ebff;}#sk-container-id-4 input.sk-hidden--visually {border: 0;clip: rect(1px 1px 1px 1px);clip: rect(1px, 1px, 1px, 1px);height: 1px;margin: -1px;overflow: hidden;padding: 0;position: absolute;width: 1px;}#sk-container-id-4 div.sk-estimator {font-family: monospace;background-color: #f0f8ff;border: 1px dotted black;border-radius: 0.25em;box-sizing: border-box;margin-bottom: 0.5em;}#sk-container-id-4 div.sk-estimator:hover {background-color: #d4ebff;}#sk-container-id-4 div.sk-parallel-item::after {content: \"\";width: 100%;border-bottom: 1px solid gray;flex-grow: 1;}#sk-container-id-4 div.sk-label:hover label.sk-toggleable__label {background-color: #d4ebff;}#sk-container-id-4 div.sk-serial::before {content: \"\";position: absolute;border-left: 1px solid gray;box-sizing: border-box;top: 0;bottom: 0;left: 50%;z-index: 0;}#sk-container-id-4 div.sk-serial {display: flex;flex-direction: column;align-items: center;background-color: white;padding-right: 0.2em;padding-left: 0.2em;position: relative;}#sk-container-id-4 div.sk-item {position: relative;z-index: 1;}#sk-container-id-4 div.sk-parallel {display: flex;align-items: stretch;justify-content: center;background-color: white;position: relative;}#sk-container-id-4 div.sk-item::before, #sk-container-id-4 div.sk-parallel-item::before {content: \"\";position: absolute;border-left: 1px solid gray;box-sizing: border-box;top: 0;bottom: 0;left: 50%;z-index: -1;}#sk-container-id-4 div.sk-parallel-item {display: flex;flex-direction: column;z-index: 1;position: relative;background-color: white;}#sk-container-id-4 div.sk-parallel-item:first-child::after {align-self: flex-end;width: 50%;}#sk-container-id-4 div.sk-parallel-item:last-child::after {align-self: flex-start;width: 50%;}#sk-container-id-4 div.sk-parallel-item:only-child::after {width: 0;}#sk-container-id-4 div.sk-dashed-wrapped {border: 1px dashed gray;margin: 0 0.4em 0.5em 0.4em;box-sizing: border-box;padding-bottom: 0.4em;background-color: white;}#sk-container-id-4 div.sk-label label {font-family: monospace;font-weight: bold;display: inline-block;line-height: 1.2em;}#sk-container-id-4 div.sk-label-container {text-align: center;}#sk-container-id-4 div.sk-container {/* jupyter's `normalize.less` sets `[hidden] { display: none; }` but bootstrap.min.css set `[hidden] { display: none !important; }` so we also need the `!important` here to be able to override the default hidden behavior on the sphinx rendered scikit-learn.org. See: https://github.com/scikit-learn/scikit-learn/issues/21755 */display: inline-block !important;position: relative;}#sk-container-id-4 div.sk-text-repr-fallback {display: none;}</style><div id=\"sk-container-id-4\" class=\"sk-top-container\"><div class=\"sk-text-repr-fallback\"><pre>GridSearchCV(estimator=RandomForestRegressor(),\n",
              "             param_grid={&#x27;max_depth&#x27;: [5, 10, 15, 20],\n",
              "                         &#x27;n_estimators&#x27;: [100, 200, 300]},\n",
              "             scoring=&#x27;neg_mean_absolute_error&#x27;)</pre><b>In a Jupyter environment, please rerun this cell to show the HTML representation or trust the notebook. <br />On GitHub, the HTML representation is unable to render, please try loading this page with nbviewer.org.</b></div><div class=\"sk-container\" hidden><div class=\"sk-item sk-dashed-wrapped\"><div class=\"sk-label-container\"><div class=\"sk-label sk-toggleable\"><input class=\"sk-toggleable__control sk-hidden--visually\" id=\"sk-estimator-id-8\" type=\"checkbox\" ><label for=\"sk-estimator-id-8\" class=\"sk-toggleable__label sk-toggleable__label-arrow\">GridSearchCV</label><div class=\"sk-toggleable__content\"><pre>GridSearchCV(estimator=RandomForestRegressor(),\n",
              "             param_grid={&#x27;max_depth&#x27;: [5, 10, 15, 20],\n",
              "                         &#x27;n_estimators&#x27;: [100, 200, 300]},\n",
              "             scoring=&#x27;neg_mean_absolute_error&#x27;)</pre></div></div></div><div class=\"sk-parallel\"><div class=\"sk-parallel-item\"><div class=\"sk-item\"><div class=\"sk-label-container\"><div class=\"sk-label sk-toggleable\"><input class=\"sk-toggleable__control sk-hidden--visually\" id=\"sk-estimator-id-9\" type=\"checkbox\" ><label for=\"sk-estimator-id-9\" class=\"sk-toggleable__label sk-toggleable__label-arrow\">estimator: RandomForestRegressor</label><div class=\"sk-toggleable__content\"><pre>RandomForestRegressor()</pre></div></div></div><div class=\"sk-serial\"><div class=\"sk-item\"><div class=\"sk-estimator sk-toggleable\"><input class=\"sk-toggleable__control sk-hidden--visually\" id=\"sk-estimator-id-10\" type=\"checkbox\" ><label for=\"sk-estimator-id-10\" class=\"sk-toggleable__label sk-toggleable__label-arrow\">RandomForestRegressor</label><div class=\"sk-toggleable__content\"><pre>RandomForestRegressor()</pre></div></div></div></div></div></div></div></div></div></div>"
            ]
          },
          "metadata": {},
          "execution_count": 59
        }
      ],
      "source": [
        "rf.fit(x, _y)"
      ]
    },
    {
      "cell_type": "code",
      "execution_count": null,
      "metadata": {
        "id": "RA6lfyOFfb3X"
      },
      "outputs": [],
      "source": [
        "y_pred = rf.predict(x_test)"
      ]
    },
    {
      "cell_type": "code",
      "execution_count": null,
      "metadata": {
        "id": "r6Zw_SuXftV4",
        "colab": {
          "base_uri": "https://localhost:8080/",
          "height": 430
        },
        "outputId": "d010c353-05b1-4f30-8a32-a7208ea7ae20"
      },
      "outputs": [
        {
          "output_type": "display_data",
          "data": {
            "text/plain": [
              "<Figure size 640x480 with 1 Axes>"
            ],
            "image/png": "[encoded data removed]"
          },
          "metadata": {}
        }
      ],
      "source": [
        "plt.plot(range(1,39), y_pred, label = 'predicted points')\n",
        "plt.plot(range(1,39), y_test, label = 'actual points')\n",
        "plt.legend()\n",
        "plt.show()"
      ]
    },
    {
      "cell_type": "code",
      "execution_count": null,
      "metadata": {
        "id": "Bcd8rH-Ifwzl",
        "colab": {
          "base_uri": "https://localhost:8080/"
        },
        "outputId": "6b2ed34a-5d68-46bc-a5fa-c74e715d84f6"
      },
      "outputs": [
        {
          "output_type": "stream",
          "name": "stdout",
          "text": [
            "\n",
            "Mean Absolute Error = 4.231848773817222,\n",
            "Mean Squared Error = 28.90735339234655,\n",
            "Root Mean Squared Error = 5.376555904326351\n",
            "\n"
          ]
        }
      ],
      "source": [
        "print(f\"\"\"\n",
        "Mean Absolute Error = {mean_absolute_error(y_pred, y_test)},\n",
        "Mean Squared Error = {mean_squared_error(y_pred, y_test)},\n",
        "Root Mean Squared Error = {np.sqrt(mean_squared_error(y_pred, y_test))}\n",
        "\"\"\")"
      ]
    },
    {
      "cell_type": "code",
      "execution_count": null,
      "metadata": {
        "id": "Ik0q76WPHC28"
      },
      "outputs": [],
      "source": [
        "final_model = VotingRegressor(estimators = [\n",
        "    ('feed_forward_network', mlp.best_estimator_),\n",
        "    ('xgboost', model.best_estimator_),\n",
        "    ('random_forest', rf.best_estimator_)\n",
        "])"
      ]
    },
    {
      "cell_type": "code",
      "execution_count": null,
      "metadata": {
        "id": "5-8qMH06uymX"
      },
      "outputs": [],
      "source": [
        "final_model.fit(x, _y)\n",
        "y_pred = final_model.predict(x_test)"
      ]
    },
    {
      "cell_type": "code",
      "execution_count": null,
      "metadata": {
        "id": "7MpwIJyCu7tZ",
        "colab": {
          "base_uri": "https://localhost:8080/",
          "height": 430
        },
        "outputId": "47e5e862-1ed3-4f52-f70b-b30bd2d8739e"
      },
      "outputs": [
        {
          "output_type": "display_data",
          "data": {
            "text/plain": [
              "<Figure size 640x480 with 1 Axes>"
            ],
            "image/png": "[encoded data removed]"
          },
          "metadata": {}
        }
      ],
      "source": [
        "plt.plot(range(1,39), y_pred, label = 'predicted points')\n",
        "plt.plot(range(1,39), y_test, label = 'actual points')\n",
        "plt.legend()\n",
        "plt.show()"
      ]
    },
    {
      "cell_type": "code",
      "execution_count": null,
      "metadata": {
        "id": "xevt2ey8u92n",
        "colab": {
          "base_uri": "https://localhost:8080/"
        },
        "outputId": "f6836fb1-4e82-401e-bf5f-96abdb1e454a"
      },
      "outputs": [
        {
          "output_type": "stream",
          "name": "stdout",
          "text": [
            "\n",
            "Mean Absolute Error = 4.390472874960518,\n",
            "Mean Squared Error = 30.415855573410514,\n",
            "Root Mean Squared Error = 5.515057168643904\n",
            "\n"
          ]
        }
      ],
      "source": [
        "print(f\"\"\"\n",
        "Mean Absolute Error = {mean_absolute_error(y_pred, y_test)},\n",
        "Mean Squared Error = {mean_squared_error(y_pred, y_test)},\n",
        "Root Mean Squared Error = {np.sqrt(mean_squared_error(y_pred, y_test))}\n",
        "\"\"\")"
      ]
    },
    {
      "cell_type": "markdown",
      "source": [
        "The voting regressor produces the least mean absolute error.\n",
        "\n",
        "There is so much variance in the points, so the r2 score isn't the most appropriate metric"
      ],
      "metadata": {
        "id": "Cc7U__HKE8Re"
      }
    },
    {
      "cell_type": "markdown",
      "metadata": {
        "id": "YF08plAlNwdW"
      },
      "source": [
        "**Testing for midfielders**"
      ]
    },
    {
      "cell_type": "code",
      "execution_count": null,
      "metadata": {
        "id": "Gwa3uBdffzHY"
      },
      "outputs": [],
      "source": [
        "x = mid_df.drop(columns= ['name'])\n",
        "x_test = test_df[test_df['name'] == 'Mohamed Salah'].reset_index(drop = True)"
      ]
    },
    {
      "cell_type": "code",
      "execution_count": null,
      "metadata": {
        "id": "_phM0_hPN4Tx"
      },
      "outputs": [],
      "source": [
        "y_test = x_test['total_points']\n",
        "_y = x['total_points']\n",
        "x.drop(columns = ['total_points','opponent_team', 'position'], inplace = True)\n",
        "x_test.drop(columns = ['total_points', 'name', 'opponent_team', 'position'], inplace = True)"
      ]
    },
    {
      "cell_type": "code",
      "execution_count": null,
      "metadata": {
        "id": "o_oOvmdVN-7x",
        "colab": {
          "base_uri": "https://localhost:8080/"
        },
        "outputId": "600c7f68-879d-422c-92ff-c64a31fc2bf4"
      },
      "outputs": [
        {
          "output_type": "stream",
          "name": "stderr",
          "text": [
            "/usr/local/lib/python3.10/dist-packages/sklearn/preprocessing/_encoders.py:975: FutureWarning: `sparse` was renamed to `sparse_output` in version 1.2 and will be removed in 1.4. `sparse_output` is ignored unless you leave `sparse` to its default value.\n",
            "  warnings.warn(\n"
          ]
        }
      ],
      "source": [
        "x = pd.DataFrame(preprocessor.fit_transform(x), columns = list(quant_features)+list(feature_names))"
      ]
    },
    {
      "cell_type": "code",
      "execution_count": null,
      "metadata": {
        "id": "uxZIGcggOMW5",
        "colab": {
          "base_uri": "https://localhost:8080/"
        },
        "outputId": "c700bec9-17ce-4688-e54d-910590576a32"
      },
      "outputs": [
        {
          "output_type": "stream",
          "name": "stderr",
          "text": [
            "/usr/local/lib/python3.10/dist-packages/sklearn/preprocessing/_encoders.py:975: FutureWarning: `sparse` was renamed to `sparse_output` in version 1.2 and will be removed in 1.4. `sparse_output` is ignored unless you leave `sparse` to its default value.\n",
            "  warnings.warn(\n",
            "/usr/local/lib/python3.10/dist-packages/sklearn/preprocessing/_encoders.py:975: FutureWarning: `sparse` was renamed to `sparse_output` in version 1.2 and will be removed in 1.4. `sparse_output` is ignored unless you leave `sparse` to its default value.\n",
            "  warnings.warn(\n"
          ]
        }
      ],
      "source": [
        "quant_x_test = pd.DataFrame(quant_pipeline.fit_transform(x_test.select_dtypes(include=np.number)), columns = list(quant_features))\n",
        "\n",
        "quant_x_test['was_home_True']= cat_pipeline.fit_transform(pd.DataFrame({'was_home': x_test['was_home']}))\n",
        "encoded_array = cat_pipeline.fit_transform(pd.DataFrame({'team_category':x_test['team_category']}))\n",
        "encoded_df = pd.DataFrame(encoded_array, columns=cat_pipeline.get_feature_names_out(['team_category']))\n",
        "x_test = pd.concat([quant_x_test, encoded_df], axis = 1)"
      ]
    },
    {
      "cell_type": "code",
      "execution_count": null,
      "metadata": {
        "id": "iAt1ZLABORpj",
        "colab": {
          "base_uri": "https://localhost:8080/",
          "height": 75
        },
        "outputId": "834c0103-2325-4fd3-aa71-131fac7cd3f9"
      },
      "outputs": [
        {
          "output_type": "execute_result",
          "data": {
            "text/plain": [
              "DecisionTreeRegressor()"
            ],
            "text/html": [
              "<style>#sk-container-id-5 {color: black;}#sk-container-id-5 pre{padding: 0;}#sk-container-id-5 div.sk-toggleable {background-color: white;}#sk-container-id-5 label.sk-toggleable__label {cursor: pointer;display: block;width: 100%;margin-bottom: 0;padding: 0.3em;box-sizing: border-box;text-align: center;}#sk-container-id-5 label.sk-toggleable__label-arrow:before {content: \"▸\";float: left;margin-right: 0.25em;color: #696969;}#sk-container-id-5 label.sk-toggleable__label-arrow:hover:before {color: black;}#sk-container-id-5 div.sk-estimator:hover label.sk-toggleable__label-arrow:before {color: black;}#sk-container-id-5 div.sk-toggleable__content {max-height: 0;max-width: 0;overflow: hidden;text-align: left;background-color: #f0f8ff;}#sk-container-id-5 div.sk-toggleable__content pre {margin: 0.2em;color: black;border-radius: 0.25em;background-color: #f0f8ff;}#sk-container-id-5 input.sk-toggleable__control:checked~div.sk-toggleable__content {max-height: 200px;max-width: 100%;overflow: auto;}#sk-container-id-5 input.sk-toggleable__control:checked~label.sk-toggleable__label-arrow:before {content: \"▾\";}#sk-container-id-5 div.sk-estimator input.sk-toggleable__control:checked~label.sk-toggleable__label {background-color: #d4ebff;}#sk-container-id-5 div.sk-label input.sk-toggleable__control:checked~label.sk-toggleable__label {background-color: #d4ebff;}#sk-container-id-5 input.sk-hidden--visually {border: 0;clip: rect(1px 1px 1px 1px);clip: rect(1px, 1px, 1px, 1px);height: 1px;margin: -1px;overflow: hidden;padding: 0;position: absolute;width: 1px;}#sk-container-id-5 div.sk-estimator {font-family: monospace;background-color: #f0f8ff;border: 1px dotted black;border-radius: 0.25em;box-sizing: border-box;margin-bottom: 0.5em;}#sk-container-id-5 div.sk-estimator:hover {background-color: #d4ebff;}#sk-container-id-5 div.sk-parallel-item::after {content: \"\";width: 100%;border-bottom: 1px solid gray;flex-grow: 1;}#sk-container-id-5 div.sk-label:hover label.sk-toggleable__label {background-color: #d4ebff;}#sk-container-id-5 div.sk-serial::before {content: \"\";position: absolute;border-left: 1px solid gray;box-sizing: border-box;top: 0;bottom: 0;left: 50%;z-index: 0;}#sk-container-id-5 div.sk-serial {display: flex;flex-direction: column;align-items: center;background-color: white;padding-right: 0.2em;padding-left: 0.2em;position: relative;}#sk-container-id-5 div.sk-item {position: relative;z-index: 1;}#sk-container-id-5 div.sk-parallel {display: flex;align-items: stretch;justify-content: center;background-color: white;position: relative;}#sk-container-id-5 div.sk-item::before, #sk-container-id-5 div.sk-parallel-item::before {content: \"\";position: absolute;border-left: 1px solid gray;box-sizing: border-box;top: 0;bottom: 0;left: 50%;z-index: -1;}#sk-container-id-5 div.sk-parallel-item {display: flex;flex-direction: column;z-index: 1;position: relative;background-color: white;}#sk-container-id-5 div.sk-parallel-item:first-child::after {align-self: flex-end;width: 50%;}#sk-container-id-5 div.sk-parallel-item:last-child::after {align-self: flex-start;width: 50%;}#sk-container-id-5 div.sk-parallel-item:only-child::after {width: 0;}#sk-container-id-5 div.sk-dashed-wrapped {border: 1px dashed gray;margin: 0 0.4em 0.5em 0.4em;box-sizing: border-box;padding-bottom: 0.4em;background-color: white;}#sk-container-id-5 div.sk-label label {font-family: monospace;font-weight: bold;display: inline-block;line-height: 1.2em;}#sk-container-id-5 div.sk-label-container {text-align: center;}#sk-container-id-5 div.sk-container {/* jupyter's `normalize.less` sets `[hidden] { display: none; }` but bootstrap.min.css set `[hidden] { display: none !important; }` so we also need the `!important` here to be able to override the default hidden behavior on the sphinx rendered scikit-learn.org. See: https://github.com/scikit-learn/scikit-learn/issues/21755 */display: inline-block !important;position: relative;}#sk-container-id-5 div.sk-text-repr-fallback {display: none;}</style><div id=\"sk-container-id-5\" class=\"sk-top-container\"><div class=\"sk-text-repr-fallback\"><pre>DecisionTreeRegressor()</pre><b>In a Jupyter environment, please rerun this cell to show the HTML representation or trust the notebook. <br />On GitHub, the HTML representation is unable to render, please try loading this page with nbviewer.org.</b></div><div class=\"sk-container\" hidden><div class=\"sk-item\"><div class=\"sk-estimator sk-toggleable\"><input class=\"sk-toggleable__control sk-hidden--visually\" id=\"sk-estimator-id-11\" type=\"checkbox\" checked><label for=\"sk-estimator-id-11\" class=\"sk-toggleable__label sk-toggleable__label-arrow\">DecisionTreeRegressor</label><div class=\"sk-toggleable__content\"><pre>DecisionTreeRegressor()</pre></div></div></div></div></div>"
            ]
          },
          "metadata": {},
          "execution_count": 71
        }
      ],
      "source": [
        "dTree.fit(x, _y)"
      ]
    },
    {
      "cell_type": "code",
      "execution_count": null,
      "metadata": {
        "id": "Jv_xCl6HOaXA"
      },
      "outputs": [],
      "source": [
        "y_pred = dTree.predict(x_test)"
      ]
    },
    {
      "cell_type": "code",
      "execution_count": null,
      "metadata": {
        "id": "2Km4eR6_Oc79",
        "colab": {
          "base_uri": "https://localhost:8080/",
          "height": 430
        },
        "outputId": "6ce0a5c6-29e7-401b-98b0-b99092c024b2"
      },
      "outputs": [
        {
          "output_type": "display_data",
          "data": {
            "text/plain": [
              "<Figure size 640x480 with 1 Axes>"
            ],
            "image/png": "[encoded data removed]"
          },
          "metadata": {}
        }
      ],
      "source": [
        "plt.plot(range(1,39), y_pred, label = 'predicted points')\n",
        "plt.plot(range(1,39), y_test, label = 'actual points')\n",
        "plt.legend()\n",
        "plt.show()"
      ]
    },
    {
      "cell_type": "code",
      "execution_count": null,
      "metadata": {
        "id": "gQl4-QlMOhee",
        "colab": {
          "base_uri": "https://localhost:8080/"
        },
        "outputId": "837eb96e-c13f-45e4-8471-538091119643"
      },
      "outputs": [
        {
          "output_type": "stream",
          "name": "stdout",
          "text": [
            "\n",
            "Mean Absolute Error = 5.2368421052631575,\n",
            "Mean Squared Error = 47.973684210526315,\n",
            "Root Mean Squared Error = 6.926303791382985\n",
            "\n"
          ]
        }
      ],
      "source": [
        "print(f\"\"\"\n",
        "Mean Absolute Error = {mean_absolute_error(y_pred, y_test)},\n",
        "Mean Squared Error = {mean_squared_error(y_pred, y_test)},\n",
        "Root Mean Squared Error = {np.sqrt(mean_squared_error(y_pred, y_test))}\n",
        "\"\"\")"
      ]
    },
    {
      "cell_type": "code",
      "execution_count": null,
      "metadata": {
        "id": "RqQY66BoOngH"
      },
      "outputs": [],
      "source": [
        "model = XGBRegressor(objective = 'reg:absoluteerror')"
      ]
    },
    {
      "cell_type": "code",
      "execution_count": null,
      "metadata": {
        "id": "SjgIEj9wZYX2"
      },
      "outputs": [],
      "source": [
        "parameters = {\n",
        "    'n_estimators': [100,200,300,400]\n",
        "}"
      ]
    },
    {
      "cell_type": "code",
      "execution_count": null,
      "metadata": {
        "id": "KjHHnAuyZYR8"
      },
      "outputs": [],
      "source": [
        "model = GridSearchCV(model, parameters, scoring='neg_mean_absolute_error')"
      ]
    },
    {
      "cell_type": "code",
      "execution_count": null,
      "metadata": {
        "id": "GWsnXxO6ZYK-",
        "colab": {
          "base_uri": "https://localhost:8080/",
          "height": 118
        },
        "outputId": "ead7084e-b82e-4c9e-9d10-824e4b8153c6"
      },
      "outputs": [
        {
          "output_type": "execute_result",
          "data": {
            "text/plain": [
              "GridSearchCV(estimator=XGBRegressor(base_score=None, booster=None,\n",
              "                                    callbacks=None, colsample_bylevel=None,\n",
              "                                    colsample_bynode=None,\n",
              "                                    colsample_bytree=None, device=None,\n",
              "                                    early_stopping_rounds=None,\n",
              "                                    enable_categorical=False, eval_metric=None,\n",
              "                                    feature_types=None, gamma=None,\n",
              "                                    grow_policy=None, importance_type=None,\n",
              "                                    interaction_constraints=None,\n",
              "                                    learning_rate=None, max_bin=None,\n",
              "                                    max_cat_threshold=None,\n",
              "                                    max_cat_to_onehot=None, max_delta_step=None,\n",
              "                                    max_depth=None, max_leaves=None,\n",
              "                                    min_child_weight=None, missing=nan,\n",
              "                                    monotone_constraints=None,\n",
              "                                    multi_strategy=None, n_estimators=None,\n",
              "                                    n_jobs=None, num_parallel_tree=None,\n",
              "                                    objective='reg:absoluteerror', ...),\n",
              "             param_grid={'n_estimators': [100, 200, 300, 400]},\n",
              "             scoring='neg_mean_absolute_error')"
            ],
            "text/html": [
              "<style>#sk-container-id-6 {color: black;}#sk-container-id-6 pre{padding: 0;}#sk-container-id-6 div.sk-toggleable {background-color: white;}#sk-container-id-6 label.sk-toggleable__label {cursor: pointer;display: block;width: 100%;margin-bottom: 0;padding: 0.3em;box-sizing: border-box;text-align: center;}#sk-container-id-6 label.sk-toggleable__label-arrow:before {content: \"▸\";float: left;margin-right: 0.25em;color: #696969;}#sk-container-id-6 label.sk-toggleable__label-arrow:hover:before {color: black;}#sk-container-id-6 div.sk-estimator:hover label.sk-toggleable__label-arrow:before {color: black;}#sk-container-id-6 div.sk-toggleable__content {max-height: 0;max-width: 0;overflow: hidden;text-align: left;background-color: #f0f8ff;}#sk-container-id-6 div.sk-toggleable__content pre {margin: 0.2em;color: black;border-radius: 0.25em;background-color: #f0f8ff;}#sk-container-id-6 input.sk-toggleable__control:checked~div.sk-toggleable__content {max-height: 200px;max-width: 100%;overflow: auto;}#sk-container-id-6 input.sk-toggleable__control:checked~label.sk-toggleable__label-arrow:before {content: \"▾\";}#sk-container-id-6 div.sk-estimator input.sk-toggleable__control:checked~label.sk-toggleable__label {background-color: #d4ebff;}#sk-container-id-6 div.sk-label input.sk-toggleable__control:checked~label.sk-toggleable__label {background-color: #d4ebff;}#sk-container-id-6 input.sk-hidden--visually {border: 0;clip: rect(1px 1px 1px 1px);clip: rect(1px, 1px, 1px, 1px);height: 1px;margin: -1px;overflow: hidden;padding: 0;position: absolute;width: 1px;}#sk-container-id-6 div.sk-estimator {font-family: monospace;background-color: #f0f8ff;border: 1px dotted black;border-radius: 0.25em;box-sizing: border-box;margin-bottom: 0.5em;}#sk-container-id-6 div.sk-estimator:hover {background-color: #d4ebff;}#sk-container-id-6 div.sk-parallel-item::after {content: \"\";width: 100%;border-bottom: 1px solid gray;flex-grow: 1;}#sk-container-id-6 div.sk-label:hover label.sk-toggleable__label {background-color: #d4ebff;}#sk-container-id-6 div.sk-serial::before {content: \"\";position: absolute;border-left: 1px solid gray;box-sizing: border-box;top: 0;bottom: 0;left: 50%;z-index: 0;}#sk-container-id-6 div.sk-serial {display: flex;flex-direction: column;align-items: center;background-color: white;padding-right: 0.2em;padding-left: 0.2em;position: relative;}#sk-container-id-6 div.sk-item {position: relative;z-index: 1;}#sk-container-id-6 div.sk-parallel {display: flex;align-items: stretch;justify-content: center;background-color: white;position: relative;}#sk-container-id-6 div.sk-item::before, #sk-container-id-6 div.sk-parallel-item::before {content: \"\";position: absolute;border-left: 1px solid gray;box-sizing: border-box;top: 0;bottom: 0;left: 50%;z-index: -1;}#sk-container-id-6 div.sk-parallel-item {display: flex;flex-direction: column;z-index: 1;position: relative;background-color: white;}#sk-container-id-6 div.sk-parallel-item:first-child::after {align-self: flex-end;width: 50%;}#sk-container-id-6 div.sk-parallel-item:last-child::after {align-self: flex-start;width: 50%;}#sk-container-id-6 div.sk-parallel-item:only-child::after {width: 0;}#sk-container-id-6 div.sk-dashed-wrapped {border: 1px dashed gray;margin: 0 0.4em 0.5em 0.4em;box-sizing: border-box;padding-bottom: 0.4em;background-color: white;}#sk-container-id-6 div.sk-label label {font-family: monospace;font-weight: bold;display: inline-block;line-height: 1.2em;}#sk-container-id-6 div.sk-label-container {text-align: center;}#sk-container-id-6 div.sk-container {/* jupyter's `normalize.less` sets `[hidden] { display: none; }` but bootstrap.min.css set `[hidden] { display: none !important; }` so we also need the `!important` here to be able to override the default hidden behavior on the sphinx rendered scikit-learn.org. See: https://github.com/scikit-learn/scikit-learn/issues/21755 */display: inline-block !important;position: relative;}#sk-container-id-6 div.sk-text-repr-fallback {display: none;}</style><div id=\"sk-container-id-6\" class=\"sk-top-container\"><div class=\"sk-text-repr-fallback\"><pre>GridSearchCV(estimator=XGBRegressor(base_score=None, booster=None,\n",
              "                                    callbacks=None, colsample_bylevel=None,\n",
              "                                    colsample_bynode=None,\n",
              "                                    colsample_bytree=None, device=None,\n",
              "                                    early_stopping_rounds=None,\n",
              "                                    enable_categorical=False, eval_metric=None,\n",
              "                                    feature_types=None, gamma=None,\n",
              "                                    grow_policy=None, importance_type=None,\n",
              "                                    interaction_constraints=None,\n",
              "                                    learning_rate=None, max_bin=None,\n",
              "                                    max_cat_threshold=None,\n",
              "                                    max_cat_to_onehot=None, max_delta_step=None,\n",
              "                                    max_depth=None, max_leaves=None,\n",
              "                                    min_child_weight=None, missing=nan,\n",
              "                                    monotone_constraints=None,\n",
              "                                    multi_strategy=None, n_estimators=None,\n",
              "                                    n_jobs=None, num_parallel_tree=None,\n",
              "                                    objective=&#x27;reg:absoluteerror&#x27;, ...),\n",
              "             param_grid={&#x27;n_estimators&#x27;: [100, 200, 300, 400]},\n",
              "             scoring=&#x27;neg_mean_absolute_error&#x27;)</pre><b>In a Jupyter environment, please rerun this cell to show the HTML representation or trust the notebook. <br />On GitHub, the HTML representation is unable to render, please try loading this page with nbviewer.org.</b></div><div class=\"sk-container\" hidden><div class=\"sk-item sk-dashed-wrapped\"><div class=\"sk-label-container\"><div class=\"sk-label sk-toggleable\"><input class=\"sk-toggleable__control sk-hidden--visually\" id=\"sk-estimator-id-12\" type=\"checkbox\" ><label for=\"sk-estimator-id-12\" class=\"sk-toggleable__label sk-toggleable__label-arrow\">GridSearchCV</label><div class=\"sk-toggleable__content\"><pre>GridSearchCV(estimator=XGBRegressor(base_score=None, booster=None,\n",
              "                                    callbacks=None, colsample_bylevel=None,\n",
              "                                    colsample_bynode=None,\n",
              "                                    colsample_bytree=None, device=None,\n",
              "                                    early_stopping_rounds=None,\n",
              "                                    enable_categorical=False, eval_metric=None,\n",
              "                                    feature_types=None, gamma=None,\n",
              "                                    grow_policy=None, importance_type=None,\n",
              "                                    interaction_constraints=None,\n",
              "                                    learning_rate=None, max_bin=None,\n",
              "                                    max_cat_threshold=None,\n",
              "                                    max_cat_to_onehot=None, max_delta_step=None,\n",
              "                                    max_depth=None, max_leaves=None,\n",
              "                                    min_child_weight=None, missing=nan,\n",
              "                                    monotone_constraints=None,\n",
              "                                    multi_strategy=None, n_estimators=None,\n",
              "                                    n_jobs=None, num_parallel_tree=None,\n",
              "                                    objective=&#x27;reg:absoluteerror&#x27;, ...),\n",
              "             param_grid={&#x27;n_estimators&#x27;: [100, 200, 300, 400]},\n",
              "             scoring=&#x27;neg_mean_absolute_error&#x27;)</pre></div></div></div><div class=\"sk-parallel\"><div class=\"sk-parallel-item\"><div class=\"sk-item\"><div class=\"sk-label-container\"><div class=\"sk-label sk-toggleable\"><input class=\"sk-toggleable__control sk-hidden--visually\" id=\"sk-estimator-id-13\" type=\"checkbox\" ><label for=\"sk-estimator-id-13\" class=\"sk-toggleable__label sk-toggleable__label-arrow\">estimator: XGBRegressor</label><div class=\"sk-toggleable__content\"><pre>XGBRegressor(base_score=None, booster=None, callbacks=None,\n",
              "             colsample_bylevel=None, colsample_bynode=None,\n",
              "             colsample_bytree=None, device=None, early_stopping_rounds=None,\n",
              "             enable_categorical=False, eval_metric=None, feature_types=None,\n",
              "             gamma=None, grow_policy=None, importance_type=None,\n",
              "             interaction_constraints=None, learning_rate=None, max_bin=None,\n",
              "             max_cat_threshold=None, max_cat_to_onehot=None,\n",
              "             max_delta_step=None, max_depth=None, max_leaves=None,\n",
              "             min_child_weight=None, missing=nan, monotone_constraints=None,\n",
              "             multi_strategy=None, n_estimators=None, n_jobs=None,\n",
              "             num_parallel_tree=None, objective=&#x27;reg:absoluteerror&#x27;, ...)</pre></div></div></div><div class=\"sk-serial\"><div class=\"sk-item\"><div class=\"sk-estimator sk-toggleable\"><input class=\"sk-toggleable__control sk-hidden--visually\" id=\"sk-estimator-id-14\" type=\"checkbox\" ><label for=\"sk-estimator-id-14\" class=\"sk-toggleable__label sk-toggleable__label-arrow\">XGBRegressor</label><div class=\"sk-toggleable__content\"><pre>XGBRegressor(base_score=None, booster=None, callbacks=None,\n",
              "             colsample_bylevel=None, colsample_bynode=None,\n",
              "             colsample_bytree=None, device=None, early_stopping_rounds=None,\n",
              "             enable_categorical=False, eval_metric=None, feature_types=None,\n",
              "             gamma=None, grow_policy=None, importance_type=None,\n",
              "             interaction_constraints=None, learning_rate=None, max_bin=None,\n",
              "             max_cat_threshold=None, max_cat_to_onehot=None,\n",
              "             max_delta_step=None, max_depth=None, max_leaves=None,\n",
              "             min_child_weight=None, missing=nan, monotone_constraints=None,\n",
              "             multi_strategy=None, n_estimators=None, n_jobs=None,\n",
              "             num_parallel_tree=None, objective=&#x27;reg:absoluteerror&#x27;, ...)</pre></div></div></div></div></div></div></div></div></div></div>"
            ]
          },
          "metadata": {},
          "execution_count": 78
        }
      ],
      "source": [
        "model.fit(x,_y)"
      ]
    },
    {
      "cell_type": "code",
      "execution_count": null,
      "metadata": {
        "id": "5KJx0l0MZYDX"
      },
      "outputs": [],
      "source": [
        "y_pred = model.predict(x_test)"
      ]
    },
    {
      "cell_type": "code",
      "execution_count": null,
      "metadata": {
        "id": "C56hTOePZX9L",
        "colab": {
          "base_uri": "https://localhost:8080/",
          "height": 430
        },
        "outputId": "a58664da-da89-4f88-e43c-76ba515e894b"
      },
      "outputs": [
        {
          "output_type": "display_data",
          "data": {
            "text/plain": [
              "<Figure size 640x480 with 1 Axes>"
            ],
            "image/png": "[encoded data removed]"
          },
          "metadata": {}
        }
      ],
      "source": [
        "plt.plot(range(1,39), y_pred, label = 'predicted points')\n",
        "plt.plot(range(1,39), y_test, label = 'actual points')\n",
        "plt.legend()\n",
        "plt.show()"
      ]
    },
    {
      "cell_type": "code",
      "execution_count": null,
      "metadata": {
        "id": "vT9oTct7feHV",
        "colab": {
          "base_uri": "https://localhost:8080/"
        },
        "outputId": "e15c3cc2-3c66-49ac-b068-7636da8b57cb"
      },
      "outputs": [
        {
          "output_type": "stream",
          "name": "stdout",
          "text": [
            "\n",
            "Mean Absolute Error = 4.428648433278124,\n",
            "Mean Squared Error = 27.4699112895296,\n",
            "Root Mean Squared Error = 5.241174609715803\n",
            "\n"
          ]
        }
      ],
      "source": [
        "print(f\"\"\"\n",
        "Mean Absolute Error = {mean_absolute_error(y_pred, y_test)},\n",
        "Mean Squared Error = {mean_squared_error(y_pred, y_test)},\n",
        "Root Mean Squared Error = {np.sqrt(mean_squared_error(y_pred, y_test))}\n",
        "\"\"\")"
      ]
    },
    {
      "cell_type": "code",
      "execution_count": null,
      "metadata": {
        "id": "__UnOZ0GZXu1"
      },
      "outputs": [],
      "source": [
        "parameters  ={\n",
        "    'hidden_layer_sizes': [(50), (50,50)],\n",
        "    'max_iter': [100,200,300,400],\n",
        "    'activation': ['relu', 'tanh'],\n",
        "    'solver': ['adam'],\n",
        "    'learning_rate_init': [0.001, 0.01, 0.1]\n",
        "\n",
        "}"
      ]
    },
    {
      "cell_type": "code",
      "execution_count": null,
      "metadata": {
        "id": "eqnGQt_LZ5mR"
      },
      "outputs": [],
      "source": [
        "mlp = GridSearchCV(MLPRegressor(), parameters, scoring='neg_mean_absolute_error')"
      ]
    },
    {
      "cell_type": "code",
      "execution_count": null,
      "metadata": {
        "id": "QEoVtZLeZ5hj",
        "colab": {
          "base_uri": "https://localhost:8080/"
        },
        "outputId": "8bd3e8d6-8d31-4d96-e7f4-5cb21f5136f8"
      },
      "outputs": [
        {
          "output_type": "stream",
          "name": "stderr",
          "text": [
            "/usr/local/lib/python3.10/dist-packages/sklearn/neural_network/_multilayer_perceptron.py:691: ConvergenceWarning: Stochastic Optimizer: Maximum iterations (100) reached and the optimization hasn't converged yet.\n",
            "  warnings.warn(\n",
            "/usr/local/lib/python3.10/dist-packages/sklearn/neural_network/_multilayer_perceptron.py:691: ConvergenceWarning: Stochastic Optimizer: Maximum iterations (100) reached and the optimization hasn't converged yet.\n",
            "  warnings.warn(\n",
            "/usr/local/lib/python3.10/dist-packages/sklearn/neural_network/_multilayer_perceptron.py:691: ConvergenceWarning: Stochastic Optimizer: Maximum iterations (100) reached and the optimization hasn't converged yet.\n",
            "  warnings.warn(\n",
            "/usr/local/lib/python3.10/dist-packages/sklearn/neural_network/_multilayer_perceptron.py:691: ConvergenceWarning: Stochastic Optimizer: Maximum iterations (100) reached and the optimization hasn't converged yet.\n",
            "  warnings.warn(\n",
            "/usr/local/lib/python3.10/dist-packages/sklearn/neural_network/_multilayer_perceptron.py:691: ConvergenceWarning: Stochastic Optimizer: Maximum iterations (100) reached and the optimization hasn't converged yet.\n",
            "  warnings.warn(\n",
            "/usr/local/lib/python3.10/dist-packages/sklearn/neural_network/_multilayer_perceptron.py:691: ConvergenceWarning: Stochastic Optimizer: Maximum iterations (200) reached and the optimization hasn't converged yet.\n",
            "  warnings.warn(\n",
            "/usr/local/lib/python3.10/dist-packages/sklearn/neural_network/_multilayer_perceptron.py:691: ConvergenceWarning: Stochastic Optimizer: Maximum iterations (200) reached and the optimization hasn't converged yet.\n",
            "  warnings.warn(\n",
            "/usr/local/lib/python3.10/dist-packages/sklearn/neural_network/_multilayer_perceptron.py:691: ConvergenceWarning: Stochastic Optimizer: Maximum iterations (200) reached and the optimization hasn't converged yet.\n",
            "  warnings.warn(\n",
            "/usr/local/lib/python3.10/dist-packages/sklearn/neural_network/_multilayer_perceptron.py:691: ConvergenceWarning: Stochastic Optimizer: Maximum iterations (300) reached and the optimization hasn't converged yet.\n",
            "  warnings.warn(\n",
            "/usr/local/lib/python3.10/dist-packages/sklearn/neural_network/_multilayer_perceptron.py:691: ConvergenceWarning: Stochastic Optimizer: Maximum iterations (300) reached and the optimization hasn't converged yet.\n",
            "  warnings.warn(\n",
            "/usr/local/lib/python3.10/dist-packages/sklearn/neural_network/_multilayer_perceptron.py:691: ConvergenceWarning: Stochastic Optimizer: Maximum iterations (300) reached and the optimization hasn't converged yet.\n",
            "  warnings.warn(\n",
            "/usr/local/lib/python3.10/dist-packages/sklearn/neural_network/_multilayer_perceptron.py:691: ConvergenceWarning: Stochastic Optimizer: Maximum iterations (400) reached and the optimization hasn't converged yet.\n",
            "  warnings.warn(\n",
            "/usr/local/lib/python3.10/dist-packages/sklearn/neural_network/_multilayer_perceptron.py:691: ConvergenceWarning: Stochastic Optimizer: Maximum iterations (400) reached and the optimization hasn't converged yet.\n",
            "  warnings.warn(\n",
            "/usr/local/lib/python3.10/dist-packages/sklearn/neural_network/_multilayer_perceptron.py:691: ConvergenceWarning: Stochastic Optimizer: Maximum iterations (100) reached and the optimization hasn't converged yet.\n",
            "  warnings.warn(\n",
            "/usr/local/lib/python3.10/dist-packages/sklearn/neural_network/_multilayer_perceptron.py:691: ConvergenceWarning: Stochastic Optimizer: Maximum iterations (100) reached and the optimization hasn't converged yet.\n",
            "  warnings.warn(\n",
            "/usr/local/lib/python3.10/dist-packages/sklearn/neural_network/_multilayer_perceptron.py:691: ConvergenceWarning: Stochastic Optimizer: Maximum iterations (100) reached and the optimization hasn't converged yet.\n",
            "  warnings.warn(\n",
            "/usr/local/lib/python3.10/dist-packages/sklearn/neural_network/_multilayer_perceptron.py:691: ConvergenceWarning: Stochastic Optimizer: Maximum iterations (100) reached and the optimization hasn't converged yet.\n",
            "  warnings.warn(\n",
            "/usr/local/lib/python3.10/dist-packages/sklearn/neural_network/_multilayer_perceptron.py:691: ConvergenceWarning: Stochastic Optimizer: Maximum iterations (200) reached and the optimization hasn't converged yet.\n",
            "  warnings.warn(\n"
          ]
        }
      ],
      "source": [
        "mlp.fit(x,_y)"
      ]
    },
    {
      "cell_type": "code",
      "execution_count": null,
      "metadata": {
        "id": "Qcw-XvoLZ5db"
      },
      "outputs": [],
      "source": [
        "y_pred = mlp.predict(x_test)"
      ]
    },
    {
      "cell_type": "code",
      "execution_count": null,
      "metadata": {
        "id": "UYDtmp6dZ5D6"
      },
      "outputs": [],
      "source": [
        "plt.plot(range(1,39), y_pred, label = 'predicted points')\n",
        "plt.plot(range(1,39), y_test, label = 'actual points')\n",
        "plt.legend()\n",
        "plt.show()"
      ]
    },
    {
      "cell_type": "code",
      "execution_count": null,
      "metadata": {
        "id": "nQ6LCKoxZ4_U"
      },
      "outputs": [],
      "source": [
        "print(f\"\"\"\n",
        "Mean Absolute Error = {mean_absolute_error(y_pred, y_test)},\n",
        "Mean Squared Error = {mean_squared_error(y_pred, y_test)},\n",
        "Root Mean Squared Error = {np.sqrt(mean_squared_error(y_pred, y_test))}\n",
        "\"\"\")"
      ]
    },
    {
      "cell_type": "code",
      "execution_count": null,
      "metadata": {
        "id": "RRxvDgiLZ47B"
      },
      "outputs": [],
      "source": [
        "parameters = {\n",
        "    'n_estimators': [100,200,300],\n",
        "    'max_depth': [5,10, 15, 20]\n",
        "}"
      ]
    },
    {
      "cell_type": "code",
      "execution_count": null,
      "metadata": {
        "id": "PkJ3-JU0aIIz"
      },
      "outputs": [],
      "source": [
        "rf = GridSearchCV(RandomForestRegressor(), parameters, scoring='neg_mean_absolute_error')"
      ]
    },
    {
      "cell_type": "code",
      "execution_count": null,
      "metadata": {
        "id": "AdfrFjEUaIEy"
      },
      "outputs": [],
      "source": [
        "rf.fit(x, _y)"
      ]
    },
    {
      "cell_type": "code",
      "execution_count": null,
      "metadata": {
        "id": "E028wkyRaIAh"
      },
      "outputs": [],
      "source": [
        "y_pred = rf.predict(x_test)"
      ]
    },
    {
      "cell_type": "code",
      "execution_count": null,
      "metadata": {
        "id": "wQ6JcI3zaH6y"
      },
      "outputs": [],
      "source": [
        "plt.plot(range(1,39), y_pred, label = 'predicted points')\n",
        "plt.plot(range(1,39), y_test, label = 'actual points')\n",
        "plt.legend()\n",
        "plt.show()"
      ]
    },
    {
      "cell_type": "code",
      "execution_count": null,
      "metadata": {
        "id": "6gxmLlMaaH0T"
      },
      "outputs": [],
      "source": [
        "print(f\"\"\"\n",
        "Mean Absolute Error = {mean_absolute_error(y_pred, y_test)},\n",
        "Mean Squared Error = {mean_squared_error(y_pred, y_test)},\n",
        "Root Mean Squared Error = {np.sqrt(mean_squared_error(y_pred, y_test))}\n",
        "\"\"\")"
      ]
    },
    {
      "cell_type": "code",
      "execution_count": null,
      "metadata": {
        "id": "p6nZ_c3lvGfe"
      },
      "outputs": [],
      "source": []
    },
    {
      "cell_type": "code",
      "execution_count": null,
      "metadata": {
        "id": "7Lx58_3qvG6x"
      },
      "outputs": [],
      "source": [
        "final_model = VotingRegressor(estimators = [\n",
        "    ('feed_forward_network', mlp.best_estimator_),\n",
        "    ('xgboost', model.best_estimator_),\n",
        "    ('random_forest', rf.best_estimator_)\n",
        "])"
      ]
    },
    {
      "cell_type": "code",
      "execution_count": null,
      "metadata": {
        "id": "B14xBb08vG6y"
      },
      "outputs": [],
      "source": [
        "final_model.fit(x, _y)\n",
        "y_pred = final_model.predict(x_test)"
      ]
    },
    {
      "cell_type": "code",
      "execution_count": null,
      "metadata": {
        "id": "5BAlqULpvG6y"
      },
      "outputs": [],
      "source": [
        "plt.plot(range(1,39), y_pred, label = 'predicted points')\n",
        "plt.plot(range(1,39), y_test, label = 'actual points')\n",
        "plt.legend()\n",
        "plt.show()"
      ]
    },
    {
      "cell_type": "code",
      "execution_count": null,
      "metadata": {
        "id": "ymdGmGA6vG6y"
      },
      "outputs": [],
      "source": [
        "print(f\"\"\"\n",
        "Mean Absolute Error = {mean_absolute_error(y_pred, y_test)},\n",
        "Mean Squared Error = {mean_squared_error(y_pred, y_test)},\n",
        "Root Mean Squared Error = {np.sqrt(mean_squared_error(y_pred, y_test))}\n",
        "\"\"\")"
      ]
    },
    {
      "cell_type": "markdown",
      "metadata": {
        "id": "TvRCoSQcaUwP"
      },
      "source": [
        "**Testing for Defenders**"
      ]
    },
    {
      "cell_type": "code",
      "execution_count": null,
      "metadata": {
        "id": "8fk8uyi7cc4G"
      },
      "outputs": [],
      "source": [
        "x = def_df.drop(columns= ['name'])\n",
        "x_test = test_df[test_df['name'] == 'Trent Alexander-Arnold'].reset_index(drop = True)"
      ]
    },
    {
      "cell_type": "code",
      "execution_count": null,
      "metadata": {
        "id": "Q2gV59TXcc4V"
      },
      "outputs": [],
      "source": [
        "y_test = x_test['total_points']\n",
        "_y = x['total_points']\n",
        "x.drop(columns = ['total_points','opponent_team', 'position'], inplace = True)\n",
        "x_test.drop(columns = ['total_points', 'name', 'opponent_team', 'position'], inplace = True)"
      ]
    },
    {
      "cell_type": "code",
      "execution_count": null,
      "metadata": {
        "id": "wXxm4IKycc4W"
      },
      "outputs": [],
      "source": [
        "x = pd.DataFrame(preprocessor.fit_transform(x), columns = list(quant_features)+list(feature_names))"
      ]
    },
    {
      "cell_type": "code",
      "execution_count": null,
      "metadata": {
        "id": "bzR7SPCQcc4W"
      },
      "outputs": [],
      "source": [
        "quant_x_test = pd.DataFrame(quant_pipeline.fit_transform(x_test.select_dtypes(include=np.number)), columns = list(quant_features))\n",
        "\n",
        "quant_x_test['was_home_True']= cat_pipeline.fit_transform(pd.DataFrame({'was_home': x_test['was_home']}))\n",
        "encoded_array = cat_pipeline.fit_transform(pd.DataFrame({'team_category':x_test['team_category']}))\n",
        "encoded_df = pd.DataFrame(encoded_array, columns=cat_pipeline.get_feature_names_out(['team_category']))\n",
        "x_test = pd.concat([quant_x_test, encoded_df], axis = 1)"
      ]
    },
    {
      "cell_type": "code",
      "execution_count": null,
      "metadata": {
        "id": "3-gGIGq1cc4X"
      },
      "outputs": [],
      "source": [
        "dTree.fit(x, _y)"
      ]
    },
    {
      "cell_type": "code",
      "execution_count": null,
      "metadata": {
        "id": "xgQlSljycc4X"
      },
      "outputs": [],
      "source": [
        "y_pred = dTree.predict(x_test)"
      ]
    },
    {
      "cell_type": "code",
      "execution_count": null,
      "metadata": {
        "id": "umfb-znTcc4X"
      },
      "outputs": [],
      "source": [
        "plt.plot(range(1,39), y_pred, label = 'predicted points')\n",
        "plt.plot(range(1,39), y_test, label = 'actual points')\n",
        "plt.legend()\n",
        "plt.show()"
      ]
    },
    {
      "cell_type": "code",
      "execution_count": null,
      "metadata": {
        "id": "rc4u8Olxcc4Y"
      },
      "outputs": [],
      "source": [
        "print(f\"\"\"\n",
        "Mean Absolute Error = {mean_absolute_error(y_pred, y_test)},\n",
        "Mean Squared Error = {mean_squared_error(y_pred, y_test)},\n",
        "Root Mean Squared Error = {np.sqrt(mean_squared_error(y_pred, y_test))}\n",
        "\"\"\")"
      ]
    },
    {
      "cell_type": "code",
      "execution_count": null,
      "metadata": {
        "id": "zKraW1K6cc4Y"
      },
      "outputs": [],
      "source": [
        "model = XGBRegressor(objective = 'reg:absoluteerror')"
      ]
    },
    {
      "cell_type": "code",
      "execution_count": null,
      "metadata": {
        "id": "g46Vfj1Qcc4Z"
      },
      "outputs": [],
      "source": [
        "parameters = {\n",
        "    'n_estimators': [100,200,300,400]\n",
        "}"
      ]
    },
    {
      "cell_type": "code",
      "execution_count": null,
      "metadata": {
        "id": "WIgbS6Urcc4Z"
      },
      "outputs": [],
      "source": [
        "model = GridSearchCV(model, parameters, scoring='neg_mean_absolute_error')"
      ]
    },
    {
      "cell_type": "code",
      "execution_count": null,
      "metadata": {
        "id": "a6GClO80cc4Z"
      },
      "outputs": [],
      "source": [
        "model.fit(x,_y)"
      ]
    },
    {
      "cell_type": "code",
      "execution_count": null,
      "metadata": {
        "id": "zHLOL6f9cc4a"
      },
      "outputs": [],
      "source": [
        "y_pred = model.predict(x_test)"
      ]
    },
    {
      "cell_type": "code",
      "execution_count": null,
      "metadata": {
        "id": "trfTpviucc4a"
      },
      "outputs": [],
      "source": [
        "plt.plot(range(1,39), y_pred, label = 'predicted points')\n",
        "plt.plot(range(1,39), y_test, label = 'actual points')\n",
        "plt.legend()\n",
        "plt.show()"
      ]
    },
    {
      "cell_type": "code",
      "execution_count": null,
      "metadata": {
        "id": "HApT4rC1fleT"
      },
      "outputs": [],
      "source": [
        "print(f\"\"\"\n",
        "Mean Absolute Error = {mean_absolute_error(y_pred, y_test)},\n",
        "Mean Squared Error = {mean_squared_error(y_pred, y_test)},\n",
        "Root Mean Squared Error = {np.sqrt(mean_squared_error(y_pred, y_test))}\n",
        "\"\"\")"
      ]
    },
    {
      "cell_type": "code",
      "execution_count": null,
      "metadata": {
        "id": "Ln60Uxvacc4a"
      },
      "outputs": [],
      "source": [
        "parameters  ={\n",
        "    'hidden_layer_sizes': [(50), (50,50)],\n",
        "    'max_iter': [100,200,300,400],\n",
        "    'activation': ['relu', 'tanh'],\n",
        "    'solver': ['adam'],\n",
        "    'learning_rate_init': [0.001, 0.01, 0.1]\n",
        "\n",
        "}"
      ]
    },
    {
      "cell_type": "code",
      "execution_count": null,
      "metadata": {
        "id": "e3kTFe8wcc4b"
      },
      "outputs": [],
      "source": [
        "mlp = GridSearchCV(MLPRegressor(), parameters, scoring='neg_mean_absolute_error')"
      ]
    },
    {
      "cell_type": "code",
      "execution_count": null,
      "metadata": {
        "id": "nTXJEZWmcc4b"
      },
      "outputs": [],
      "source": [
        "mlp.fit(x,_y)"
      ]
    },
    {
      "cell_type": "code",
      "execution_count": null,
      "metadata": {
        "id": "bLdaJ7hHcc4b"
      },
      "outputs": [],
      "source": [
        "y_pred = mlp.predict(x_test)"
      ]
    },
    {
      "cell_type": "code",
      "execution_count": null,
      "metadata": {
        "id": "O8mOHEjJcc4b"
      },
      "outputs": [],
      "source": [
        "plt.plot(range(1,39), y_pred, label = 'predicted points')\n",
        "plt.plot(range(1,39), y_test, label = 'actual points')\n",
        "plt.legend()\n",
        "plt.show()"
      ]
    },
    {
      "cell_type": "code",
      "execution_count": null,
      "metadata": {
        "id": "GcDhB2gQcc4c"
      },
      "outputs": [],
      "source": [
        "print(f\"\"\"\n",
        "Mean Absolute Error = {mean_absolute_error(y_pred, y_test)},\n",
        "Mean Squared Error = {mean_squared_error(y_pred, y_test)},\n",
        "Root Mean Squared Error = {np.sqrt(mean_squared_error(y_pred, y_test))}\n",
        "\"\"\")"
      ]
    },
    {
      "cell_type": "code",
      "execution_count": null,
      "metadata": {
        "id": "W1VeML1Kcc4c"
      },
      "outputs": [],
      "source": [
        "parameters = {\n",
        "    'n_estimators': [100,200,300],\n",
        "    'max_depth': [5,10, 15, 20]\n",
        "}"
      ]
    },
    {
      "cell_type": "code",
      "execution_count": null,
      "metadata": {
        "id": "TIfgZDwmcc4c"
      },
      "outputs": [],
      "source": [
        "rf = GridSearchCV(RandomForestRegressor(), parameters, scoring='neg_mean_absolute_error')"
      ]
    },
    {
      "cell_type": "code",
      "execution_count": null,
      "metadata": {
        "id": "4k5uBWXRcc4d"
      },
      "outputs": [],
      "source": [
        "rf.fit(x, _y)"
      ]
    },
    {
      "cell_type": "code",
      "execution_count": null,
      "metadata": {
        "id": "4ANaItAUcc4d"
      },
      "outputs": [],
      "source": [
        "y_pred = rf.predict(x_test)"
      ]
    },
    {
      "cell_type": "code",
      "execution_count": null,
      "metadata": {
        "id": "UeCjdNavcc4d"
      },
      "outputs": [],
      "source": [
        "plt.plot(range(1,39), y_pred, label = 'predicted points')\n",
        "plt.plot(range(1,39), y_test, label = 'actual points')\n",
        "plt.legend()\n",
        "plt.show()"
      ]
    },
    {
      "cell_type": "code",
      "execution_count": null,
      "metadata": {
        "id": "NBwh7FCucc4e"
      },
      "outputs": [],
      "source": [
        "print(f\"\"\"\n",
        "Mean Absolute Error = {mean_absolute_error(y_pred, y_test)},\n",
        "Mean Squared Error = {mean_squared_error(y_pred, y_test)},\n",
        "Root Mean Squared Error = {np.sqrt(mean_squared_error(y_pred, y_test))}\n",
        "\"\"\")"
      ]
    },
    {
      "cell_type": "code",
      "execution_count": null,
      "metadata": {
        "id": "I94LogUfvJrU"
      },
      "outputs": [],
      "source": []
    },
    {
      "cell_type": "code",
      "execution_count": null,
      "metadata": {
        "id": "BzjvDIaEvKDb"
      },
      "outputs": [],
      "source": [
        "final_model = VotingRegressor(estimators = [\n",
        "    ('feed_forward_network', mlp.best_estimator_),\n",
        "    ('xgboost', model.best_estimator_),\n",
        "    ('random_forest', rf.best_estimator_)\n",
        "])"
      ]
    },
    {
      "cell_type": "code",
      "execution_count": null,
      "metadata": {
        "id": "uRdgHy4EvKDd"
      },
      "outputs": [],
      "source": [
        "final_model.fit(x, _y)\n",
        "y_pred = final_model.predict(x_test)"
      ]
    },
    {
      "cell_type": "code",
      "execution_count": null,
      "metadata": {
        "id": "-DY7-dsWvKDd"
      },
      "outputs": [],
      "source": [
        "plt.plot(range(1,39), y_pred, label = 'predicted points')\n",
        "plt.plot(range(1,39), y_test, label = 'actual points')\n",
        "plt.legend()\n",
        "plt.show()"
      ]
    },
    {
      "cell_type": "code",
      "execution_count": null,
      "metadata": {
        "id": "6RlkQ1i6vKDd"
      },
      "outputs": [],
      "source": [
        "print(f\"\"\"\n",
        "Mean Absolute Error = {mean_absolute_error(y_pred, y_test)},\n",
        "Mean Squared Error = {mean_squared_error(y_pred, y_test)},\n",
        "Root Mean Squared Error = {np.sqrt(mean_squared_error(y_pred, y_test))}\n",
        "\"\"\")"
      ]
    },
    {
      "cell_type": "markdown",
      "metadata": {
        "id": "C5wVWev5c5Bt"
      },
      "source": [
        "**Goal Keepers**"
      ]
    },
    {
      "cell_type": "code",
      "execution_count": null,
      "metadata": {
        "id": "6lIZ1s47c6-T"
      },
      "outputs": [],
      "source": []
    },
    {
      "cell_type": "code",
      "execution_count": null,
      "metadata": {
        "id": "RAuI6EP2c7Xh"
      },
      "outputs": [],
      "source": [
        "x = gk_df.drop(columns= ['name'])\n",
        "x_test = test_df[test_df['name'] == 'Jordan Pickford'].reset_index(drop = True)"
      ]
    },
    {
      "cell_type": "code",
      "execution_count": null,
      "metadata": {
        "id": "1qcHWWcBc7Xi"
      },
      "outputs": [],
      "source": [
        "y_test = x_test['total_points']\n",
        "_y = x['total_points']\n",
        "x.drop(columns = ['total_points','opponent_team', 'position'], inplace = True)\n",
        "x_test.drop(columns = ['total_points', 'name', 'opponent_team', 'position'], inplace = True)"
      ]
    },
    {
      "cell_type": "code",
      "execution_count": null,
      "metadata": {
        "id": "_9wqyu1jc7Xi"
      },
      "outputs": [],
      "source": [
        "x = pd.DataFrame(preprocessor.fit_transform(x), columns = list(quant_features)+list(feature_names))"
      ]
    },
    {
      "cell_type": "code",
      "execution_count": null,
      "metadata": {
        "id": "gQooyZWec7Xj"
      },
      "outputs": [],
      "source": [
        "quant_x_test = pd.DataFrame(quant_pipeline.fit_transform(x_test.select_dtypes(include=np.number)), columns = list(quant_features))\n",
        "\n",
        "quant_x_test['was_home_True']= cat_pipeline.fit_transform(pd.DataFrame({'was_home': x_test['was_home']}))\n",
        "encoded_array = cat_pipeline.fit_transform(pd.DataFrame({'team_category':x_test['team_category']}))\n",
        "encoded_df = pd.DataFrame(encoded_array, columns=cat_pipeline.get_feature_names_out(['team_category']))\n",
        "x_test = pd.concat([quant_x_test, encoded_df], axis = 1)"
      ]
    },
    {
      "cell_type": "code",
      "execution_count": null,
      "metadata": {
        "id": "VPNipmmmc7Xk"
      },
      "outputs": [],
      "source": [
        "dTree.fit(x, _y)"
      ]
    },
    {
      "cell_type": "code",
      "execution_count": null,
      "metadata": {
        "id": "E4rMUj3wc7Xk"
      },
      "outputs": [],
      "source": [
        "y_pred = dTree.predict(x_test)"
      ]
    },
    {
      "cell_type": "code",
      "execution_count": null,
      "metadata": {
        "id": "SOT8vp2Wc7Xk"
      },
      "outputs": [],
      "source": [
        "plt.plot(range(1,39), y_pred, label = 'predicted points')\n",
        "plt.plot(range(1,39), y_test, label = 'actual points')\n",
        "plt.legend()\n",
        "plt.show()"
      ]
    },
    {
      "cell_type": "code",
      "execution_count": null,
      "metadata": {
        "id": "_jYxfI_dc7Xl"
      },
      "outputs": [],
      "source": [
        "print(f\"\"\"\n",
        "Mean Absolute Error = {mean_absolute_error(y_pred, y_test)},\n",
        "Mean Squared Error = {mean_squared_error(y_pred, y_test)},\n",
        "Root Mean Squared Error = {np.sqrt(mean_squared_error(y_pred, y_test))}\n",
        "\"\"\")"
      ]
    },
    {
      "cell_type": "code",
      "execution_count": null,
      "metadata": {
        "id": "XpJEaQlxc7Xl"
      },
      "outputs": [],
      "source": [
        "model = XGBRegressor(objective = 'reg:absoluteerror')"
      ]
    },
    {
      "cell_type": "code",
      "execution_count": null,
      "metadata": {
        "id": "phh9Afmwc7Xm"
      },
      "outputs": [],
      "source": [
        "parameters = {\n",
        "    'n_estimators': [100,200,300,400]\n",
        "}"
      ]
    },
    {
      "cell_type": "code",
      "execution_count": null,
      "metadata": {
        "id": "zDsDSte9c7Xm"
      },
      "outputs": [],
      "source": [
        "model = GridSearchCV(model, parameters, scoring='neg_mean_absolute_error')"
      ]
    },
    {
      "cell_type": "code",
      "execution_count": null,
      "metadata": {
        "id": "aoBfL1abc7Xm"
      },
      "outputs": [],
      "source": [
        "model.fit(x,_y)"
      ]
    },
    {
      "cell_type": "code",
      "execution_count": null,
      "metadata": {
        "id": "Z5-1byemc7Xm"
      },
      "outputs": [],
      "source": [
        "y_pred = model.predict(x_test)"
      ]
    },
    {
      "cell_type": "code",
      "execution_count": null,
      "metadata": {
        "id": "No-B_yY5c7Xn"
      },
      "outputs": [],
      "source": [
        "plt.plot(range(1,39), y_pred, label = 'predicted points')\n",
        "plt.plot(range(1,39), y_test, label = 'actual points')\n",
        "plt.legend()\n",
        "plt.show()"
      ]
    },
    {
      "cell_type": "code",
      "execution_count": null,
      "metadata": {
        "id": "hW7VEwJ-f8vL"
      },
      "outputs": [],
      "source": [
        "print(f\"\"\"\n",
        "Mean Absolute Error = {mean_absolute_error(y_pred, y_test)},\n",
        "Mean Squared Error = {mean_squared_error(y_pred, y_test)},\n",
        "Root Mean Squared Error = {np.sqrt(mean_squared_error(y_pred, y_test))}\n",
        "\"\"\")"
      ]
    },
    {
      "cell_type": "code",
      "execution_count": null,
      "metadata": {
        "id": "zKetVf7dc7Xn"
      },
      "outputs": [],
      "source": [
        "parameters  ={\n",
        "    'hidden_layer_sizes': [(50), (50,50)],\n",
        "    'max_iter': [100,200,300,400],\n",
        "    'activation': ['relu', 'tanh'],\n",
        "    'solver': ['adam'],\n",
        "    'learning_rate_init': [0.001, 0.01, 0.1]\n",
        "\n",
        "}"
      ]
    },
    {
      "cell_type": "code",
      "execution_count": null,
      "metadata": {
        "id": "G217xmrHc7Xn"
      },
      "outputs": [],
      "source": [
        "mlp = GridSearchCV(MLPRegressor(), parameters, scoring='neg_mean_absolute_error')"
      ]
    },
    {
      "cell_type": "code",
      "execution_count": null,
      "metadata": {
        "id": "BECo5N7fc7Xo"
      },
      "outputs": [],
      "source": [
        "mlp.fit(x,_y)"
      ]
    },
    {
      "cell_type": "code",
      "execution_count": null,
      "metadata": {
        "id": "XJRqrvuPc7Xo"
      },
      "outputs": [],
      "source": [
        "y_pred = mlp.predict(x_test)"
      ]
    },
    {
      "cell_type": "code",
      "execution_count": null,
      "metadata": {
        "id": "487zurx0c7Xo"
      },
      "outputs": [],
      "source": [
        "plt.plot(range(1,39), y_pred, label = 'predicted points')\n",
        "plt.plot(range(1,39), y_test, label = 'actual points')\n",
        "plt.legend()\n",
        "plt.show()"
      ]
    },
    {
      "cell_type": "code",
      "execution_count": null,
      "metadata": {
        "id": "Z8X6RdYbc7Xp"
      },
      "outputs": [],
      "source": [
        "print(f\"\"\"\n",
        "Mean Absolute Error = {mean_absolute_error(y_pred, y_test)},\n",
        "Mean Squared Error = {mean_squared_error(y_pred, y_test)},\n",
        "Root Mean Squared Error = {np.sqrt(mean_squared_error(y_pred, y_test))}\n",
        "\"\"\")"
      ]
    },
    {
      "cell_type": "code",
      "execution_count": null,
      "metadata": {
        "id": "Ma1GroVLc7Xp"
      },
      "outputs": [],
      "source": [
        "parameters = {\n",
        "    'n_estimators': [100,200,300],\n",
        "    'max_depth': [5,10, 15, 20]\n",
        "}"
      ]
    },
    {
      "cell_type": "code",
      "execution_count": null,
      "metadata": {
        "id": "lovf5zSGc7Xp"
      },
      "outputs": [],
      "source": [
        "rf = GridSearchCV(RandomForestRegressor(), parameters, scoring='neg_mean_absolute_error')"
      ]
    },
    {
      "cell_type": "code",
      "execution_count": null,
      "metadata": {
        "id": "mB1JD0y0c7Xq"
      },
      "outputs": [],
      "source": [
        "rf.fit(x, _y)"
      ]
    },
    {
      "cell_type": "code",
      "execution_count": null,
      "metadata": {
        "id": "kzkiDJjkc7Xq"
      },
      "outputs": [],
      "source": [
        "y_pred = rf.predict(x_test)"
      ]
    },
    {
      "cell_type": "code",
      "execution_count": null,
      "metadata": {
        "id": "6dhrBXHrc7Xq"
      },
      "outputs": [],
      "source": [
        "plt.plot(range(1,39), y_pred, label = 'predicted points')\n",
        "plt.plot(range(1,39), y_test, label = 'actual points')\n",
        "plt.legend()\n",
        "plt.show()"
      ]
    },
    {
      "cell_type": "code",
      "execution_count": null,
      "metadata": {
        "id": "tZWkBw_sc7Xr"
      },
      "outputs": [],
      "source": [
        "print(f\"\"\"\n",
        "Mean Absolute Error = {mean_absolute_error(y_pred, y_test)},\n",
        "Mean Squared Error = {mean_squared_error(y_pred, y_test)},\n",
        "Root Mean Squared Error = {np.sqrt(mean_squared_error(y_pred, y_test))}\n",
        "\"\"\")"
      ]
    },
    {
      "cell_type": "code",
      "execution_count": null,
      "metadata": {
        "id": "_ProP1XwvLWH"
      },
      "outputs": [],
      "source": []
    },
    {
      "cell_type": "code",
      "execution_count": null,
      "metadata": {
        "id": "ix986Pi0vLqI"
      },
      "outputs": [],
      "source": [
        "final_model = VotingRegressor(estimators = [\n",
        "    ('feed_forward_network', mlp.best_estimator_),\n",
        "    ('xgboost', model.best_estimator_),\n",
        "    ('random_forest', rf.best_estimator_)\n",
        "])"
      ]
    },
    {
      "cell_type": "code",
      "execution_count": null,
      "metadata": {
        "id": "SnSA2yKEvLqo"
      },
      "outputs": [],
      "source": [
        "final_model.fit(x, _y)\n",
        "y_pred = final_model.predict(x_test)"
      ]
    },
    {
      "cell_type": "code",
      "execution_count": null,
      "metadata": {
        "id": "o6ogmGH2vLqo"
      },
      "outputs": [],
      "source": [
        "plt.plot(range(1,39), y_pred, label = 'predicted points')\n",
        "plt.plot(range(1,39), y_test, label = 'actual points')\n",
        "plt.legend()\n",
        "plt.show()"
      ]
    },
    {
      "cell_type": "code",
      "execution_count": null,
      "metadata": {
        "id": "hxJ2dywjvLqp"
      },
      "outputs": [],
      "source": [
        "print(f\"\"\"\n",
        "Mean Absolute Error = {mean_absolute_error(y_pred, y_test)},\n",
        "Mean Squared Error = {mean_squared_error(y_pred, y_test)},\n",
        "Root Mean Squared Error = {np.sqrt(mean_squared_error(y_pred, y_test))}\n",
        "\"\"\")"
      ]
    },
    {
      "cell_type": "markdown",
      "source": [
        "**Making the models to to forecast 24/25 points**"
      ],
      "metadata": {
        "id": "rzwIW_b05Q3t"
      }
    },
    {
      "cell_type": "code",
      "execution_count": null,
      "metadata": {
        "id": "5kovoANf5Z_l"
      },
      "outputs": [],
      "source": [
        "df = pd.read_csv('/content/drive/MyDrive/Datasets/merged_gw_2022-23.csv')#22-23 data\n",
        "df['season'] = 0"
      ]
    },
    {
      "cell_type": "code",
      "execution_count": null,
      "metadata": {
        "id": "PdALSAO-5Z_n"
      },
      "outputs": [],
      "source": [
        "test_df = pd.read_csv('/content/drive/MyDrive/Datasets/merged_gw_23-34.csv')#23-24\n",
        "test_df['season'] = 1"
      ]
    },
    {
      "cell_type": "code",
      "source": [
        "df = pd.concat([df, test_df]).reset_index(drop = True)"
      ],
      "metadata": {
        "id": "r5TA3Q2d5b6M"
      },
      "execution_count": null,
      "outputs": []
    },
    {
      "cell_type": "code",
      "source": [
        "df = df.sort_values(by=['name','season', 'GW']).reset_index(drop =True)"
      ],
      "metadata": {
        "id": "LIM1M-3K5feW"
      },
      "execution_count": null,
      "outputs": []
    },
    {
      "cell_type": "code",
      "execution_count": null,
      "metadata": {
        "id": "ol8dTcyp6nog"
      },
      "outputs": [],
      "source": [
        "window_size = 38\n",
        "df[f'avg_points_last_{window_size}'] = df.groupby(['name'])['total_points'].transform(lambda x: x.rolling(window=window_size, min_periods=1).mean().shift(1))\n",
        "df[f'avg_minutes_last_{window_size}'] = df.groupby(['name'])['minutes'].transform(lambda x: x.rolling(window=window_size, min_periods = 1).mean().shift(1))\n",
        "df[f'avg_ict_index_last_{window_size}'] = df.groupby(['name'])['ict_index'].transform(lambda x: x.rolling(window=window_size, min_periods = 1).mean().shift(1))\n",
        "df[f'avg_bonus_last_{window_size}'] = df.groupby(['name'])['bonus'].transform(lambda x: x.rolling(window=window_size, min_periods = 1).mean().shift(1))\n",
        "df[f'avg_bps_last_{window_size}'] = df.groupby(['name'])['bps'].transform(lambda x: x.rolling(window=window_size, min_periods = 1).mean().shift(1))\n",
        "df[f'avg_xP_last_{window_size}'] = df.groupby(['name'])['xP'].transform(lambda x: x.rolling(window = window_size, min_periods = 1).mean().shift(1))\n",
        "df[f'avg_expected_goal_involvements_last_{window_size}'] = df.groupby(['name'])['expected_goal_involvements'].transform(lambda x: x.rolling(window = window_size, min_periods = 1).mean().shift(1))\n",
        "df[f'avg_expected_goals_conceded_last_{window_size}'] = df.groupby(['name'])['expected_goals_conceded'].transform(lambda x: x.rolling(window = window_size, min_periods = 1).mean().shift(1))\n",
        "df[f'avg_goals_conceded_last_{window_size}'] = df.groupby(['name'])['goals_conceded'].transform(lambda x: x.rolling(window = window_size, min_periods = 1).mean().shift(1))\n",
        "\n",
        "\n",
        "df[f'avg_goals_scored_last_{window_size}'] = df.groupby(['name'])['goals_scored'].transform(lambda x: x.rolling(window = window_size, min_periods = 1).mean().shift(1))\n",
        "df[f'avg_influence_last_{window_size}'] = df.groupby(['name'])['influence'].transform(lambda x: x.rolling(window = window_size, min_periods = 1).mean().shift(1))\n",
        "df[f'avg_threat_last_{window_size}'] = df.groupby(['name'])['threat'].transform(lambda x: x.rolling(window = window_size, min_periods = 1).mean().shift(1))\n",
        "df[f'avg_creativity_last_{window_size}'] = df.groupby(['name'])['creativity'].transform(lambda x: x.rolling(window = window_size, min_periods = 1).mean().shift(1))"
      ]
    },
    {
      "cell_type": "code",
      "execution_count": null,
      "metadata": {
        "id": "5_S69BuU6noy"
      },
      "outputs": [],
      "source": [
        "bins = [0, 6, 14, 20]\n",
        "labels = ['top 6', 'mid table', 'relegation fodder']\n",
        "\n",
        "df['team_category'] = pd.cut(df['opponent_team'], bins=bins, labels=labels, right=True)"
      ]
    },
    {
      "cell_type": "code",
      "execution_count": null,
      "metadata": {
        "id": "lujJbvN86noz"
      },
      "outputs": [],
      "source": [
        "useless_columns = [\n",
        "    'team', 'xP', 'assists', 'bonus', 'bps', 'clean_sheets', 'creativity', 'element', 'expected_assists',\n",
        "    'expected_goal_involvements', 'expected_goals', 'expected_goals_conceded', 'fixture',  'goals_conceded', 'goals_scored',\n",
        "       'ict_index', 'influence', 'kickoff_time', 'minutes', 'own_goals', 'penalties_missed', 'penalties_saved', 'red_cards',\n",
        "       'round', 'saves', 'selected', 'starts', 'team_a_score', 'team_h_score','threat', 'transfers_balance', 'transfers_in',\n",
        "       'transfers_out', 'yellow_cards', 'GW'\n",
        "]"
      ]
    },
    {
      "cell_type": "code",
      "execution_count": null,
      "metadata": {
        "id": "Lu2-Kl6H6no0"
      },
      "outputs": [],
      "source": [
        "df.drop(columns = useless_columns, inplace = True)"
      ]
    },
    {
      "cell_type": "code",
      "execution_count": null,
      "metadata": {
        "id": "I0NtUMAQ6no0"
      },
      "outputs": [],
      "source": [
        "df[f'avg_points_last_{window_size}'] = df[f'avg_points_last_{window_size}'].fillna(0)\n",
        "df[f'avg_minutes_last_{window_size}'] = df[f'avg_minutes_last_{window_size}'].fillna(0)\n",
        "df[f'avg_ict_index_last_{window_size}'] = df[f'avg_ict_index_last_{window_size}'].fillna(0)\n",
        "df[f'avg_bonus_last_{window_size}'] = df[f'avg_bonus_last_{window_size}'].fillna(0)\n",
        "df[f'avg_bps_last_{window_size}'] = df[f'avg_bps_last_{window_size}'].fillna(0)\n",
        "df[f'avg_xP_last_{window_size}'] = df[f'avg_xP_last_{window_size}'].fillna(0)\n",
        "df[f'avg_expected_goal_involvements_last_{window_size}'] = df[f'avg_expected_goal_involvements_last_{window_size}'].fillna(0)\n",
        "df[f'avg_expected_goals_conceded_last_{window_size}'] = df[f'avg_expected_goals_conceded_last_{window_size}'].fillna(0)\n",
        "df[f'avg_goals_conceded_last_{window_size}'] = df[f'avg_goals_conceded_last_{window_size}'].fillna(0)\n",
        "\n",
        "df[f'avg_goals_scored_last_{window_size}'] = df[f'avg_goals_scored_last_{window_size}'].fillna(0)\n",
        "df[f'avg_influence_last_{window_size}'] = df[f'avg_influence_last_{window_size}'].fillna(0)\n",
        "df[f'avg_threat_last_{window_size}'] = df[f'avg_threat_last_{window_size}'].fillna(0)\n",
        "df[f'avg_creativity_last_{window_size}'] = df[f'avg_creativity_last_{window_size}'].fillna(0)"
      ]
    },
    {
      "cell_type": "code",
      "source": [
        "df.drop(columns = ['season', 'name', 'opponent_team'], inplace= True)"
      ],
      "metadata": {
        "id": "gBkqUb5R_WQY"
      },
      "execution_count": null,
      "outputs": []
    },
    {
      "cell_type": "code",
      "execution_count": null,
      "metadata": {
        "id": "NiAqby6Z6no1"
      },
      "outputs": [],
      "source": [
        "fwd_df = df[df['position'] == 'FWD'].reset_index(drop = True)\n",
        "mid_df = df[df['position'] == 'MID'].reset_index(drop = True)\n",
        "def_df = df[df['position'] == 'DEF'].reset_index(drop = True)\n",
        "gk_df = df[df['position'] == 'GK'].reset_index(drop = True)"
      ]
    },
    {
      "cell_type": "code",
      "source": [
        "y_fwd = fwd_df['total_points']\n",
        "y_mid = mid_df['total_points']\n",
        "y_def = def_df['total_points']\n",
        "y_gk = gk_df['total_points']"
      ],
      "metadata": {
        "id": "Awn2v8I-AVWh"
      },
      "execution_count": null,
      "outputs": []
    },
    {
      "cell_type": "code",
      "source": [
        "fwd_df.drop(columns = ['position', 'total_points'], inplace= True)\n",
        "mid_df.drop(columns = ['position', 'total_points'], inplace= True)\n",
        "def_df.drop(columns = ['position', 'total_points'], inplace= True)\n",
        "gk_df.drop(columns = ['position', 'total_points'], inplace= True)"
      ],
      "metadata": {
        "id": "_uBm6uta_eBj"
      },
      "execution_count": null,
      "outputs": []
    },
    {
      "cell_type": "markdown",
      "source": [
        "**Preprocessing pipeline**"
      ],
      "metadata": {
        "id": "zm-iiVS-740p"
      }
    },
    {
      "cell_type": "code",
      "execution_count": null,
      "metadata": {
        "id": "EvwpT1U_73Ui"
      },
      "outputs": [],
      "source": [
        "scaler = MinMaxScaler()"
      ]
    },
    {
      "cell_type": "code",
      "execution_count": null,
      "metadata": {
        "id": "9R5vTyHA73Uy"
      },
      "outputs": [],
      "source": [
        "quant_features = fwd_df.select_dtypes(include = np.number).columns\n",
        "print(quant_features)\n",
        "quant_pipeline = Pipeline(steps = [\n",
        "   ('imputer', SimpleImputer(strategy = 'median')),\n",
        "   ('scaler', scaler)\n",
        "])\n",
        "\n",
        "cat_features = fwd_df.select_dtypes(include = ['object', 'bool', 'category']).columns\n",
        "print(cat_features)\n",
        "cat_pipeline = Pipeline(steps = [\n",
        "    ('encoder', OneHotEncoder(sparse = False, drop = 'first'))\n",
        "])\n",
        "\n",
        "preprocessor = ColumnTransformer(transformers=[\n",
        "    ('quant', quant_pipeline, quant_features),\n",
        "    ('cat', cat_pipeline, cat_features)\n",
        "])"
      ]
    },
    {
      "cell_type": "markdown",
      "source": [
        "**Training the model for forwards**"
      ],
      "metadata": {
        "id": "0yQTVBL478al"
      }
    },
    {
      "cell_type": "code",
      "source": [
        "from sklearn.model_selection import train_test_split"
      ],
      "metadata": {
        "id": "8cQ1vUQl8NzJ"
      },
      "execution_count": null,
      "outputs": []
    },
    {
      "cell_type": "code",
      "source": [
        "\n",
        "fwd_df.columns"
      ],
      "metadata": {
        "id": "uW2mGWpV8XOa"
      },
      "execution_count": null,
      "outputs": []
    },
    {
      "cell_type": "code",
      "source": [
        "fwd_df = pd.DataFrame(preprocessor.fit_transform(fwd_df), columns = list(quant_features)+list(feature_names))"
      ],
      "metadata": {
        "id": "2OTt00mq9QXQ"
      },
      "execution_count": null,
      "outputs": []
    },
    {
      "cell_type": "code",
      "source": [
        "with open('forward_pipeline.pkl', 'wb') as file:\n",
        "  pkl.dump(preprocessor, file)"
      ],
      "metadata": {
        "id": "Chf3cX2wrI5M"
      },
      "execution_count": null,
      "outputs": []
    },
    {
      "cell_type": "code",
      "source": [
        "fwd_df.columns"
      ],
      "metadata": {
        "id": "WIKBkeNKh0gj"
      },
      "execution_count": null,
      "outputs": []
    },
    {
      "cell_type": "code",
      "source": [
        "Xtrain, Xtest, Ytrain, Ytest = train_test_split(fwd_df, y_fwd, test_size = 0.2, random_state = 42)"
      ],
      "metadata": {
        "id": "Vrph1WOV8QRm"
      },
      "execution_count": null,
      "outputs": []
    },
    {
      "cell_type": "code",
      "execution_count": null,
      "metadata": {
        "id": "_TKrOUSX97EK"
      },
      "outputs": [],
      "source": [
        "f_xgb = XGBRegressor(objective = 'reg:absoluteerror')"
      ]
    },
    {
      "cell_type": "code",
      "execution_count": null,
      "metadata": {
        "id": "zvv4g3Z097EM"
      },
      "outputs": [],
      "source": [
        "parameters = {\n",
        "    'n_estimators': [100,200,300,400]\n",
        "}"
      ]
    },
    {
      "cell_type": "code",
      "execution_count": null,
      "metadata": {
        "id": "lywuaZIV97EN"
      },
      "outputs": [],
      "source": [
        "f_xgb = GridSearchCV(f_xgb, parameters, scoring='neg_mean_absolute_error')"
      ]
    },
    {
      "cell_type": "code",
      "execution_count": null,
      "metadata": {
        "id": "bmNADccP97EP"
      },
      "outputs": [],
      "source": [
        "f_xgb.fit(Xtrain,Ytrain)"
      ]
    },
    {
      "cell_type": "code",
      "source": [
        "y_pred = f_xgb.predict(Xtest)"
      ],
      "metadata": {
        "id": "HzTv6-R6-P_6"
      },
      "execution_count": null,
      "outputs": []
    },
    {
      "cell_type": "code",
      "source": [
        "print(f\"\"\"\n",
        "Mean Absolute Error = {mean_absolute_error(y_pred, Ytest)},\n",
        "Mean Squared Error = {mean_squared_error(y_pred, Ytest)},\n",
        "Root Mean Squared Error = {np.sqrt(mean_squared_error(y_pred, Ytest))}\n",
        "\"\"\")"
      ],
      "metadata": {
        "id": "F-dmvOsV-PU4"
      },
      "execution_count": null,
      "outputs": []
    },
    {
      "cell_type": "code",
      "execution_count": null,
      "metadata": {
        "id": "5gg97Gok97EQ"
      },
      "outputs": [],
      "source": [
        "parameters  ={\n",
        "    'hidden_layer_sizes': [(50), (50,50)],\n",
        "    'max_iter': [100,200,300,400],\n",
        "    'activation': ['relu', 'tanh'],\n",
        "    'solver': ['adam'],\n",
        "    'learning_rate_init': [0.001, 0.01, 0.1]\n",
        "\n",
        "}"
      ]
    },
    {
      "cell_type": "code",
      "execution_count": null,
      "metadata": {
        "id": "ZvaGMndL97ER"
      },
      "outputs": [],
      "source": [
        "f_mlp = GridSearchCV(MLPRegressor(), parameters, scoring='neg_mean_absolute_error')"
      ]
    },
    {
      "cell_type": "code",
      "source": [
        "f_mlp.fit(Xtrain, Ytrain)"
      ],
      "metadata": {
        "id": "n416DGbpBRgz"
      },
      "execution_count": null,
      "outputs": []
    },
    {
      "cell_type": "code",
      "source": [
        "y_pred = f_mlp.predict(Xtest)"
      ],
      "metadata": {
        "id": "OJviEENJBUow"
      },
      "execution_count": null,
      "outputs": []
    },
    {
      "cell_type": "code",
      "source": [
        "print(f\"\"\"\n",
        "Mean Absolute Error = {mean_absolute_error(y_pred, Ytest)},\n",
        "Mean Squared Error = {mean_squared_error(y_pred, Ytest)},\n",
        "Root Mean Squared Error = {np.sqrt(mean_squared_error(y_pred, Ytest))}\n",
        "\"\"\")"
      ],
      "metadata": {
        "id": "KVNBw7usBeRU"
      },
      "execution_count": null,
      "outputs": []
    },
    {
      "cell_type": "code",
      "source": [],
      "metadata": {
        "id": "CkOxI_3HfZzH"
      },
      "execution_count": null,
      "outputs": []
    },
    {
      "cell_type": "code",
      "execution_count": null,
      "metadata": {
        "id": "92R8d39iBzsD"
      },
      "outputs": [],
      "source": [
        "parameters = {\n",
        "    'n_estimators': [100,200,300],\n",
        "    'max_depth': [5,10, 15, 20]\n",
        "}"
      ]
    },
    {
      "cell_type": "code",
      "execution_count": null,
      "metadata": {
        "id": "n-80DMpf97EU"
      },
      "outputs": [],
      "source": [
        "rf_fwd = GridSearchCV(RandomForestRegressor(), parameters, scoring='neg_mean_absolute_error')"
      ]
    },
    {
      "cell_type": "code",
      "source": [
        "rf_fwd.fit(Xtrain, Ytrain)\n",
        "y_pred = rf_fwd.predict(Xtest)"
      ],
      "metadata": {
        "id": "23ACNMFRB20r"
      },
      "execution_count": null,
      "outputs": []
    },
    {
      "cell_type": "code",
      "source": [
        "print(f\"\"\"\n",
        "Mean Absolute Error = {mean_absolute_error(y_pred, Ytest)},\n",
        "Mean Squared Error = {mean_squared_error(y_pred, Ytest)},\n",
        "Root Mean Squared Error = {np.sqrt(mean_squared_error(y_pred, Ytest))}\n",
        "\"\"\")"
      ],
      "metadata": {
        "id": "H59aQy45B-xU"
      },
      "execution_count": null,
      "outputs": []
    },
    {
      "cell_type": "code",
      "execution_count": null,
      "metadata": {
        "id": "WNVgJmNxBzsU"
      },
      "outputs": [],
      "source": [
        "final_model = VotingRegressor(estimators = [\n",
        "    ('feed_forward_network', f_mlp.best_estimator_),\n",
        "    ('xgboost', f_xgb.best_estimator_),\n",
        "    ('random_forest', rf_fwd.best_estimator_)\n",
        "])"
      ]
    },
    {
      "cell_type": "code",
      "execution_count": null,
      "metadata": {
        "id": "4v_yvlQFBzsU"
      },
      "outputs": [],
      "source": [
        "final_model.fit(Xtrain, Ytrain)\n",
        "y_pred = final_model.predict(Xtest)"
      ]
    },
    {
      "cell_type": "code",
      "source": [
        "final_forward_model = final_model"
      ],
      "metadata": {
        "id": "2gXgW7L3CLt4"
      },
      "execution_count": null,
      "outputs": []
    },
    {
      "cell_type": "code",
      "source": [
        "with open('forward_model.pkl', 'wb') as file:\n",
        "  pkl.dump(final_forward_model, file)"
      ],
      "metadata": {
        "id": "ueSDxPAZfsgg"
      },
      "execution_count": null,
      "outputs": []
    },
    {
      "cell_type": "code",
      "source": [
        "print(f\"\"\"\n",
        "Mean Absolute Error = {mean_absolute_error(y_pred, Ytest)},\n",
        "Mean Squared Error = {mean_squared_error(y_pred, Ytest)},\n",
        "Root Mean Squared Error = {np.sqrt(mean_squared_error(y_pred, Ytest))}\n",
        "\"\"\")"
      ],
      "metadata": {
        "id": "1giG0hOk9aFK"
      },
      "execution_count": null,
      "outputs": []
    },
    {
      "cell_type": "markdown",
      "source": [
        "**Midfielder Model**"
      ],
      "metadata": {
        "id": "N07NOThqGNfZ"
      }
    },
    {
      "cell_type": "code",
      "source": [
        "mid_df.columns"
      ],
      "metadata": {
        "id": "PjTZo1mvGgLV"
      },
      "execution_count": null,
      "outputs": []
    },
    {
      "cell_type": "code",
      "source": [
        "mid_df = pd.DataFrame(preprocessor.fit_transform(mid_df), columns = list(quant_features)+list(feature_names))"
      ],
      "metadata": {
        "id": "5y1RsS9dGgL6"
      },
      "execution_count": null,
      "outputs": []
    },
    {
      "cell_type": "code",
      "source": [
        "with open('midfield_pipeline.pkl', 'wb') as file:\n",
        "  pkl.dump(preprocessor, file)"
      ],
      "metadata": {
        "id": "NJYqV6uIr4T5"
      },
      "execution_count": null,
      "outputs": []
    },
    {
      "cell_type": "code",
      "source": [
        "Xtrain, Xtest, Ytrain, Ytest = train_test_split(mid_df, y_mid, test_size = 0.2, random_state = 42)"
      ],
      "metadata": {
        "id": "JLO3R_eZGgL7"
      },
      "execution_count": null,
      "outputs": []
    },
    {
      "cell_type": "code",
      "execution_count": null,
      "metadata": {
        "id": "UIbBOq_5GgL7"
      },
      "outputs": [],
      "source": [
        "m_xgb = XGBRegressor(objective = 'reg:absoluteerror')"
      ]
    },
    {
      "cell_type": "code",
      "execution_count": null,
      "metadata": {
        "id": "TPkxgOt_GgL8"
      },
      "outputs": [],
      "source": [
        "parameters = {\n",
        "    'n_estimators': [100,200,300,400]\n",
        "}"
      ]
    },
    {
      "cell_type": "code",
      "execution_count": null,
      "metadata": {
        "id": "x0z3VI7DGgL8"
      },
      "outputs": [],
      "source": [
        "m_xgb = GridSearchCV(m_xgb, parameters, scoring='neg_mean_absolute_error')"
      ]
    },
    {
      "cell_type": "code",
      "execution_count": null,
      "metadata": {
        "id": "LNmWKjY1GgL8"
      },
      "outputs": [],
      "source": [
        "m_xgb.fit(Xtrain,Ytrain)"
      ]
    },
    {
      "cell_type": "code",
      "source": [
        "y_pred = m_xgb.predict(Xtest)"
      ],
      "metadata": {
        "id": "cvBwD43rGgL9"
      },
      "execution_count": null,
      "outputs": []
    },
    {
      "cell_type": "code",
      "source": [
        "print(f\"\"\"\n",
        "Mean Absolute Error = {mean_absolute_error(y_pred, Ytest)},\n",
        "Mean Squared Error = {mean_squared_error(y_pred, Ytest)},\n",
        "Root Mean Squared Error = {np.sqrt(mean_squared_error(y_pred, Ytest))}\n",
        "\"\"\")"
      ],
      "metadata": {
        "id": "Xoeb8DctGgL9"
      },
      "execution_count": null,
      "outputs": []
    },
    {
      "cell_type": "code",
      "execution_count": null,
      "metadata": {
        "id": "kw1OttFGGgL-"
      },
      "outputs": [],
      "source": [
        "parameters  ={\n",
        "    'hidden_layer_sizes': [(50), (50,50)],\n",
        "    'max_iter': [100,200,300,400],\n",
        "    'activation': ['relu', 'tanh'],\n",
        "    'solver': ['adam'],\n",
        "    'learning_rate_init': [0.001, 0.01, 0.1]\n",
        "\n",
        "}"
      ]
    },
    {
      "cell_type": "code",
      "execution_count": null,
      "metadata": {
        "id": "Vo6FkjgtGgL-"
      },
      "outputs": [],
      "source": [
        "m_mlp = GridSearchCV(MLPRegressor(), parameters, scoring='neg_mean_absolute_error')"
      ]
    },
    {
      "cell_type": "code",
      "source": [
        "m_mlp.fit(Xtrain, Ytrain)"
      ],
      "metadata": {
        "id": "YDtMAtJ1GgL-"
      },
      "execution_count": null,
      "outputs": []
    },
    {
      "cell_type": "code",
      "source": [
        "y_pred = m_mlp.predict(Xtest)"
      ],
      "metadata": {
        "id": "gQuNZkYWGgL_"
      },
      "execution_count": null,
      "outputs": []
    },
    {
      "cell_type": "code",
      "source": [
        "print(f\"\"\"\n",
        "Mean Absolute Error = {mean_absolute_error(y_pred, Ytest)},\n",
        "Mean Squared Error = {mean_squared_error(y_pred, Ytest)},\n",
        "Root Mean Squared Error = {np.sqrt(mean_squared_error(y_pred, Ytest))}\n",
        "\"\"\")"
      ],
      "metadata": {
        "id": "qHCO09raGgL_"
      },
      "execution_count": null,
      "outputs": []
    },
    {
      "cell_type": "code",
      "execution_count": null,
      "metadata": {
        "id": "33Wdkq3cGgL_"
      },
      "outputs": [],
      "source": [
        "parameters = {\n",
        "    'n_estimators': [100,200,300],\n",
        "    'max_depth': [5,10, 15, 20]\n",
        "}"
      ]
    },
    {
      "cell_type": "code",
      "execution_count": null,
      "metadata": {
        "id": "1IqgoTU9GgMA"
      },
      "outputs": [],
      "source": [
        "rf_mid = GridSearchCV(RandomForestRegressor(), parameters, scoring='neg_mean_absolute_error')"
      ]
    },
    {
      "cell_type": "code",
      "source": [
        "rf_mid.fit(Xtrain, Ytrain)\n",
        "y_pred = rf_mid.predict(Xtest)"
      ],
      "metadata": {
        "id": "E3zPJSY6GgMA"
      },
      "execution_count": null,
      "outputs": []
    },
    {
      "cell_type": "code",
      "source": [
        "print(f\"\"\"\n",
        "Mean Absolute Error = {mean_absolute_error(y_pred, Ytest)},\n",
        "Mean Squared Error = {mean_squared_error(y_pred, Ytest)},\n",
        "Root Mean Squared Error = {np.sqrt(mean_squared_error(y_pred, Ytest))}\n",
        "\"\"\")"
      ],
      "metadata": {
        "id": "fmHSfWUSGgMA"
      },
      "execution_count": null,
      "outputs": []
    },
    {
      "cell_type": "code",
      "execution_count": null,
      "metadata": {
        "id": "wdR-4HZjGgMC"
      },
      "outputs": [],
      "source": [
        "final_model = VotingRegressor(estimators = [\n",
        "    ('feed_forward_network', m_mlp.best_estimator_),\n",
        "    ('xgboost', m_xgb.best_estimator_),\n",
        "    ('random_forest', rf_mid.best_estimator_)\n",
        "])"
      ]
    },
    {
      "cell_type": "code",
      "execution_count": null,
      "metadata": {
        "id": "3pUjJYnuGgMC"
      },
      "outputs": [],
      "source": [
        "final_model.fit(Xtrain, Ytrain)\n",
        "y_pred = final_model.predict(Xtest)"
      ]
    },
    {
      "cell_type": "code",
      "source": [
        "final_midfielder_model = final_model"
      ],
      "metadata": {
        "id": "-XZMLzd9GgMD"
      },
      "execution_count": null,
      "outputs": []
    },
    {
      "cell_type": "code",
      "source": [
        "with open('midfield_model.pkl', 'wb') as file:\n",
        "  pkl.dump(final_midfielder_model, file)"
      ],
      "metadata": {
        "id": "W5sV8vnPf_hE"
      },
      "execution_count": null,
      "outputs": []
    },
    {
      "cell_type": "code",
      "source": [
        "print(f\"\"\"\n",
        "Mean Absolute Error = {mean_absolute_error(y_pred, Ytest)},\n",
        "Mean Squared Error = {mean_squared_error(y_pred, Ytest)},\n",
        "Root Mean Squared Error = {np.sqrt(mean_squared_error(y_pred, Ytest))}\n",
        "\"\"\")"
      ],
      "metadata": {
        "id": "ers2_umMGgMD"
      },
      "execution_count": null,
      "outputs": []
    },
    {
      "cell_type": "markdown",
      "source": [
        "**Defenders Model**"
      ],
      "metadata": {
        "id": "gCGIw_wFG61C"
      }
    },
    {
      "cell_type": "code",
      "source": [
        "\n",
        "def_df.columns"
      ],
      "metadata": {
        "id": "qWdydrPmG86-"
      },
      "execution_count": null,
      "outputs": []
    },
    {
      "cell_type": "code",
      "source": [
        "def_df = pd.DataFrame(preprocessor.fit_transform(def_df), columns = list(quant_features)+list(feature_names))"
      ],
      "metadata": {
        "id": "CS1nLkwzG87d"
      },
      "execution_count": null,
      "outputs": []
    },
    {
      "cell_type": "code",
      "source": [
        "with open('defender_pipeline.pkl', 'wb') as file:\n",
        "  pkl.dump(preprocessor, file)"
      ],
      "metadata": {
        "id": "m_Cq-JLhr-iK"
      },
      "execution_count": null,
      "outputs": []
    },
    {
      "cell_type": "code",
      "source": [
        "Xtrain, Xtest, Ytrain, Ytest = train_test_split(def_df, y_def, test_size = 0.2, random_state = 42)"
      ],
      "metadata": {
        "id": "gqjzkx24G87d"
      },
      "execution_count": null,
      "outputs": []
    },
    {
      "cell_type": "code",
      "execution_count": null,
      "metadata": {
        "id": "D02ZHJsJG87e"
      },
      "outputs": [],
      "source": [
        "d_xgb = XGBRegressor(objective = 'reg:absoluteerror')"
      ]
    },
    {
      "cell_type": "code",
      "execution_count": null,
      "metadata": {
        "id": "Yy-7splvG87e"
      },
      "outputs": [],
      "source": [
        "parameters = {\n",
        "    'n_estimators': [100,200,300,400]\n",
        "}"
      ]
    },
    {
      "cell_type": "code",
      "execution_count": null,
      "metadata": {
        "id": "mooBLrwUG87e"
      },
      "outputs": [],
      "source": [
        "d_xgb = GridSearchCV(d_xgb, parameters, scoring='neg_mean_absolute_error')"
      ]
    },
    {
      "cell_type": "code",
      "execution_count": null,
      "metadata": {
        "id": "7LSUuEYQG87f"
      },
      "outputs": [],
      "source": [
        "d_xgb.fit(Xtrain,Ytrain)"
      ]
    },
    {
      "cell_type": "code",
      "source": [
        "y_pred = d_xgb.predict(Xtest)"
      ],
      "metadata": {
        "id": "5PVhX3ZtG87f"
      },
      "execution_count": null,
      "outputs": []
    },
    {
      "cell_type": "code",
      "source": [
        "print(f\"\"\"\n",
        "Mean Absolute Error = {mean_absolute_error(y_pred, Ytest)},\n",
        "Mean Squared Error = {mean_squared_error(y_pred, Ytest)},\n",
        "Root Mean Squared Error = {np.sqrt(mean_squared_error(y_pred, Ytest))}\n",
        "\"\"\")"
      ],
      "metadata": {
        "id": "DWDmXwh1G87g"
      },
      "execution_count": null,
      "outputs": []
    },
    {
      "cell_type": "code",
      "execution_count": null,
      "metadata": {
        "id": "VyKWydwWG87g"
      },
      "outputs": [],
      "source": [
        "parameters  ={\n",
        "    'hidden_layer_sizes': [(50), (50,50)],\n",
        "    'max_iter': [100,200,300,400],\n",
        "    'activation': ['relu', 'tanh'],\n",
        "    'solver': ['adam'],\n",
        "    'learning_rate_init': [0.001, 0.01, 0.1]\n",
        "\n",
        "}"
      ]
    },
    {
      "cell_type": "code",
      "execution_count": null,
      "metadata": {
        "id": "VOtggxYlG87g"
      },
      "outputs": [],
      "source": [
        "d_mlp = GridSearchCV(MLPRegressor(), parameters, scoring='neg_mean_absolute_error')"
      ]
    },
    {
      "cell_type": "code",
      "source": [
        "d_mlp.fit(Xtrain, Ytrain)"
      ],
      "metadata": {
        "id": "BdVxIDc1G87h"
      },
      "execution_count": null,
      "outputs": []
    },
    {
      "cell_type": "code",
      "source": [
        "y_pred = d_mlp.predict(Xtest)"
      ],
      "metadata": {
        "id": "a8t6LuqKG87h"
      },
      "execution_count": null,
      "outputs": []
    },
    {
      "cell_type": "code",
      "source": [
        "print(f\"\"\"\n",
        "Mean Absolute Error = {mean_absolute_error(y_pred, Ytest)},\n",
        "Mean Squared Error = {mean_squared_error(y_pred, Ytest)},\n",
        "Root Mean Squared Error = {np.sqrt(mean_squared_error(y_pred, Ytest))}\n",
        "\"\"\")"
      ],
      "metadata": {
        "id": "qz-F8MYYG87h"
      },
      "execution_count": null,
      "outputs": []
    },
    {
      "cell_type": "code",
      "execution_count": null,
      "metadata": {
        "id": "ZUPQY2yIG87i"
      },
      "outputs": [],
      "source": [
        "parameters = {\n",
        "    'n_estimators': [100,200,300],\n",
        "    'max_depth': [5,10, 15, 20]\n",
        "}"
      ]
    },
    {
      "cell_type": "code",
      "execution_count": null,
      "metadata": {
        "id": "AEqyTg-sG87i"
      },
      "outputs": [],
      "source": [
        "rf_def = GridSearchCV(RandomForestRegressor(), parameters, scoring='neg_mean_absolute_error')"
      ]
    },
    {
      "cell_type": "code",
      "source": [
        "rf_def.fit(Xtrain, Ytrain)\n",
        "y_pred = rf_def.predict(Xtest)"
      ],
      "metadata": {
        "id": "jXiZz8kzG87i"
      },
      "execution_count": null,
      "outputs": []
    },
    {
      "cell_type": "code",
      "source": [
        "print(f\"\"\"\n",
        "Mean Absolute Error = {mean_absolute_error(y_pred, Ytest)},\n",
        "Mean Squared Error = {mean_squared_error(y_pred, Ytest)},\n",
        "Root Mean Squared Error = {np.sqrt(mean_squared_error(y_pred, Ytest))}\n",
        "\"\"\")"
      ],
      "metadata": {
        "id": "rpQvni0QG87j"
      },
      "execution_count": null,
      "outputs": []
    },
    {
      "cell_type": "code",
      "execution_count": null,
      "metadata": {
        "id": "1u9dVGT2G87j"
      },
      "outputs": [],
      "source": [
        "final_model = VotingRegressor(estimators = [\n",
        "    ('feed_forward_network', d_mlp.best_estimator_),\n",
        "    ('xgboost', d_xgb.best_estimator_),\n",
        "    ('random_forest', rf_def.best_estimator_)\n",
        "])"
      ]
    },
    {
      "cell_type": "code",
      "execution_count": null,
      "metadata": {
        "id": "zf7K4Jp1G87k"
      },
      "outputs": [],
      "source": [
        "final_model.fit(Xtrain, Ytrain)\n",
        "y_pred = final_model.predict(Xtest)"
      ]
    },
    {
      "cell_type": "code",
      "source": [
        "final_defender_model = final_model"
      ],
      "metadata": {
        "id": "d28SdkvfG87k"
      },
      "execution_count": null,
      "outputs": []
    },
    {
      "cell_type": "code",
      "source": [
        "with open('defender_model.pkl', 'wb') as file:\n",
        "  pkl.dump(final_defender_model, file)"
      ],
      "metadata": {
        "id": "SatgmMFygLRz"
      },
      "execution_count": null,
      "outputs": []
    },
    {
      "cell_type": "code",
      "source": [
        "print(f\"\"\"\n",
        "Mean Absolute Error = {mean_absolute_error(y_pred, Ytest)},\n",
        "Mean Squared Error = {mean_squared_error(y_pred, Ytest)},\n",
        "Root Mean Squared Error = {np.sqrt(mean_squared_error(y_pred, Ytest))}\n",
        "\"\"\")"
      ],
      "metadata": {
        "id": "04Kn9vLwG87l"
      },
      "execution_count": null,
      "outputs": []
    },
    {
      "cell_type": "markdown",
      "source": [
        "**Goal Keeper Model**"
      ],
      "metadata": {
        "id": "DvCKDlP_Hakf"
      }
    },
    {
      "cell_type": "code",
      "source": [
        "gk_df.columns"
      ],
      "metadata": {
        "id": "H1cg4ZAAHdHH"
      },
      "execution_count": null,
      "outputs": []
    },
    {
      "cell_type": "code",
      "source": [
        "gk_df.head()"
      ],
      "metadata": {
        "id": "F2ME-BmYsJpN"
      },
      "execution_count": null,
      "outputs": []
    },
    {
      "cell_type": "code",
      "source": [
        "gk_df = pd.DataFrame(preprocessor.fit_transform(gk_df), columns = list(quant_features)+list(feature_names))"
      ],
      "metadata": {
        "id": "KkvvH9w0HdHJ"
      },
      "execution_count": null,
      "outputs": []
    },
    {
      "cell_type": "code",
      "source": [
        "with open('gk_pipeline.pkl', 'wb') as file:\n",
        "  pkl.dump(preprocessor, file)"
      ],
      "metadata": {
        "id": "QtKGLWtCsN6j"
      },
      "execution_count": null,
      "outputs": []
    },
    {
      "cell_type": "code",
      "source": [
        "Xtrain, Xtest, Ytrain, Ytest = train_test_split(gk_df, y_gk, test_size = 0.2, random_state = 42)"
      ],
      "metadata": {
        "id": "1VGi6lWjHdHJ"
      },
      "execution_count": null,
      "outputs": []
    },
    {
      "cell_type": "code",
      "execution_count": null,
      "metadata": {
        "id": "ld4DS30wHdHJ"
      },
      "outputs": [],
      "source": [
        "g_xgb = XGBRegressor(objective = 'reg:absoluteerror')"
      ]
    },
    {
      "cell_type": "code",
      "execution_count": null,
      "metadata": {
        "id": "uM_-ORH5HdHK"
      },
      "outputs": [],
      "source": [
        "parameters = {\n",
        "    'n_estimators': [100,200,300,400]\n",
        "}"
      ]
    },
    {
      "cell_type": "code",
      "execution_count": null,
      "metadata": {
        "id": "kNjmCbtFHdHK"
      },
      "outputs": [],
      "source": [
        "g_xgb = GridSearchCV(g_xgb, parameters, scoring='neg_mean_absolute_error')"
      ]
    },
    {
      "cell_type": "code",
      "execution_count": null,
      "metadata": {
        "id": "dbW2h3FtHdHK"
      },
      "outputs": [],
      "source": [
        "g_xgb.fit(Xtrain,Ytrain)"
      ]
    },
    {
      "cell_type": "code",
      "source": [
        "y_pred = g_xgb.predict(Xtest)"
      ],
      "metadata": {
        "id": "KaL9j8P9HdHL"
      },
      "execution_count": null,
      "outputs": []
    },
    {
      "cell_type": "code",
      "source": [
        "print(f\"\"\"\n",
        "Mean Absolute Error = {mean_absolute_error(y_pred, Ytest)},\n",
        "Mean Squared Error = {mean_squared_error(y_pred, Ytest)},\n",
        "Root Mean Squared Error = {np.sqrt(mean_squared_error(y_pred, Ytest))}\n",
        "\"\"\")"
      ],
      "metadata": {
        "id": "35qeLemOHdHL"
      },
      "execution_count": null,
      "outputs": []
    },
    {
      "cell_type": "code",
      "execution_count": null,
      "metadata": {
        "id": "eFIEZo6MHdHM"
      },
      "outputs": [],
      "source": [
        "parameters  ={\n",
        "    'hidden_layer_sizes': [(50), (50,50)],\n",
        "    'max_iter': [100,200,300,400],\n",
        "    'activation': ['relu', 'tanh'],\n",
        "    'solver': ['adam'],\n",
        "    'learning_rate_init': [0.001, 0.01, 0.1]\n",
        "\n",
        "}"
      ]
    },
    {
      "cell_type": "code",
      "execution_count": null,
      "metadata": {
        "id": "-si9dTTsHdHM"
      },
      "outputs": [],
      "source": [
        "g_mlp = GridSearchCV(MLPRegressor(), parameters, scoring='neg_mean_absolute_error')"
      ]
    },
    {
      "cell_type": "code",
      "source": [
        "g_mlp.fit(Xtrain, Ytrain)"
      ],
      "metadata": {
        "id": "TMIEygCbHdHN"
      },
      "execution_count": null,
      "outputs": []
    },
    {
      "cell_type": "code",
      "source": [
        "y_pred = g_mlp.predict(Xtest)"
      ],
      "metadata": {
        "id": "K8SDeNStHdHN"
      },
      "execution_count": null,
      "outputs": []
    },
    {
      "cell_type": "code",
      "source": [
        "print(f\"\"\"\n",
        "Mean Absolute Error = {mean_absolute_error(y_pred, Ytest)},\n",
        "Mean Squared Error = {mean_squared_error(y_pred, Ytest)},\n",
        "Root Mean Squared Error = {np.sqrt(mean_squared_error(y_pred, Ytest))}\n",
        "\"\"\")"
      ],
      "metadata": {
        "id": "4Bj11B24HdHO"
      },
      "execution_count": null,
      "outputs": []
    },
    {
      "cell_type": "code",
      "execution_count": null,
      "metadata": {
        "id": "yj_EZZvQHdHO"
      },
      "outputs": [],
      "source": [
        "parameters = {\n",
        "    'n_estimators': [100,200,300],\n",
        "    'max_depth': [5,10, 15, 20]\n",
        "}"
      ]
    },
    {
      "cell_type": "code",
      "execution_count": null,
      "metadata": {
        "id": "Azu_TAYgHdHO"
      },
      "outputs": [],
      "source": [
        "rf_gk = GridSearchCV(RandomForestRegressor(), parameters, scoring='neg_mean_absolute_error')"
      ]
    },
    {
      "cell_type": "code",
      "source": [
        "rf_gk.fit(Xtrain, Ytrain)\n",
        "y_pred = rf_gk.predict(Xtest)"
      ],
      "metadata": {
        "id": "dxHZjtH4HdHP"
      },
      "execution_count": null,
      "outputs": []
    },
    {
      "cell_type": "code",
      "source": [
        "print(f\"\"\"\n",
        "Mean Absolute Error = {mean_absolute_error(y_pred, Ytest)},\n",
        "Mean Squared Error = {mean_squared_error(y_pred, Ytest)},\n",
        "Root Mean Squared Error = {np.sqrt(mean_squared_error(y_pred, Ytest))}\n",
        "\"\"\")"
      ],
      "metadata": {
        "id": "2mcjKzjmHdHP"
      },
      "execution_count": null,
      "outputs": []
    },
    {
      "cell_type": "code",
      "execution_count": null,
      "metadata": {
        "id": "CAsEgKEzHdHP"
      },
      "outputs": [],
      "source": [
        "final_model = VotingRegressor(estimators = [\n",
        "    ('feed_forward_network', g_mlp.best_estimator_),\n",
        "    ('xgboost', g_xgb.best_estimator_),\n",
        "    ('random_forest', rf_gk.best_estimator_)\n",
        "])"
      ]
    },
    {
      "cell_type": "code",
      "execution_count": null,
      "metadata": {
        "id": "x-T_oIG_HdHQ"
      },
      "outputs": [],
      "source": [
        "final_model.fit(Xtrain, Ytrain)\n",
        "y_pred = final_model.predict(Xtest)"
      ]
    },
    {
      "cell_type": "code",
      "source": [
        "final_goalKeeper_model = final_model"
      ],
      "metadata": {
        "id": "A1ofuC53HdHQ"
      },
      "execution_count": null,
      "outputs": []
    },
    {
      "cell_type": "code",
      "source": [
        "with open('goalkeeper_model.pkl', 'wb') as file:\n",
        "  pkl.dump(final_goalKeeper_model, file)"
      ],
      "metadata": {
        "id": "MJ3BtMRHgR2t"
      },
      "execution_count": null,
      "outputs": []
    },
    {
      "cell_type": "code",
      "source": [
        "print(f\"\"\"\n",
        "Mean Absolute Error = {mean_absolute_error(y_pred, Ytest)},\n",
        "Mean Squared Error = {mean_squared_error(y_pred, Ytest)},\n",
        "Root Mean Squared Error = {np.sqrt(mean_squared_error(y_pred, Ytest))}\n",
        "\"\"\")"
      ],
      "metadata": {
        "id": "SBegtwC-HdHR"
      },
      "execution_count": null,
      "outputs": []
    },
    {
      "cell_type": "code",
      "source": [
        "new = {'_id':'66afbcfa4dc15cf114c7cce8', 'name': 'Erling Haaland', 'position': 'FWD', 'opponent_team': 4, 'total_points': 0, 'value': 124, 'was_home': True, 'season': 1, 'avg_points_last_38': 7.2105263157894735, 'avg_minutes_last_38': 75.1842105263158,\n",
        "'avg_ict_index_last_38': 9.505263157894737, 'avg_bonus_last_38': 1.0526315789473684, 'avg_bps_last_38': 27.263157894736842, 'avg_xP_last_38': 10.131578947368421, 'avg_expected_goal_involvements_last_38': 0.5160581578947369, 'avg_expected_goals_conceded_last_38': 0.46295, 'avg_goals_conceded_last_38': 0.7105263157894737, 'avg_goals_scored_last_38': 0.9473684210526315, 'avg_influence_last_38': 36.578947368421055, 'avg_threat_last_38': 48.89473684210526, 'avg_creativity_last_38': 9.842105263157896, 'team_category': 'top 6'}\n",
        "new = pd.DataFrame.from_dict({0: new}, orient='index')"
      ],
      "metadata": {
        "id": "8aqAOuYpIL05"
      },
      "execution_count": null,
      "outputs": []
    },
    {
      "cell_type": "code",
      "source": [
        "new.drop(columns = ['_id', 'name', 'position', 'opponent_team', 'total_points', 'season'], inplace = True)"
      ],
      "metadata": {
        "id": "Zp7gZGYLpjkD"
      },
      "execution_count": null,
      "outputs": []
    },
    {
      "cell_type": "code",
      "source": [
        "new['was_home'] = True"
      ],
      "metadata": {
        "id": "5v__SC3UpsEy"
      },
      "execution_count": null,
      "outputs": []
    },
    {
      "cell_type": "code",
      "source": [
        "new = pd.DataFrame(preprocessor.transform(new), columns = list(quant_features)+feature_names)"
      ],
      "metadata": {
        "id": "CI-VLzc1pvJF"
      },
      "execution_count": null,
      "outputs": []
    },
    {
      "cell_type": "code",
      "source": [
        "new"
      ],
      "metadata": {
        "id": "oYyn6h0aqK6V"
      },
      "execution_count": null,
      "outputs": []
    },
    {
      "cell_type": "code",
      "source": [
        "final_forward_model.predict(new)"
      ],
      "metadata": {
        "id": "8xofUmQxqEcI"
      },
      "execution_count": null,
      "outputs": []
    },
    {
      "cell_type": "code",
      "source": [
        "import numpy\n",
        "print(numpy.__version__)"
      ],
      "metadata": {
        "id": "bctOaTuAUyoW"
      },
      "execution_count": null,
      "outputs": []
    }
  ],
  "metadata": {
    "colab": {
      "provenance": []
    },
    "kernelspec": {
      "display_name": "Python 3",
      "name": "python3"
    },
    "language_info": {
      "name": "python"
    }
  },
  "nbformat": 4,
  "nbformat_minor": 0
}